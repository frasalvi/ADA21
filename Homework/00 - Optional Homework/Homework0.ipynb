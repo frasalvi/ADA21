{
 "cells": [
  {
   "cell_type": "markdown",
   "id": "5ceea8ab-15a7-414f-9b53-36cb129c62f0",
   "metadata": {},
   "source": [
    "Import and read csv"
   ]
  },
  {
   "cell_type": "code",
   "execution_count": 22,
   "id": "9a802f59-7934-4098-a07b-85be987c080a",
   "metadata": {},
   "outputs": [
    {
     "data": {
      "text/html": [
       "<div>\n",
       "<style scoped>\n",
       "    .dataframe tbody tr th:only-of-type {\n",
       "        vertical-align: middle;\n",
       "    }\n",
       "\n",
       "    .dataframe tbody tr th {\n",
       "        vertical-align: top;\n",
       "    }\n",
       "\n",
       "    .dataframe thead th {\n",
       "        text-align: right;\n",
       "    }\n",
       "</style>\n",
       "<table border=\"1\" class=\"dataframe\">\n",
       "  <thead>\n",
       "    <tr style=\"text-align: right;\">\n",
       "      <th></th>\n",
       "      <th>Unnamed: 0</th>\n",
       "      <th>Intent</th>\n",
       "      <th>Gender</th>\n",
       "      <th>Age</th>\n",
       "      <th>Race</th>\n",
       "      <th>Deaths</th>\n",
       "      <th>Population</th>\n",
       "      <th>Rate</th>\n",
       "    </tr>\n",
       "  </thead>\n",
       "  <tbody>\n",
       "    <tr>\n",
       "      <th>0</th>\n",
       "      <td>1</td>\n",
       "      <td>None selected</td>\n",
       "      <td>None selected</td>\n",
       "      <td>None selected</td>\n",
       "      <td>None selected</td>\n",
       "      <td>33599</td>\n",
       "      <td>316299978</td>\n",
       "      <td>10.6</td>\n",
       "    </tr>\n",
       "    <tr>\n",
       "      <th>1</th>\n",
       "      <td>2</td>\n",
       "      <td>None selected</td>\n",
       "      <td>None selected</td>\n",
       "      <td>None selected</td>\n",
       "      <td>White</td>\n",
       "      <td>22079</td>\n",
       "      <td>197369634</td>\n",
       "      <td>11.2</td>\n",
       "    </tr>\n",
       "    <tr>\n",
       "      <th>2</th>\n",
       "      <td>3</td>\n",
       "      <td>None selected</td>\n",
       "      <td>None selected</td>\n",
       "      <td>None selected</td>\n",
       "      <td>Black</td>\n",
       "      <td>7765</td>\n",
       "      <td>38896382</td>\n",
       "      <td>20.0</td>\n",
       "    </tr>\n",
       "    <tr>\n",
       "      <th>3</th>\n",
       "      <td>4</td>\n",
       "      <td>None selected</td>\n",
       "      <td>None selected</td>\n",
       "      <td>None selected</td>\n",
       "      <td>Hispanic</td>\n",
       "      <td>3007</td>\n",
       "      <td>54049078</td>\n",
       "      <td>5.6</td>\n",
       "    </tr>\n",
       "    <tr>\n",
       "      <th>4</th>\n",
       "      <td>5</td>\n",
       "      <td>None selected</td>\n",
       "      <td>None selected</td>\n",
       "      <td>None selected</td>\n",
       "      <td>Asian/Pacific Islander</td>\n",
       "      <td>442</td>\n",
       "      <td>16315561</td>\n",
       "      <td>2.7</td>\n",
       "    </tr>\n",
       "    <tr>\n",
       "      <th>...</th>\n",
       "      <td>...</td>\n",
       "      <td>...</td>\n",
       "      <td>...</td>\n",
       "      <td>...</td>\n",
       "      <td>...</td>\n",
       "      <td>...</td>\n",
       "      <td>...</td>\n",
       "      <td>...</td>\n",
       "    </tr>\n",
       "    <tr>\n",
       "      <th>535</th>\n",
       "      <td>536</td>\n",
       "      <td>Unknown</td>\n",
       "      <td>Male</td>\n",
       "      <td>5</td>\n",
       "      <td>White</td>\n",
       "      <td>0</td>\n",
       "      <td>0</td>\n",
       "      <td>NaN</td>\n",
       "    </tr>\n",
       "    <tr>\n",
       "      <th>536</th>\n",
       "      <td>537</td>\n",
       "      <td>Unknown</td>\n",
       "      <td>Male</td>\n",
       "      <td>5</td>\n",
       "      <td>Black</td>\n",
       "      <td>0</td>\n",
       "      <td>0</td>\n",
       "      <td>NaN</td>\n",
       "    </tr>\n",
       "    <tr>\n",
       "      <th>537</th>\n",
       "      <td>538</td>\n",
       "      <td>Unknown</td>\n",
       "      <td>Male</td>\n",
       "      <td>5</td>\n",
       "      <td>Hispanic</td>\n",
       "      <td>0</td>\n",
       "      <td>0</td>\n",
       "      <td>NaN</td>\n",
       "    </tr>\n",
       "    <tr>\n",
       "      <th>538</th>\n",
       "      <td>539</td>\n",
       "      <td>Unknown</td>\n",
       "      <td>Male</td>\n",
       "      <td>5</td>\n",
       "      <td>Asian/Pacific Islander</td>\n",
       "      <td>0</td>\n",
       "      <td>0</td>\n",
       "      <td>NaN</td>\n",
       "    </tr>\n",
       "    <tr>\n",
       "      <th>539</th>\n",
       "      <td>540</td>\n",
       "      <td>Unknown</td>\n",
       "      <td>Male</td>\n",
       "      <td>5</td>\n",
       "      <td>Other</td>\n",
       "      <td>0</td>\n",
       "      <td>0</td>\n",
       "      <td>NaN</td>\n",
       "    </tr>\n",
       "  </tbody>\n",
       "</table>\n",
       "<p>540 rows × 8 columns</p>\n",
       "</div>"
      ],
      "text/plain": [
       "     Unnamed: 0         Intent         Gender            Age  \\\n",
       "0             1  None selected  None selected  None selected   \n",
       "1             2  None selected  None selected  None selected   \n",
       "2             3  None selected  None selected  None selected   \n",
       "3             4  None selected  None selected  None selected   \n",
       "4             5  None selected  None selected  None selected   \n",
       "..          ...            ...            ...            ...   \n",
       "535         536        Unknown           Male              5   \n",
       "536         537        Unknown           Male              5   \n",
       "537         538        Unknown           Male              5   \n",
       "538         539        Unknown           Male              5   \n",
       "539         540        Unknown           Male              5   \n",
       "\n",
       "                       Race  Deaths  Population  Rate  \n",
       "0             None selected   33599   316299978  10.6  \n",
       "1                     White   22079   197369634  11.2  \n",
       "2                     Black    7765    38896382  20.0  \n",
       "3                  Hispanic    3007    54049078   5.6  \n",
       "4    Asian/Pacific Islander     442    16315561   2.7  \n",
       "..                      ...     ...         ...   ...  \n",
       "535                   White       0           0   NaN  \n",
       "536                   Black       0           0   NaN  \n",
       "537                Hispanic       0           0   NaN  \n",
       "538  Asian/Pacific Islander       0           0   NaN  \n",
       "539                   Other       0           0   NaN  \n",
       "\n",
       "[540 rows x 8 columns]"
      ]
     },
     "execution_count": 22,
     "metadata": {},
     "output_type": "execute_result"
    }
   ],
   "source": [
    "import pandas as pd\n",
    "URL = 'https://raw.githubusercontent.com/fivethirtyeight/guns-data/master/interactive_data.csv'\n",
    "df = pd.read_csv(URL)\n",
    "df"
   ]
  },
  {
   "cell_type": "markdown",
   "id": "912a286d-ce16-480a-8491-b97aba4cec59",
   "metadata": {},
   "source": [
    "Compute total population and total number of deaths"
   ]
  },
  {
   "cell_type": "code",
   "execution_count": 40,
   "id": "a4ff11b4-88b4-46f8-87a9-5aab511f10a0",
   "metadata": {},
   "outputs": [
    {
     "data": {
      "text/plain": [
       "(316299978, 33599)"
      ]
     },
     "execution_count": 40,
     "metadata": {},
     "output_type": "execute_result"
    }
   ],
   "source": [
    "population = df.loc[0, 'Population']\n",
    "deaths = df.loc[0, 'Deaths']\n",
    "population, deaths"
   ]
  },
  {
   "cell_type": "markdown",
   "id": "c2b7926a-5782-4070-9f0f-92b16d583c10",
   "metadata": {},
   "source": [
    "1. Nearly 2/3 of all gun deaths are *suicides*\n",
    "\n",
    "Get the suicide dataframe and extract the total number of deaths"
   ]
  },
  {
   "cell_type": "code",
   "execution_count": 43,
   "id": "df134025-1e77-4c43-96d6-2830a6a07f07",
   "metadata": {},
   "outputs": [
    {
     "data": {
      "text/plain": [
       "0.6267448435965356"
      ]
     },
     "execution_count": 43,
     "metadata": {},
     "output_type": "execute_result"
    }
   ],
   "source": [
    "dsuicide = df[df['Intent'] == 'Suicide']\n",
    "deaths_by_suicide = dsuicide.iloc[0, dsuicide.columns.get_loc('Deaths')]\n",
    "\n",
    "suicide_ratio = deaths_by_suicide / deaths\n",
    "suicide_ratio"
   ]
  },
  {
   "cell_type": "markdown",
   "id": "2891962d-faca-4d52-8d28-27234649c76d",
   "metadata": {},
   "source": [
    "2. More than 85 percent of suicide victims are male."
   ]
  },
  {
   "cell_type": "code",
   "execution_count": 42,
   "id": "4b12d048-2c80-4c59-b917-5473e63adc85",
   "metadata": {},
   "outputs": [
    {
     "data": {
      "text/plain": [
       "0.8624750688574414"
      ]
     },
     "execution_count": 42,
     "metadata": {},
     "output_type": "execute_result"
    }
   ],
   "source": [
    "mdsuicide = dsuicide[dsuicide['Gender'] == 'Male']\n",
    "deaths_by_suicide_male = mdsuicide.iloc[0, mdsuicide.columns.get_loc('Deaths')]\n",
    "male_suicide_ratio = deaths_by_suicide_male / deaths_by_suicide\n",
    "male_suicide_ratio"
   ]
  },
  {
   "cell_type": "markdown",
   "id": "3219b277-5982-493f-8a69-73e7a3f0f2cf",
   "metadata": {},
   "source": [
    "3. Around a third of all gun deaths are homicides.\n"
   ]
  },
  {
   "cell_type": "code",
   "execution_count": 44,
   "id": "0b809ba7-b91f-41de-be23-379a40d5ca51",
   "metadata": {},
   "outputs": [
    {
     "data": {
      "text/plain": [
       "0.3489984820976815"
      ]
     },
     "execution_count": 44,
     "metadata": {},
     "output_type": "execute_result"
    }
   ],
   "source": [
    "dhomicide = df[df['Intent'] == 'Homicide']\n",
    "deaths_by_homicide = dhomicide.iloc[0, dhomicide.columns.get_loc('Deaths')]\n",
    "homicide_ratio = deaths_by_homicide / deaths\n",
    "homicide_ratio"
   ]
  },
  {
   "cell_type": "markdown",
   "id": "50662e89-04a3-4df8-93df-43fe5b7271f3",
   "metadata": {},
   "source": [
    "4. Around two-thirds of homicide victims who are males in the age-group of 15--34 are black.\n"
   ]
  },
  {
   "cell_type": "code",
   "execution_count": 92,
   "id": "aa73865a-6b2b-46fd-9001-a425923c7e06",
   "metadata": {},
   "outputs": [
    {
     "data": {
      "text/plain": [
       "0.6613496932515337"
      ]
     },
     "execution_count": 92,
     "metadata": {},
     "output_type": "execute_result"
    }
   ],
   "source": [
    "dhomicide_male_young = dhomicide[(dhomicide['Gender'] == 'Male') & (dhomicide['Age'] == '15 - 34')]\n",
    "deaths_by_homicide_male_young = dhomicide_male_young.iloc[0, dhomicide_male_young.columns.get_loc('Deaths')]\n",
    "dhomicide_male_young_black = dhomicide_male_young[dhomicide_male_young['Race'] == 'Black']\n",
    "deaths_by_homicide_male_young_black = dhomicide_male_young_black.iloc[0, dhomicide_male_young_black.columns.get_loc('Deaths')]\n",
    "homicide_male_young_black_ratio = deaths_by_homicide_male_young_black / deaths_by_homicide_male_young\n",
    "homicide_male_young_black_ratio"
   ]
  },
  {
   "cell_type": "markdown",
   "id": "2bda014c-04ef-403a-aa01-1b0454782216",
   "metadata": {},
   "source": [
    "5. Women constitue only 15 percent of the total homicide victims."
   ]
  },
  {
   "cell_type": "code",
   "execution_count": 97,
   "id": "4bf353f9-fa9f-44dc-b68b-4e3026874040",
   "metadata": {},
   "outputs": [
    {
     "data": {
      "text/plain": [
       "0.15273750639604297"
      ]
     },
     "execution_count": 97,
     "metadata": {},
     "output_type": "execute_result"
    }
   ],
   "source": [
    "wdhomicide = dhomicide[dhomicide['Gender'] == 'Female']\n",
    "deaths_by_homicide_women = wdhomicide.iloc[0, wdhomicide.columns.get_loc('Deaths')]\n",
    "women_homicide_ratio = deaths_by_homicide_women / deaths_by_homicide\n",
    "women_homicide_ratio"
   ]
  }
 ],
 "metadata": {
  "kernelspec": {
   "display_name": "Python [conda env:ada] *",
   "language": "python",
   "name": "conda-env-ada-py"
  },
  "language_info": {
   "codemirror_mode": {
    "name": "ipython",
    "version": 3
   },
   "file_extension": ".py",
   "mimetype": "text/x-python",
   "name": "python",
   "nbconvert_exporter": "python",
   "pygments_lexer": "ipython3",
   "version": "3.8.11"
  }
 },
 "nbformat": 4,
 "nbformat_minor": 5
}
