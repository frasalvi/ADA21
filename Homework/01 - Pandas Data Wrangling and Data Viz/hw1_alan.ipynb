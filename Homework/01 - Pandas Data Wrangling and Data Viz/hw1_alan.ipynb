{
 "cells": [
  {
   "cell_type": "markdown",
   "source": "# Homework 1 (HW1)\n\n---\nBy the end of this homework we expect you to be able to:\n1. Load data from different formats using [pandas](https://pandas.pydata.org/);\n2. Navigate the documentation of Python packages by yourself;\n3. Filter and tidy up noisy data sets;\n4. Aggregate your data in different (and hopefully helpful) ways; \n5. Create meaningful visualizations to analyze the data;\n6. Critically think and write about data;\n---\n\n## Important Dates\n\n- Homework release: Fri 8 Oct 2021\n- **Homework due**: Fri 22 Oct 2021, 23:59\n- Grade release: Fri 29 Oct 2021\n\n---\n\n##  Some rules\n\n1. You are allowed to use any built-in Python library that comes with Anaconda. If you want to use an external library, you may do so, but must justify your choice.\n2. Make sure you use the `data` folder provided in the repository in read-only mode. (Or alternatively, be sure you don’t change any of the files.)\n3. Be sure to provide a textual description of your thought process, the assumptions you made, the solution you  implemented, and explanations for your answers. A notebook that only has code cells will not suffice.\n4. For questions containing the **/Discuss:/** prefix, answer not with code, but with a textual explanation (**in markdown**).\n5. Back up any hypotheses and claims with data, since this is an important aspect of the course.\n6. Please write all your comments in English, and use meaningful variable names in your code. Your repo should have a single notebook (plus the required data files) in the *master/main* branch. If there are multiple notebooks present, we will **not grade** anything.\n7. We will **not run your notebook for you**! Rather, we will grade it as is, which means that only the results contained in your evaluated code cells will be considered, and we will not see the results in unevaluated code cells. Thus, be sure to hand in a **fully-run and evaluated notebook**. In order to check whether everything looks as intended, you can check the rendered notebook on the GitHub website once you have pushed your solution there.\n8. In continuation to the previous point, interactive plots, such as those generated using `plotly`, should be **strictly avoided**!\n9. Make sure to print results or dataframes that confirm you have properly addressed the task.\n\n---\n\n## Context\n\nIn this project, we are going to analyze data from an experiment about *honesty*. \nOftentimes, we are asked to confirm our honest intentions by signing **at the end** of a document. \nFor example, in tax returns or insurance policy forms, we are often asked to sign our names under a text that reads \nsomething like \"I hereby certify that the above statements are true and correct to the best of my knowledge.\"\n\nHowever, when individuals sign **after** lying in the form, they may not feel the need to correct the falsehoods they \nhave reported. In that context, it could be that signing at **the beginning** rather than at the end of the document \nwould decrease dishonesty, as those who are filling the form would be aware of the ethical requirements *before* they \nprovide the information in the form.\n\nThis intuition has led researchers to partner up with a motorcycle insurance company to run a randomized experiment. \nIn this insurance company (as well as in many others), customers had to report the exact *odometer kilometrage*¹ in \norder for the company to adjust the insurance premiums. Note that motorcycles with lower kilometrage are less likely to \nhave issues, and thus will result in a lower *insurance premium*². Therefore, customers have an incentive to lie, \nreporting a kilometrage lower than the real value, in order to save money.\n\nIn the experiment, two different forms were created: one where the signing was done at the end, and another where the \nsigning was done at the beginning. The insurance company then randomized these forms (i.e., each customer received\n exactly one form, each with probability 50%) and sent back the data that customers had provided. Some noteworthy \n details on the experiment are that:\n\n- All customers involved in the experiment already had a contract with the company and were simply renewing it. \nIn the data that the company provided, they also report the odometer kilometrage for their previous contract.\nEach policy, therefore, contains two contracts: the \"updated\" contract —where the experiment was conducted— and \nthe \"baseline\" contract, which was the previous contract customers had with the company.\n- A single insurance policy can insure up to 4 distinct motorcycles.\n\nIn this assignment, you will take the role of the researcher and work analyzing this data!\n\n*Glossary:*\n1. **odometer kilometrage:** the total distance the motorcycle has traveled.\n2. **insurance premiums:** the amount of money one pays for an insurance policy.\n\n---\n\n## The data\n\nThe company provided you with a compressed `.tsv` file containing one row per policy. \nThe `.tsv` has the following fields:\n\n- `condition`: either `Sign Top` or `Sign Bottom`, depending on which form was sent.\n- `id`: unique identifier for each insurance policy.\n- `motorcycle_count`: number of motorcycles covered by the insurance policy.\n- `baseline_motorcycle[1-4]`: odometer kilometrage *reported by the customer* in the *previous (baseline)* contract. \n- `update_motorcycle[1-4]`: odometer kilometrage *reported by the customer* in the *current (updated)* contract.\n\nSome comments:\n\n- Recall that a single policy can ensure up to 4 motorcycles, and thus, the suffixes [1-4] indicate that there are 4 \nversions of these columns in the data (e.g., `baseline_motorcycle1`, `baseline_motorcycle2`, `baseline_motorcycle3`, \n`baseline_motorcycle4`). \n- When a policy has fewer than 4 motorcycles, only the columns with the smaller numerals are filled (e.g., if a policy \ninsures one motorcycle,  only `baseline_motorcycle1` and `update_motorcycle1` will be filled).\n- Note that we only have access to the odometer kilometrage reported by the customers, \nwhich may be different from the real kilometrage of the motorcycles.",
   "metadata": {
    "cell_id": "00000-1de10690-8115-4fb1-9674-2cb8a0c78e72",
    "deepnote_app_coordinates": {
     "x": 0,
     "y": null,
     "w": 12,
     "h": 5
    },
    "deepnote_cell_type": "markdown",
    "deepnote_cell_height": 2257.89990234375
   }
  },
  {
   "cell_type": "code",
   "metadata": {
    "cell_id": "00001-85a9a8c3-df0e-4ece-bce4-1faec1c8a69e",
    "deepnote_to_be_reexecuted": false,
    "source_hash": "28a291d4",
    "execution_start": 1642954239696,
    "execution_millis": 2644,
    "deepnote_app_coordinates": {
     "x": 0,
     "y": 6,
     "w": 12,
     "h": 5
    },
    "deepnote_cell_type": "code",
    "deepnote_cell_height": 207
   },
   "source": "# Imports you may need\nimport seaborn as sns\nfrom IPython.display import display, HTML\nimport matplotlib.pyplot as plt\nimport matplotlib.patches as mpatches\nimport scipy.stats as stats\nimport pandas as pd\nimport numpy as np",
   "execution_count": null,
   "outputs": []
  },
  {
   "cell_type": "code",
   "metadata": {
    "tags": [],
    "cell_id": "00002-2d67327d-48f9-49ee-83bf-399d02fb424d",
    "deepnote_to_be_reexecuted": false,
    "source_hash": "e3d68e9f",
    "execution_start": 1642954242354,
    "execution_millis": 9,
    "deepnote_app_coordinates": {
     "x": 0,
     "y": 813,
     "w": 12,
     "h": 5
    },
    "deepnote_cell_type": "code",
    "deepnote_cell_height": 81
   },
   "source": "COLORBLIND_PALETTE = True",
   "execution_count": null,
   "outputs": []
  },
  {
   "cell_type": "code",
   "metadata": {
    "cell_id": "00002-cf5d25d7-48f3-4c06-8e6a-55d425a4471d",
    "deepnote_to_be_reexecuted": false,
    "source_hash": "1dbfac7e",
    "execution_start": 1642954242371,
    "execution_millis": 39,
    "deepnote_app_coordinates": {
     "x": 0,
     "y": 12,
     "w": 12,
     "h": 5
    },
    "deepnote_cell_type": "code",
    "deepnote_cell_height": 225
   },
   "source": "# Plotting constants\nTITLE_FONTSIZE = 20\nLABEL_FONTSIZE = 12\npalette = 'tab10' if COLORBLIND_PALETTE == False else 'colorblind'\nCMAP  = sns.color_palette(palette)\nCOLOR_BASELINE, COLOR_UPDATE = CMAP[0:2]\nCOLOR_TOP, COLOR_BOTTOM = CMAP[2:4]\nCOLOR_ARIAL, COLOR_HELVETICA = CMAP[4:6]\nCOLOR_NEUTRAL = CMAP[7]",
   "execution_count": null,
   "outputs": []
  },
  {
   "cell_type": "markdown",
   "source": "### **Task 1** — 4pts\n\nYour first task is to load the dataset into memory using pandas. \n**You should load the data directly from the compressed files.**\n\nHere, the files at hand are rather small, and you could easily uncompress the files to disk and work with them as plain \ntext. Why, then, are we asking you to load the files compressed? The reason is that, in your life as a data scientist, \nthis will often not be the case. Then, working with compressed files is key so that you don't receive email from your \n(often more responsible) colleagues demanding to know how you have managed to fill the entire cluster with your \ndatasets. Another big advantage of compressing files is to simply read files faster. You will often find that reading\ncompressed data on the fly (uncompressing it as you go), is much faster than reading uncompressed data, since reading\nand writing to disk may be your [bottleneck](https://skipperkongen.dk/2012/02/28/uncompressed-versus-compressed-read/). \n\n---\n\n**Hint:** `pandas` can open compressed files.\n\n**Hint:** In the real world (and in ADA-homework), your file often comes with some weird lines! \nThis time you can safely ignore them (but in the real world you must try to understand why they are there!). \nCheck the `error_bad_lines` or the `on_bad_lines` (depending on your pandas version) parameter on `read_csv`.",
   "metadata": {
    "cell_id": "00003-c419de1f-f590-4c62-b07d-fd85045b4eb9",
    "deepnote_app_coordinates": {
     "x": 0,
     "y": 18,
     "w": 12,
     "h": 5
    },
    "deepnote_cell_type": "markdown",
    "deepnote_cell_height": 367.3999938964844
   }
  },
  {
   "cell_type": "code",
   "metadata": {
    "cell_id": "00004-2f621b33-d21c-437e-8673-61d08e2716a4",
    "deepnote_to_be_reexecuted": false,
    "source_hash": "1af0e71f",
    "execution_start": 1642954242411,
    "execution_millis": 44,
    "deepnote_app_coordinates": {
     "x": 0,
     "y": 24,
     "w": 12,
     "h": 5
    },
    "deepnote_cell_type": "code",
    "deepnote_cell_height": 129.1999969482422
   },
   "source": "DATA_FOLDER = './data/'\ndata_raw = pd.read_csv(DATA_FOLDER+'data.tsv.gz', sep='\\t', error_bad_lines=False)",
   "execution_count": null,
   "outputs": [
    {
     "name": "stderr",
     "text": "b'Skipping line 2142: expected 11 fields, saw 27\\n'\n",
     "output_type": "stream"
    }
   ]
  },
  {
   "cell_type": "markdown",
   "source": "### Task 2 — 12pts\n\nAs a good data scientist, the first thing you do is to clean up the data and perform some small sanity checks.\n\n1. The motorcycle insurance company mentioned that each policy has a unique identifier, but that there may be duplicate rows (i.e., multiple rows with the same policy identifier). Check if there are duplicate policies and, if so, filter these rows from the data (always keeping the first).\n2. According to the company, all policies should have kept the number of motorcycles from the previous contract (i.e., the number of motorcycles recorded in baseline contracts should equal the number of motorcycles in updated contracts). Also, the number of odometer readings for each contract should be the same as the number stated in the `motorcycle_count` variable. Check the data to see if these two things hold. If not, filter the anomalous rows.\n3. Calculate the mean and the median value of each column related to kilometrages. Are the values obtained plausible? Visualize the distribution of the data and remove any extreme outliers.\n4. **Discuss:** In cases where you cannot think of appropriate ways to remove outliers, would you prefer summarizing numerical data with outliers with the mean or the median? Why?\n\n---\n\n**Hint:** Here we are considering as outliers numbers that are not plausible in the context of motorcycle kilometrages.",
   "metadata": {
    "cell_id": "00005-336d27a7-ff0c-4355-9942-c70459774ebf",
    "deepnote_app_coordinates": {
     "x": 0,
     "y": 30,
     "w": 12,
     "h": 5
    },
    "deepnote_cell_type": "markdown",
    "deepnote_cell_height": 407.20001220703125
   }
  },
  {
   "cell_type": "markdown",
   "source": "#### 2.1: Drop duplicate rows",
   "metadata": {
    "cell_id": "00006-0e6a4651-cbca-42bb-a363-42363c19e653",
    "deepnote_app_coordinates": {
     "x": 0,
     "y": 36,
     "w": 12,
     "h": 5
    },
    "deepnote_cell_type": "markdown",
    "deepnote_cell_height": 54
   }
  },
  {
   "cell_type": "code",
   "metadata": {
    "scrolled": true,
    "cell_id": "00007-53874187-d788-4336-b0b6-7405a0bfcefd",
    "deepnote_to_be_reexecuted": false,
    "source_hash": "9a4c7cd2",
    "execution_start": 1642954242455,
    "execution_millis": 189,
    "deepnote_app_coordinates": {
     "x": 0,
     "y": 42,
     "w": 12,
     "h": 5
    },
    "deepnote_cell_type": "code",
    "deepnote_cell_height": 566.2000122070312
   },
   "source": "# Drop rows with the same policy identifier, keeping only the first in case of duplicates\nlen_data_with_duplicates = data_raw.shape[0]\ndata = data_raw.drop_duplicates(subset='id', keep='first')\nlen_data_without_duplicates = data.shape[0]\nprint('Removed %d duplicates from the data.'%(len_data_with_duplicates - len_data_without_duplicates))\n\ndata.set_index('id', inplace=True)\ndata.tail()",
   "execution_count": null,
   "outputs": [
    {
     "name": "stdout",
     "text": "Removed 9 duplicates from the data.\n",
     "output_type": "stream"
    },
    {
     "output_type": "execute_result",
     "execution_count": 5,
     "data": {
      "application/vnd.deepnote.dataframe.v3+json": {
       "column_count": 10,
       "row_count": 5,
       "columns": [
        {
         "name": "condition",
         "dtype": "object",
         "stats": {
          "unique_count": 2,
          "nan_count": 0,
          "categories": [
           {
            "name": "Sign Top",
            "count": 4
           },
           {
            "name": "Sign Bottom",
            "count": 1
           }
          ]
         }
        },
        {
         "name": "baseline_motorcycle1",
         "dtype": "uint64",
         "stats": {
          "unique_count": 5,
          "nan_count": 0,
          "min": "20970",
          "max": "30700",
          "histogram": [
           {
            "bin_start": 20970,
            "bin_end": 21943,
            "count": 1
           },
           {
            "bin_start": 21943,
            "bin_end": 22916,
            "count": 1
           },
           {
            "bin_start": 22916,
            "bin_end": 23889,
            "count": 1
           },
           {
            "bin_start": 23889,
            "bin_end": 24862,
            "count": 0
           },
           {
            "bin_start": 24862,
            "bin_end": 25835,
            "count": 0
           },
           {
            "bin_start": 25835,
            "bin_end": 26808,
            "count": 0
           },
           {
            "bin_start": 26808,
            "bin_end": 27781,
            "count": 0
           },
           {
            "bin_start": 27781,
            "bin_end": 28754,
            "count": 0
           },
           {
            "bin_start": 28754,
            "bin_end": 29727,
            "count": 0
           },
           {
            "bin_start": 29727,
            "bin_end": 30700,
            "count": 2
           }
          ]
         }
        },
        {
         "name": "update_motorcycle1",
         "dtype": "uint64",
         "stats": {
          "unique_count": 5,
          "nan_count": 0,
          "min": "32916",
          "max": "61552",
          "histogram": [
           {
            "bin_start": 32916,
            "bin_end": 35779.6,
            "count": 2
           },
           {
            "bin_start": 35779.6,
            "bin_end": 38643.2,
            "count": 1
           },
           {
            "bin_start": 38643.2,
            "bin_end": 41506.8,
            "count": 0
           },
           {
            "bin_start": 41506.8,
            "bin_end": 44370.4,
            "count": 0
           },
           {
            "bin_start": 44370.4,
            "bin_end": 47234,
            "count": 0
           },
           {
            "bin_start": 47234,
            "bin_end": 50097.6,
            "count": 0
           },
           {
            "bin_start": 50097.6,
            "bin_end": 52961.2,
            "count": 0
           },
           {
            "bin_start": 52961.2,
            "bin_end": 55824.8,
            "count": 0
           },
           {
            "bin_start": 55824.8,
            "bin_end": 58688.399999999994,
            "count": 1
           },
           {
            "bin_start": 58688.399999999994,
            "bin_end": 61552,
            "count": 1
           }
          ]
         }
        },
        {
         "name": "baseline_motorcycle2",
         "dtype": "float64",
         "stats": {
          "unique_count": 2,
          "nan_count": 3,
          "min": "42391.0",
          "max": "89680.0",
          "histogram": [
           {
            "bin_start": 42391,
            "bin_end": 47119.9,
            "count": 1
           },
           {
            "bin_start": 47119.9,
            "bin_end": 51848.8,
            "count": 0
           },
           {
            "bin_start": 51848.8,
            "bin_end": 56577.7,
            "count": 0
           },
           {
            "bin_start": 56577.7,
            "bin_end": 61306.6,
            "count": 0
           },
           {
            "bin_start": 61306.6,
            "bin_end": 66035.5,
            "count": 0
           },
           {
            "bin_start": 66035.5,
            "bin_end": 70764.4,
            "count": 0
           },
           {
            "bin_start": 70764.4,
            "bin_end": 75493.29999999999,
            "count": 0
           },
           {
            "bin_start": 75493.29999999999,
            "bin_end": 80222.2,
            "count": 0
           },
           {
            "bin_start": 80222.2,
            "bin_end": 84951.1,
            "count": 0
           },
           {
            "bin_start": 84951.1,
            "bin_end": 89680,
            "count": 1
           }
          ]
         }
        },
        {
         "name": "update_motorcycle2",
         "dtype": "float64",
         "stats": {
          "unique_count": 2,
          "nan_count": 3,
          "min": "46815.0",
          "max": "139570.0",
          "histogram": [
           {
            "bin_start": 46815,
            "bin_end": 56090.5,
            "count": 1
           },
           {
            "bin_start": 56090.5,
            "bin_end": 65366,
            "count": 0
           },
           {
            "bin_start": 65366,
            "bin_end": 74641.5,
            "count": 0
           },
           {
            "bin_start": 74641.5,
            "bin_end": 83917,
            "count": 0
           },
           {
            "bin_start": 83917,
            "bin_end": 93192.5,
            "count": 0
           },
           {
            "bin_start": 93192.5,
            "bin_end": 102468,
            "count": 0
           },
           {
            "bin_start": 102468,
            "bin_end": 111743.5,
            "count": 0
           },
           {
            "bin_start": 111743.5,
            "bin_end": 121019,
            "count": 0
           },
           {
            "bin_start": 121019,
            "bin_end": 130294.5,
            "count": 0
           },
           {
            "bin_start": 130294.5,
            "bin_end": 139570,
            "count": 1
           }
          ]
         }
        },
        {
         "name": "baseline_motorcycle3",
         "dtype": "float64",
         "stats": {
          "unique_count": 0,
          "nan_count": 5,
          "min": null,
          "max": null,
          "histogram": [
           {
            "bin_start": 0,
            "bin_end": 0.1,
            "count": 0
           },
           {
            "bin_start": 0.1,
            "bin_end": 0.2,
            "count": 0
           },
           {
            "bin_start": 0.2,
            "bin_end": 0.30000000000000004,
            "count": 0
           },
           {
            "bin_start": 0.30000000000000004,
            "bin_end": 0.4,
            "count": 0
           },
           {
            "bin_start": 0.4,
            "bin_end": 0.5,
            "count": 0
           },
           {
            "bin_start": 0.5,
            "bin_end": 0.6000000000000001,
            "count": 0
           },
           {
            "bin_start": 0.6000000000000001,
            "bin_end": 0.7000000000000001,
            "count": 0
           },
           {
            "bin_start": 0.7000000000000001,
            "bin_end": 0.8,
            "count": 0
           },
           {
            "bin_start": 0.8,
            "bin_end": 0.9,
            "count": 0
           },
           {
            "bin_start": 0.9,
            "bin_end": 1,
            "count": 0
           }
          ]
         }
        },
        {
         "name": "update_motorcycle3",
         "dtype": "float64",
         "stats": {
          "unique_count": 0,
          "nan_count": 5,
          "min": null,
          "max": null,
          "histogram": [
           {
            "bin_start": 0,
            "bin_end": 0.1,
            "count": 0
           },
           {
            "bin_start": 0.1,
            "bin_end": 0.2,
            "count": 0
           },
           {
            "bin_start": 0.2,
            "bin_end": 0.30000000000000004,
            "count": 0
           },
           {
            "bin_start": 0.30000000000000004,
            "bin_end": 0.4,
            "count": 0
           },
           {
            "bin_start": 0.4,
            "bin_end": 0.5,
            "count": 0
           },
           {
            "bin_start": 0.5,
            "bin_end": 0.6000000000000001,
            "count": 0
           },
           {
            "bin_start": 0.6000000000000001,
            "bin_end": 0.7000000000000001,
            "count": 0
           },
           {
            "bin_start": 0.7000000000000001,
            "bin_end": 0.8,
            "count": 0
           },
           {
            "bin_start": 0.8,
            "bin_end": 0.9,
            "count": 0
           },
           {
            "bin_start": 0.9,
            "bin_end": 1,
            "count": 0
           }
          ]
         }
        },
        {
         "name": "baseline_motorcycle4",
         "dtype": "float64",
         "stats": {
          "unique_count": 1,
          "nan_count": 4,
          "min": "467.0",
          "max": "467.0",
          "histogram": [
           {
            "bin_start": 466.5,
            "bin_end": 466.6,
            "count": 0
           },
           {
            "bin_start": 466.6,
            "bin_end": 466.7,
            "count": 0
           },
           {
            "bin_start": 466.7,
            "bin_end": 466.8,
            "count": 0
           },
           {
            "bin_start": 466.8,
            "bin_end": 466.9,
            "count": 0
           },
           {
            "bin_start": 466.9,
            "bin_end": 467,
            "count": 0
           },
           {
            "bin_start": 467,
            "bin_end": 467.1,
            "count": 1
           },
           {
            "bin_start": 467.1,
            "bin_end": 467.2,
            "count": 0
           },
           {
            "bin_start": 467.2,
            "bin_end": 467.3,
            "count": 0
           },
           {
            "bin_start": 467.3,
            "bin_end": 467.4,
            "count": 0
           },
           {
            "bin_start": 467.4,
            "bin_end": 467.5,
            "count": 0
           }
          ]
         }
        },
        {
         "name": "update_motorcycle4",
         "dtype": "float64",
         "stats": {
          "unique_count": 1,
          "nan_count": 4,
          "min": "27441.0",
          "max": "27441.0",
          "histogram": [
           {
            "bin_start": 27440.5,
            "bin_end": 27440.6,
            "count": 0
           },
           {
            "bin_start": 27440.6,
            "bin_end": 27440.7,
            "count": 0
           },
           {
            "bin_start": 27440.7,
            "bin_end": 27440.8,
            "count": 0
           },
           {
            "bin_start": 27440.8,
            "bin_end": 27440.9,
            "count": 0
           },
           {
            "bin_start": 27440.9,
            "bin_end": 27441,
            "count": 0
           },
           {
            "bin_start": 27441,
            "bin_end": 27441.1,
            "count": 1
           },
           {
            "bin_start": 27441.1,
            "bin_end": 27441.2,
            "count": 0
           },
           {
            "bin_start": 27441.2,
            "bin_end": 27441.3,
            "count": 0
           },
           {
            "bin_start": 27441.3,
            "bin_end": 27441.4,
            "count": 0
           },
           {
            "bin_start": 27441.4,
            "bin_end": 27441.5,
            "count": 0
           }
          ]
         }
        },
        {
         "name": "motorcycle_count",
         "dtype": "int64",
         "stats": {
          "unique_count": 2,
          "nan_count": 0,
          "min": "1",
          "max": "2",
          "histogram": [
           {
            "bin_start": 1,
            "bin_end": 1.1,
            "count": 2
           },
           {
            "bin_start": 1.1,
            "bin_end": 1.2,
            "count": 0
           },
           {
            "bin_start": 1.2,
            "bin_end": 1.3,
            "count": 0
           },
           {
            "bin_start": 1.3,
            "bin_end": 1.4,
            "count": 0
           },
           {
            "bin_start": 1.4,
            "bin_end": 1.5,
            "count": 0
           },
           {
            "bin_start": 1.5,
            "bin_end": 1.6,
            "count": 0
           },
           {
            "bin_start": 1.6,
            "bin_end": 1.7000000000000002,
            "count": 0
           },
           {
            "bin_start": 1.7000000000000002,
            "bin_end": 1.8,
            "count": 0
           },
           {
            "bin_start": 1.8,
            "bin_end": 1.9,
            "count": 0
           },
           {
            "bin_start": 1.9,
            "bin_end": 2,
            "count": 3
           }
          ]
         }
        },
        {
         "name": "_deepnote_index_column",
         "dtype": "int64"
        }
       ],
       "rows": [
        {
         "condition": "Sign Top",
         "baseline_motorcycle1": 20970,
         "update_motorcycle1": 61552,
         "baseline_motorcycle2": 42391,
         "update_motorcycle2": 46815,
         "baseline_motorcycle3": "nan",
         "update_motorcycle3": "nan",
         "baseline_motorcycle4": "nan",
         "update_motorcycle4": "nan",
         "motorcycle_count": 2,
         "_deepnote_index_column": 13484
        },
        {
         "condition": "Sign Top",
         "baseline_motorcycle1": 22606,
         "update_motorcycle1": 56382,
         "baseline_motorcycle2": "nan",
         "update_motorcycle2": "nan",
         "baseline_motorcycle3": "nan",
         "update_motorcycle3": "nan",
         "baseline_motorcycle4": 467,
         "update_motorcycle4": 27441,
         "motorcycle_count": 2,
         "_deepnote_index_column": 13485
        },
        {
         "condition": "Sign Bottom",
         "baseline_motorcycle1": 30700,
         "update_motorcycle1": 32916,
         "baseline_motorcycle2": 89680,
         "update_motorcycle2": 139570,
         "baseline_motorcycle3": "nan",
         "update_motorcycle3": "nan",
         "baseline_motorcycle4": "nan",
         "update_motorcycle4": "nan",
         "motorcycle_count": 2,
         "_deepnote_index_column": 13486
        },
        {
         "condition": "Sign Top",
         "baseline_motorcycle1": 29884,
         "update_motorcycle1": 35459,
         "baseline_motorcycle2": "nan",
         "update_motorcycle2": "nan",
         "baseline_motorcycle3": "nan",
         "update_motorcycle3": "nan",
         "baseline_motorcycle4": "nan",
         "update_motorcycle4": "nan",
         "motorcycle_count": 1,
         "_deepnote_index_column": 13487
        },
        {
         "condition": "Sign Top",
         "baseline_motorcycle1": 22930,
         "update_motorcycle1": 37888,
         "baseline_motorcycle2": "nan",
         "update_motorcycle2": "nan",
         "baseline_motorcycle3": "nan",
         "update_motorcycle3": "nan",
         "baseline_motorcycle4": "nan",
         "update_motorcycle4": "nan",
         "motorcycle_count": 1,
         "_deepnote_index_column": 13488
        }
       ]
      },
      "text/plain": "         condition  baseline_motorcycle1  update_motorcycle1  \\\nid                                                             \n13484     Sign Top                 20970               61552   \n13485     Sign Top                 22606               56382   \n13486  Sign Bottom                 30700               32916   \n13487     Sign Top                 29884               35459   \n13488     Sign Top                 22930               37888   \n\n       baseline_motorcycle2  update_motorcycle2  baseline_motorcycle3  \\\nid                                                                      \n13484               42391.0             46815.0                   NaN   \n13485                   NaN                 NaN                   NaN   \n13486               89680.0            139570.0                   NaN   \n13487                   NaN                 NaN                   NaN   \n13488                   NaN                 NaN                   NaN   \n\n       update_motorcycle3  baseline_motorcycle4  update_motorcycle4  \\\nid                                                                    \n13484                 NaN                   NaN                 NaN   \n13485                 NaN                 467.0             27441.0   \n13486                 NaN                   NaN                 NaN   \n13487                 NaN                   NaN                 NaN   \n13488                 NaN                   NaN                 NaN   \n\n       motorcycle_count  \nid                       \n13484                 2  \n13485                 2  \n13486                 2  \n13487                 1  \n13488                 1  ",
      "text/html": "<div>\n<style scoped>\n    .dataframe tbody tr th:only-of-type {\n        vertical-align: middle;\n    }\n\n    .dataframe tbody tr th {\n        vertical-align: top;\n    }\n\n    .dataframe thead th {\n        text-align: right;\n    }\n</style>\n<table border=\"1\" class=\"dataframe\">\n  <thead>\n    <tr style=\"text-align: right;\">\n      <th></th>\n      <th>condition</th>\n      <th>baseline_motorcycle1</th>\n      <th>update_motorcycle1</th>\n      <th>baseline_motorcycle2</th>\n      <th>update_motorcycle2</th>\n      <th>baseline_motorcycle3</th>\n      <th>update_motorcycle3</th>\n      <th>baseline_motorcycle4</th>\n      <th>update_motorcycle4</th>\n      <th>motorcycle_count</th>\n    </tr>\n    <tr>\n      <th>id</th>\n      <th></th>\n      <th></th>\n      <th></th>\n      <th></th>\n      <th></th>\n      <th></th>\n      <th></th>\n      <th></th>\n      <th></th>\n      <th></th>\n    </tr>\n  </thead>\n  <tbody>\n    <tr>\n      <th>13484</th>\n      <td>Sign Top</td>\n      <td>20970</td>\n      <td>61552</td>\n      <td>42391.0</td>\n      <td>46815.0</td>\n      <td>NaN</td>\n      <td>NaN</td>\n      <td>NaN</td>\n      <td>NaN</td>\n      <td>2</td>\n    </tr>\n    <tr>\n      <th>13485</th>\n      <td>Sign Top</td>\n      <td>22606</td>\n      <td>56382</td>\n      <td>NaN</td>\n      <td>NaN</td>\n      <td>NaN</td>\n      <td>NaN</td>\n      <td>467.0</td>\n      <td>27441.0</td>\n      <td>2</td>\n    </tr>\n    <tr>\n      <th>13486</th>\n      <td>Sign Bottom</td>\n      <td>30700</td>\n      <td>32916</td>\n      <td>89680.0</td>\n      <td>139570.0</td>\n      <td>NaN</td>\n      <td>NaN</td>\n      <td>NaN</td>\n      <td>NaN</td>\n      <td>2</td>\n    </tr>\n    <tr>\n      <th>13487</th>\n      <td>Sign Top</td>\n      <td>29884</td>\n      <td>35459</td>\n      <td>NaN</td>\n      <td>NaN</td>\n      <td>NaN</td>\n      <td>NaN</td>\n      <td>NaN</td>\n      <td>NaN</td>\n      <td>1</td>\n    </tr>\n    <tr>\n      <th>13488</th>\n      <td>Sign Top</td>\n      <td>22930</td>\n      <td>37888</td>\n      <td>NaN</td>\n      <td>NaN</td>\n      <td>NaN</td>\n      <td>NaN</td>\n      <td>NaN</td>\n      <td>NaN</td>\n      <td>1</td>\n    </tr>\n  </tbody>\n</table>\n</div>"
     },
     "metadata": {}
    }
   ]
  },
  {
   "cell_type": "markdown",
   "source": "**Table 1: the last 5 rows of the dataset.**\n\nWe can also notice that at least one policy (row 13485) has a contract for only motorcycle1 and motorcycle4, skipping the numbers in the middle (motorcycle2 and motorcycle3). Despite this inconsistency, we keep the data as this is not a serious enough reason to believe its invalid.",
   "metadata": {
    "cell_id": "00009-382fec04-378f-428a-acef-62ea6adaf43d",
    "deepnote_app_coordinates": {
     "x": 0,
     "y": 48,
     "w": 12,
     "h": 5
    },
    "deepnote_cell_type": "markdown",
    "deepnote_cell_height": 133.60000610351562
   }
  },
  {
   "cell_type": "markdown",
   "source": "#### 2.2: Clean data\n- Check whether the number of motorcycles recorded in baseline contracts equals the number of motorcycles in updated contracts;\n- Check whether the number of odometer readings for each contract is the same as the number stated in the ```motorcycle_count``` variable.",
   "metadata": {
    "cell_id": "00010-02c52b62-6195-43a4-b27c-f4c874fe15b0",
    "deepnote_app_coordinates": {
     "x": 0,
     "y": 54,
     "w": 12,
     "h": 5
    },
    "deepnote_cell_type": "markdown",
    "deepnote_cell_height": 173.60000610351562
   }
  },
  {
   "cell_type": "code",
   "metadata": {
    "cell_id": "00011-d64ebcd4-0692-41b3-bff1-be061eec2a94",
    "deepnote_to_be_reexecuted": false,
    "source_hash": "9d8503f3",
    "execution_start": 1642954242553,
    "execution_millis": 3,
    "deepnote_app_coordinates": {
     "x": 0,
     "y": 60,
     "w": 12,
     "h": 5
    },
    "deepnote_cell_type": "code",
    "deepnote_cell_height": 135
   },
   "source": "# Utility\nbaseline_columns = ['baseline_motorcycle1', 'baseline_motorcycle2', 'baseline_motorcycle3', 'baseline_motorcycle4']\nupdate_columns = ['update_motorcycle1', 'update_motorcycle2', 'update_motorcycle3', 'update_motorcycle4']\nkm_columns = baseline_columns + update_columns",
   "execution_count": null,
   "outputs": []
  },
  {
   "cell_type": "code",
   "metadata": {
    "cell_id": "00012-707f174a-2f0b-473f-ab31-4739164ce10a",
    "deepnote_to_be_reexecuted": false,
    "source_hash": "27fe7bac",
    "execution_start": 1642954242562,
    "execution_millis": 15,
    "deepnote_app_coordinates": {
     "x": 0,
     "y": 66,
     "w": 12,
     "h": 5
    },
    "deepnote_cell_type": "code",
    "deepnote_cell_height": 153
   },
   "source": "# Check if NaNs in the baseline columns are at the same locations as NaNs in the update columns.\n# Use .set_axis([1,2,3,4],axis=1) to make the column names of both boolean dataframes the same.\nis_baseline_value = data[baseline_columns].notna().set_axis([1,2,3,4],axis=1)\nis_update_value = data[update_columns].notna().set_axis([1,2,3,4],axis=1)\nis_valid = (is_baseline_value == is_update_value).all(axis=1)",
   "execution_count": null,
   "outputs": []
  },
  {
   "cell_type": "code",
   "metadata": {
    "cell_id": "00013-0780b67e-a2b7-4b44-861a-6b4a451a22cb",
    "deepnote_to_be_reexecuted": false,
    "source_hash": "99234e2e",
    "execution_start": 1642954242585,
    "execution_millis": 6,
    "deepnote_app_coordinates": {
     "x": 0,
     "y": 72,
     "w": 12,
     "h": 5
    },
    "deepnote_cell_type": "code",
    "deepnote_cell_height": 135
   },
   "source": "# Check if the number of baseline ordometer readings equals motorcyle_count.\n# No need to check updated readings, since the number of motorcycles are the same for baseline and update (we checked in the cell above).\nnum_baseline_readings = data[baseline_columns].notnull().sum(axis=1)\nis_valid = (is_valid & (num_baseline_readings == data['motorcycle_count']))",
   "execution_count": null,
   "outputs": []
  },
  {
   "cell_type": "code",
   "metadata": {
    "cell_id": "00014-2c5c5660-c0a9-4880-bee1-e5e1cecf65d8",
    "deepnote_to_be_reexecuted": false,
    "source_hash": "271795dd",
    "execution_start": 1642954242638,
    "execution_millis": 8,
    "deepnote_app_coordinates": {
     "x": 0,
     "y": 78,
     "w": 12,
     "h": 5
    },
    "deepnote_cell_type": "code",
    "deepnote_cell_height": 147.1999969482422
   },
   "source": "# Remove invalid data\ndata = data[is_valid]\nprint('Removed %d invalid rows from the data.'%(~is_valid).sum())",
   "execution_count": null,
   "outputs": [
    {
     "name": "stdout",
     "text": "Removed 0 invalid rows from the data.\n",
     "output_type": "stream"
    }
   ]
  },
  {
   "cell_type": "markdown",
   "source": "Both conditions were already satisfied: each baseline contract has a corresponding updated contract, and the number of reported odometer readings per contract is the same as the number of motorcycles reported.",
   "metadata": {
    "cell_id": "00015-79c77933-5b2b-4906-9b08-080f68d60252",
    "deepnote_app_coordinates": {
     "x": 0,
     "y": 84,
     "w": 12,
     "h": 5
    },
    "deepnote_cell_type": "markdown",
    "deepnote_cell_height": 74.80000305175781
   }
  },
  {
   "cell_type": "markdown",
   "source": "#### 2.3: Check for outliers\nFirst, we will do a quick check for outliers with a description of the data.",
   "metadata": {
    "cell_id": "00016-48f7a4c7-bbf6-4a1f-b495-3684a9dba20a",
    "deepnote_app_coordinates": {
     "x": 0,
     "y": 90,
     "w": 12,
     "h": 5
    },
    "deepnote_cell_type": "markdown",
    "deepnote_cell_height": 88.39999389648438
   }
  },
  {
   "cell_type": "code",
   "metadata": {
    "cell_id": "00017-ccd3cb7d-cd5a-4620-92ab-5055aac7e5ab",
    "deepnote_to_be_reexecuted": false,
    "source_hash": "d29da93b",
    "execution_start": 1642954242639,
    "execution_millis": 76,
    "deepnote_app_coordinates": {
     "x": 0,
     "y": 96,
     "w": 12,
     "h": 5
    },
    "deepnote_cell_type": "code",
    "deepnote_cell_height": 518
   },
   "source": "data[km_columns].describe()",
   "execution_count": null,
   "outputs": [
    {
     "output_type": "execute_result",
     "execution_count": 10,
     "data": {
      "application/vnd.deepnote.dataframe.v3+json": {
       "column_count": 8,
       "row_count": 8,
       "columns": [
        {
         "name": "baseline_motorcycle1",
         "dtype": "float64",
         "stats": {
          "unique_count": 8,
          "nan_count": 0,
          "min": "0.0",
          "max": "1e+19",
          "histogram": [
           {
            "bin_start": 0,
            "bin_end": 1000000000000000000,
            "count": 7
           },
           {
            "bin_start": 1000000000000000000,
            "bin_end": 2000000000000000000,
            "count": 0
           },
           {
            "bin_start": 2000000000000000000,
            "bin_end": 3000000000000000000,
            "count": 0
           },
           {
            "bin_start": 3000000000000000000,
            "bin_end": 4000000000000000000,
            "count": 0
           },
           {
            "bin_start": 4000000000000000000,
            "bin_end": 5000000000000000000,
            "count": 0
           },
           {
            "bin_start": 5000000000000000000,
            "bin_end": 6000000000000000000,
            "count": 0
           },
           {
            "bin_start": 6000000000000000000,
            "bin_end": 7000000000000000000,
            "count": 0
           },
           {
            "bin_start": 7000000000000000000,
            "bin_end": 8000000000000000000,
            "count": 0
           },
           {
            "bin_start": 8000000000000000000,
            "bin_end": 9000000000000000000,
            "count": 0
           },
           {
            "bin_start": 9000000000000000000,
            "bin_end": 10000000000000000000,
            "count": 1
           }
          ]
         }
        },
        {
         "name": "baseline_motorcycle2",
         "dtype": "float64",
         "stats": {
          "unique_count": 8,
          "nan_count": 0,
          "min": "0.0",
          "max": "1000581.0",
          "histogram": [
           {
            "bin_start": 0,
            "bin_end": 100058.1,
            "count": 7
           },
           {
            "bin_start": 100058.1,
            "bin_end": 200116.2,
            "count": 0
           },
           {
            "bin_start": 200116.2,
            "bin_end": 300174.30000000005,
            "count": 0
           },
           {
            "bin_start": 300174.30000000005,
            "bin_end": 400232.4,
            "count": 0
           },
           {
            "bin_start": 400232.4,
            "bin_end": 500290.5,
            "count": 0
           },
           {
            "bin_start": 500290.5,
            "bin_end": 600348.6000000001,
            "count": 0
           },
           {
            "bin_start": 600348.6000000001,
            "bin_end": 700406.7000000001,
            "count": 0
           },
           {
            "bin_start": 700406.7000000001,
            "bin_end": 800464.8,
            "count": 0
           },
           {
            "bin_start": 800464.8,
            "bin_end": 900522.9,
            "count": 0
           },
           {
            "bin_start": 900522.9,
            "bin_end": 1000581,
            "count": 1
           }
          ]
         }
        },
        {
         "name": "baseline_motorcycle3",
         "dtype": "float64",
         "stats": {
          "unique_count": 8,
          "nan_count": 0,
          "min": "0.0",
          "max": "884594.0",
          "histogram": [
           {
            "bin_start": 0,
            "bin_end": 88459.4,
            "count": 6
           },
           {
            "bin_start": 88459.4,
            "bin_end": 176918.8,
            "count": 1
           },
           {
            "bin_start": 176918.8,
            "bin_end": 265378.19999999995,
            "count": 0
           },
           {
            "bin_start": 265378.19999999995,
            "bin_end": 353837.6,
            "count": 0
           },
           {
            "bin_start": 353837.6,
            "bin_end": 442297,
            "count": 0
           },
           {
            "bin_start": 442297,
            "bin_end": 530756.3999999999,
            "count": 0
           },
           {
            "bin_start": 530756.3999999999,
            "bin_end": 619215.7999999999,
            "count": 0
           },
           {
            "bin_start": 619215.7999999999,
            "bin_end": 707675.2,
            "count": 0
           },
           {
            "bin_start": 707675.2,
            "bin_end": 796134.6,
            "count": 0
           },
           {
            "bin_start": 796134.6,
            "bin_end": 884594,
            "count": 1
           }
          ]
         }
        },
        {
         "name": "baseline_motorcycle4",
         "dtype": "float64",
         "stats": {
          "unique_count": 8,
          "nan_count": 0,
          "min": "0.0",
          "max": "217715.0",
          "histogram": [
           {
            "bin_start": 0,
            "bin_end": 21771.5,
            "count": 3
           },
           {
            "bin_start": 21771.5,
            "bin_end": 43543,
            "count": 0
           },
           {
            "bin_start": 43543,
            "bin_end": 65314.5,
            "count": 1
           },
           {
            "bin_start": 65314.5,
            "bin_end": 87086,
            "count": 2
           },
           {
            "bin_start": 87086,
            "bin_end": 108857.5,
            "count": 1
           },
           {
            "bin_start": 108857.5,
            "bin_end": 130629,
            "count": 0
           },
           {
            "bin_start": 130629,
            "bin_end": 152400.5,
            "count": 0
           },
           {
            "bin_start": 152400.5,
            "bin_end": 174172,
            "count": 0
           },
           {
            "bin_start": 174172,
            "bin_end": 195943.5,
            "count": 0
           },
           {
            "bin_start": 195943.5,
            "bin_end": 217715,
            "count": 1
           }
          ]
         }
        },
        {
         "name": "update_motorcycle1",
         "dtype": "float64",
         "stats": {
          "unique_count": 8,
          "nan_count": 0,
          "min": "42.0",
          "max": "1e+19",
          "histogram": [
           {
            "bin_start": 42,
            "bin_end": 1000000000000000000,
            "count": 7
           },
           {
            "bin_start": 1000000000000000000,
            "bin_end": 2000000000000000000,
            "count": 0
           },
           {
            "bin_start": 2000000000000000000,
            "bin_end": 3000000000000000000,
            "count": 0
           },
           {
            "bin_start": 3000000000000000000,
            "bin_end": 4000000000000000000,
            "count": 0
           },
           {
            "bin_start": 4000000000000000000,
            "bin_end": 5000000000000000000,
            "count": 0
           },
           {
            "bin_start": 5000000000000000000,
            "bin_end": 6000000000000000000,
            "count": 0
           },
           {
            "bin_start": 6000000000000000000,
            "bin_end": 7000000000000000000,
            "count": 0
           },
           {
            "bin_start": 7000000000000000000,
            "bin_end": 8000000000000000000,
            "count": 0
           },
           {
            "bin_start": 8000000000000000000,
            "bin_end": 9000000000000000000,
            "count": 0
           },
           {
            "bin_start": 9000000000000000000,
            "bin_end": 10000000000000000000,
            "count": 1
           }
          ]
         }
        },
        {
         "name": "update_motorcycle2",
         "dtype": "float64",
         "stats": {
          "unique_count": 8,
          "nan_count": 0,
          "min": "116.0",
          "max": "1030915.0",
          "histogram": [
           {
            "bin_start": 116,
            "bin_end": 103195.9,
            "count": 6
           },
           {
            "bin_start": 103195.9,
            "bin_end": 206275.8,
            "count": 1
           },
           {
            "bin_start": 206275.8,
            "bin_end": 309355.69999999995,
            "count": 0
           },
           {
            "bin_start": 309355.69999999995,
            "bin_end": 412435.6,
            "count": 0
           },
           {
            "bin_start": 412435.6,
            "bin_end": 515515.5,
            "count": 0
           },
           {
            "bin_start": 515515.5,
            "bin_end": 618595.3999999999,
            "count": 0
           },
           {
            "bin_start": 618595.3999999999,
            "bin_end": 721675.2999999999,
            "count": 0
           },
           {
            "bin_start": 721675.2999999999,
            "bin_end": 824755.2,
            "count": 0
           },
           {
            "bin_start": 824755.2,
            "bin_end": 927835.1,
            "count": 0
           },
           {
            "bin_start": 927835.1,
            "bin_end": 1030915,
            "count": 1
           }
          ]
         }
        },
        {
         "name": "update_motorcycle3",
         "dtype": "float64",
         "stats": {
          "unique_count": 8,
          "nan_count": 0,
          "min": "155.0",
          "max": "931105.0",
          "histogram": [
           {
            "bin_start": 155,
            "bin_end": 93250,
            "count": 6
           },
           {
            "bin_start": 93250,
            "bin_end": 186345,
            "count": 1
           },
           {
            "bin_start": 186345,
            "bin_end": 279440,
            "count": 0
           },
           {
            "bin_start": 279440,
            "bin_end": 372535,
            "count": 0
           },
           {
            "bin_start": 372535,
            "bin_end": 465630,
            "count": 0
           },
           {
            "bin_start": 465630,
            "bin_end": 558725,
            "count": 0
           },
           {
            "bin_start": 558725,
            "bin_end": 651820,
            "count": 0
           },
           {
            "bin_start": 651820,
            "bin_end": 744915,
            "count": 0
           },
           {
            "bin_start": 744915,
            "bin_end": 838010,
            "count": 0
           },
           {
            "bin_start": 838010,
            "bin_end": 931105,
            "count": 1
           }
          ]
         }
        },
        {
         "name": "update_motorcycle4",
         "dtype": "float64",
         "stats": {
          "unique_count": 8,
          "nan_count": 0,
          "min": "326.0",
          "max": "244658.0",
          "histogram": [
           {
            "bin_start": 326,
            "bin_end": 24759.2,
            "count": 2
           },
           {
            "bin_start": 24759.2,
            "bin_end": 49192.4,
            "count": 1
           },
           {
            "bin_start": 49192.4,
            "bin_end": 73625.6,
            "count": 1
           },
           {
            "bin_start": 73625.6,
            "bin_end": 98058.8,
            "count": 2
           },
           {
            "bin_start": 98058.8,
            "bin_end": 122492,
            "count": 0
           },
           {
            "bin_start": 122492,
            "bin_end": 146925.2,
            "count": 1
           },
           {
            "bin_start": 146925.2,
            "bin_end": 171358.4,
            "count": 0
           },
           {
            "bin_start": 171358.4,
            "bin_end": 195791.6,
            "count": 0
           },
           {
            "bin_start": 195791.6,
            "bin_end": 220224.80000000002,
            "count": 0
           },
           {
            "bin_start": 220224.80000000002,
            "bin_end": 244658,
            "count": 1
           }
          ]
         }
        },
        {
         "name": "_deepnote_index_column",
         "dtype": "object"
        }
       ],
       "rows": [
        {
         "baseline_motorcycle1": 13488,
         "baseline_motorcycle2": 5648,
         "baseline_motorcycle3": 1277,
         "baseline_motorcycle4": 326,
         "update_motorcycle1": 13488,
         "update_motorcycle2": 5648,
         "update_motorcycle3": 1277,
         "update_motorcycle4": 326,
         "_deepnote_index_column": "count"
        },
        {
         "baseline_motorcycle1": 741399762819413.8,
         "baseline_motorcycle2": 67325.96742209632,
         "baseline_motorcycle3": 67657.32028191072,
         "baseline_motorcycle4": 67827.9754601227,
         "update_motorcycle1": 741399762844457.5,
         "update_motorcycle2": 92277.63314447593,
         "update_motorcycle3": 92849.408770556,
         "update_motorcycle4": 93374.2791411043,
         "_deepnote_index_column": "mean"
        },
        {
         "baseline_motorcycle1": 86104573789785760,
         "baseline_motorcycle2": 60226.461074988816,
         "baseline_motorcycle3": 64419.00185956839,
         "baseline_motorcycle4": 54610.2172405298,
         "update_motorcycle1": 86104573789785550,
         "update_motorcycle2": 61883.69212236712,
         "update_motorcycle3": 66547.92022156315,
         "update_motorcycle4": 56345.38607010811,
         "_deepnote_index_column": "std"
        },
        {
         "baseline_motorcycle1": 0,
         "baseline_motorcycle2": 0,
         "baseline_motorcycle3": 0,
         "baseline_motorcycle4": 0,
         "update_motorcycle1": 42,
         "update_motorcycle2": 116,
         "update_motorcycle3": 155,
         "update_motorcycle4": 622,
         "_deepnote_index_column": "min"
        },
        {
         "baseline_motorcycle1": 25281.25,
         "baseline_motorcycle2": 24498.25,
         "baseline_motorcycle3": 18500,
         "baseline_motorcycle4": 14284.75,
         "update_motorcycle1": 50096,
         "update_motorcycle2": 49888.75,
         "update_motorcycle3": 43872,
         "update_motorcycle4": 41525.5,
         "_deepnote_index_column": "25%"
        },
        {
         "baseline_motorcycle1": 56341.5,
         "baseline_motorcycle2": 56157.5,
         "baseline_motorcycle3": 58821,
         "baseline_motorcycle4": 68181,
         "update_motorcycle1": 82397.5,
         "update_motorcycle2": 82061,
         "update_motorcycle3": 85645,
         "update_motorcycle4": 93387.5,
         "_deepnote_index_column": "50%"
        },
        {
         "baseline_motorcycle1": 96259.25,
         "baseline_motorcycle2": 97000,
         "baseline_motorcycle3": 100000,
         "baseline_motorcycle4": 106882,
         "update_motorcycle1": 123334,
         "update_motorcycle2": 122191.5,
         "update_motorcycle3": 128037,
         "update_motorcycle4": 128940.5,
         "_deepnote_index_column": "75%"
        },
        {
         "baseline_motorcycle1": 10000000000000000000,
         "baseline_motorcycle2": 1000581,
         "baseline_motorcycle3": 884594,
         "baseline_motorcycle4": 217715,
         "update_motorcycle1": 10000000000000000000,
         "update_motorcycle2": 1030915,
         "update_motorcycle3": 931105,
         "update_motorcycle4": 244658,
         "_deepnote_index_column": "max"
        }
       ]
      },
      "text/plain": "       baseline_motorcycle1  baseline_motorcycle2  baseline_motorcycle3  \\\ncount          1.348800e+04          5.648000e+03           1277.000000   \nmean           7.413998e+14          6.732597e+04          67657.320282   \nstd            8.610457e+16          6.022646e+04          64419.001860   \nmin            0.000000e+00          0.000000e+00              0.000000   \n25%            2.528125e+04          2.449825e+04          18500.000000   \n50%            5.634150e+04          5.615750e+04          58821.000000   \n75%            9.625925e+04          9.700000e+04         100000.000000   \nmax            1.000000e+19          1.000581e+06         884594.000000   \n\n       baseline_motorcycle4  update_motorcycle1  update_motorcycle2  \\\ncount            326.000000        1.348800e+04        5.648000e+03   \nmean           67827.975460        7.413998e+14        9.227763e+04   \nstd            54610.217241        8.610457e+16        6.188369e+04   \nmin                0.000000        4.200000e+01        1.160000e+02   \n25%            14284.750000        5.009600e+04        4.988875e+04   \n50%            68181.000000        8.239750e+04        8.206100e+04   \n75%           106882.000000        1.233340e+05        1.221915e+05   \nmax           217715.000000        1.000000e+19        1.030915e+06   \n\n       update_motorcycle3  update_motorcycle4  \ncount         1277.000000          326.000000  \nmean         92849.408771        93374.279141  \nstd          66547.920222        56345.386070  \nmin            155.000000          622.000000  \n25%          43872.000000        41525.500000  \n50%          85645.000000        93387.500000  \n75%         128037.000000       128940.500000  \nmax         931105.000000       244658.000000  ",
      "text/html": "<div>\n<style scoped>\n    .dataframe tbody tr th:only-of-type {\n        vertical-align: middle;\n    }\n\n    .dataframe tbody tr th {\n        vertical-align: top;\n    }\n\n    .dataframe thead th {\n        text-align: right;\n    }\n</style>\n<table border=\"1\" class=\"dataframe\">\n  <thead>\n    <tr style=\"text-align: right;\">\n      <th></th>\n      <th>baseline_motorcycle1</th>\n      <th>baseline_motorcycle2</th>\n      <th>baseline_motorcycle3</th>\n      <th>baseline_motorcycle4</th>\n      <th>update_motorcycle1</th>\n      <th>update_motorcycle2</th>\n      <th>update_motorcycle3</th>\n      <th>update_motorcycle4</th>\n    </tr>\n  </thead>\n  <tbody>\n    <tr>\n      <th>count</th>\n      <td>1.348800e+04</td>\n      <td>5.648000e+03</td>\n      <td>1277.000000</td>\n      <td>326.000000</td>\n      <td>1.348800e+04</td>\n      <td>5.648000e+03</td>\n      <td>1277.000000</td>\n      <td>326.000000</td>\n    </tr>\n    <tr>\n      <th>mean</th>\n      <td>7.413998e+14</td>\n      <td>6.732597e+04</td>\n      <td>67657.320282</td>\n      <td>67827.975460</td>\n      <td>7.413998e+14</td>\n      <td>9.227763e+04</td>\n      <td>92849.408771</td>\n      <td>93374.279141</td>\n    </tr>\n    <tr>\n      <th>std</th>\n      <td>8.610457e+16</td>\n      <td>6.022646e+04</td>\n      <td>64419.001860</td>\n      <td>54610.217241</td>\n      <td>8.610457e+16</td>\n      <td>6.188369e+04</td>\n      <td>66547.920222</td>\n      <td>56345.386070</td>\n    </tr>\n    <tr>\n      <th>min</th>\n      <td>0.000000e+00</td>\n      <td>0.000000e+00</td>\n      <td>0.000000</td>\n      <td>0.000000</td>\n      <td>4.200000e+01</td>\n      <td>1.160000e+02</td>\n      <td>155.000000</td>\n      <td>622.000000</td>\n    </tr>\n    <tr>\n      <th>25%</th>\n      <td>2.528125e+04</td>\n      <td>2.449825e+04</td>\n      <td>18500.000000</td>\n      <td>14284.750000</td>\n      <td>5.009600e+04</td>\n      <td>4.988875e+04</td>\n      <td>43872.000000</td>\n      <td>41525.500000</td>\n    </tr>\n    <tr>\n      <th>50%</th>\n      <td>5.634150e+04</td>\n      <td>5.615750e+04</td>\n      <td>58821.000000</td>\n      <td>68181.000000</td>\n      <td>8.239750e+04</td>\n      <td>8.206100e+04</td>\n      <td>85645.000000</td>\n      <td>93387.500000</td>\n    </tr>\n    <tr>\n      <th>75%</th>\n      <td>9.625925e+04</td>\n      <td>9.700000e+04</td>\n      <td>100000.000000</td>\n      <td>106882.000000</td>\n      <td>1.233340e+05</td>\n      <td>1.221915e+05</td>\n      <td>128037.000000</td>\n      <td>128940.500000</td>\n    </tr>\n    <tr>\n      <th>max</th>\n      <td>1.000000e+19</td>\n      <td>1.000581e+06</td>\n      <td>884594.000000</td>\n      <td>217715.000000</td>\n      <td>1.000000e+19</td>\n      <td>1.030915e+06</td>\n      <td>931105.000000</td>\n      <td>244658.000000</td>\n    </tr>\n  </tbody>\n</table>\n</div>"
     },
     "metadata": {}
    }
   ]
  },
  {
   "cell_type": "markdown",
   "source": "**Table 2: a summary of the odometer readings statistics.**  \nClearly, there are extreme outliers in the columns```baseline_motorcycle1``` and ```update_motorcycle1```: their max value is $10^{19} km$ which is unrealistically high. To inspect whether there are more of these outlier values, we visualize the kilometrages in the raw dataset as a boxplot. ",
   "metadata": {
    "cell_id": "00018-31ea8a90-e61d-49e9-97b9-ca6f90bcfb97",
    "deepnote_app_coordinates": {
     "x": 0,
     "y": 102,
     "w": 12,
     "h": 5
    },
    "deepnote_cell_type": "markdown",
    "deepnote_cell_height": 119.60000610351562
   }
  },
  {
   "cell_type": "code",
   "metadata": {
    "tags": [],
    "cell_id": "00019-75913edc-467c-4fce-b1d9-811ea406c085",
    "deepnote_to_be_reexecuted": false,
    "source_hash": "d673f1a1",
    "execution_start": 1642954242766,
    "execution_millis": 0,
    "deepnote_app_coordinates": {
     "x": 0,
     "y": 108,
     "w": 12,
     "h": 5
    },
    "deepnote_cell_type": "code",
    "deepnote_cell_height": 351
   },
   "source": "def plot_horizontal_boxplot_with_datapoint_counts(data, x_pos, ax, palette):\n    '''\n    This function makes a boxplot for each column in 'data'.\n    Additionally, it shows the number of datapoints (N) in each column.\n    x_pos is the position along the x-axis where N should be plotted. \n    '''\n    sns.boxplot(data=data[km_columns], orient=\"h\", palette=palette, whis=3, ax=ax)\n    # Write the number of not-nan datapoints for each column on the right side of the plot\n    counts = data.count()\n    for y_pos,count in enumerate(counts):\n        ax.text(x_pos,\n                y_pos,\n                'N = '+str(count),\n                verticalalignment='center',\n                fontsize='small',\n                color='k')",
   "execution_count": null,
   "outputs": []
  },
  {
   "cell_type": "code",
   "metadata": {
    "tags": [],
    "cell_id": "00020-3fe3b215-22fa-46ea-88b7-b1b33843940c",
    "deepnote_to_be_reexecuted": false,
    "source_hash": "ba9223fb",
    "execution_start": 1642954242767,
    "execution_millis": 1272,
    "deepnote_app_coordinates": {
     "x": 0,
     "y": 114,
     "w": 12,
     "h": 5
    },
    "owner_user_id": "884e1b59-1339-44d2-8d0e-2b2f46138430",
    "deepnote_cell_type": "code",
    "deepnote_cell_height": 521,
    "deepnote_output_heights": [
     244
    ]
   },
   "source": "palette = 4*[COLOR_BASELINE] + 4*[COLOR_UPDATE]\ncount_x_position = 1e20 # x-location where to plot the number of datapoints ('N=#')\nfig, ax = plt.subplots(figsize=(14,4))\nplot_horizontal_boxplot_with_datapoint_counts(data[km_columns], count_x_position, ax, palette)\nax.set_xscale('log')\nax.set_xlim(left=1e-1)\nax.set_xticks(np.logspace(-1,19,11))\nax.set_xlabel('Kilometrage [km]')\nplt.axvline(1e8, linestyle='--', color='k')\nplt.tight_layout()\nplt.show()",
   "execution_count": null,
   "outputs": [
    {
     "data": {
      "text/plain": "<Figure size 1008x288 with 1 Axes>",
      "image/png": "[encoded data removed]"
     },
     "metadata": {
      "needs_background": "light",
      "image/png": {
       "width": 1001,
       "height": 280
      }
     },
     "output_type": "display_data"
    }
   ]
  },
  {
   "cell_type": "markdown",
   "source": "**Figure 1: Boxplot of raw kilometrage data.**  \nThe boundaries of each coloured box are the first and the third quartile, and the line in the center represents the median. The whiskers have a length of three times the interquartile range, and datapoints above the whiskers are marked as outliers. In this context, though, we are only interested in very extreme outliers, so we will not remove all of them. The dashed vertical line represents instead the outlier threshold of $10^{8} km$ (see below for a justification of this number). Because the left-hand whiskers of the first 4 boxplots (corresponding to 'baseline') are 0, their ends are undefined on the logarithmic x-axis.\n\nThe outlier values of $10^{19} km$ present in the baseline and update columns of motorcycle 1 are clearly visible, and we oserve that no other datapoints are present between $10^8 km$ and $10^{19} km$. We think a kilometrage of $10^{8} km$, i.e. 100,000,000 km, is a reasonable maximum odometer value, as it corresponds corresponds to driving a motorcycle continuously for 24 hours per day each day for 30 years at an average speed of 80 km/h. Therefore, we will now remove all extreme values above $10^{8} km$.",
   "metadata": {
    "cell_id": "00020-f3a17c39-3b23-4ff9-9d37-4d3f7a3ab6be",
    "deepnote_app_coordinates": {
     "x": 0,
     "y": 120,
     "w": 12,
     "h": 5
    },
    "deepnote_cell_type": "markdown",
    "deepnote_cell_height": 268
   }
  },
  {
   "cell_type": "code",
   "metadata": {
    "cell_id": "00021-057486a3-86b9-4d91-839e-718f0ed1854f",
    "deepnote_to_be_reexecuted": false,
    "source_hash": "a4b6a3de",
    "execution_start": 1642954244040,
    "execution_millis": 7,
    "deepnote_app_coordinates": {
     "x": 0,
     "y": 126,
     "w": 12,
     "h": 5
    },
    "deepnote_cell_type": "code",
    "deepnote_cell_height": 183.1999969482422
   },
   "source": "# Remove extreme outliers with a threshold\nextreme_limit = 1e7\nis_extreme = (data[km_columns] > extreme_limit).any(axis=1)\ndata = data[~is_extreme]\nprint('Removed %d rows with extreme values from the data.'%is_extreme.sum())",
   "execution_count": null,
   "outputs": [
    {
     "name": "stdout",
     "text": "Removed 2 rows with extreme values from the data.\n",
     "output_type": "stream"
    }
   ]
  },
  {
   "cell_type": "code",
   "metadata": {
    "tags": [],
    "cell_id": "00023-1d4f446b-4230-4a1f-9e6f-4efd3a85ab4d",
    "deepnote_to_be_reexecuted": false,
    "source_hash": "9a4f45ce",
    "execution_start": 1642954244057,
    "execution_millis": 800,
    "deepnote_app_coordinates": {
     "x": 0,
     "y": 132,
     "w": 12,
     "h": 5
    },
    "deepnote_cell_type": "code",
    "deepnote_cell_height": 431,
    "deepnote_output_heights": [
     244
    ]
   },
   "source": "count_x_position = 1.1e6 # x-location where to plot the number of datapoints ('N=#')\nfig, ax = plt.subplots(figsize=(14,4))\nplot_horizontal_boxplot_with_datapoint_counts(data[km_columns], count_x_position, ax, palette)\nax.set_xlabel('Kilometrage [km]')\nplt.tight_layout()\nplt.show()",
   "execution_count": null,
   "outputs": [
    {
     "data": {
      "text/plain": "<Figure size 1008x288 with 1 Axes>",
      "image/png": "[encoded data removed]"
     },
     "metadata": {
      "needs_background": "light",
      "image/png": {
       "width": 1001,
       "height": 280
      }
     },
     "output_type": "display_data"
    }
   ]
  },
  {
   "cell_type": "markdown",
   "source": "**Figure 2: Boxplot of kilometrage data with outliers removed.**  \nThe boundaries of each coloured box are the first and the third quartile, and the line in the center represents the median. Datapoints with values above the whiskers - which have a length of three times the interquartile range - are marked as diamonds.  \n\nIn this boxplot of the cleaned dataset, the first, second and third quartiles of the updated motorcycles are consisistently higher than their corresponding baseline values. This makes sense, since the total distance a motorcycle traveled can only increase. Further, the majority of the kilometrages are reported for motorcycle 1 (13486 datapoints for motorcycle 1 versus 7250 for motorcycles 2-4).",
   "metadata": {
    "cell_id": "00023-1ff05c3a-f5b1-45b9-9d68-5edcb10213f5",
    "deepnote_app_coordinates": {
     "x": 0,
     "y": 138,
     "w": 12,
     "h": 5
    },
    "deepnote_cell_type": "markdown",
    "deepnote_cell_height": 200.8000030517578
   }
  },
  {
   "cell_type": "markdown",
   "source": "#### 2.4 In cases where you cannot think of appropriate ways to remove outliers, would you prefer summarizing numerical data with outliers with the mean or the median? Why?  \n\nWe would use **median** because outliers are less likely to impact the median than the mean. The median is a robust statistic, because it is only affected by the order of the datapoints and not by their values. Therefore, the median is unaffected by how far the outlier lies from the rest of the data, while the mean is strongly affected by that.",
   "metadata": {
    "cell_id": "00026-b2e6811c-3aaf-45de-a04d-896a0398e2c0",
    "deepnote_app_coordinates": {
     "x": 0,
     "y": 144,
     "w": 12,
     "h": 5
    },
    "deepnote_cell_type": "markdown",
    "deepnote_cell_height": 157.1999969482422
   }
  },
  {
   "cell_type": "markdown",
   "source": "### Task 3 — 12pts\n\nOne of the challenges with the current data is that it is not clear how to handle policies with multiple motorcycles.\n\n1. Create three additional columns in the dataframe, `baseline_average`, `update_average`, and `diff_average`. These  should contain, respectively, the average value for `baseline_motorcycle[1-4]` for all motorcycles insured; the average value for `update_motorcycle[1-4]`; and the difference between the average updated value and the average baseline value.\n2. **Discuss:** Propose another way of aggregating distinct motorcycles from a single policy. Point out a way in which this aggregation may be either better or worse than taking the average for the purpose of comparing the two scenarios in the study (sign at the top vs. sign at the bottom).\n3. To get a sense of the impact that policies with multiple motorcycles may have in the study, let's perform some additional analyses. Plot the distribution of motorcycles per policy in the data. Your plot should allow for the meaningful comparison of the values shown.\n4. In 3.1, you calculated the average kilometrage for each policy for the updated contract. Calculate the mean and the standard deviation of these values (which should be in the column `update_average`).\n5. Another meaningful metric is the average kilometrage **per motorcycle**, not distinguishing motorcycles in different policies (i.e., pooled across policies). **Considering only policies with 4 motorcycles insured,** calculate the mean and the standard deviation of the kilometrage per motorcycle in the updated contract.\n6. **Discuss:** To analyze whether signing at the top decreases dishonesty, we could consider the data in different ways. We could first calculate the average value per motorcycle within each policy and have one data point per policy **or** we could analyze the data at the motorcycle level and have one data point per motorcycle in the dataset. According to questions 3.4 and 3.5, how may this decision influence the results of the study?\n---",
   "metadata": {
    "cell_id": "00027-437a57c4-b4b1-4b34-933f-0e395e661220",
    "deepnote_app_coordinates": {
     "x": 0,
     "y": 150,
     "w": 12,
     "h": 5
    },
    "deepnote_cell_type": "markdown",
    "deepnote_cell_height": 547.5999755859375
   }
  },
  {
   "cell_type": "markdown",
   "source": "#### 3.1 Calculate the average kilometrage across the insured motorcycles",
   "metadata": {
    "cell_id": "00028-64c8ef0b-5477-4351-bc3b-c75390e02aee",
    "deepnote_app_coordinates": {
     "x": 0,
     "y": 156,
     "w": 12,
     "h": 5
    },
    "deepnote_cell_type": "markdown",
    "deepnote_cell_height": 54
   }
  },
  {
   "cell_type": "code",
   "metadata": {
    "cell_id": "00029-0e7b7ba1-cb5d-444f-b7eb-01cad151e5c6",
    "deepnote_to_be_reexecuted": false,
    "source_hash": "70a2ac18",
    "execution_start": 1642954244816,
    "execution_millis": 15,
    "deepnote_app_coordinates": {
     "x": 0,
     "y": 162,
     "w": 12,
     "h": 5
    },
    "deepnote_cell_type": "code",
    "deepnote_cell_height": 117
   },
   "source": "data['baseline_average'] = data[baseline_columns].mean(axis=1)\ndata['update_average'] = data[update_columns].mean(axis=1)\ndata['diff_average'] = data['update_average'] - data['baseline_average']",
   "execution_count": null,
   "outputs": []
  },
  {
   "cell_type": "code",
   "metadata": {
    "tags": [],
    "cell_id": "00029-614eed9f-dd9f-4e12-a72b-8060304a355c",
    "deepnote_to_be_reexecuted": false,
    "source_hash": "a38159fd",
    "execution_start": 1642954244882,
    "execution_millis": 34,
    "deepnote_app_coordinates": {
     "x": 0,
     "y": 168,
     "w": 12,
     "h": 5
    },
    "deepnote_cell_type": "code",
    "deepnote_cell_height": 518
   },
   "source": "data[['baseline_average', 'update_average', 'diff_average']].describe()",
   "execution_count": null,
   "outputs": [
    {
     "output_type": "execute_result",
     "execution_count": 16,
     "data": {
      "application/vnd.deepnote.dataframe.v3+json": {
       "column_count": 3,
       "row_count": 8,
       "columns": [
        {
         "name": "baseline_average",
         "dtype": "float64",
         "stats": {
          "unique_count": 8,
          "nan_count": 0,
          "min": "0.0",
          "max": "983155.0",
          "histogram": [
           {
            "bin_start": 0,
            "bin_end": 98315.5,
            "count": 7
           },
           {
            "bin_start": 98315.5,
            "bin_end": 196631,
            "count": 0
           },
           {
            "bin_start": 196631,
            "bin_end": 294946.5,
            "count": 0
           },
           {
            "bin_start": 294946.5,
            "bin_end": 393262,
            "count": 0
           },
           {
            "bin_start": 393262,
            "bin_end": 491577.5,
            "count": 0
           },
           {
            "bin_start": 491577.5,
            "bin_end": 589893,
            "count": 0
           },
           {
            "bin_start": 589893,
            "bin_end": 688208.5,
            "count": 0
           },
           {
            "bin_start": 688208.5,
            "bin_end": 786524,
            "count": 0
           },
           {
            "bin_start": 786524,
            "bin_end": 884839.5,
            "count": 0
           },
           {
            "bin_start": 884839.5,
            "bin_end": 983155,
            "count": 1
           }
          ]
         }
        },
        {
         "name": "update_average",
         "dtype": "float64",
         "stats": {
          "unique_count": 8,
          "nan_count": 0,
          "min": "125.0",
          "max": "1010893.0",
          "histogram": [
           {
            "bin_start": 125,
            "bin_end": 101201.8,
            "count": 6
           },
           {
            "bin_start": 101201.8,
            "bin_end": 202278.6,
            "count": 1
           },
           {
            "bin_start": 202278.6,
            "bin_end": 303355.4,
            "count": 0
           },
           {
            "bin_start": 303355.4,
            "bin_end": 404432.2,
            "count": 0
           },
           {
            "bin_start": 404432.2,
            "bin_end": 505509,
            "count": 0
           },
           {
            "bin_start": 505509,
            "bin_end": 606585.8,
            "count": 0
           },
           {
            "bin_start": 606585.8,
            "bin_end": 707662.6,
            "count": 0
           },
           {
            "bin_start": 707662.6,
            "bin_end": 808739.4,
            "count": 0
           },
           {
            "bin_start": 808739.4,
            "bin_end": 909816.2000000001,
            "count": 0
           },
           {
            "bin_start": 909816.2000000001,
            "bin_end": 1010893,
            "count": 1
           }
          ]
         }
        },
        {
         "name": "diff_average",
         "dtype": "float64",
         "stats": {
          "unique_count": 8,
          "nan_count": 0,
          "min": "24.0",
          "max": "49997.0",
          "histogram": [
           {
            "bin_start": 24,
            "bin_end": 5021.3,
            "count": 1
           },
           {
            "bin_start": 5021.3,
            "bin_end": 10018.6,
            "count": 0
           },
           {
            "bin_start": 10018.6,
            "bin_end": 15015.900000000001,
            "count": 2
           },
           {
            "bin_start": 15015.900000000001,
            "bin_end": 20013.2,
            "count": 1
           },
           {
            "bin_start": 20013.2,
            "bin_end": 25010.5,
            "count": 2
           },
           {
            "bin_start": 25010.5,
            "bin_end": 30007.800000000003,
            "count": 0
           },
           {
            "bin_start": 30007.800000000003,
            "bin_end": 35005.1,
            "count": 1
           },
           {
            "bin_start": 35005.1,
            "bin_end": 40002.4,
            "count": 0
           },
           {
            "bin_start": 40002.4,
            "bin_end": 44999.700000000004,
            "count": 0
           },
           {
            "bin_start": 44999.700000000004,
            "bin_end": 49997,
            "count": 1
           }
          ]
         }
        },
        {
         "name": "_deepnote_index_column",
         "dtype": "object"
        }
       ],
       "rows": [
        {
         "baseline_average": 13486,
         "update_average": 13486,
         "diff_average": 13486,
         "_deepnote_index_column": "count"
        },
        {
         "baseline_average": 67267.58469894706,
         "update_average": 92166.98009046419,
         "diff_average": 24899.39539151713,
         "_deepnote_index_column": "mean"
        },
        {
         "baseline_average": 50685.50690691765,
         "update_average": 52212.86427696471,
         "diff_average": 12495.931401445903,
         "_deepnote_index_column": "std"
        },
        {
         "baseline_average": 0,
         "update_average": 125,
         "diff_average": 24,
         "_deepnote_index_column": "min"
        },
        {
         "baseline_average": 31090.375,
         "update_average": 55919.875,
         "diff_average": 15525.25,
         "_deepnote_index_column": "25%"
        },
        {
         "baseline_average": 59717.5,
         "update_average": 84646,
         "diff_average": 24939.333333333336,
         "_deepnote_index_column": "50%"
        },
        {
         "baseline_average": 92238.25,
         "update_average": 119044.125,
         "diff_average": 34416.75,
         "_deepnote_index_column": "75%"
        },
        {
         "baseline_average": 983155,
         "update_average": 1010893,
         "diff_average": 49997,
         "_deepnote_index_column": "max"
        }
       ]
      },
      "text/plain": "       baseline_average  update_average  diff_average\ncount      13486.000000    1.348600e+04  13486.000000\nmean       67267.584699    9.216698e+04  24899.395392\nstd        50685.506907    5.221286e+04  12495.931401\nmin            0.000000    1.250000e+02     24.000000\n25%        31090.375000    5.591988e+04  15525.250000\n50%        59717.500000    8.464600e+04  24939.333333\n75%        92238.250000    1.190441e+05  34416.750000\nmax       983155.000000    1.010893e+06  49997.000000",
      "text/html": "<div>\n<style scoped>\n    .dataframe tbody tr th:only-of-type {\n        vertical-align: middle;\n    }\n\n    .dataframe tbody tr th {\n        vertical-align: top;\n    }\n\n    .dataframe thead th {\n        text-align: right;\n    }\n</style>\n<table border=\"1\" class=\"dataframe\">\n  <thead>\n    <tr style=\"text-align: right;\">\n      <th></th>\n      <th>baseline_average</th>\n      <th>update_average</th>\n      <th>diff_average</th>\n    </tr>\n  </thead>\n  <tbody>\n    <tr>\n      <th>count</th>\n      <td>13486.000000</td>\n      <td>1.348600e+04</td>\n      <td>13486.000000</td>\n    </tr>\n    <tr>\n      <th>mean</th>\n      <td>67267.584699</td>\n      <td>9.216698e+04</td>\n      <td>24899.395392</td>\n    </tr>\n    <tr>\n      <th>std</th>\n      <td>50685.506907</td>\n      <td>5.221286e+04</td>\n      <td>12495.931401</td>\n    </tr>\n    <tr>\n      <th>min</th>\n      <td>0.000000</td>\n      <td>1.250000e+02</td>\n      <td>24.000000</td>\n    </tr>\n    <tr>\n      <th>25%</th>\n      <td>31090.375000</td>\n      <td>5.591988e+04</td>\n      <td>15525.250000</td>\n    </tr>\n    <tr>\n      <th>50%</th>\n      <td>59717.500000</td>\n      <td>8.464600e+04</td>\n      <td>24939.333333</td>\n    </tr>\n    <tr>\n      <th>75%</th>\n      <td>92238.250000</td>\n      <td>1.190441e+05</td>\n      <td>34416.750000</td>\n    </tr>\n    <tr>\n      <th>max</th>\n      <td>983155.000000</td>\n      <td>1.010893e+06</td>\n      <td>49997.000000</td>\n    </tr>\n  </tbody>\n</table>\n</div>"
     },
     "metadata": {}
    }
   ]
  },
  {
   "cell_type": "markdown",
   "source": "**Table 3: a summary of the statistics related to the averages of pooled motorcycles.**  ",
   "metadata": {
    "tags": [],
    "cell_id": "00031-bb9782d0-bbf5-4c35-bbe2-bb7a7a4d6937",
    "deepnote_app_coordinates": {
     "x": 0,
     "y": 819,
     "w": 12,
     "h": 5
    },
    "deepnote_cell_type": "markdown",
    "deepnote_cell_height": 52.399993896484375
   }
  },
  {
   "cell_type": "markdown",
   "source": "#### 3.2. **Discuss**: Propose another way of aggregating distinct motorcycles from a single policy. Point out a way in which this aggregation may be either better or worse than taking the average for the purpose of comparing the two scenarios in the study (sign at the top vs. sign at the bottom).\n\nWe could use **max** instead of the mean, which has potential advantages and disadvatanges that we will discuss below. However, we want to start this discussion by our conclusion, namely that based on the analysis of this particular dataset, **using the mean seems the best option**.\n\nSeemingly, there are intuitive reasons for why using **max** could be a good idea, in a hypothetical scenario. However, it turns out that in our case **these ideas are not supported by actual data**.\n\nIn particular, it would seem reasonable to assume that many people who own multiple motorcycles have at least one motorcycle that is barely used at all. They are unlikely to cheat on such motorcycles, because there is not much to gain by cheating. However, these unused motorcycles will be included in the mean and will thus drag it down and drag down the difference between cheaters and non-cheaters.\nConversely, this people would tend to use one single motorcycle more than the others and would be motivated to cheat more on it as the potential pay-off is greater. Using the max would thus eliminate the mitigation of unused motorcycles and preserve cheating-originated differences, putting more in evidence the dishonesty we want to study. \n\nA potential disadvantage of this approach, common also to the mean, would be that people with more motorcycles might instead use them equally (which is the case for our data), while a person with a single motorcycle will use only one. Hence, the person with a single motorcycle might have a higher kilometrage difference than the one relative to the max motorcycle of a person with multiple motorcycles, since their traveled kilometers in a year would be distributed among multiple vehicles. This could introduce a distortion into our data where the average difference of a policy would be affected by its number of motorcycles.\n\nNonetheless, looking at the data, we can see that **both the advantages and the disadvantage are disproved** in our study. It is in fact true that people with multiples motorcycles do not tend to use one motorcycle much more than the others, as can be seen from **Figure 3**. At the same time, though, **Table 3** shows that vehicles coming from policies with multiple motorcycles share on average the same kilometrage values as vehicles coming from policies with only one motorcycle, so it is not true that the same traveled kilometers tend to be distributed among the different vehicles of a policy. \n\nIn conclusion, in our particular dataset, potential advantages and disadvantages do not seem to be very pronounced, leading us to conclude that both using **max** and **mean** **would lead to a similar effect**, with a slight bias in max as policies with a bigger number of motorcycles will be likely to have larger kilometrages, since having more \"choice\" in picking the max the probability of obtaining a higher value is higher.",
   "metadata": {
    "cell_id": "00030-8e8c1825-e260-4512-8ef9-10a50cc12188",
    "deepnote_app_coordinates": {
     "x": 0,
     "y": 174,
     "w": 12,
     "h": 5
    },
    "deepnote_cell_type": "markdown",
    "deepnote_cell_height": 744
   }
  },
  {
   "cell_type": "code",
   "metadata": {
    "tags": [],
    "cell_id": "00030-4b4b1f63-764a-4607-8c62-eb3a5f9a011f",
    "deepnote_to_be_reexecuted": false,
    "source_hash": "f01cc690",
    "execution_start": 1642954244928,
    "execution_millis": 851,
    "deepnote_app_coordinates": {
     "x": 0,
     "y": 180,
     "w": 12,
     "h": 5
    },
    "deepnote_cell_type": "code",
    "deepnote_cell_height": 573,
    "deepnote_output_heights": [
     332
    ]
   },
   "source": "fig, ax = plt.subplots(1, 3, sharex=True, figsize=(14, 5))\nfor i in range(1, 4):\n    data_motor = data[data.motorcycle_count == i+1]\n    diffs = data_motor[update_columns].set_axis([1, 2, 3, 4], axis=1) - data_motor[baseline_columns].set_axis([1, 2, 3, 4], axis=1)\n    sns.histplot(diffs.max(axis=1) / diffs.sum(axis=1), ax=ax[i-1], alpha=0.7, color=COLOR_NEUTRAL)\n    ax[i-1].set_title(f'Policies with {i+1} motorcycles')\n \nfig.supxlabel('Max used motorcycle km difference / Total km difference')\nfig.supylabel('Count');",
   "execution_count": null,
   "outputs": [
    {
     "data": {
      "text/plain": "<Figure size 1008x360 with 3 Axes>",
      "image/png": "[encoded data removed]"
     },
     "metadata": {
      "needs_background": "light",
      "image/png": {
       "width": 901,
       "height": 343
      }
     },
     "output_type": "display_data"
    }
   ]
  },
  {
   "cell_type": "markdown",
   "source": "**Figure 3: Contribution (ratio) of the most used motorcycle to the total kilometrage difference within a policy.**  \nIf the distributions plotted here have a large peak near 1, many customers would use one motorcycle significantly more than the other motors. However, the plots show that in the majority of policies with multiple motorcycles there is not a single motorcycle that have a significantly higher usage than the others, for any number of motorcycles. All motorcycles tend thus to be used almost equally, or at least their kilometrages have the same order of magnitude.",
   "metadata": {
    "tags": [],
    "cell_id": "00031-af6856c7-d150-4e35-8ab2-803c33a252aa",
    "deepnote_app_coordinates": {
     "x": 0,
     "y": 186,
     "w": 12,
     "h": 5
    },
    "deepnote_cell_type": "markdown",
    "deepnote_cell_height": 142
   }
  },
  {
   "cell_type": "code",
   "metadata": {
    "tags": [],
    "cell_id": "00032-a2908a5a-cc59-401f-bc3c-31b13e488fe0",
    "deepnote_to_be_reexecuted": false,
    "source_hash": "4f006765",
    "execution_start": 1642954245785,
    "execution_millis": 83,
    "deepnote_app_coordinates": {
     "x": 0,
     "y": 192,
     "w": 12,
     "h": 5
    },
    "deepnote_cell_type": "code",
    "deepnote_cell_height": 354
   },
   "source": "data.groupby('motorcycle_count').diff_average.describe()",
   "execution_count": null,
   "outputs": [
    {
     "output_type": "execute_result",
     "execution_count": 18,
     "data": {
      "application/vnd.deepnote.dataframe.v3+json": {
       "column_count": 8,
       "row_count": 4,
       "columns": [
        {
         "name": "count",
         "dtype": "float64",
         "stats": {
          "unique_count": 4,
          "nan_count": 0,
          "min": "44.0",
          "max": "7059.0",
          "histogram": [
           {
            "bin_start": 44,
            "bin_end": 745.5,
            "count": 2
           },
           {
            "bin_start": 745.5,
            "bin_end": 1447,
            "count": 0
           },
           {
            "bin_start": 1447,
            "bin_end": 2148.5,
            "count": 0
           },
           {
            "bin_start": 2148.5,
            "bin_end": 2850,
            "count": 0
           },
           {
            "bin_start": 2850,
            "bin_end": 3551.5,
            "count": 0
           },
           {
            "bin_start": 3551.5,
            "bin_end": 4253,
            "count": 0
           },
           {
            "bin_start": 4253,
            "bin_end": 4954.5,
            "count": 0
           },
           {
            "bin_start": 4954.5,
            "bin_end": 5656,
            "count": 1
           },
           {
            "bin_start": 5656,
            "bin_end": 6357.5,
            "count": 0
           },
           {
            "bin_start": 6357.5,
            "bin_end": 7059,
            "count": 1
           }
          ]
         }
        },
        {
         "name": "mean",
         "dtype": "float64",
         "stats": {
          "unique_count": 4,
          "nan_count": 0,
          "min": "24748.38249043774",
          "max": "25204.261224489797",
          "histogram": [
           {
            "bin_start": 24748.38249043774,
            "bin_end": 24793.970363842946,
            "count": 2
           },
           {
            "bin_start": 24793.970363842946,
            "bin_end": 24839.55823724815,
            "count": 0
           },
           {
            "bin_start": 24839.55823724815,
            "bin_end": 24885.146110653357,
            "count": 0
           },
           {
            "bin_start": 24885.146110653357,
            "bin_end": 24930.733984058563,
            "count": 0
           },
           {
            "bin_start": 24930.733984058563,
            "bin_end": 24976.32185746377,
            "count": 0
           },
           {
            "bin_start": 24976.32185746377,
            "bin_end": 25021.909730868974,
            "count": 0
           },
           {
            "bin_start": 25021.909730868974,
            "bin_end": 25067.49760427418,
            "count": 1
           },
           {
            "bin_start": 25067.49760427418,
            "bin_end": 25113.085477679386,
            "count": 0
           },
           {
            "bin_start": 25113.085477679386,
            "bin_end": 25158.67335108459,
            "count": 0
           },
           {
            "bin_start": 25158.67335108459,
            "bin_end": 25204.261224489797,
            "count": 1
           }
          ]
         }
        },
        {
         "name": "std",
         "dtype": "float64",
         "stats": {
          "unique_count": 4,
          "nan_count": 0,
          "min": "6326.624545054361",
          "max": "14382.04800736903",
          "histogram": [
           {
            "bin_start": 6326.624545054361,
            "bin_end": 7132.166891285828,
            "count": 1
           },
           {
            "bin_start": 7132.166891285828,
            "bin_end": 7937.709237517295,
            "count": 0
           },
           {
            "bin_start": 7937.709237517295,
            "bin_end": 8743.251583748763,
            "count": 1
           },
           {
            "bin_start": 8743.251583748763,
            "bin_end": 9548.79392998023,
            "count": 0
           },
           {
            "bin_start": 9548.79392998023,
            "bin_end": 10354.336276211696,
            "count": 1
           },
           {
            "bin_start": 10354.336276211696,
            "bin_end": 11159.878622443162,
            "count": 0
           },
           {
            "bin_start": 11159.878622443162,
            "bin_end": 11965.420968674629,
            "count": 0
           },
           {
            "bin_start": 11965.420968674629,
            "bin_end": 12770.963314906097,
            "count": 0
           },
           {
            "bin_start": 12770.963314906097,
            "bin_end": 13576.505661137562,
            "count": 0
           },
           {
            "bin_start": 13576.505661137562,
            "bin_end": 14382.04800736903,
            "count": 1
           }
          ]
         }
        },
        {
         "name": "min",
         "dtype": "float64",
         "stats": {
          "unique_count": 4,
          "nan_count": 0,
          "min": "24.0",
          "max": "6679.25",
          "histogram": [
           {
            "bin_start": 24,
            "bin_end": 689.525,
            "count": 2
           },
           {
            "bin_start": 689.525,
            "bin_end": 1355.05,
            "count": 0
           },
           {
            "bin_start": 1355.05,
            "bin_end": 2020.5749999999998,
            "count": 0
           },
           {
            "bin_start": 2020.5749999999998,
            "bin_end": 2686.1,
            "count": 0
           },
           {
            "bin_start": 2686.1,
            "bin_end": 3351.625,
            "count": 1
           },
           {
            "bin_start": 3351.625,
            "bin_end": 4017.1499999999996,
            "count": 0
           },
           {
            "bin_start": 4017.1499999999996,
            "bin_end": 4682.675,
            "count": 0
           },
           {
            "bin_start": 4682.675,
            "bin_end": 5348.2,
            "count": 0
           },
           {
            "bin_start": 5348.2,
            "bin_end": 6013.724999999999,
            "count": 0
           },
           {
            "bin_start": 6013.724999999999,
            "bin_end": 6679.25,
            "count": 1
           }
          ]
         }
        },
        {
         "name": "25%",
         "dtype": "float64",
         "stats": {
          "unique_count": 4,
          "nan_count": 0,
          "min": "12131.5",
          "max": "20796.5625",
          "histogram": [
           {
            "bin_start": 12131.5,
            "bin_end": 12998.00625,
            "count": 1
           },
           {
            "bin_start": 12998.00625,
            "bin_end": 13864.5125,
            "count": 0
           },
           {
            "bin_start": 13864.5125,
            "bin_end": 14731.01875,
            "count": 0
           },
           {
            "bin_start": 14731.01875,
            "bin_end": 15597.525,
            "count": 0
           },
           {
            "bin_start": 15597.525,
            "bin_end": 16464.03125,
            "count": 0
           },
           {
            "bin_start": 16464.03125,
            "bin_end": 17330.5375,
            "count": 0
           },
           {
            "bin_start": 17330.5375,
            "bin_end": 18197.04375,
            "count": 1
           },
           {
            "bin_start": 18197.04375,
            "bin_end": 19063.55,
            "count": 0
           },
           {
            "bin_start": 19063.55,
            "bin_end": 19930.05625,
            "count": 1
           },
           {
            "bin_start": 19930.05625,
            "bin_end": 20796.5625,
            "count": 1
           }
          ]
         }
        },
        {
         "name": "50%",
         "dtype": "float64",
         "stats": {
          "unique_count": 4,
          "nan_count": 0,
          "min": "23961.375",
          "max": "25067.75",
          "histogram": [
           {
            "bin_start": 23961.375,
            "bin_end": 24072.0125,
            "count": 1
           },
           {
            "bin_start": 24072.0125,
            "bin_end": 24182.65,
            "count": 0
           },
           {
            "bin_start": 24182.65,
            "bin_end": 24293.2875,
            "count": 0
           },
           {
            "bin_start": 24293.2875,
            "bin_end": 24403.925,
            "count": 0
           },
           {
            "bin_start": 24403.925,
            "bin_end": 24514.5625,
            "count": 0
           },
           {
            "bin_start": 24514.5625,
            "bin_end": 24625.2,
            "count": 0
           },
           {
            "bin_start": 24625.2,
            "bin_end": 24735.8375,
            "count": 0
           },
           {
            "bin_start": 24735.8375,
            "bin_end": 24846.475,
            "count": 1
           },
           {
            "bin_start": 24846.475,
            "bin_end": 24957.1125,
            "count": 1
           },
           {
            "bin_start": 24957.1125,
            "bin_end": 25067.75,
            "count": 1
           }
          ]
         }
        },
        {
         "name": "75%",
         "dtype": "float64",
         "stats": {
          "unique_count": 4,
          "nan_count": 0,
          "min": "28247.375",
          "max": "37119.5",
          "histogram": [
           {
            "bin_start": 28247.375,
            "bin_end": 29134.5875,
            "count": 1
           },
           {
            "bin_start": 29134.5875,
            "bin_end": 30021.8,
            "count": 0
           },
           {
            "bin_start": 30021.8,
            "bin_end": 30909.0125,
            "count": 1
           },
           {
            "bin_start": 30909.0125,
            "bin_end": 31796.225,
            "count": 0
           },
           {
            "bin_start": 31796.225,
            "bin_end": 32683.4375,
            "count": 1
           },
           {
            "bin_start": 32683.4375,
            "bin_end": 33570.65,
            "count": 0
           },
           {
            "bin_start": 33570.65,
            "bin_end": 34457.8625,
            "count": 0
           },
           {
            "bin_start": 34457.8625,
            "bin_end": 35345.075,
            "count": 0
           },
           {
            "bin_start": 35345.075,
            "bin_end": 36232.2875,
            "count": 0
           },
           {
            "bin_start": 36232.2875,
            "bin_end": 37119.5,
            "count": 1
           }
          ]
         }
        },
        {
         "name": "max",
         "dtype": "float64",
         "stats": {
          "unique_count": 4,
          "nan_count": 0,
          "min": "41667.5",
          "max": "49997.0",
          "histogram": [
           {
            "bin_start": 41667.5,
            "bin_end": 42500.45,
            "count": 1
           },
           {
            "bin_start": 42500.45,
            "bin_end": 43333.4,
            "count": 0
           },
           {
            "bin_start": 43333.4,
            "bin_end": 44166.35,
            "count": 0
           },
           {
            "bin_start": 44166.35,
            "bin_end": 44999.3,
            "count": 0
           },
           {
            "bin_start": 44999.3,
            "bin_end": 45832.25,
            "count": 0
           },
           {
            "bin_start": 45832.25,
            "bin_end": 46665.2,
            "count": 1
           },
           {
            "bin_start": 46665.2,
            "bin_end": 47498.15,
            "count": 0
           },
           {
            "bin_start": 47498.15,
            "bin_end": 48331.1,
            "count": 0
           },
           {
            "bin_start": 48331.1,
            "bin_end": 49164.05,
            "count": 0
           },
           {
            "bin_start": 49164.05,
            "bin_end": 49997,
            "count": 2
           }
          ]
         }
        },
        {
         "name": "_deepnote_index_column",
         "dtype": "int64"
        }
       ],
       "rows": [
        {
         "count": 7059,
         "mean": 24748.38249043774,
         "std": 14382.04800736903,
         "min": 24,
         "25%": 12131.5,
         "50%": 24742,
         "75%": 37119.5,
         "max": 49997,
         "_deepnote_index_column": 1
        },
        {
         "count": 5648,
         "mean": 25049.428824362607,
         "std": 10265.552324233922,
         "min": 359.5,
         "25%": 17736.625,
         "50%": 25067.75,
         "75%": 32578.625,
         "max": 49814.5,
         "_deepnote_index_column": 2
        },
        {
         "count": 735,
         "mean": 25204.261224489797,
         "std": 8136.427999110634,
         "min": 2981.333333333332,
         "25%": 19317.833333333325,
         "50%": 24865.333333333332,
         "75%": 30676.166666666668,
         "max": 46307,
         "_deepnote_index_column": 3
        },
        {
         "count": 44,
         "mean": 24775.1875,
         "std": 6326.624545054361,
         "min": 6679.25,
         "25%": 20796.5625,
         "50%": 23961.375,
         "75%": 28247.375,
         "max": 41667.5,
         "_deepnote_index_column": 4
        }
       ]
      },
      "text/plain": "                   count          mean           std          min  \\\nmotorcycle_count                                                    \n1                 7059.0  24748.382490  14382.048007    24.000000   \n2                 5648.0  25049.428824  10265.552324   359.500000   \n3                  735.0  25204.261224   8136.427999  2981.333333   \n4                   44.0  24775.187500   6326.624545  6679.250000   \n\n                           25%           50%           75%      max  \nmotorcycle_count                                                     \n1                 12131.500000  24742.000000  37119.500000  49997.0  \n2                 17736.625000  25067.750000  32578.625000  49814.5  \n3                 19317.833333  24865.333333  30676.166667  46307.0  \n4                 20796.562500  23961.375000  28247.375000  41667.5  ",
      "text/html": "<div>\n<style scoped>\n    .dataframe tbody tr th:only-of-type {\n        vertical-align: middle;\n    }\n\n    .dataframe tbody tr th {\n        vertical-align: top;\n    }\n\n    .dataframe thead th {\n        text-align: right;\n    }\n</style>\n<table border=\"1\" class=\"dataframe\">\n  <thead>\n    <tr style=\"text-align: right;\">\n      <th></th>\n      <th>count</th>\n      <th>mean</th>\n      <th>std</th>\n      <th>min</th>\n      <th>25%</th>\n      <th>50%</th>\n      <th>75%</th>\n      <th>max</th>\n    </tr>\n    <tr>\n      <th>motorcycle_count</th>\n      <th></th>\n      <th></th>\n      <th></th>\n      <th></th>\n      <th></th>\n      <th></th>\n      <th></th>\n      <th></th>\n    </tr>\n  </thead>\n  <tbody>\n    <tr>\n      <th>1</th>\n      <td>7059.0</td>\n      <td>24748.382490</td>\n      <td>14382.048007</td>\n      <td>24.000000</td>\n      <td>12131.500000</td>\n      <td>24742.000000</td>\n      <td>37119.500000</td>\n      <td>49997.0</td>\n    </tr>\n    <tr>\n      <th>2</th>\n      <td>5648.0</td>\n      <td>25049.428824</td>\n      <td>10265.552324</td>\n      <td>359.500000</td>\n      <td>17736.625000</td>\n      <td>25067.750000</td>\n      <td>32578.625000</td>\n      <td>49814.5</td>\n    </tr>\n    <tr>\n      <th>3</th>\n      <td>735.0</td>\n      <td>25204.261224</td>\n      <td>8136.427999</td>\n      <td>2981.333333</td>\n      <td>19317.833333</td>\n      <td>24865.333333</td>\n      <td>30676.166667</td>\n      <td>46307.0</td>\n    </tr>\n    <tr>\n      <th>4</th>\n      <td>44.0</td>\n      <td>24775.187500</td>\n      <td>6326.624545</td>\n      <td>6679.250000</td>\n      <td>20796.562500</td>\n      <td>23961.375000</td>\n      <td>28247.375000</td>\n      <td>41667.5</td>\n    </tr>\n  </tbody>\n</table>\n</div>"
     },
     "metadata": {}
    }
   ]
  },
  {
   "cell_type": "markdown",
   "source": "**Table 4: Descriptive statistics of average km differences in policies with different number of motorcycles.**  \nThe table shows means almost equal for each set of policies; hence, the average kilometrage per motorcycle is not affected by the number of motorcycles in the policy it comes from.",
   "metadata": {
    "tags": [],
    "cell_id": "00033-0a3958a6-e393-4036-8fb6-b837892fed1a",
    "deepnote_app_coordinates": {
     "x": 0,
     "y": 198,
     "w": 12,
     "h": 5
    },
    "deepnote_cell_type": "markdown",
    "deepnote_cell_height": 97.19999694824219
   }
  },
  {
   "cell_type": "markdown",
   "source": "#### 3.3 Number of motorcycles insured",
   "metadata": {
    "cell_id": "00031-0bcbe851-6b36-454b-ab63-346a16573ecb",
    "deepnote_app_coordinates": {
     "x": 0,
     "y": 204,
     "w": 12,
     "h": 5
    },
    "deepnote_cell_type": "markdown",
    "deepnote_cell_height": 54
   }
  },
  {
   "cell_type": "code",
   "metadata": {
    "cell_id": "00032-336a2ca0-386c-4cd9-9d16-f56cb09312b7",
    "deepnote_to_be_reexecuted": false,
    "source_hash": "f64bf2d3",
    "execution_start": 1642954245873,
    "execution_millis": 501,
    "deepnote_app_coordinates": {
     "x": 0,
     "y": 210,
     "w": 12,
     "h": 5
    },
    "deepnote_cell_type": "code",
    "deepnote_cell_height": 505,
    "deepnote_output_heights": [
     282
    ]
   },
   "source": "fig = plt.figure(figsize=(5,4))\nsns.countplot(x='motorcycle_count', data=data, palette=CMAP)\nplt.yscale('log')\nplt.xlabel('Number of motorcycles')\nplt.ylabel('Number of policies')\nplt.yticks([1e2,1e3,1e4])\nplt.tight_layout()\nplt.show()",
   "execution_count": null,
   "outputs": [
    {
     "data": {
      "text/plain": "<Figure size 360x288 with 1 Axes>",
      "image/png": "[encoded data removed]"
     },
     "metadata": {
      "needs_background": "light",
      "image/png": {
       "width": 352,
       "height": 280
      }
     },
     "output_type": "display_data"
    }
   ]
  },
  {
   "cell_type": "markdown",
   "source": "**Figure 4: The number of policies per motorcycle number.**  \nThe number of policies decreases faster than exponentially with the motorcycle number. The majority of the contracts have either one or 2 motorcycles insured, while only a few contracts have 4 motorcycles.",
   "metadata": {
    "cell_id": "00033-e42b97fc-c50d-4cae-ac87-c54febd0f1dc",
    "deepnote_app_coordinates": {
     "x": 0,
     "y": 216,
     "w": 12,
     "h": 5
    },
    "deepnote_cell_type": "markdown",
    "deepnote_cell_height": 97.19999694824219
   }
  },
  {
   "cell_type": "markdown",
   "source": "#### 3.4 Calculate the average of mean kilometrages pooled across motorcycles",
   "metadata": {
    "cell_id": "00034-2eed060c-e490-463a-b2a7-eb79593023da",
    "deepnote_app_coordinates": {
     "x": 0,
     "y": 222,
     "w": 12,
     "h": 5
    },
    "deepnote_cell_type": "markdown",
    "deepnote_cell_height": 54
   }
  },
  {
   "cell_type": "code",
   "metadata": {
    "cell_id": "00035-3d26e227-0c21-448c-a2be-12fd3bd6fa7e",
    "deepnote_to_be_reexecuted": false,
    "source_hash": "78eae54e",
    "execution_start": 1642954246369,
    "execution_millis": 13,
    "deepnote_app_coordinates": {
     "x": 0,
     "y": 228,
     "w": 12,
     "h": 5
    },
    "deepnote_cell_type": "code",
    "deepnote_cell_height": 148.39999389648438
   },
   "source": "stats_pooled = data['update_average'].agg([np.mean, np.std])\nprint('Average pooled: %d km\\nStd pooled: %d km'%(stats_pooled[0],stats_pooled[1]))",
   "execution_count": null,
   "outputs": [
    {
     "name": "stdout",
     "text": "Average pooled: 92166 km\nStd pooled: 52212 km\n",
     "output_type": "stream"
    }
   ]
  },
  {
   "cell_type": "markdown",
   "source": "#### 3.5 Calculate the average kilometrage per motorcycle",
   "metadata": {
    "cell_id": "00037-127d47d5-951e-42dd-b2e1-18b717672a72",
    "deepnote_app_coordinates": {
     "x": 0,
     "y": 234,
     "w": 12,
     "h": 5
    },
    "deepnote_cell_type": "markdown",
    "deepnote_cell_height": 54
   }
  },
  {
   "cell_type": "code",
   "metadata": {
    "cell_id": "00038-f21c6cdf-a011-48ac-8152-3e452f08e00f",
    "deepnote_to_be_reexecuted": false,
    "source_hash": "1abbea32",
    "execution_start": 1642954246388,
    "execution_millis": 22,
    "deepnote_app_coordinates": {
     "x": 0,
     "y": 240,
     "w": 12,
     "h": 5
    },
    "deepnote_cell_type": "code",
    "deepnote_cell_height": 166.39999389648438
   },
   "source": "data_per_motor = data[data.motorcycle_count == 4][update_columns].melt().value\nstats_per_motor = data_per_motor.agg([np.mean, np.std])\nprint('Average per motor (4 motors only): %d km\\nStd per motor (4 motors only): %d km'%(stats_per_motor[0], stats_per_motor[1]))",
   "execution_count": null,
   "outputs": [
    {
     "name": "stdout",
     "text": "Average per motor (4 motors only): 113443 km\nStd per motor (4 motors only): 83148 km\n",
     "output_type": "stream"
    }
   ]
  },
  {
   "cell_type": "markdown",
   "source": "#### 3.6. **Discuss:** To analyze whether signing at the top decreases dishonesty, we could consider the data in different ways. We could first calculate the average value per motorcycle within each policy and have one data point per policy  **or** we could analyze the data at the motorcycle level and have one data point per motorcycle in the dataset. How may this decision influence the results of the study?",
   "metadata": {
    "cell_id": "00042-dcd8a57c-436f-46aa-904e-c0f90440bcff",
    "deepnote_app_coordinates": {
     "x": 0,
     "y": 246,
     "w": 12,
     "h": 5
    },
    "deepnote_cell_type": "markdown",
    "deepnote_cell_height": 126
   }
  },
  {
   "cell_type": "code",
   "metadata": {
    "cell_id": "00036-60434f1b-f158-440f-94c0-9f96f532186d",
    "deepnote_to_be_reexecuted": false,
    "source_hash": "53d74df7",
    "execution_start": 1642954246415,
    "execution_millis": 24,
    "deepnote_app_coordinates": {
     "x": 0,
     "y": 252,
     "w": 12,
     "h": 5
    },
    "deepnote_cell_type": "code",
    "deepnote_cell_height": 148.39999389648438
   },
   "source": "stats_pooled = data[data.motorcycle_count == 4]['update_average'].agg([np.mean, np.std])\nprint('Average pooled (4 motors only): %d km\\nStd pooled (4 motors only): %d km'%(stats_pooled[0],stats_pooled[1]))",
   "execution_count": null,
   "outputs": [
    {
     "name": "stdout",
     "text": "Average pooled (4 motors only): 113443 km\nStd pooled (4 motors only): 52853 km\n",
     "output_type": "stream"
    }
   ]
  },
  {
   "cell_type": "code",
   "metadata": {
    "tags": [],
    "cell_id": "00043-947ba363-98ad-4db5-b936-51bac5d714d3",
    "deepnote_to_be_reexecuted": false,
    "source_hash": "a425908d",
    "execution_start": 1642954246452,
    "execution_millis": 144,
    "deepnote_app_coordinates": {
     "x": 0,
     "y": 258,
     "w": 12,
     "h": 5
    },
    "deepnote_cell_type": "code",
    "deepnote_cell_height": 166.39999389648438
   },
   "source": "data_per_motor = data[update_columns].melt().value\nstats_per_motor = data_per_motor.agg([np.mean, np.std])\nprint('Average per motor: %d km\\nStd per motor: %d km'%(stats_per_motor[0], stats_per_motor[1]))",
   "execution_count": null,
   "outputs": [
    {
     "name": "stdout",
     "text": "Average per motor: 92328 km\nStd per motor: 59958 km\n",
     "output_type": "stream"
    }
   ]
  },
  {
   "cell_type": "markdown",
   "source": "The averages resulting from the two methods are mathematically equivalent on a subset of policies with the same number of motorcycles. In fact, using the *pooled* method (average of averages within policies) only on contracts with 4 insured motorcycles we obtain exactly the same mean of the *per motor* method (average of individual motorcycles) in 3.5. Vice versa, even though not anymore equivalent, using the *per motor* method on all the motorcycles we obtain an average very close to the one of 3.4. \nThe higher average obtained in 3.5, therefore, is not due to a difference in the used method but in an intrinsic property of the policies with 4 motorcycles, while the two methods differ consistently only in the computation of the standard deviation. \n\nThis is explained by the fact that in the *pooled* method we are first aggregating different motorcycles at the policy level and only then performing calculations on all the points thus obtained. The first step of aggregation, consequently, reduces the dispersion within policies, mitigating the impact of values far from the global average. On the other hand, in the *per motor* method motorcycles are considered individually and their variability is naturally higher.",
   "metadata": {
    "tags": [],
    "cell_id": "00044-9aef5edf-671e-46ef-93db-3b6665193370",
    "deepnote_app_coordinates": {
     "x": 0,
     "y": 264,
     "w": 12,
     "h": 5
    },
    "deepnote_cell_type": "markdown",
    "deepnote_cell_height": 268
   }
  },
  {
   "cell_type": "markdown",
   "source": "### Task 4 — 18pts\n\nNow that we have compressed the kilometrage reported in each contract into a single number, it is time to analyze the \nmillion-dollar question: *does signing at the top decrease dishonesty?*\n\n1. Considering the updated contracts, calculate the mean and the standard deviation of the average kilometrage in a) policies where the signing was done at the bottom; and b) policies where the signing was done at the top. Additionally plot the two kilometrage distributions.\n2. Determine whether the difference between the two scenarios mentioned in 1. is statistically significant.\n3. **Discuss:** Recall that the assignment of the different contracts (*sign at the top* vs. *sign at the bottom*) was done at random. According to the results in 1. and 2., does signing at the top decrease dishonesty? \n4.  **Discuss:** Given that no intervention was performed in the baseline contract (i.e., everyone signed at the bottom). Would you expect any differences between the average values between *sign at the top* vs. *sign at the bottom* conditions for the baseline contract? Note that this is related to columns `baseline_motorcycle[1-4]`.\n5. Calculate the mean and the standard deviation for the baseline contracts of the two groups (sign at the top vs. sign at the bottom). Additionally, plot the two kilometrage distributions.\n6. Determine whether the difference between the two scenarios mentioned in 5. is statistically significant.\n\n---\n\n**Hint:** Recall that the column `condition` encodes the experimental condition in which the customer fell when \nreporting the values shown in columns `update_motorcycle[1-4]`!\n\n**Hint:** To determine if the means of two sets of data are significantly different from each other, you may want to use\n the `ttest_ind` function implemented in the \n [scipy library](https://docs.scipy.org/doc/scipy/reference/generated/scipy.stats.ttest_ind.html). To learn more about \n Student's t-test, check out this [Wikipedia page](https://en.wikipedia.org/wiki/Student%27s_t-test).",
   "metadata": {
    "cell_id": "00043-3e245357-49e6-47d4-b5a6-2be67a548c26",
    "deepnote_app_coordinates": {
     "x": 0,
     "y": 270,
     "w": 12,
     "h": 5
    },
    "deepnote_cell_type": "markdown",
    "deepnote_cell_height": 539.2000122070312
   }
  },
  {
   "cell_type": "markdown",
   "source": "#### 4.1 Compare the 'sign top' and 'sign bottom' distributions in the updated contracts",
   "metadata": {
    "cell_id": "00044-ef0b4c47-4667-4c1b-9ff1-b541db4b1aea",
    "deepnote_app_coordinates": {
     "x": 0,
     "y": 276,
     "w": 12,
     "h": 5
    },
    "deepnote_cell_type": "markdown",
    "deepnote_cell_height": 54
   }
  },
  {
   "cell_type": "code",
   "metadata": {
    "cell_id": "00045-8a8c7bc1-a068-4171-b27f-91a38d17a8cf",
    "deepnote_to_be_reexecuted": false,
    "source_hash": "67878c5a",
    "execution_start": 1642954246534,
    "execution_millis": 90,
    "deepnote_app_coordinates": {
     "x": 0,
     "y": 282,
     "w": 12,
     "h": 5
    },
    "deepnote_cell_type": "code",
    "deepnote_cell_height": 272
   },
   "source": "data.groupby('condition').update_average.agg([np.mean, np.std])",
   "execution_count": null,
   "outputs": [
    {
     "output_type": "execute_result",
     "execution_count": 24,
     "data": {
      "application/vnd.deepnote.dataframe.v3+json": {
       "column_count": 2,
       "row_count": 2,
       "columns": [
        {
         "name": "mean",
         "dtype": "float64",
         "stats": {
          "unique_count": 2,
          "nan_count": 0,
          "min": "85794.61875274808",
          "max": "98692.362261744",
          "histogram": [
           {
            "bin_start": 85794.61875274808,
            "bin_end": 87084.39310364767,
            "count": 1
           },
           {
            "bin_start": 87084.39310364767,
            "bin_end": 88374.16745454726,
            "count": 0
           },
           {
            "bin_start": 88374.16745454726,
            "bin_end": 89663.94180544686,
            "count": 0
           },
           {
            "bin_start": 89663.94180544686,
            "bin_end": 90953.71615634645,
            "count": 0
           },
           {
            "bin_start": 90953.71615634645,
            "bin_end": 92243.49050724604,
            "count": 0
           },
           {
            "bin_start": 92243.49050724604,
            "bin_end": 93533.26485814563,
            "count": 0
           },
           {
            "bin_start": 93533.26485814563,
            "bin_end": 94823.03920904522,
            "count": 0
           },
           {
            "bin_start": 94823.03920904522,
            "bin_end": 96112.81355994481,
            "count": 0
           },
           {
            "bin_start": 96112.81355994481,
            "bin_end": 97402.5879108444,
            "count": 0
           },
           {
            "bin_start": 97402.5879108444,
            "bin_end": 98692.362261744,
            "count": 1
           }
          ]
         }
        },
        {
         "name": "std",
         "dtype": "float64",
         "stats": {
          "unique_count": 2,
          "nan_count": 0,
          "min": "51704.28907790214",
          "max": "51928.18154989139",
          "histogram": [
           {
            "bin_start": 51704.28907790214,
            "bin_end": 51726.678325101064,
            "count": 1
           },
           {
            "bin_start": 51726.678325101064,
            "bin_end": 51749.06757229999,
            "count": 0
           },
           {
            "bin_start": 51749.06757229999,
            "bin_end": 51771.45681949892,
            "count": 0
           },
           {
            "bin_start": 51771.45681949892,
            "bin_end": 51793.84606669784,
            "count": 0
           },
           {
            "bin_start": 51793.84606669784,
            "bin_end": 51816.23531389677,
            "count": 0
           },
           {
            "bin_start": 51816.23531389677,
            "bin_end": 51838.62456109569,
            "count": 0
           },
           {
            "bin_start": 51838.62456109569,
            "bin_end": 51861.013808294614,
            "count": 0
           },
           {
            "bin_start": 51861.013808294614,
            "bin_end": 51883.403055493545,
            "count": 0
           },
           {
            "bin_start": 51883.403055493545,
            "bin_end": 51905.79230269247,
            "count": 0
           },
           {
            "bin_start": 51905.79230269247,
            "bin_end": 51928.18154989139,
            "count": 1
           }
          ]
         }
        },
        {
         "name": "_deepnote_index_column",
         "dtype": "object"
        }
       ],
       "rows": [
        {
         "mean": 98692.362261744,
         "std": 51928.18154989139,
         "_deepnote_index_column": "Sign Bottom"
        },
        {
         "mean": 85794.61875274808,
         "std": 51704.28907790214,
         "_deepnote_index_column": "Sign Top"
        }
       ]
      },
      "text/plain": "                     mean           std\ncondition                              \nSign Bottom  98692.362262  51928.181550\nSign Top     85794.618753  51704.289078",
      "text/html": "<div>\n<style scoped>\n    .dataframe tbody tr th:only-of-type {\n        vertical-align: middle;\n    }\n\n    .dataframe tbody tr th {\n        vertical-align: top;\n    }\n\n    .dataframe thead th {\n        text-align: right;\n    }\n</style>\n<table border=\"1\" class=\"dataframe\">\n  <thead>\n    <tr style=\"text-align: right;\">\n      <th></th>\n      <th>mean</th>\n      <th>std</th>\n    </tr>\n    <tr>\n      <th>condition</th>\n      <th></th>\n      <th></th>\n    </tr>\n  </thead>\n  <tbody>\n    <tr>\n      <th>Sign Bottom</th>\n      <td>98692.362262</td>\n      <td>51928.181550</td>\n    </tr>\n    <tr>\n      <th>Sign Top</th>\n      <td>85794.618753</td>\n      <td>51704.289078</td>\n    </tr>\n  </tbody>\n</table>\n</div>"
     },
     "metadata": {}
    }
   ]
  },
  {
   "cell_type": "code",
   "metadata": {
    "cell_id": "00048-067e0224-3cfb-4f82-96c4-4724f31b5d3d",
    "deepnote_to_be_reexecuted": false,
    "source_hash": "484fdd4d",
    "execution_start": 1642954246623,
    "execution_millis": 2438,
    "deepnote_app_coordinates": {
     "x": 0,
     "y": 288,
     "w": 12,
     "h": 5
    },
    "deepnote_cell_type": "code",
    "deepnote_cell_height": 685,
    "deepnote_output_heights": [
     354
    ]
   },
   "source": "fig, ax = plt.subplots(1,2,figsize=(12,5), gridspec_kw={'width_ratios': [3, 1]})\n\n# Plot histograms\nsns.histplot(x='update_average', hue='condition', data=data[['update_average', 'condition']],  bins=200, ax=ax[0],palette=[COLOR_TOP,COLOR_BOTTOM])\nax[0].set_xlabel('Kilometrage [km]')\nax[0].set_title('A')\n\n# Plot barplot\nsns.barplot(x='condition', y='update_average', data = data[['update_average', 'condition']], ax=ax[1], palette=[COLOR_TOP,COLOR_BOTTOM]) \nax[1].set_ylabel('Kilometrage')\nax[1].set_title('B')\n\nplt.tight_layout()\nplt.show()",
   "execution_count": null,
   "outputs": [
    {
     "data": {
      "text/plain": "<Figure size 864x360 with 2 Axes>",
      "image/png": "[encoded data removed]"
     },
     "metadata": {
      "needs_background": "light",
      "image/png": {
       "width": 856,
       "height": 352
      }
     },
     "output_type": "display_data"
    }
   ]
  },
  {
   "cell_type": "markdown",
   "source": "**Figure 5: Comparison between kilometrages reported on top and at the bottom of the updated contract.**  \n**[A]** Histogram of the kilometrages reported on top (green) and at the bottom (orange) of the contract. **[B]** Bar heights indicate the mean of the groups, errorbars indicate the 95% non-parametric confidence interval.\n\nEven though the distributions of the two conditions show overlap, their 95% confidence intervals are well separated. This hints to a significant difference between the two conditions. To further quantify whether or not we can reject the null hypothesis - i.e., the mean values of the two groups are the same - the t-test is suitable.",
   "metadata": {
    "cell_id": "00049-70c831f9-45a8-4768-89c5-bce34d777ed9",
    "deepnote_app_coordinates": {
     "x": 0,
     "y": 294,
     "w": 12,
     "h": 5
    },
    "deepnote_cell_type": "markdown",
    "deepnote_cell_height": 178.39999389648438
   }
  },
  {
   "cell_type": "markdown",
   "source": "#### 4.2 Hypothesis testing: is the difference between Sign Top and Sign Bottom significant?",
   "metadata": {
    "cell_id": "00050-a93a6fe2-78ad-489d-bed3-97956e500729",
    "deepnote_app_coordinates": {
     "x": 0,
     "y": 300,
     "w": 12,
     "h": 5
    },
    "deepnote_cell_type": "markdown",
    "deepnote_cell_height": 54
   }
  },
  {
   "cell_type": "code",
   "metadata": {
    "cell_id": "00051-11f7cc21-4f56-47e3-adcd-4f9d978aa446",
    "deepnote_to_be_reexecuted": false,
    "source_hash": "247eae31",
    "execution_start": 1642954249005,
    "execution_millis": 101,
    "deepnote_app_coordinates": {
     "x": 0,
     "y": 306,
     "w": 12,
     "h": 5
    },
    "deepnote_cell_type": "code",
    "deepnote_cell_height": 129.1999969482422
   },
   "source": "[t,p] = stats.ttest_ind(data[data['condition'] == 'Sign Top'].update_average, data[data['condition'] == 'Sign Bottom'].update_average)\nprint('Outcome of the two-sided t-test: p=%.2e.'%p)",
   "execution_count": null,
   "outputs": [
    {
     "name": "stdout",
     "text": "Outcome of the two-sided t-test: p=5.44e-47.\n",
     "output_type": "stream"
    }
   ]
  },
  {
   "cell_type": "markdown",
   "source": "The difference is extremely significant (see 4.3 for discussion).",
   "metadata": {
    "tags": [],
    "cell_id": "00053-4469ba46-b164-47e6-af6a-de6ad229e6db",
    "deepnote_app_coordinates": {
     "x": 0,
     "y": 312,
     "w": 12,
     "h": 5
    },
    "deepnote_cell_type": "markdown",
    "deepnote_cell_height": 52.399993896484375
   }
  },
  {
   "cell_type": "markdown",
   "source": "#### 4.3. Discuss: Recall that the assignment of the different contracts (*sign at the top* vs. *sign at the bottom*) was done at random. According to the results in 1. and 2., does signing at the top decrease dishonesty?",
   "metadata": {
    "cell_id": "00052-b4aeff4d-931f-4e0a-a74e-bc8c4c3fc3ef",
    "deepnote_app_coordinates": {
     "x": 0,
     "y": 318,
     "w": 12,
     "h": 5
    },
    "deepnote_cell_type": "markdown",
    "deepnote_cell_height": 102
   }
  },
  {
   "cell_type": "markdown",
   "source": "Let the null hypothesis $H_0$ be that there is no difference, that is that the (independent) 'sign bottom' and 'sign top' groups have identical expected values of average updated kilometrages per policy.\nThen, according to the results of 4.1 and 4.2, the probability of us seeing, under $H_0$, data at least as extreme (i.e. an absolute difference of means at least as big) as the ones we observe in the experiment is around $5\\cdot10^{-47}$. This value is significantly below a 0.05 significance level and $H_0$ can hence be rejected with almost absolute certainty. Since the only other difference between the groups that we are aware of at this point is the condition (sign at top vs sign at bottom), **which only concerns the updated kilometers counts of each contract**, we can conclude that, in the assumption that there is no difference in the baseline contracts, it is highly likely that the significantly lower average number of kilometers reported in the **Sign Top** policies is due to **lower honesty of people signing on the top**, suggesting that **signing on the top decreases honesty** and motivates people to be dishonest, contrary to the assumption of the study.",
   "metadata": {
    "cell_id": "00053-d083780e-9d26-4d2d-90b0-c9efe2d7afe8",
    "deepnote_app_coordinates": {
     "x": 0,
     "y": 324,
     "w": 12,
     "h": 5
    },
    "deepnote_cell_type": "markdown",
    "deepnote_cell_height": 231.60000610351562
   }
  },
  {
   "cell_type": "markdown",
   "source": "#### 4.4. Discuss: Given that no intervention was performed in the baseline contract (i.e., everyone signed at the bottom). Would you expect any differences between the average values between *sign at the top* vs. *sign at the bottom*  conditions for the baseline contract? Note that this is related to columns `baseline_motorcycle[1-4]`.\n\nIf the samples were selected truly randomly, **there should be no difference** in the baseline contracts between the conditions as both are i.i.d. samples from the same distribution. As the number of samples increases, according to the *Law of Large Numbers*, the mean of the baseline kilometrages for both types of policy should approach the expected value from the underlying distribution, and in the limit the means should be equal. Since we only dispose of a finite amount of samples, we expect the means to be slightly different, but still comparable under statistical fluctuations.",
   "metadata": {
    "cell_id": "00054-082dfd80-7e29-42d5-9f79-fae2faa2b782",
    "deepnote_app_coordinates": {
     "x": 0,
     "y": 330,
     "w": 12,
     "h": 5
    },
    "deepnote_cell_type": "markdown",
    "deepnote_cell_height": 250.5
   }
  },
  {
   "cell_type": "markdown",
   "source": "#### 4.5. Compare the 'sign top' and 'sign bottom' distributions in the baseline contracts",
   "metadata": {
    "cell_id": "00055-406c09bb-ace6-4cdb-9644-d0ab88ad4838",
    "deepnote_app_coordinates": {
     "x": 0,
     "y": 336,
     "w": 12,
     "h": 5
    },
    "deepnote_cell_type": "markdown",
    "deepnote_cell_height": 54
   }
  },
  {
   "cell_type": "code",
   "metadata": {
    "cell_id": "00056-2cf7da3d-c638-416d-bbd4-fb83f5f7bfd8",
    "deepnote_to_be_reexecuted": false,
    "source_hash": "d51738ac",
    "execution_start": 1642954249018,
    "execution_millis": 95,
    "deepnote_app_coordinates": {
     "x": 0,
     "y": 342,
     "w": 12,
     "h": 5
    },
    "deepnote_cell_type": "code",
    "deepnote_cell_height": 272
   },
   "source": "data.groupby('condition').baseline_average.agg([np.mean, np.std])",
   "execution_count": null,
   "outputs": [
    {
     "output_type": "execute_result",
     "execution_count": 27,
     "data": {
      "application/vnd.deepnote.dataframe.v3+json": {
       "column_count": 2,
       "row_count": 2,
       "columns": [
        {
         "name": "mean",
         "dtype": "float64",
         "stats": {
          "unique_count": 2,
          "nan_count": 0,
          "min": "59696.234696370135",
          "max": "75020.74709840416",
          "histogram": [
           {
            "bin_start": 59696.234696370135,
            "bin_end": 61228.685936573536,
            "count": 1
           },
           {
            "bin_start": 61228.685936573536,
            "bin_end": 62761.13717677694,
            "count": 0
           },
           {
            "bin_start": 62761.13717677694,
            "bin_end": 64293.58841698034,
            "count": 0
           },
           {
            "bin_start": 64293.58841698034,
            "bin_end": 65826.03965718375,
            "count": 0
           },
           {
            "bin_start": 65826.03965718375,
            "bin_end": 67358.49089738715,
            "count": 0
           },
           {
            "bin_start": 67358.49089738715,
            "bin_end": 68890.94213759055,
            "count": 0
           },
           {
            "bin_start": 68890.94213759055,
            "bin_end": 70423.39337779395,
            "count": 0
           },
           {
            "bin_start": 70423.39337779395,
            "bin_end": 71955.84461799735,
            "count": 0
           },
           {
            "bin_start": 71955.84461799735,
            "bin_end": 73488.29585820076,
            "count": 0
           },
           {
            "bin_start": 73488.29585820076,
            "bin_end": 75020.74709840416,
            "count": 1
           }
          ]
         }
        },
        {
         "name": "std",
         "dtype": "float64",
         "stats": {
          "unique_count": 2,
          "nan_count": 0,
          "min": "49956.31715088611",
          "max": "50256.58637613291",
          "histogram": [
           {
            "bin_start": 49956.31715088611,
            "bin_end": 49986.34407341079,
            "count": 1
           },
           {
            "bin_start": 49986.34407341079,
            "bin_end": 50016.370995935475,
            "count": 0
           },
           {
            "bin_start": 50016.370995935475,
            "bin_end": 50046.39791846015,
            "count": 0
           },
           {
            "bin_start": 50046.39791846015,
            "bin_end": 50076.42484098483,
            "count": 0
           },
           {
            "bin_start": 50076.42484098483,
            "bin_end": 50106.45176350951,
            "count": 0
           },
           {
            "bin_start": 50106.45176350951,
            "bin_end": 50136.47868603419,
            "count": 0
           },
           {
            "bin_start": 50136.47868603419,
            "bin_end": 50166.50560855887,
            "count": 0
           },
           {
            "bin_start": 50166.50560855887,
            "bin_end": 50196.53253108355,
            "count": 0
           },
           {
            "bin_start": 50196.53253108355,
            "bin_end": 50226.55945360823,
            "count": 0
           },
           {
            "bin_start": 50226.55945360823,
            "bin_end": 50256.58637613291,
            "count": 1
           }
          ]
         }
        },
        {
         "name": "_deepnote_index_column",
         "dtype": "object"
        }
       ],
       "rows": [
        {
         "mean": 75020.74709840416,
         "std": 50256.58637613291,
         "_deepnote_index_column": "Sign Bottom"
        },
        {
         "mean": 59696.234696370135,
         "std": 49956.31715088611,
         "_deepnote_index_column": "Sign Top"
        }
       ]
      },
      "text/plain": "                     mean           std\ncondition                              \nSign Bottom  75020.747098  50256.586376\nSign Top     59696.234696  49956.317151",
      "text/html": "<div>\n<style scoped>\n    .dataframe tbody tr th:only-of-type {\n        vertical-align: middle;\n    }\n\n    .dataframe tbody tr th {\n        vertical-align: top;\n    }\n\n    .dataframe thead th {\n        text-align: right;\n    }\n</style>\n<table border=\"1\" class=\"dataframe\">\n  <thead>\n    <tr style=\"text-align: right;\">\n      <th></th>\n      <th>mean</th>\n      <th>std</th>\n    </tr>\n    <tr>\n      <th>condition</th>\n      <th></th>\n      <th></th>\n    </tr>\n  </thead>\n  <tbody>\n    <tr>\n      <th>Sign Bottom</th>\n      <td>75020.747098</td>\n      <td>50256.586376</td>\n    </tr>\n    <tr>\n      <th>Sign Top</th>\n      <td>59696.234696</td>\n      <td>49956.317151</td>\n    </tr>\n  </tbody>\n</table>\n</div>"
     },
     "metadata": {}
    }
   ]
  },
  {
   "cell_type": "code",
   "metadata": {
    "tags": [],
    "cell_id": "00054-28cef9e7-2869-42de-a656-4170d0200f62",
    "deepnote_to_be_reexecuted": false,
    "source_hash": "32475a55",
    "execution_start": 1642954249053,
    "execution_millis": 1992,
    "deepnote_app_coordinates": {
     "x": 0,
     "y": 348,
     "w": 12,
     "h": 5
    },
    "deepnote_cell_type": "code",
    "deepnote_cell_height": 685,
    "deepnote_output_heights": [
     354
    ]
   },
   "source": "fig, ax = plt.subplots(1,2,figsize=(12,5), gridspec_kw={'width_ratios': [3, 1]})\n\n# Plot histograms\nsns.histplot(x='baseline_average', hue='condition', data=data[['baseline_average', 'condition']],ax=ax[0], palette=[COLOR_TOP,COLOR_BOTTOM])\nax[0].set_xlabel('Kilometrage [km]')\nax[0].set_title('A')\n\n# Plot barplot\nsns.barplot(x='condition', y='baseline_average', data = data[['baseline_average', 'condition']],ax=ax[1], palette=[COLOR_TOP,COLOR_BOTTOM])\nax[1].set_ylabel('Kilometrage')\nax[1].set_title('B')\n\nplt.tight_layout()\nplt.show()",
   "execution_count": null,
   "outputs": [
    {
     "data": {
      "text/plain": "<Figure size 864x360 with 2 Axes>",
      "image/png": "[encoded data removed]"
     },
     "metadata": {
      "needs_background": "light",
      "image/png": {
       "width": 856,
       "height": 352
      }
     },
     "output_type": "display_data"
    }
   ]
  },
  {
   "cell_type": "markdown",
   "source": "**Figure 6: Comparison between kilometrages in the baseline contract between the 'Sign Top' and 'Sign Bottom' groups.**  \n**[A]** Histograms of the kilometrages in the baseline contract. The group that would later (in the updated contract) become the Sign Top group is shown in green, and the group that would become the Sign Bottom group in orange. **[B]** Bar heights indicate the mean of the kilomatreges in the baseline contract, errorbars indicate the 95% confidence interval.\n\nAgain, the two 95% confidence intervals are separated, and we will again test the significance with a t-test.",
   "metadata": {
    "tags": [],
    "cell_id": "00055-1fb3ae9b-bb40-4dec-9494-0fadf1823404",
    "deepnote_app_coordinates": {
     "x": 0,
     "y": 354,
     "w": 12,
     "h": 5
    },
    "deepnote_cell_type": "markdown",
    "deepnote_cell_height": 156
   }
  },
  {
   "cell_type": "markdown",
   "source": "#### 4.6 Hypothesis testing: is the difference between Sign Top and Sign Bottom significant in the baseline contract?",
   "metadata": {
    "cell_id": "00060-7cc4eed1-9d6b-49e6-ae08-e7559ae15488",
    "deepnote_app_coordinates": {
     "x": 0,
     "y": 360,
     "w": 12,
     "h": 5
    },
    "deepnote_cell_type": "markdown",
    "deepnote_cell_height": 78
   }
  },
  {
   "cell_type": "code",
   "metadata": {
    "cell_id": "00061-48c08dfc-cf97-4839-9592-71e1419fe1ae",
    "deepnote_to_be_reexecuted": false,
    "source_hash": "dadb4100",
    "execution_start": 1642954251011,
    "execution_millis": 36,
    "deepnote_app_coordinates": {
     "x": 0,
     "y": 366,
     "w": 12,
     "h": 5
    },
    "deepnote_cell_type": "code",
    "deepnote_cell_height": 129.1999969482422
   },
   "source": "[t,p] = stats.ttest_ind(data[data['condition'] == 'Sign Top'].baseline_average, data[data['condition'] == 'Sign Bottom'].baseline_average)\nprint('Outcome of the two-sided t-test: p=%.2e.'%p)",
   "execution_count": null,
   "outputs": [
    {
     "name": "stdout",
     "text": "Outcome of the two-sided t-test: p=9.33e-70.\n",
     "output_type": "stream"
    }
   ]
  },
  {
   "cell_type": "markdown",
   "source": "Again, the difference is very significant and we can reject the null hypothesis that the expected values of average baseline kilometrages per policy are the same for the two groups with almost absolute certainty.",
   "metadata": {
    "tags": [],
    "cell_id": "00063-354c470b-2b8f-430a-ab6b-a9ebdf6d497e",
    "deepnote_app_coordinates": {
     "x": 0,
     "y": 372,
     "w": 12,
     "h": 5
    },
    "deepnote_cell_type": "markdown",
    "deepnote_cell_height": 74.80000305175781
   }
  },
  {
   "cell_type": "markdown",
   "source": "## Interlude: Something is dodgy about this data...\n\n---\n\nNoticing the oddities in the data, you send an email to your contact at the insurance company asking about the integrity\n of the data. Their reply seems like something out of a detective movie:\n\n> Dear researcher, I believe that this data is not to be trusted. I can't talk right now but will send further hints \n>throughout the week.\n\nAs a researcher, you know that [data integrity](https://en.wikipedia.org/wiki/Data_integrity) is a big deal, and decide\n to investigate.",
   "metadata": {
    "cell_id": "00063-9cdc9bd0-52ff-437b-9477-0dce6ffa66fa",
    "deepnote_app_coordinates": {
     "x": 0,
     "y": 378,
     "w": 12,
     "h": 5
    },
    "deepnote_cell_type": "markdown",
    "deepnote_cell_height": 204.60000610351562
   }
  },
  {
   "cell_type": "markdown",
   "source": "### Task 5 — 9pts\n\nThe first hint you receive is: *there is something off about the kilometrage values in the data.*\n\n1. For the baseline contract and for the updated contract, plot the distribution of odometer kilometrage reported for the first motorcycle insured in each policy. \n2. For the first motorcycle insured by the company in each policy, plot the difference between the number of kilometers reported in the baseline and in the updated contract.\n3. **Discuss:** why is this data unlikely to have originated from real odometer readings?\n\n---",
   "metadata": {
    "cell_id": "00064-85261187-37d2-4f6b-8e9c-3a267588148a",
    "deepnote_app_coordinates": {
     "x": 0,
     "y": 384,
     "w": 12,
     "h": 5
    },
    "deepnote_cell_type": "markdown",
    "deepnote_cell_height": 247.39999389648438
   }
  },
  {
   "cell_type": "markdown",
   "source": "#### 5.1. Distributions of kilometrages reported for motorcycle 1",
   "metadata": {
    "tags": [],
    "cell_id": "00060-63a167b5-fde0-468d-a6aa-5966342f4d1b",
    "deepnote_app_coordinates": {
     "x": 0,
     "y": 390,
     "w": 12,
     "h": 5
    },
    "deepnote_cell_type": "markdown",
    "deepnote_cell_height": 54
   }
  },
  {
   "cell_type": "code",
   "metadata": {
    "cell_id": "00066-bff5b895-1b32-48e2-83ee-a46d07f4fd99",
    "deepnote_to_be_reexecuted": false,
    "source_hash": "d38bfb4f",
    "execution_start": 1642954251016,
    "execution_millis": 1037,
    "deepnote_app_coordinates": {
     "x": 0,
     "y": 396,
     "w": 12,
     "h": 5
    },
    "deepnote_cell_type": "code",
    "deepnote_cell_height": 685,
    "deepnote_output_heights": [
     426
    ]
   },
   "source": "fig,ax = plt.subplots(2,1,figsize=(8,6),sharex=True)\nsns.histplot(data['baseline_motorcycle1'], ax=ax[0], color=COLOR_BASELINE, edgecolor=None)\nax[0].set_title('Baseline contracts')\n\nsns.histplot(data['update_motorcycle1'], ax=ax[1], color=COLOR_UPDATE, edgecolor=None)\nax[1].set_title('Updated contracts')\n\nplt.xlabel('Kilometrage [km]')\nplt.tight_layout()\nplt.show()",
   "execution_count": null,
   "outputs": [
    {
     "data": {
      "text/plain": "<Figure size 576x432 with 2 Axes>",
      "image/png": "[encoded data removed]"
     },
     "metadata": {
      "needs_background": "light",
      "image/png": {
       "width": 568,
       "height": 424
      }
     },
     "output_type": "display_data"
    }
   ]
  },
  {
   "cell_type": "markdown",
   "source": "**Figure 7: Distributions of ordometer kilometrages reported for motorcycle 1 in the baseline (top) and updated (bottom) contracts.**  \nBoth distributions are negatively skewed. The distribution of the baseline contract shows a sharp peak at very low kilometrages, which could correspond to almost new motorcycles.",
   "metadata": {
    "tags": [],
    "cell_id": "00066-99a12dbb-e4f3-4324-85da-c5dc7a0c703e",
    "deepnote_to_be_reexecuted": false,
    "source_hash": "5544f040",
    "execution_start": 1634653152941,
    "execution_millis": 5,
    "deepnote_app_coordinates": {
     "x": 0,
     "y": 402,
     "w": 12,
     "h": 5
    },
    "deepnote_cell_type": "markdown",
    "deepnote_cell_height": 119.60000610351562
   }
  },
  {
   "cell_type": "markdown",
   "source": "#### 5.2. Distribution of the difference between baseline and updated kilometrages",
   "metadata": {
    "tags": [],
    "cell_id": "00063-4628f2ea-94dc-41a5-a852-af4132aec05b",
    "deepnote_app_coordinates": {
     "x": 0,
     "y": 408,
     "w": 12,
     "h": 5
    },
    "deepnote_cell_type": "markdown",
    "deepnote_cell_height": 54
   }
  },
  {
   "cell_type": "code",
   "metadata": {
    "cell_id": "00067-851aea39-3c1c-4bbe-ae4f-ea1b9b67f14e",
    "deepnote_to_be_reexecuted": false,
    "source_hash": "5473eeb5",
    "execution_start": 1642954252070,
    "execution_millis": 302,
    "deepnote_app_coordinates": {
     "x": 0,
     "y": 414,
     "w": 12,
     "h": 5
    },
    "deepnote_cell_type": "code",
    "deepnote_cell_height": 451,
    "deepnote_output_heights": [
     282
    ]
   },
   "source": "fig,ax = plt.subplots(figsize=(8,4))\nsns.histplot(data['update_motorcycle1']  - data['baseline_motorcycle1'], color=COLOR_NEUTRAL, ax=ax, alpha=0.5)\nax.set_xlabel('Kilometrage difference [km]')\nplt.tight_layout()\nplt.show()",
   "execution_count": null,
   "outputs": [
    {
     "data": {
      "text/plain": "<Figure size 576x288 with 1 Axes>",
      "image/png": "[encoded data removed]"
     },
     "metadata": {
      "needs_background": "light",
      "image/png": {
       "width": 568,
       "height": 280
      }
     },
     "output_type": "display_data"
    }
   ]
  },
  {
   "cell_type": "markdown",
   "source": "**Figure 8: Distribution of the difference in ordometer kilometrage between the baseline and updated contracts reported for motorcycle 1.**  ",
   "metadata": {
    "tags": [],
    "cell_id": "00064-f033f4ba-0a71-4fbd-903e-d55a6e46bb92",
    "deepnote_app_coordinates": {
     "x": 0,
     "y": 420,
     "w": 12,
     "h": 5
    },
    "deepnote_cell_type": "markdown",
    "deepnote_cell_height": 74.80000305175781
   }
  },
  {
   "cell_type": "markdown",
   "source": "####  5.3. Discuss: why is this data unlikely to have originated from real odometer readings?\n\nThe differences between milleages are almost perfectly uniformly distributed, with a sharp cut-off at 50000 km. If the data were real, we would not expect a uniform distribution nor a cut-off: rather, we would expect a distribution decreasing gradually as we approach the maximum value of kilometers driven, i.e. with a noticeable tail on the right side, reflecting the fact there is only a low probability that someone drives within a year a very large number of kilometers. Furthermore, the cut-off at 50000 km is unlikely since the dataset contains motorcycles with baseline and update values up to $10^6$ kilometers, and we would expect some of them to exhibit larger differences.",
   "metadata": {
    "cell_id": "00068-c1a30608-8f48-4670-a046-f3e12c1cc763",
    "deepnote_app_coordinates": {
     "x": 0,
     "y": 426,
     "w": 12,
     "h": 5
    },
    "deepnote_cell_type": "markdown",
    "deepnote_cell_height": 200.39999389648438
   }
  },
  {
   "cell_type": "markdown",
   "source": "### Task 6 — 15pts\n\nThe second hint you receive is: *there is something off with the last digits of the reported kilometrages.*\n\n1. Considering the baseline kilometrage of the first motorcycle in each contract (`baseline_motorcycle1`), plot the distribution of occurrences of the last three digits. Repeat the same for the updated kilometrage of the first motorcycle in each contract (`update_motorcycle1`).\n\n3. **Discuss:** What are the differences between the two distributions?\n\n4. **Discuss:** Hypothesize a **plausible** cause for the patterns observed in the digit distribution of the baseline kilometrage of the first motorcycle.\n    \n---\n\n**Hint:** The last three digits of the number 12314 are 314. Note that you should consider the three last digits together,\n not separately!",
   "metadata": {
    "cell_id": "00069-e18c377f-cac0-418a-a2cc-e5951393f954",
    "deepnote_app_coordinates": {
     "x": 0,
     "y": 432,
     "w": 12,
     "h": 5
    },
    "deepnote_cell_type": "markdown",
    "deepnote_cell_height": 314.6000061035156
   }
  },
  {
   "cell_type": "markdown",
   "source": "#### 6.1. Plot the distribution of occurrences of the last three digits",
   "metadata": {
    "tags": [],
    "cell_id": "00075-e72aec79-1e70-442a-b294-2bc0ce1ee49c",
    "deepnote_app_coordinates": {
     "x": 0,
     "y": 438,
     "w": 12,
     "h": 5
    },
    "deepnote_cell_type": "markdown",
    "deepnote_cell_height": 54
   }
  },
  {
   "cell_type": "code",
   "metadata": {
    "tags": [],
    "cell_id": "00068-f8294469-f678-418f-90ad-a9bb8fd0a1f1",
    "deepnote_to_be_reexecuted": false,
    "source_hash": "d7c53fee",
    "execution_start": 1642954252379,
    "execution_millis": 1,
    "deepnote_app_coordinates": {
     "x": 0,
     "y": 444,
     "w": 12,
     "h": 5
    },
    "deepnote_cell_type": "code",
    "deepnote_cell_height": 171
   },
   "source": "def get_last_three_digits(number):\n    '''\n    Returns the last three digits of the int number.\n    Example: 12314 returns 314.\n    '''\n    return int(str(number)[-3:])",
   "execution_count": null,
   "outputs": []
  },
  {
   "cell_type": "code",
   "metadata": {
    "tags": [],
    "cell_id": "00070-ddf8dbbc-73c6-46b1-b9ed-be34b36ab0b6",
    "deepnote_to_be_reexecuted": false,
    "source_hash": "c356e8a0",
    "execution_start": 1642954252384,
    "execution_millis": 1,
    "deepnote_app_coordinates": {
     "x": 0,
     "y": 450,
     "w": 12,
     "h": 5
    },
    "deepnote_cell_type": "code",
    "deepnote_cell_height": 297
   },
   "source": "def plot_rectangle(x_min, x_max, y_min, y_max, ax, color='purple', linewidth=2, linestyle='--'):\n    '''\n    Plot a rectangle on a figure axis.\n    The boundaries of the rectangle are defined by x_min, x_max, y_min and y_max.\n    '''\n    left, bottom, width, height = (x_min, y_min, (x_max-x_min), (y_max-y_min))\n    rect = mpatches.Rectangle((left, bottom),width, height, \n                            linestyle = linestyle,\n                            fill = False,\n                            color = color,\n                            linewidth = linewidth)\n    ax.add_patch(rect)\n    return ax",
   "execution_count": null,
   "outputs": []
  },
  {
   "cell_type": "code",
   "metadata": {
    "tags": [],
    "cell_id": "00077-a154c2c0-61e5-457c-adc4-31abc60a5959",
    "deepnote_to_be_reexecuted": false,
    "source_hash": "316d9e80",
    "execution_start": 1642954252397,
    "execution_millis": 2,
    "deepnote_app_coordinates": {
     "x": 0,
     "y": 456,
     "w": 12,
     "h": 5
    },
    "deepnote_cell_type": "code",
    "deepnote_cell_height": 1017
   },
   "source": "def last_digit_plot(dataA, dataB, \n                    labelA, labelB, \n                    colorA, colorB, \n                    x_min=550, x_max=850, y_min=0, y_max=800):\n    ''' \n    Draws the distribution of occurrences of the last three digits in kilometrages reported in dataA and dataB, from 000 to 999 and \n    zooming between x_min and x_max.\n    '''\n    fig,ax = plt.subplots(2,2,figsize=(10,6), sharey='row')\n\n    # Subplot A: whole distribution\n    sns.histplot(dataA.apply(get_last_three_digits), bins=30, ax=ax[0,0], color=colorA)\n\n    # Draw a purple rectangle on figure A to clarify the zoomed-in distribution of figure B.\n    plot_rectangle(x_min, x_max, y_min, y_max, ax[0,0], color='red')\n    ax[0,0].xaxis.label.set_visible(False) # No label\n    ax[0,0].yaxis.label.set_visible(False) # No label\n    ax[0,0].set_title(labelA)\n    ax[0,0].text(0.9, 0.9, 'A', fontsize='large', weight='bold', transform=ax[0,0].transAxes)\n\n    # Subplot C: zoomed-in distribution\n    yy_max = 80 # Make rectangle fit the plot\n    sns.histplot(dataA.apply(get_last_three_digits), bins=500, edgecolor=None, ax=ax[1,0], color=colorA)\n    ax[1,0].set_ylim([y_min, yy_max])\n    ax[1,0].set_xlim([x_min, x_max])\n    ax[1,0].xaxis.label.set_visible(False) # No label\n    ax[1,0].yaxis.label.set_visible(False) # No label\n    ax[1,0].text(0.9, 0.9, 'C', fontsize='large', weight='bold', transform=ax[1,0].transAxes)\n\n    # Draw a purple rectangle around figure B.\n    plot_rectangle(x_min, x_max, y_min, yy_max, ax[1,0], color='red', linewidth=5)\n\n    # Subplot B: whole distribution and rectangle\n    sns.histplot(dataB.apply(get_last_three_digits), bins=30, ax=ax[0,1], color=colorB)\n    plot_rectangle(x_min, x_max, y_min, y_max, ax[0,1], color='purple')\n    ax[0,1].xaxis.label.set_visible(False) # No label\n    ax[0,1].set_title(labelB)\n    ax[0,1].text(0.9, 0.9, 'B', fontsize='large', weight='bold', transform=ax[0,1].transAxes)\n\n    # Subplot D: zoomed-in distribution and rectangle\n    sns.histplot(dataB.apply(get_last_three_digits), bins=500, edgecolor=None, ax=ax[1,1], color=colorB)\n    plot_rectangle(x_min, x_max, y_min, yy_max, ax[1,1], linewidth=5, color='purple')\n    ax[1,1].set_ylim([y_min, yy_max])\n    ax[1,1].set_xlim([x_min, x_max])\n    ax[1,1].xaxis.label.set_visible(False) # No label\n    ax[1,1].text(0.9, 0.9, 'D', fontsize='large', weight='bold', transform=ax[1,1].transAxes)\n\n    # Common x and y labels\n    fig.supxlabel('Last three digits of reported kilometrage', fontsize=LABEL_FONTSIZE)\n    fig.supylabel('Count', fontsize=LABEL_FONTSIZE)\n\n    plt.tight_layout()\n    plt.show()",
   "execution_count": null,
   "outputs": []
  },
  {
   "cell_type": "code",
   "metadata": {
    "tags": [],
    "cell_id": "00078-1a94af56-3f4a-4429-b37c-a52a04829a2c",
    "deepnote_to_be_reexecuted": false,
    "source_hash": "133c16fc",
    "execution_start": 1642954252412,
    "execution_millis": 2677,
    "deepnote_app_coordinates": {
     "x": 0,
     "y": 462,
     "w": 12,
     "h": 5
    },
    "deepnote_cell_type": "code",
    "deepnote_cell_height": 530,
    "deepnote_output_heights": [
     433
    ]
   },
   "source": "last_digit_plot(data['baseline_motorcycle1'], data['update_motorcycle1'], 'Baseline', 'Updated', COLOR_BASELINE, COLOR_UPDATE)",
   "execution_count": null,
   "outputs": [
    {
     "data": {
      "text/plain": "<Figure size 720x432 with 4 Axes>",
      "image/png": "[encoded data removed]"
     },
     "metadata": {
      "needs_background": "light",
      "image/png": {
       "width": 709,
       "height": 431
      }
     },
     "output_type": "display_data"
    }
   ]
  },
  {
   "cell_type": "markdown",
   "source": "**Figure 9: Distribution of occurrences of the last three digits in reported kilometrages.**  \nAbove, the distribution is shown on the whole axis of possible 3-digit numbers (000 until 999) for **[A]** the baseline and **[B]** the updated contract. Below, zoomed-in distributions with a smaller binsize are shown, again for both the **[C]** baseline and **[D]** updated contract.",
   "metadata": {
    "tags": [],
    "cell_id": "00079-d944fc17-b55b-4bd4-ab91-b59bff4bb4f8",
    "deepnote_app_coordinates": {
     "x": 0,
     "y": 468,
     "w": 12,
     "h": 5
    },
    "deepnote_cell_type": "markdown",
    "deepnote_cell_height": 119.60000610351562
   }
  },
  {
   "cell_type": "markdown",
   "source": "#### 6.2. What are the differences between the two distributions?\n\nWhile the first distribution is heavily skewed towards kilometrages ending with '000', the second one is pretty much perfectly uniform at every scale (except some noise). Increasing the resolution (i.e. number of bins), we can also notice strong spikes within the first distribution on numbers ending with 00, such as 600, 700 or 800.\n",
   "metadata": {
    "cell_id": "00073-48d575a1-1b13-42ba-b617-182bf55edff6",
    "deepnote_app_coordinates": {
     "x": 0,
     "y": 474,
     "w": 12,
     "h": 5
    },
    "deepnote_cell_type": "markdown",
    "deepnote_cell_height": 133.1999969482422
   }
  },
  {
   "cell_type": "markdown",
   "source": "#### 6.3 – Hypothesize a plausible cause for the patterns observed in the digit distribution of the baseline kilometrage of the first motorcycle.\n\nThere are two fundamental hypotheses to explain the observed patterns:\n1. People tend to **round the digits** when they input values into the form, e.g approximating 1143 -> 1000 or 702 -> 700. This phenomenon is observed in both approximations to two or to three digits and due to its generality should be expected also in the distribution of updated kilometrages. Its absence in the updated contract kilometrages seems thus very suspicious and reveal another symptome of inconsistencies in the data.\n2. Secondly, people are likely to register their motorcycles for the first time **when they buy them**, that is when they have not yet driven any miles at all. In many countries, any motorcycle must be insured by law and hence every new motorcycle is insured immediately, creating a bias for leading zeros.",
   "metadata": {
    "cell_id": "00074-3d3dea47-5628-4fff-bbf9-319181299f63",
    "deepnote_app_coordinates": {
     "x": 0,
     "y": 480,
     "w": 12,
     "h": 5
    },
    "deepnote_cell_type": "markdown",
    "deepnote_cell_height": 300.20001220703125
   }
  },
  {
   "cell_type": "markdown",
   "source": "### Task 7 — 15pts\n\nThe third (and last) hint you receive is: *there is something wrong with the fonts.*\n\nYour anonymous source explains that the `.tsv` file sent to you was derived from an Excel sheet. There, some of the rows\n were written in the font *Helvetica* while others were written in the font *Arial*. Your anonymous source sends you a \n file with the relation between policy id and the font used in the respective row (`fonts.csv`), and tells you that the\n  rows with *Helvetica* font were fabricated.\n\n1. Load `fonts.csv` and merge the `font` column into your pandas dataframe.\n2. Considering only the kilometrage of the first motorcycle in each policy, calculate the number of rows with the Arial and the Helvetica font, respectively. Also, plot the distribution of baseline kilometers for rows with the Arial font and for rows with the Helvetica font.\n3. Similar to what was done in task 6. Plot the distribution of the last three digits for 1) the first motorcycle in each baseline contract (`baseline_motorcycle1`); and 2) the first motorcycle in each updated contract  (`update_motorcycle1`).\n4. **Discuss:** Why do these analyses provide evidence that the rows with Helvetica font were fabricated?\n\n---",
   "metadata": {
    "cell_id": "00075-652a827b-3aab-4a3f-97c2-7b156c7415e4",
    "deepnote_app_coordinates": {
     "x": 0,
     "y": 486,
     "w": 12,
     "h": 5
    },
    "deepnote_cell_type": "markdown",
    "deepnote_cell_height": 398.79998779296875
   }
  },
  {
   "cell_type": "markdown",
   "source": "#### 7.1. Load and merge the font data.",
   "metadata": {
    "tags": [],
    "cell_id": "00083-6a12b407-ffee-4da7-8220-ba70882b8982",
    "deepnote_app_coordinates": {
     "x": 0,
     "y": 492,
     "w": 12,
     "h": 5
    },
    "deepnote_cell_type": "markdown",
    "deepnote_cell_height": 54
   }
  },
  {
   "cell_type": "code",
   "metadata": {
    "cell_id": "00076-35ea5d3e-a683-40a9-ad6a-72fa3f370914",
    "deepnote_to_be_reexecuted": false,
    "source_hash": "a23cc3c2",
    "execution_start": 1642954255089,
    "execution_millis": 13,
    "deepnote_app_coordinates": {
     "x": 0,
     "y": 498,
     "w": 12,
     "h": 5
    },
    "deepnote_cell_type": "code",
    "deepnote_cell_height": 99
   },
   "source": "fonts_source = pd.read_csv(DATA_FOLDER + 'fonts.csv', index_col=['id'])\ndf_fonts = data.merge(fonts_source, how='left', left_index=True, right_index=True, validate='one_to_one')",
   "execution_count": null,
   "outputs": []
  },
  {
   "cell_type": "markdown",
   "source": "#### 7.2. Compare Arial and Helvetica distributions",
   "metadata": {
    "tags": [],
    "cell_id": "00085-1ad78d53-8d0d-484c-a1fd-e9dc8c93cd37",
    "deepnote_app_coordinates": {
     "x": 0,
     "y": 504,
     "w": 12,
     "h": 5
    },
    "deepnote_cell_type": "markdown",
    "deepnote_cell_height": 54
   }
  },
  {
   "cell_type": "code",
   "metadata": {
    "cell_id": "00077-bdc6b915-8187-40fd-aebc-3b84b2560ea3",
    "deepnote_to_be_reexecuted": false,
    "source_hash": "b83aa0cc",
    "execution_start": 1642954255106,
    "execution_millis": 28,
    "deepnote_app_coordinates": {
     "x": 0,
     "y": 510,
     "w": 12,
     "h": 5
    },
    "deepnote_cell_type": "code",
    "deepnote_cell_height": 272
   },
   "source": "df_fonts.groupby('font')[['baseline_motorcycle1', 'update_motorcycle1']].count()",
   "execution_count": null,
   "outputs": [
    {
     "output_type": "execute_result",
     "execution_count": 37,
     "data": {
      "application/vnd.deepnote.dataframe.v3+json": {
       "column_count": 2,
       "row_count": 2,
       "columns": [
        {
         "name": "baseline_motorcycle1",
         "dtype": "int64",
         "stats": {
          "unique_count": 2,
          "nan_count": 0,
          "min": "6742",
          "max": "6744",
          "histogram": [
           {
            "bin_start": 6742,
            "bin_end": 6742.2,
            "count": 1
           },
           {
            "bin_start": 6742.2,
            "bin_end": 6742.4,
            "count": 0
           },
           {
            "bin_start": 6742.4,
            "bin_end": 6742.6,
            "count": 0
           },
           {
            "bin_start": 6742.6,
            "bin_end": 6742.8,
            "count": 0
           },
           {
            "bin_start": 6742.8,
            "bin_end": 6743,
            "count": 0
           },
           {
            "bin_start": 6743,
            "bin_end": 6743.2,
            "count": 0
           },
           {
            "bin_start": 6743.2,
            "bin_end": 6743.4,
            "count": 0
           },
           {
            "bin_start": 6743.4,
            "bin_end": 6743.6,
            "count": 0
           },
           {
            "bin_start": 6743.6,
            "bin_end": 6743.8,
            "count": 0
           },
           {
            "bin_start": 6743.8,
            "bin_end": 6744,
            "count": 1
           }
          ]
         }
        },
        {
         "name": "update_motorcycle1",
         "dtype": "int64",
         "stats": {
          "unique_count": 2,
          "nan_count": 0,
          "min": "6742",
          "max": "6744",
          "histogram": [
           {
            "bin_start": 6742,
            "bin_end": 6742.2,
            "count": 1
           },
           {
            "bin_start": 6742.2,
            "bin_end": 6742.4,
            "count": 0
           },
           {
            "bin_start": 6742.4,
            "bin_end": 6742.6,
            "count": 0
           },
           {
            "bin_start": 6742.6,
            "bin_end": 6742.8,
            "count": 0
           },
           {
            "bin_start": 6742.8,
            "bin_end": 6743,
            "count": 0
           },
           {
            "bin_start": 6743,
            "bin_end": 6743.2,
            "count": 0
           },
           {
            "bin_start": 6743.2,
            "bin_end": 6743.4,
            "count": 0
           },
           {
            "bin_start": 6743.4,
            "bin_end": 6743.6,
            "count": 0
           },
           {
            "bin_start": 6743.6,
            "bin_end": 6743.8,
            "count": 0
           },
           {
            "bin_start": 6743.8,
            "bin_end": 6744,
            "count": 1
           }
          ]
         }
        },
        {
         "name": "_deepnote_index_column",
         "dtype": "object"
        }
       ],
       "rows": [
        {
         "baseline_motorcycle1": 6744,
         "update_motorcycle1": 6744,
         "_deepnote_index_column": "Arial"
        },
        {
         "baseline_motorcycle1": 6742,
         "update_motorcycle1": 6742,
         "_deepnote_index_column": "Helvetica"
        }
       ]
      },
      "text/plain": "           baseline_motorcycle1  update_motorcycle1\nfont                                               \nArial                      6744                6744\nHelvetica                  6742                6742",
      "text/html": "<div>\n<style scoped>\n    .dataframe tbody tr th:only-of-type {\n        vertical-align: middle;\n    }\n\n    .dataframe tbody tr th {\n        vertical-align: top;\n    }\n\n    .dataframe thead th {\n        text-align: right;\n    }\n</style>\n<table border=\"1\" class=\"dataframe\">\n  <thead>\n    <tr style=\"text-align: right;\">\n      <th></th>\n      <th>baseline_motorcycle1</th>\n      <th>update_motorcycle1</th>\n    </tr>\n    <tr>\n      <th>font</th>\n      <th></th>\n      <th></th>\n    </tr>\n  </thead>\n  <tbody>\n    <tr>\n      <th>Arial</th>\n      <td>6744</td>\n      <td>6744</td>\n    </tr>\n    <tr>\n      <th>Helvetica</th>\n      <td>6742</td>\n      <td>6742</td>\n    </tr>\n  </tbody>\n</table>\n</div>"
     },
     "metadata": {}
    }
   ]
  },
  {
   "cell_type": "markdown",
   "source": "There are two more datapoints reported in Arial than in Helvetica.",
   "metadata": {
    "tags": [],
    "cell_id": "00085-b2541f47-3d9b-45e6-ad06-072009d1c4ed",
    "deepnote_app_coordinates": {
     "x": 0,
     "y": 516,
     "w": 12,
     "h": 5
    },
    "deepnote_cell_type": "markdown",
    "deepnote_cell_height": 52.399993896484375
   }
  },
  {
   "cell_type": "code",
   "metadata": {
    "tags": [],
    "cell_id": "00087-02a3f45b-2400-46c0-b88b-d3d3fa08f03d",
    "deepnote_to_be_reexecuted": false,
    "source_hash": "158c9923",
    "execution_start": 1642954255137,
    "execution_millis": 1,
    "deepnote_app_coordinates": {
     "x": 0,
     "y": 522,
     "w": 12,
     "h": 5
    },
    "deepnote_cell_type": "code",
    "deepnote_cell_height": 153
   },
   "source": "# Utility\nfonts_list = ['Arial', 'Helvetica']\ncolor_list = [COLOR_ARIAL, COLOR_HELVETICA]\ncolumns_list = ['baseline_motorcycle1', 'update_motorcycle1']\nlabel_letters = ['A', 'B', 'C', 'D']",
   "execution_count": null,
   "outputs": []
  },
  {
   "cell_type": "code",
   "metadata": {
    "cell_id": "00078-cd544b8f-ebea-4c1b-ae78-74c09122452d",
    "deepnote_to_be_reexecuted": false,
    "source_hash": "362d3aaf",
    "execution_start": 1642954255148,
    "execution_millis": 1692,
    "deepnote_app_coordinates": {
     "x": 0,
     "y": 528,
     "w": 12,
     "h": 5
    },
    "deepnote_cell_type": "code",
    "deepnote_cell_height": 926,
    "deepnote_output_heights": [
     433
    ]
   },
   "source": "# Plot distributions of kilometrages\nfig, ax = plt.subplots(2,2, sharex=True, sharey=True, figsize=(10, 6))\ncount = 0\n\nfor y in range(2):\n    color = color_list[y]\n    for x in range(2):\n        sns.histplot(df_fonts[df_fonts.font == fonts_list[y]][columns_list[x]], ax=ax[y,x], edgecolor=None, color=color)\n        ax[y,x].text(0.9, 0.9, label_letters[count], fontsize='large', weight='bold', transform=ax[y,x].transAxes)\n        ax[y,x].set_xlabel('')\n        count += 1\n\nax[0,0].set_title('Baseline')\nax[0,0].set_ylabel('Arial',fontsize=LABEL_FONTSIZE)\nax[0,1].set_title('Updated')\nax[1,0].set_ylabel('Helvetica',fontsize=LABEL_FONTSIZE)\n\n# Common x and y labels\nfig.supxlabel('Kilometrages [km]', fontsize=LABEL_FONTSIZE)\nfig.supylabel('Count', fontsize=LABEL_FONTSIZE)\n\nfig.tight_layout()\nfig.show()",
   "execution_count": null,
   "outputs": [
    {
     "data": {
      "text/plain": "<Figure size 720x432 with 4 Axes>",
      "image/png": "[encoded data removed]"
     },
     "metadata": {
      "needs_background": "light",
      "image/png": {
       "width": 709,
       "height": 431
      }
     },
     "output_type": "display_data"
    }
   ]
  },
  {
   "cell_type": "markdown",
   "source": "**Figure 10: Comparison between kilometrages reported in Arial (top) and in Helvetica (bottow).**  \n**[A]** Baseline contracts in Arial, **[B]** Updated contracts in Arial, **[C]** Baseline contracts in Helvetica, **[D]** Updated contracts in Helvetica.\n\nThe Arial and Helvetica distributions look extremely similar, both for baseline (A and C) and updated (B and D) contracts. We can see this even clearer in the QQ plot below.",
   "metadata": {
    "tags": [],
    "cell_id": "00088-6fef124a-e58f-46d5-b9bc-b3fe0deb9be8",
    "deepnote_app_coordinates": {
     "x": 0,
     "y": 534,
     "w": 12,
     "h": 5
    },
    "deepnote_cell_type": "markdown",
    "deepnote_cell_height": 156
   }
  },
  {
   "cell_type": "code",
   "metadata": {
    "tags": [],
    "cell_id": "00090-b84268e8-14b8-4dff-a8ce-90b84f582730",
    "deepnote_to_be_reexecuted": false,
    "source_hash": "5e13db90",
    "execution_start": 1642954256849,
    "execution_millis": 466,
    "deepnote_app_coordinates": {
     "x": 0,
     "y": 540,
     "w": 12,
     "h": 5
    },
    "deepnote_cell_type": "code",
    "deepnote_cell_height": 872,
    "deepnote_output_heights": [
     361
    ]
   },
   "source": "# Store min and max of data as variables\nmin_data_baseline,max_data_baseline = df_fonts.baseline_motorcycle1.min(), df_fonts.baseline_motorcycle1.max()\nmin_data_updated,max_data_updated = df_fonts.update_motorcycle1.min(), df_fonts.update_motorcycle1.max()\n\n# Make 100 quantiles\nq = np.linspace(0, 100, 101) \n\n# Make QQ plots\nfig, ax = plt.subplots(1,2, sharex=True, sharey=True, figsize=(10, 5))\n\nax[0].scatter(np.percentile(df_fonts.baseline_motorcycle1[df_fonts.font == 'Arial'], q), np.percentile(df_fonts.baseline_motorcycle1[df_fonts.font == 'Helvetica'], q), color='k')\nax[0].plot([min_data_baseline,max_data_baseline],[min_data_baseline,max_data_baseline], 'r') # plot y=x\n\nax[1].scatter(np.percentile(df_fonts.update_motorcycle1[df_fonts.font == 'Arial'], q), np.percentile(df_fonts.update_motorcycle1[df_fonts.font == 'Helvetica'], q), color='k')\nax[1].plot([min_data_updated,max_data_updated],[min_data_updated,max_data_updated], 'r') # plot y=x\n\nax[0].set_title('Baseline')\nax[1].set_title('Updated')\n# Common x and y labels\nfig.supxlabel('Quantiles Arial data [km]', fontsize=LABEL_FONTSIZE)\nfig.supylabel('Quantiles Helvetica data [km]', fontsize=LABEL_FONTSIZE)\n\nplt.tight_layout()\nplt.show()",
   "execution_count": null,
   "outputs": [
    {
     "data": {
      "text/plain": "<Figure size 720x360 with 2 Axes>",
      "image/png": "[encoded data removed]"
     },
     "metadata": {
      "needs_background": "light",
      "image/png": {
       "width": 709,
       "height": 359
      }
     },
     "output_type": "display_data"
    }
   ]
  },
  {
   "cell_type": "markdown",
   "source": "**Figure 11: Arial vs Helvetica quantiles, for baseline and updated contracts.**  \nComparing the quantiles is evident again that the two sets of data follow almost perfectly the same distribution.",
   "metadata": {
    "tags": [],
    "cell_id": "00092-80a4fc08-56b4-48d0-a69b-bf429e8d5416",
    "deepnote_app_coordinates": {
     "x": 0,
     "y": 546,
     "w": 12,
     "h": 5
    },
    "deepnote_cell_type": "markdown",
    "deepnote_cell_height": 74.80000305175781
   }
  },
  {
   "cell_type": "markdown",
   "source": "#### 7.3. Distribution of last 3 reported digits.",
   "metadata": {
    "tags": [],
    "cell_id": "00089-39ee2422-17d1-450a-a9fc-b852dc421b21",
    "deepnote_app_coordinates": {
     "x": 0,
     "y": 552,
     "w": 12,
     "h": 5
    },
    "deepnote_cell_type": "markdown",
    "deepnote_cell_height": 54
   }
  },
  {
   "cell_type": "code",
   "metadata": {
    "tags": [],
    "cell_id": "00096-3c1676c4-f340-4f7f-8f2d-037332253229",
    "deepnote_to_be_reexecuted": false,
    "source_hash": "70bbcab",
    "execution_start": 1642954257322,
    "execution_millis": 2675,
    "deepnote_app_coordinates": {
     "x": 0,
     "y": 558,
     "w": 12,
     "h": 5
    },
    "deepnote_cell_type": "code",
    "deepnote_cell_height": 566,
    "deepnote_output_heights": [
     433
    ]
   },
   "source": "last_digit_plot(df_fonts[df_fonts.font == 'Arial']['baseline_motorcycle1'], \n                df_fonts[df_fonts.font == 'Helvetica']['baseline_motorcycle1'], \n                'Arial baseline', 'Helvetica baseline',COLOR_ARIAL, COLOR_HELVETICA)",
   "execution_count": null,
   "outputs": [
    {
     "data": {
      "text/plain": "<Figure size 720x432 with 4 Axes>",
      "image/png": "[encoded data removed]"
     },
     "metadata": {
      "needs_background": "light",
      "image/png": {
       "width": 709,
       "height": 431
      }
     },
     "output_type": "display_data"
    }
   ]
  },
  {
   "cell_type": "markdown",
   "source": "**Figure 12: Comparison between last 3 reported digits in Arial (left) and in Helvetica (right) baseline.**  \nAbove, the distribution is shown on the whole axis of possible 3-digit numbers (000 until 999) for the baseline contracts of Arial **[A]**  and Helvetica **[B]**. Below, zoomed-in distributions with a smaller binsize are shown, again for both the Arial **[C]** and Helvetica **[D]** baseline contracts.",
   "metadata": {
    "tags": [],
    "cell_id": "00095-8e56ac9e-0eb1-4e1c-bde4-6f31a32cc6e0",
    "deepnote_app_coordinates": {
     "x": 0,
     "y": 564,
     "w": 12,
     "h": 5
    },
    "deepnote_cell_type": "markdown",
    "deepnote_cell_height": 119.60000610351562
   }
  },
  {
   "cell_type": "code",
   "metadata": {
    "tags": [],
    "cell_id": "00096-03ecc5f8-0a64-4020-bd93-e7debaee5c72",
    "deepnote_to_be_reexecuted": false,
    "source_hash": "da047caf",
    "execution_start": 1642954259974,
    "execution_millis": 2710,
    "deepnote_app_coordinates": {
     "x": 0,
     "y": 570,
     "w": 12,
     "h": 5
    },
    "deepnote_cell_type": "code",
    "deepnote_cell_height": 566,
    "deepnote_output_heights": [
     433
    ]
   },
   "source": "last_digit_plot(df_fonts[df_fonts.font == 'Arial']['update_motorcycle1'], \n                df_fonts[df_fonts.font == 'Helvetica']['update_motorcycle1'], \n                'Arial update', 'Helvetica update', y_max=600,colorA=COLOR_ARIAL, colorB=COLOR_HELVETICA)",
   "execution_count": null,
   "outputs": [
    {
     "data": {
      "text/plain": "<Figure size 720x432 with 4 Axes>",
      "image/png": "[encoded data removed]"
     },
     "metadata": {
      "needs_background": "light",
      "image/png": {
       "width": 709,
       "height": 431
      }
     },
     "output_type": "display_data"
    }
   ]
  },
  {
   "cell_type": "markdown",
   "source": "**Figure 13: Comparison between last 3 reported digits in Arial (left) and in Helvetica (right) updated.**  \nAbove, the distribution is shown on the whole axis of possible 3-digit numbers (000 until 999) for the updated contracts of Arial **[A]**  and Helvetica **[B]**. Below, zoomed-in distributions with a smaller binsize are shown, again for both the Arial **[C]** and Helvetica **[D]** updated contracts.\n\nOnly the baseline contract reported in Arial is more biased towards kilometrages ending with '000' and '00', while the other three distributions are not. This gives us the impression that the baseline contracts reported in Arial are the only real data, reported by humans. ",
   "metadata": {
    "tags": [],
    "cell_id": "00092-031f1be6-0bda-46be-a86b-0393edd34698",
    "deepnote_app_coordinates": {
     "x": 0,
     "y": 576,
     "w": 12,
     "h": 5
    },
    "deepnote_cell_type": "markdown",
    "deepnote_cell_height": 200.8000030517578
   }
  },
  {
   "cell_type": "markdown",
   "source": "#### 7.4. Why do these analyses provide evidence that the rows with Helvetica font were fabricated?",
   "metadata": {
    "tags": [],
    "cell_id": "00096-e5312c05-3c8f-4138-b602-c33563fd19c0",
    "deepnote_app_coordinates": {
     "x": 0,
     "y": 582,
     "w": 12,
     "h": 5
    },
    "deepnote_cell_type": "markdown",
    "deepnote_cell_height": 54
   }
  },
  {
   "cell_type": "markdown",
   "source": "If baseline kilometrages written in Helvetica font were not tampered, then we would expect a similar distribution with respect of those written in Arial font, as the samples would come from the same distribution and would be i.i.d. However, we can observe in the case of Arial baseline contracts a lot of contracts with a kilometer count ending with 000 or 00, but **we don't see anything similar in the Helvetica ones.** These peaks are expected since people tend to round digits when they input data, and **their absence in Helvetica baseline contracts is a strong symptom of unwise fabrication.** However, the fact that these peaks don't appear in either font in the updated contracts **also arouses suspicions for the updated Arial data.**\n\nWe also observe that these two datasets have almost the same size, and follow almost perfectly the same distribution. This again is suspicious, since in real word if fonts were randomly assigned to samples we would have at least some random noise leading to a more pronounced difference in distributions. As before, this evidence suggests that data have been unwisely tampered.\n\nHence, we can conclude that **the Helvetica font data were likely fabricated**.",
   "metadata": {
    "cell_id": "00080-c0c7a5a1-77eb-414b-9af5-daca0d4a7e5a",
    "deepnote_app_coordinates": {
     "x": 0,
     "y": 588,
     "w": 12,
     "h": 5
    },
    "deepnote_cell_type": "markdown",
    "deepnote_cell_height": 282
   }
  },
  {
   "cell_type": "markdown",
   "source": "### Task 8 — 15pts\n\nYou've had enough! You decide to write an email to your PI (principal investigator, also known as \"your boss\") reporting\n the oddities you have observed in the data. Write a (brief) text (in markdown) of up to 300 words. Your text should:\n\n- Use the analyses you did to make a convincing case that the data has been tampered with. \n- Grounded in your analyses, provide a plausible hypothesis about how the data has been tampered with.\n- Discuss whether the data leads to the conclusion that signing at the top decreases dishonesty.\n\nStructure your text into three bullets, analogous to the ones above.\n\nYou can reference images present in the notebook by indicating a task (e.g., image plotted in Task 3.3) or a cell \nnumber.\n\nNote that you do not need to conduct any additional analysis to write this text. If you do, the code should be at the \nend of this notebook, i.e., after your answer.\n\n---\n\n**Hint:** The data has been tampered with in more than one way.",
   "metadata": {
    "cell_id": "00081-87c5b3fd-8bd4-4c62-9947-bc7e74a357a4",
    "deepnote_app_coordinates": {
     "x": 0,
     "y": 594,
     "w": 12,
     "h": 5
    },
    "deepnote_cell_type": "markdown",
    "deepnote_cell_height": 380.5
   }
  },
  {
   "cell_type": "markdown",
   "source": "#### 8. Email to PI\nDear Principal Investigator,  \n\n-  We have serious reasons to believe that the data provided by the Motorcycle Company is fraudulent. Our suspicion is based on the following analyses of motors reported as '*motorcycle 1*':\n\n1. A statistically significant difference between the ‘Sign Top’ and ‘Sign Bottom’ groups was found for both the updated and the baseline contracts, even though no randomized experiment was conducted with baseline contracts.\n2. The difference between the updated and the baseline kilometrages follows almost perfectly a uniform distribution with a sharp cut-off at 50000km (**Fig. 8**), suggesting that the updated values are artificially generated by adding random numbers to the baseline values.\n3. The data consists of two different fonts. While the baseline data reported in Arial confirms people's natural tendency to round kilometrages to the nearest hundred, all the other data contain no such pattern (**Fig. 9, 12**), suggesting they were generated by a computer.\n\n- Based on these findings, we hypothesise the data has fabricated in the following ways:\n1. Only the **baseline contracts reported in Arial are real** ordometer values reported by customers.\n2. The number of datapoints was **doubled**, possibly by drawing random kilometrages from the same distribution as the baseline Arial contracts (e.g., using a kernel density estimate). The fabricated datapoints were noted down in Helvetica instead of Arial.  \n3. The updated contracts were fabricated by **adding uniformly distributed random numbers** to the baseline contracts.\n4. Possibly, the 'Sign Top' and 'Sign Bottom' groups were assigned in a **non-random fashion** to intentionally create a significant difference between the groups. \n\n- In conclusion, we have reasons to believe that 75% of the dataset is fabricated , and that the experiment was not randomized. Therefore, **no conclusion can be reached from this data**. To reach a conclusion, we need to repeat the experiment and gather reliable data.\n\nYours sincerely,  \nTeam ALAN",
   "metadata": {
    "tags": [],
    "cell_id": "00088-52f837b8-d60c-4686-8668-4b1d216d1633",
    "deepnote_app_coordinates": {
     "x": 0,
     "y": 600,
     "w": 12,
     "h": 5
    },
    "deepnote_cell_type": "markdown",
    "deepnote_cell_height": 681.7000122070312
   }
  },
  {
   "cell_type": "markdown",
   "source": "# Supplementary/experimental",
   "metadata": {
    "tags": [],
    "is_collapsed": false,
    "cell_id": "00095-b0c8d8a2-ef01-42a6-bd22-54842bd82c3d",
    "deepnote_app_coordinates": {
     "x": 0,
     "y": 606,
     "w": 12,
     "h": 2
    },
    "deepnote_cell_type": "text-cell-h1"
   }
  },
  {
   "cell_type": "code",
   "metadata": {
    "tags": [],
    "cell_id": "00096-d68c6b47-d7d3-4776-b856-28036e7fb61e",
    "deepnote_to_be_reexecuted": false,
    "source_hash": "40dc0741",
    "execution_start": 1642954262689,
    "execution_millis": 1,
    "deepnote_app_coordinates": {
     "x": 0,
     "y": 609,
     "w": 12,
     "h": 5
    },
    "deepnote_cell_type": "code",
    "deepnote_cell_height": 99
   },
   "source": "# idea: arial data is real because it shows the edxpected artifact of a lot of 0's, while helvetica data has been tampered with\n# idea2: part7 is for surprisingly many points, perhaps they want us to do more",
   "execution_count": null,
   "outputs": []
  },
  {
   "cell_type": "code",
   "metadata": {
    "tags": [],
    "cell_id": "00097-b8b1b6c3-db3f-4748-bb72-f907fd3ecdc5",
    "deepnote_to_be_reexecuted": false,
    "source_hash": "e5dd174f",
    "execution_start": 1642954262697,
    "execution_millis": 8,
    "deepnote_app_coordinates": {
     "x": 0,
     "y": 615,
     "w": 12,
     "h": 5
    },
    "deepnote_cell_type": "code",
    "deepnote_cell_height": 147.1999969482422
   },
   "source": "data_arial = df_fonts[df_fonts['font'] == 'Arial']\ndata_helvetica = df_fonts[df_fonts['font'] == 'Helvetica']\nprint(len(data_arial), len(data_helvetica))",
   "execution_count": null,
   "outputs": [
    {
     "name": "stdout",
     "text": "6744 6742\n",
     "output_type": "stream"
    }
   ]
  },
  {
   "cell_type": "code",
   "metadata": {
    "tags": [],
    "cell_id": "00098-fa7c07cb-d63b-4b87-bb75-03cb0f31ae4a",
    "deepnote_to_be_reexecuted": false,
    "source_hash": "62671371",
    "execution_start": 1642954262715,
    "execution_millis": 677,
    "deepnote_app_coordinates": {
     "x": 0,
     "y": 621,
     "w": 12,
     "h": 5
    },
    "deepnote_cell_type": "code",
    "deepnote_cell_height": 718.2000122070312,
    "deepnote_output_heights": [
     null,
     309
    ]
   },
   "source": "fig, ax = plt.subplots(1,2,figsize=(12,5), gridspec_kw={'width_ratios': [3, 1]})\n\n# Plot histograms\nsns.histplot(x='update_average', hue='condition', data=data_arial[['update_average', 'condition']],ax=ax[0], palette=PALETTE)\nax[0].set_xlabel('Kilometrage [km]')\nax[0].set_title('A')\n\n# Plot barplot\nsns.barplot(x='condition', y='update_average', data = data_arial[['update_average', 'condition']],ax=ax[1], palette=PALETTE)\nax[1].set_ylabel('Kilometrage')\nax[1].set_title('B')\n\nplt.tight_layout()\nplt.show()",
   "execution_count": null,
   "outputs": [
    {
     "output_type": "error",
     "ename": "NameError",
     "evalue": "name 'PALETTE' is not defined",
     "traceback": [
      "\u001b[0;31m---------------------------------------------------------------------------\u001b[0m",
      "\u001b[0;31mNameError\u001b[0m                                 Traceback (most recent call last)",
      "\u001b[0;32m<ipython-input-45-8774f61060a9>\u001b[0m in \u001b[0;36m<module>\u001b[0;34m\u001b[0m\n\u001b[1;32m      2\u001b[0m \u001b[0;34m\u001b[0m\u001b[0m\n\u001b[1;32m      3\u001b[0m \u001b[0;31m# Plot histograms\u001b[0m\u001b[0;34m\u001b[0m\u001b[0;34m\u001b[0m\u001b[0;34m\u001b[0m\u001b[0m\n\u001b[0;32m----> 4\u001b[0;31m \u001b[0msns\u001b[0m\u001b[0;34m.\u001b[0m\u001b[0mhistplot\u001b[0m\u001b[0;34m(\u001b[0m\u001b[0mx\u001b[0m\u001b[0;34m=\u001b[0m\u001b[0;34m'update_average'\u001b[0m\u001b[0;34m,\u001b[0m \u001b[0mhue\u001b[0m\u001b[0;34m=\u001b[0m\u001b[0;34m'condition'\u001b[0m\u001b[0;34m,\u001b[0m \u001b[0mdata\u001b[0m\u001b[0;34m=\u001b[0m\u001b[0mdata_arial\u001b[0m\u001b[0;34m[\u001b[0m\u001b[0;34m[\u001b[0m\u001b[0;34m'update_average'\u001b[0m\u001b[0;34m,\u001b[0m \u001b[0;34m'condition'\u001b[0m\u001b[0;34m]\u001b[0m\u001b[0;34m]\u001b[0m\u001b[0;34m,\u001b[0m\u001b[0max\u001b[0m\u001b[0;34m=\u001b[0m\u001b[0max\u001b[0m\u001b[0;34m[\u001b[0m\u001b[0;36m0\u001b[0m\u001b[0;34m]\u001b[0m\u001b[0;34m,\u001b[0m \u001b[0mpalette\u001b[0m\u001b[0;34m=\u001b[0m\u001b[0mPALETTE\u001b[0m\u001b[0;34m)\u001b[0m\u001b[0;34m\u001b[0m\u001b[0;34m\u001b[0m\u001b[0m\n\u001b[0m\u001b[1;32m      5\u001b[0m \u001b[0max\u001b[0m\u001b[0;34m[\u001b[0m\u001b[0;36m0\u001b[0m\u001b[0;34m]\u001b[0m\u001b[0;34m.\u001b[0m\u001b[0mset_xlabel\u001b[0m\u001b[0;34m(\u001b[0m\u001b[0;34m'Kilometrage [km]'\u001b[0m\u001b[0;34m)\u001b[0m\u001b[0;34m\u001b[0m\u001b[0;34m\u001b[0m\u001b[0m\n\u001b[1;32m      6\u001b[0m \u001b[0max\u001b[0m\u001b[0;34m[\u001b[0m\u001b[0;36m0\u001b[0m\u001b[0;34m]\u001b[0m\u001b[0;34m.\u001b[0m\u001b[0mset_title\u001b[0m\u001b[0;34m(\u001b[0m\u001b[0;34m'A'\u001b[0m\u001b[0;34m)\u001b[0m\u001b[0;34m\u001b[0m\u001b[0;34m\u001b[0m\u001b[0m\n",
      "\u001b[0;31mNameError\u001b[0m: name 'PALETTE' is not defined"
     ]
    },
    {
     "data": {
      "text/plain": "<Figure size 864x360 with 2 Axes>",
      "image/png": "[encoded data removed]"
     },
     "metadata": {
      "needs_background": "light",
      "image/png": {
       "width": 714,
       "height": 307
      }
     },
     "output_type": "display_data"
    }
   ]
  },
  {
   "cell_type": "code",
   "metadata": {
    "tags": [],
    "cell_id": "00100-fc307090-33bc-4a9d-8056-b3aec41268b3",
    "deepnote_to_be_reexecuted": true,
    "source_hash": "4940bdc5",
    "execution_start": 1634839382396,
    "execution_millis": 3494,
    "deepnote_app_coordinates": {
     "x": 0,
     "y": 627,
     "w": 12,
     "h": 5
    },
    "deepnote_cell_type": "code",
    "deepnote_cell_height": 685,
    "deepnote_output_heights": [
     354
    ]
   },
   "source": "fig, ax = plt.subplots(1,2,figsize=(12,5), gridspec_kw={'width_ratios': [3, 1]})\n\n# Plot histograms\nsns.histplot(x='update_average', hue='condition', data=data_helvetica[['update_average', 'condition']],ax=ax[0], palette=PALETTE)\nax[0].set_xlabel('Kilometrage [km]')\nax[0].set_title('A')\n\n# Plot barplot\nsns.barplot(x='condition', y='update_average', data = data_helvetica[['update_average', 'condition']],ax=ax[1], palette=PALETTE)\nax[1].set_ylabel('Kilometrage')\nax[1].set_title('B')\n\nplt.tight_layout()\nplt.show()",
   "execution_count": null,
   "outputs": [
    {
     "data": {
      "text/plain": "<Figure size 864x360 with 2 Axes>",
      "image/png": "[encoded data removed]"
     },
     "metadata": {
      "needs_background": "light",
      "image/png": {
       "width": 856,
       "height": 352
      }
     },
     "output_type": "display_data"
    }
   ]
  },
  {
   "cell_type": "code",
   "metadata": {
    "tags": [],
    "cell_id": "00101-6aa0947e-ae63-4176-88b4-ecec1a2df6f9",
    "deepnote_to_be_reexecuted": true,
    "source_hash": "2ebae9fe",
    "execution_start": 1634839385820,
    "execution_millis": 15,
    "deepnote_app_coordinates": {
     "x": 0,
     "y": 633,
     "w": 12,
     "h": 5
    },
    "deepnote_cell_type": "code",
    "deepnote_cell_height": 81
   },
   "source": "# Question: did the falsified data come from Helvetica and is that why we have 2 datapoints less? Maybe someone messed up while tampering!",
   "execution_count": null,
   "outputs": []
  },
  {
   "cell_type": "code",
   "metadata": {
    "tags": [],
    "cell_id": "00102-49591f85-3eb2-4741-ba7e-8e3545263537",
    "deepnote_to_be_reexecuted": true,
    "source_hash": "cf344fa5",
    "execution_start": 1634839385853,
    "execution_millis": 30,
    "deepnote_app_coordinates": {
     "x": 0,
     "y": 639,
     "w": 12,
     "h": 5
    },
    "deepnote_cell_type": "code",
    "deepnote_cell_height": 81
   },
   "source": "df_fonts_outliers = data_raw.merge(fonts_source, how='left',left_index=True,right_index=True, validate='one_to_one')",
   "execution_count": null,
   "outputs": []
  },
  {
   "cell_type": "code",
   "metadata": {
    "tags": [],
    "cell_id": "00103-85c40fe4-9fce-4c0b-ac4e-647af3ebb069",
    "deepnote_to_be_reexecuted": true,
    "source_hash": "87fc5762",
    "execution_start": 1634839385897,
    "execution_millis": 30,
    "deepnote_app_coordinates": {
     "x": 0,
     "y": 645,
     "w": 12,
     "h": 5
    },
    "deepnote_cell_type": "code",
    "deepnote_cell_height": 147.1999969482422
   },
   "source": "data_arial_outliers = df_fonts_outliers[df_fonts_outliers['font'] == 'Arial']\ndata_helvetica_outliers = df_fonts_outliers[df_fonts_outliers['font'] == 'Helvetica']\nprint(len(data_arial_outliers), len(data_helvetica_outliers))",
   "execution_count": null,
   "outputs": [
    {
     "name": "stdout",
     "text": "6744 6743\n",
     "output_type": "stream"
    }
   ]
  },
  {
   "cell_type": "code",
   "metadata": {
    "tags": [],
    "cell_id": "00104-8d37fb52-0451-4596-a899-c16b90150252",
    "deepnote_to_be_reexecuted": true,
    "source_hash": "8fbcdee9",
    "execution_start": 1634839385939,
    "execution_millis": 47,
    "deepnote_app_coordinates": {
     "x": 0,
     "y": 651,
     "w": 12,
     "h": 5
    },
    "deepnote_cell_type": "code",
    "deepnote_cell_height": 166.39999389648438
   },
   "source": "print(len(fonts_source) - 6744) # Hmm weird what is this one data point that is not matched\nprint(len(df_fonts_outliers) - 6744) # We throw away 11 rows – 2 outliers and 9 duplicates.\n#Ok my tampering hypo with outliers probably can't be proven",
   "execution_count": null,
   "outputs": [
    {
     "name": "stdout",
     "text": "6743\n6753\n",
     "output_type": "stream"
    }
   ]
  },
  {
   "cell_type": "code",
   "metadata": {
    "tags": [],
    "cell_id": "00105-37490303-5b9c-421a-a319-0a2e66ebc0ab",
    "deepnote_to_be_reexecuted": true,
    "source_hash": "15f7b908",
    "execution_start": 1634839385987,
    "execution_millis": 34,
    "deepnote_app_coordinates": {
     "x": 0,
     "y": 657,
     "w": 12,
     "h": 5
    },
    "deepnote_cell_type": "code",
    "deepnote_cell_height": 216,
    "deepnote_output_heights": [
     119
    ]
   },
   "source": "data_helvetica.groupby('condition').baseline_average.agg([np.mean, np.std])",
   "execution_count": null,
   "outputs": [
    {
     "output_type": "execute_result",
     "execution_count": 49,
     "data": {
      "application/vnd.deepnote.dataframe.v2+json": {
       "row_count": 2,
       "column_count": 2,
       "columns": [
        {
         "name": "mean",
         "dtype": "float64",
         "stats": {
          "unique_count": 2,
          "nan_count": 0,
          "min": "59731.937971397776",
          "max": "75449.54053109711",
          "histogram": [
           {
            "bin_start": 59731.937971397776,
            "bin_end": 61303.69822736771,
            "count": 1
           },
           {
            "bin_start": 61303.69822736771,
            "bin_end": 62875.45848333764,
            "count": 0
           },
           {
            "bin_start": 62875.45848333764,
            "bin_end": 64447.21873930757,
            "count": 0
           },
           {
            "bin_start": 64447.21873930757,
            "bin_end": 66018.97899527752,
            "count": 0
           },
           {
            "bin_start": 66018.97899527752,
            "bin_end": 67590.73925124745,
            "count": 0
           },
           {
            "bin_start": 67590.73925124745,
            "bin_end": 69162.49950721738,
            "count": 0
           },
           {
            "bin_start": 69162.49950721738,
            "bin_end": 70734.2597631873,
            "count": 0
           },
           {
            "bin_start": 70734.2597631873,
            "bin_end": 72306.02001915724,
            "count": 0
           },
           {
            "bin_start": 72306.02001915724,
            "bin_end": 73877.78027512718,
            "count": 0
           },
           {
            "bin_start": 73877.78027512718,
            "bin_end": 75449.54053109711,
            "count": 1
           }
          ]
         }
        },
        {
         "name": "std",
         "dtype": "float64",
         "stats": {
          "unique_count": 2,
          "nan_count": 0,
          "min": "49798.18150190532",
          "max": "50350.71143593835",
          "histogram": [
           {
            "bin_start": 49798.18150190532,
            "bin_end": 49853.43449530862,
            "count": 1
           },
           {
            "bin_start": 49853.43449530862,
            "bin_end": 49908.68748871193,
            "count": 0
           },
           {
            "bin_start": 49908.68748871193,
            "bin_end": 49963.94048211523,
            "count": 0
           },
           {
            "bin_start": 49963.94048211523,
            "bin_end": 50019.19347551853,
            "count": 0
           },
           {
            "bin_start": 50019.19347551853,
            "bin_end": 50074.44646892183,
            "count": 0
           },
           {
            "bin_start": 50074.44646892183,
            "bin_end": 50129.69946232514,
            "count": 0
           },
           {
            "bin_start": 50129.69946232514,
            "bin_end": 50184.95245572844,
            "count": 0
           },
           {
            "bin_start": 50184.95245572844,
            "bin_end": 50240.20544913174,
            "count": 0
           },
           {
            "bin_start": 50240.20544913174,
            "bin_end": 50295.45844253505,
            "count": 0
           },
           {
            "bin_start": 50295.45844253505,
            "bin_end": 50350.71143593835,
            "count": 1
           }
          ]
         }
        },
        {
         "name": "_deepnote_index_column",
         "dtype": "object"
        }
       ],
       "rows_top": [
        {
         "mean": 75449.54053109711,
         "std": 50350.71143593835,
         "_deepnote_index_column": "Sign Bottom"
        },
        {
         "mean": 59731.937971397776,
         "std": 49798.18150190532,
         "_deepnote_index_column": "Sign Top"
        }
       ],
       "rows_bottom": null
      },
      "text/plain": "                     mean           std\ncondition                              \nSign Bottom  75449.540531  50350.711436\nSign Top     59731.937971  49798.181502",
      "text/html": "<div>\n<style scoped>\n    .dataframe tbody tr th:only-of-type {\n        vertical-align: middle;\n    }\n\n    .dataframe tbody tr th {\n        vertical-align: top;\n    }\n\n    .dataframe thead th {\n        text-align: right;\n    }\n</style>\n<table border=\"1\" class=\"dataframe\">\n  <thead>\n    <tr style=\"text-align: right;\">\n      <th></th>\n      <th>mean</th>\n      <th>std</th>\n    </tr>\n    <tr>\n      <th>condition</th>\n      <th></th>\n      <th></th>\n    </tr>\n  </thead>\n  <tbody>\n    <tr>\n      <th>Sign Bottom</th>\n      <td>75449.540531</td>\n      <td>50350.711436</td>\n    </tr>\n    <tr>\n      <th>Sign Top</th>\n      <td>59731.937971</td>\n      <td>49798.181502</td>\n    </tr>\n  </tbody>\n</table>\n</div>"
     },
     "metadata": {}
    }
   ]
  },
  {
   "cell_type": "code",
   "metadata": {
    "tags": [],
    "cell_id": "00104-8c0f3d50-1ada-4f84-96ac-5fe33c8939ee",
    "deepnote_to_be_reexecuted": true,
    "source_hash": "153d22b6",
    "execution_start": 1634839386020,
    "execution_millis": 53,
    "deepnote_app_coordinates": {
     "x": 0,
     "y": 663,
     "w": 12,
     "h": 5
    },
    "deepnote_cell_type": "code",
    "deepnote_cell_height": 216,
    "deepnote_output_heights": [
     119
    ]
   },
   "source": "data_arial.groupby('condition').baseline_average.agg([np.mean, np.std])",
   "execution_count": null,
   "outputs": [
    {
     "output_type": "execute_result",
     "execution_count": 50,
     "data": {
      "application/vnd.deepnote.dataframe.v2+json": {
       "row_count": 2,
       "column_count": 2,
       "columns": [
        {
         "name": "mean",
         "dtype": "float64",
         "stats": {
          "unique_count": 2,
          "nan_count": 0,
          "min": "59660.70889376219",
          "max": "74590.01867729641",
          "histogram": [
           {
            "bin_start": 59660.70889376219,
            "bin_end": 61153.63987211561,
            "count": 1
           },
           {
            "bin_start": 61153.63987211561,
            "bin_end": 62646.570850469034,
            "count": 0
           },
           {
            "bin_start": 62646.570850469034,
            "bin_end": 64139.50182882245,
            "count": 0
           },
           {
            "bin_start": 64139.50182882245,
            "bin_end": 65632.43280717588,
            "count": 0
           },
           {
            "bin_start": 65632.43280717588,
            "bin_end": 67125.3637855293,
            "count": 0
           },
           {
            "bin_start": 67125.3637855293,
            "bin_end": 68618.29476388272,
            "count": 0
           },
           {
            "bin_start": 68618.29476388272,
            "bin_end": 70111.22574223614,
            "count": 0
           },
           {
            "bin_start": 70111.22574223614,
            "bin_end": 71604.15672058957,
            "count": 0
           },
           {
            "bin_start": 71604.15672058957,
            "bin_end": 73097.08769894298,
            "count": 0
           },
           {
            "bin_start": 73097.08769894298,
            "bin_end": 74590.01867729641,
            "count": 1
           }
          ]
         }
        },
        {
         "name": "std",
         "dtype": "float64",
         "stats": {
          "unique_count": 2,
          "nan_count": 0,
          "min": "50120.42826952093",
          "max": "50165.74331062758",
          "histogram": [
           {
            "bin_start": 50120.42826952093,
            "bin_end": 50124.9597736316,
            "count": 1
           },
           {
            "bin_start": 50124.9597736316,
            "bin_end": 50129.491277742265,
            "count": 0
           },
           {
            "bin_start": 50129.491277742265,
            "bin_end": 50134.022781852924,
            "count": 0
           },
           {
            "bin_start": 50134.022781852924,
            "bin_end": 50138.55428596359,
            "count": 0
           },
           {
            "bin_start": 50138.55428596359,
            "bin_end": 50143.085790074256,
            "count": 0
           },
           {
            "bin_start": 50143.085790074256,
            "bin_end": 50147.61729418492,
            "count": 0
           },
           {
            "bin_start": 50147.61729418492,
            "bin_end": 50152.14879829559,
            "count": 0
           },
           {
            "bin_start": 50152.14879829559,
            "bin_end": 50156.68030240625,
            "count": 0
           },
           {
            "bin_start": 50156.68030240625,
            "bin_end": 50161.21180651691,
            "count": 0
           },
           {
            "bin_start": 50161.21180651691,
            "bin_end": 50165.74331062758,
            "count": 1
           }
          ]
         }
        },
        {
         "name": "_deepnote_index_column",
         "dtype": "object"
        }
       ],
       "rows_top": [
        {
         "mean": 74590.01867729641,
         "std": 50165.74331062758,
         "_deepnote_index_column": "Sign Bottom"
        },
        {
         "mean": 59660.70889376219,
         "std": 50120.42826952093,
         "_deepnote_index_column": "Sign Top"
        }
       ],
       "rows_bottom": null
      },
      "text/plain": "                     mean           std\ncondition                              \nSign Bottom  74590.018677  50165.743311\nSign Top     59660.708894  50120.428270",
      "text/html": "<div>\n<style scoped>\n    .dataframe tbody tr th:only-of-type {\n        vertical-align: middle;\n    }\n\n    .dataframe tbody tr th {\n        vertical-align: top;\n    }\n\n    .dataframe thead th {\n        text-align: right;\n    }\n</style>\n<table border=\"1\" class=\"dataframe\">\n  <thead>\n    <tr style=\"text-align: right;\">\n      <th></th>\n      <th>mean</th>\n      <th>std</th>\n    </tr>\n    <tr>\n      <th>condition</th>\n      <th></th>\n      <th></th>\n    </tr>\n  </thead>\n  <tbody>\n    <tr>\n      <th>Sign Bottom</th>\n      <td>74590.018677</td>\n      <td>50165.743311</td>\n    </tr>\n    <tr>\n      <th>Sign Top</th>\n      <td>59660.708894</td>\n      <td>50120.428270</td>\n    </tr>\n  </tbody>\n</table>\n</div>"
     },
     "metadata": {}
    }
   ]
  },
  {
   "cell_type": "code",
   "metadata": {
    "tags": [],
    "cell_id": "00105-ca7a3775-2a15-4b98-bcdf-f0e154fe3212",
    "deepnote_to_be_reexecuted": true,
    "source_hash": "64533472",
    "execution_start": 1634839386064,
    "execution_millis": 704,
    "deepnote_app_coordinates": {
     "x": 0,
     "y": 669,
     "w": 12,
     "h": 5
    },
    "deepnote_cell_type": "code",
    "deepnote_cell_height": 451,
    "deepnote_output_heights": [
     282
    ]
   },
   "source": "fig,ax = plt.subplots(figsize=(8,4))\nsns.histplot(data_arial['update_motorcycle1']  - data_arial['baseline_motorcycle1'], palette=PALETTE, ax=ax, alpha=0.5)\nax.set_xlabel('Kilometrage difference [km]')\nplt.tight_layout()\nplt.show()",
   "execution_count": null,
   "outputs": [
    {
     "data": {
      "text/plain": "<Figure size 576x288 with 1 Axes>",
      "image/png": "[encoded data removed]"
     },
     "metadata": {
      "needs_background": "light",
      "image/png": {
       "width": 568,
       "height": 280
      }
     },
     "output_type": "display_data"
    }
   ]
  },
  {
   "cell_type": "code",
   "metadata": {
    "tags": [],
    "cell_id": "00106-4a447e11-abad-4713-8bdb-850fd2a07e2b",
    "deepnote_to_be_reexecuted": true,
    "source_hash": "88fcf0a",
    "execution_start": 1634839386897,
    "execution_millis": 550,
    "deepnote_app_coordinates": {
     "x": 0,
     "y": 675,
     "w": 12,
     "h": 5
    },
    "deepnote_cell_type": "code",
    "deepnote_cell_height": 451,
    "deepnote_output_heights": [
     282
    ]
   },
   "source": "fig,ax = plt.subplots(figsize=(8,4))\nsns.histplot(data_helvetica['update_motorcycle1']  - data_helvetica['baseline_motorcycle1'], palette=PALETTE, ax=ax, alpha=0.5)\nax.set_xlabel('Kilometrage difference [km]')\nplt.tight_layout()\nplt.show()",
   "execution_count": null,
   "outputs": [
    {
     "data": {
      "text/plain": "<Figure size 576x288 with 1 Axes>",
      "image/png": "[encoded data removed]"
     },
     "metadata": {
      "needs_background": "light",
      "image/png": {
       "width": 568,
       "height": 280
      }
     },
     "output_type": "display_data"
    }
   ]
  },
  {
   "cell_type": "code",
   "metadata": {
    "tags": [],
    "cell_id": "00107-571240e4-503c-41d7-86b4-b477af85cc2f",
    "deepnote_to_be_reexecuted": true,
    "source_hash": "eacdd94d",
    "execution_start": 1634839387508,
    "execution_millis": 2260,
    "deepnote_app_coordinates": {
     "x": 0,
     "y": 681,
     "w": 12,
     "h": 5
    },
    "deepnote_cell_type": "code",
    "deepnote_cell_height": 865,
    "deepnote_output_heights": [
     570
    ]
   },
   "source": "fig,ax = plt.subplots(2,1,figsize=(8,8),sharex=True)\nsns.histplot(data['baseline_motorcycle1'], palette=PALETTE, ax=ax[0], edgecolor=None, alpha=0.5)\nax[0].set_title('Baseline contracts')\n\n\nx = data['update_motorcycle1'].apply(lambda x: max(0, x-20000))\nsns.histplot(x, palette=PALETTE, ax=ax[1], edgecolor=None, alpha=0.5)\nax[1].set_title('Updated contracts')\n\nplt.xlabel('Kilometrage [km]')\nplt.tight_layout()\nplt.show()",
   "execution_count": null,
   "outputs": [
    {
     "data": {
      "text/plain": "<Figure size 576x576 with 2 Axes>",
      "image/png": "[encoded data removed]"
     },
     "metadata": {
      "needs_background": "light",
      "image/png": {
       "width": 568,
       "height": 568
      }
     },
     "output_type": "display_data"
    }
   ]
  },
  {
   "cell_type": "code",
   "metadata": {
    "tags": [],
    "cell_id": "00111-4f854f47-90df-4f8d-804f-3a7d9ae50d60",
    "deepnote_to_be_reexecuted": true,
    "source_hash": "79838585",
    "execution_start": 1634839389771,
    "execution_millis": 24,
    "deepnote_app_coordinates": {
     "x": 0,
     "y": 687,
     "w": 12,
     "h": 5
    },
    "deepnote_cell_type": "code",
    "deepnote_cell_height": 272,
    "deepnote_output_heights": [
     175
    ]
   },
   "source": "x.describe()",
   "execution_count": null,
   "outputs": [
    {
     "output_type": "execute_result",
     "execution_count": 54,
     "data": {
      "text/plain": "count     13486.000000\nmean      72719.383064\nstd       57955.255172\nmin           0.000000\n25%       30092.000000\n50%       62382.000000\n75%      103303.250000\nmax      990893.000000\nName: update_motorcycle1, dtype: float64"
     },
     "metadata": {}
    }
   ]
  },
  {
   "cell_type": "code",
   "metadata": {
    "tags": [],
    "cell_id": "00112-ed3ed940-89aa-4dc1-8e1e-0c7aff769bcd",
    "deepnote_to_be_reexecuted": true,
    "source_hash": "79f1f8c",
    "execution_start": 1634839389799,
    "execution_millis": 1117,
    "deepnote_app_coordinates": {
     "x": 0,
     "y": 693,
     "w": 12,
     "h": 5
    },
    "deepnote_cell_type": "code",
    "deepnote_cell_height": 432,
    "deepnote_output_heights": [
     21,
     265
    ]
   },
   "source": "df_fonts.baseline_motorcycle1[df_fonts.font=='Arial'].sort_values()\nsns.histplot(df_fonts.baseline_motorcycle1[df_fonts.font=='Arial'])",
   "execution_count": null,
   "outputs": [
    {
     "output_type": "execute_result",
     "execution_count": 55,
     "data": {
      "text/plain": "<AxesSubplot:xlabel='baseline_motorcycle1', ylabel='Count'>"
     },
     "metadata": {}
    },
    {
     "data": {
      "text/plain": "<Figure size 432x288 with 1 Axes>",
      "image/png": "[encoded data removed]"
     },
     "metadata": {
      "needs_background": "light",
      "image/png": {
       "width": 389,
       "height": 263
      }
     },
     "output_type": "display_data"
    }
   ]
  },
  {
   "cell_type": "code",
   "metadata": {
    "tags": [],
    "cell_id": "00116-5644463c-620f-4a26-a67a-b68c10df8eed",
    "deepnote_to_be_reexecuted": true,
    "source_hash": "86c8c5a5",
    "execution_start": 1634839390921,
    "execution_millis": 1040,
    "deepnote_app_coordinates": {
     "x": 0,
     "y": 699,
     "w": 12,
     "h": 5
    },
    "deepnote_cell_type": "code",
    "deepnote_cell_height": 432,
    "deepnote_output_heights": [
     21,
     265
    ]
   },
   "source": "df_fonts.baseline_motorcycle1[df_fonts.font=='Helvetica'].sort_values()\nsns.histplot(df_fonts.baseline_motorcycle1[df_fonts.font=='Helvetica'])",
   "execution_count": null,
   "outputs": [
    {
     "output_type": "execute_result",
     "execution_count": 56,
     "data": {
      "text/plain": "<AxesSubplot:xlabel='baseline_motorcycle1', ylabel='Count'>"
     },
     "metadata": {}
    },
    {
     "data": {
      "text/plain": "<Figure size 432x288 with 1 Axes>",
      "image/png": "[encoded data removed]"
     },
     "metadata": {
      "needs_background": "light",
      "image/png": {
       "width": 389,
       "height": 263
      }
     },
     "output_type": "display_data"
    }
   ]
  },
  {
   "cell_type": "code",
   "metadata": {
    "tags": [],
    "cell_id": "00109-48502dfd-ca71-4eba-b3ce-a950181da6c6",
    "deepnote_to_be_reexecuted": true,
    "source_hash": "e3aa92f9",
    "execution_start": 1634839391966,
    "execution_millis": 1155,
    "deepnote_app_coordinates": {
     "x": 0,
     "y": 705,
     "w": 12,
     "h": 5
    },
    "deepnote_cell_type": "code",
    "deepnote_cell_height": 811,
    "deepnote_output_heights": [
     570
    ]
   },
   "source": "fig,ax = plt.subplots(2,1,figsize=(8,8),sharex=False)\nsns.histplot(data['update_motorcycle1']  - data['baseline_motorcycle1'], palette=PALETTE, ax=ax[0], edgecolor=None, alpha=0.5)\nax[0].set_title('Baseline contracts')\nsub = x - data['baseline_motorcycle1']\nsns.histplot(sub, palette=PALETTE, ax=ax[1], edgecolor=None, alpha=0.5)\nax[1].set_title('Updated contracts')\nplt.xlabel('Kilometrage [km]')\nplt.tight_layout()\nplt.show()",
   "execution_count": null,
   "outputs": [
    {
     "data": {
      "text/plain": "<Figure size 576x576 with 2 Axes>",
      "image/png": "[encoded data removed]"
     },
     "metadata": {
      "needs_background": "light",
      "image/png": {
       "width": 568,
       "height": 568
      }
     },
     "output_type": "display_data"
    }
   ]
  },
  {
   "cell_type": "code",
   "metadata": {
    "tags": [],
    "cell_id": "00110-aa977c1c-69b0-4dda-9a5f-893175cecbd3",
    "deepnote_to_be_reexecuted": true,
    "source_hash": "5ba1ffcf",
    "execution_start": 1634839393127,
    "execution_millis": 2603,
    "deepnote_app_coordinates": {
     "x": 0,
     "y": 711,
     "w": 12,
     "h": 5
    },
    "deepnote_cell_type": "code",
    "deepnote_cell_height": 865,
    "deepnote_output_heights": [
     570
    ]
   },
   "source": "fig,ax = plt.subplots(2,1,figsize=(8,8),sharex=True)\nsns.histplot(data['update_motorcycle1'], palette=PALETTE, ax=ax[0], edgecolor=None, alpha=0.5)\nax[1].set_title('Updated contracts')\n\nfake_y = data['baseline_motorcycle1'].apply(lambda x: x+20000)\nsns.histplot(fake_y, palette=PALETTE, ax=ax[1], edgecolor=None, alpha=0.5)\nax[0].set_title('Updated contracts FAKE')\n\n\nplt.xlabel('Kilometrage [km]')\nplt.tight_layout()\nplt.show()",
   "execution_count": null,
   "outputs": [
    {
     "data": {
      "text/plain": "<Figure size 576x576 with 2 Axes>",
      "image/png": "[encoded data removed]"
     },
     "metadata": {
      "needs_background": "light",
      "image/png": {
       "width": 568,
       "height": 568
      }
     },
     "output_type": "display_data"
    }
   ]
  },
  {
   "cell_type": "code",
   "metadata": {
    "tags": [],
    "cell_id": "00111-44a65d15-f5a2-4db2-9811-5bd2a58bd58c",
    "deepnote_to_be_reexecuted": true,
    "source_hash": "8407a3f4",
    "execution_start": 1634839395733,
    "execution_millis": 83,
    "deepnote_app_coordinates": {
     "x": 0,
     "y": 717,
     "w": 12,
     "h": 5
    },
    "deepnote_cell_type": "code",
    "deepnote_cell_height": 216,
    "deepnote_output_heights": [
     119
    ]
   },
   "source": "data_arial.groupby('condition').count()",
   "execution_count": null,
   "outputs": [
    {
     "output_type": "execute_result",
     "execution_count": 59,
     "data": {
      "application/vnd.deepnote.dataframe.v2+json": {
       "row_count": 2,
       "column_count": 13,
       "columns": [
        {
         "name": "baseline_motorcycle1",
         "dtype": "int64",
         "stats": {
          "unique_count": 2,
          "nan_count": 0,
          "min": "3324",
          "max": "3420",
          "histogram": [
           {
            "bin_start": 3324,
            "bin_end": 3333.6,
            "count": 1
           },
           {
            "bin_start": 3333.6,
            "bin_end": 3343.2,
            "count": 0
           },
           {
            "bin_start": 3343.2,
            "bin_end": 3352.8,
            "count": 0
           },
           {
            "bin_start": 3352.8,
            "bin_end": 3362.4,
            "count": 0
           },
           {
            "bin_start": 3362.4,
            "bin_end": 3372,
            "count": 0
           },
           {
            "bin_start": 3372,
            "bin_end": 3381.6,
            "count": 0
           },
           {
            "bin_start": 3381.6,
            "bin_end": 3391.2,
            "count": 0
           },
           {
            "bin_start": 3391.2,
            "bin_end": 3400.8,
            "count": 0
           },
           {
            "bin_start": 3400.8,
            "bin_end": 3410.4,
            "count": 0
           },
           {
            "bin_start": 3410.4,
            "bin_end": 3420,
            "count": 1
           }
          ]
         }
        },
        {
         "name": "update_motorcycle1",
         "dtype": "int64",
         "stats": {
          "unique_count": 2,
          "nan_count": 0,
          "min": "3324",
          "max": "3420",
          "histogram": [
           {
            "bin_start": 3324,
            "bin_end": 3333.6,
            "count": 1
           },
           {
            "bin_start": 3333.6,
            "bin_end": 3343.2,
            "count": 0
           },
           {
            "bin_start": 3343.2,
            "bin_end": 3352.8,
            "count": 0
           },
           {
            "bin_start": 3352.8,
            "bin_end": 3362.4,
            "count": 0
           },
           {
            "bin_start": 3362.4,
            "bin_end": 3372,
            "count": 0
           },
           {
            "bin_start": 3372,
            "bin_end": 3381.6,
            "count": 0
           },
           {
            "bin_start": 3381.6,
            "bin_end": 3391.2,
            "count": 0
           },
           {
            "bin_start": 3391.2,
            "bin_end": 3400.8,
            "count": 0
           },
           {
            "bin_start": 3400.8,
            "bin_end": 3410.4,
            "count": 0
           },
           {
            "bin_start": 3410.4,
            "bin_end": 3420,
            "count": 1
           }
          ]
         }
        },
        {
         "name": "baseline_motorcycle2",
         "dtype": "int64",
         "stats": {
          "unique_count": 2,
          "nan_count": 0,
          "min": "1399",
          "max": "1426",
          "histogram": [
           {
            "bin_start": 1399,
            "bin_end": 1401.7,
            "count": 1
           },
           {
            "bin_start": 1401.7,
            "bin_end": 1404.4,
            "count": 0
           },
           {
            "bin_start": 1404.4,
            "bin_end": 1407.1,
            "count": 0
           },
           {
            "bin_start": 1407.1,
            "bin_end": 1409.8,
            "count": 0
           },
           {
            "bin_start": 1409.8,
            "bin_end": 1412.5,
            "count": 0
           },
           {
            "bin_start": 1412.5,
            "bin_end": 1415.2,
            "count": 0
           },
           {
            "bin_start": 1415.2,
            "bin_end": 1417.9,
            "count": 0
           },
           {
            "bin_start": 1417.9,
            "bin_end": 1420.6,
            "count": 0
           },
           {
            "bin_start": 1420.6,
            "bin_end": 1423.3,
            "count": 0
           },
           {
            "bin_start": 1423.3,
            "bin_end": 1426,
            "count": 1
           }
          ]
         }
        },
        {
         "name": "update_motorcycle2",
         "dtype": "int64",
         "stats": {
          "unique_count": 2,
          "nan_count": 0,
          "min": "1399",
          "max": "1426",
          "histogram": [
           {
            "bin_start": 1399,
            "bin_end": 1401.7,
            "count": 1
           },
           {
            "bin_start": 1401.7,
            "bin_end": 1404.4,
            "count": 0
           },
           {
            "bin_start": 1404.4,
            "bin_end": 1407.1,
            "count": 0
           },
           {
            "bin_start": 1407.1,
            "bin_end": 1409.8,
            "count": 0
           },
           {
            "bin_start": 1409.8,
            "bin_end": 1412.5,
            "count": 0
           },
           {
            "bin_start": 1412.5,
            "bin_end": 1415.2,
            "count": 0
           },
           {
            "bin_start": 1415.2,
            "bin_end": 1417.9,
            "count": 0
           },
           {
            "bin_start": 1417.9,
            "bin_end": 1420.6,
            "count": 0
           },
           {
            "bin_start": 1420.6,
            "bin_end": 1423.3,
            "count": 0
           },
           {
            "bin_start": 1423.3,
            "bin_end": 1426,
            "count": 1
           }
          ]
         }
        },
        {
         "name": "baseline_motorcycle3",
         "dtype": "int64",
         "stats": {
          "unique_count": 2,
          "nan_count": 0,
          "min": "318",
          "max": "321",
          "histogram": [
           {
            "bin_start": 318,
            "bin_end": 318.3,
            "count": 1
           },
           {
            "bin_start": 318.3,
            "bin_end": 318.6,
            "count": 0
           },
           {
            "bin_start": 318.6,
            "bin_end": 318.9,
            "count": 0
           },
           {
            "bin_start": 318.9,
            "bin_end": 319.2,
            "count": 0
           },
           {
            "bin_start": 319.2,
            "bin_end": 319.5,
            "count": 0
           },
           {
            "bin_start": 319.5,
            "bin_end": 319.8,
            "count": 0
           },
           {
            "bin_start": 319.8,
            "bin_end": 320.1,
            "count": 0
           },
           {
            "bin_start": 320.1,
            "bin_end": 320.4,
            "count": 0
           },
           {
            "bin_start": 320.4,
            "bin_end": 320.7,
            "count": 0
           },
           {
            "bin_start": 320.7,
            "bin_end": 321,
            "count": 1
           }
          ]
         }
        },
        {
         "name": "update_motorcycle3",
         "dtype": "int64",
         "stats": {
          "unique_count": 2,
          "nan_count": 0,
          "min": "318",
          "max": "321",
          "histogram": [
           {
            "bin_start": 318,
            "bin_end": 318.3,
            "count": 1
           },
           {
            "bin_start": 318.3,
            "bin_end": 318.6,
            "count": 0
           },
           {
            "bin_start": 318.6,
            "bin_end": 318.9,
            "count": 0
           },
           {
            "bin_start": 318.9,
            "bin_end": 319.2,
            "count": 0
           },
           {
            "bin_start": 319.2,
            "bin_end": 319.5,
            "count": 0
           },
           {
            "bin_start": 319.5,
            "bin_end": 319.8,
            "count": 0
           },
           {
            "bin_start": 319.8,
            "bin_end": 320.1,
            "count": 0
           },
           {
            "bin_start": 320.1,
            "bin_end": 320.4,
            "count": 0
           },
           {
            "bin_start": 320.4,
            "bin_end": 320.7,
            "count": 0
           },
           {
            "bin_start": 320.7,
            "bin_end": 321,
            "count": 1
           }
          ]
         }
        },
        {
         "name": "baseline_motorcycle4",
         "dtype": "int64",
         "stats": {
          "unique_count": 2,
          "nan_count": 0,
          "min": "81",
          "max": "82",
          "histogram": [
           {
            "bin_start": 81,
            "bin_end": 81.1,
            "count": 1
           },
           {
            "bin_start": 81.1,
            "bin_end": 81.2,
            "count": 0
           },
           {
            "bin_start": 81.2,
            "bin_end": 81.3,
            "count": 0
           },
           {
            "bin_start": 81.3,
            "bin_end": 81.4,
            "count": 0
           },
           {
            "bin_start": 81.4,
            "bin_end": 81.5,
            "count": 0
           },
           {
            "bin_start": 81.5,
            "bin_end": 81.6,
            "count": 0
           },
           {
            "bin_start": 81.6,
            "bin_end": 81.7,
            "count": 0
           },
           {
            "bin_start": 81.7,
            "bin_end": 81.8,
            "count": 0
           },
           {
            "bin_start": 81.8,
            "bin_end": 81.9,
            "count": 0
           },
           {
            "bin_start": 81.9,
            "bin_end": 82,
            "count": 1
           }
          ]
         }
        },
        {
         "name": "update_motorcycle4",
         "dtype": "int64",
         "stats": {
          "unique_count": 2,
          "nan_count": 0,
          "min": "81",
          "max": "82",
          "histogram": [
           {
            "bin_start": 81,
            "bin_end": 81.1,
            "count": 1
           },
           {
            "bin_start": 81.1,
            "bin_end": 81.2,
            "count": 0
           },
           {
            "bin_start": 81.2,
            "bin_end": 81.3,
            "count": 0
           },
           {
            "bin_start": 81.3,
            "bin_end": 81.4,
            "count": 0
           },
           {
            "bin_start": 81.4,
            "bin_end": 81.5,
            "count": 0
           },
           {
            "bin_start": 81.5,
            "bin_end": 81.6,
            "count": 0
           },
           {
            "bin_start": 81.6,
            "bin_end": 81.7,
            "count": 0
           },
           {
            "bin_start": 81.7,
            "bin_end": 81.8,
            "count": 0
           },
           {
            "bin_start": 81.8,
            "bin_end": 81.9,
            "count": 0
           },
           {
            "bin_start": 81.9,
            "bin_end": 82,
            "count": 1
           }
          ]
         }
        },
        {
         "name": "motorcycle_count",
         "dtype": "int64",
         "stats": {
          "unique_count": 2,
          "nan_count": 0,
          "min": "3324",
          "max": "3420",
          "histogram": [
           {
            "bin_start": 3324,
            "bin_end": 3333.6,
            "count": 1
           },
           {
            "bin_start": 3333.6,
            "bin_end": 3343.2,
            "count": 0
           },
           {
            "bin_start": 3343.2,
            "bin_end": 3352.8,
            "count": 0
           },
           {
            "bin_start": 3352.8,
            "bin_end": 3362.4,
            "count": 0
           },
           {
            "bin_start": 3362.4,
            "bin_end": 3372,
            "count": 0
           },
           {
            "bin_start": 3372,
            "bin_end": 3381.6,
            "count": 0
           },
           {
            "bin_start": 3381.6,
            "bin_end": 3391.2,
            "count": 0
           },
           {
            "bin_start": 3391.2,
            "bin_end": 3400.8,
            "count": 0
           },
           {
            "bin_start": 3400.8,
            "bin_end": 3410.4,
            "count": 0
           },
           {
            "bin_start": 3410.4,
            "bin_end": 3420,
            "count": 1
           }
          ]
         }
        },
        {
         "name": "baseline_average",
         "dtype": "int64",
         "stats": {
          "unique_count": 2,
          "nan_count": 0,
          "min": "3324",
          "max": "3420",
          "histogram": [
           {
            "bin_start": 3324,
            "bin_end": 3333.6,
            "count": 1
           },
           {
            "bin_start": 3333.6,
            "bin_end": 3343.2,
            "count": 0
           },
           {
            "bin_start": 3343.2,
            "bin_end": 3352.8,
            "count": 0
           },
           {
            "bin_start": 3352.8,
            "bin_end": 3362.4,
            "count": 0
           },
           {
            "bin_start": 3362.4,
            "bin_end": 3372,
            "count": 0
           },
           {
            "bin_start": 3372,
            "bin_end": 3381.6,
            "count": 0
           },
           {
            "bin_start": 3381.6,
            "bin_end": 3391.2,
            "count": 0
           },
           {
            "bin_start": 3391.2,
            "bin_end": 3400.8,
            "count": 0
           },
           {
            "bin_start": 3400.8,
            "bin_end": 3410.4,
            "count": 0
           },
           {
            "bin_start": 3410.4,
            "bin_end": 3420,
            "count": 1
           }
          ]
         }
        },
        {
         "name": "update_average",
         "dtype": "int64",
         "stats": {
          "unique_count": 2,
          "nan_count": 0,
          "min": "3324",
          "max": "3420",
          "histogram": [
           {
            "bin_start": 3324,
            "bin_end": 3333.6,
            "count": 1
           },
           {
            "bin_start": 3333.6,
            "bin_end": 3343.2,
            "count": 0
           },
           {
            "bin_start": 3343.2,
            "bin_end": 3352.8,
            "count": 0
           },
           {
            "bin_start": 3352.8,
            "bin_end": 3362.4,
            "count": 0
           },
           {
            "bin_start": 3362.4,
            "bin_end": 3372,
            "count": 0
           },
           {
            "bin_start": 3372,
            "bin_end": 3381.6,
            "count": 0
           },
           {
            "bin_start": 3381.6,
            "bin_end": 3391.2,
            "count": 0
           },
           {
            "bin_start": 3391.2,
            "bin_end": 3400.8,
            "count": 0
           },
           {
            "bin_start": 3400.8,
            "bin_end": 3410.4,
            "count": 0
           },
           {
            "bin_start": 3410.4,
            "bin_end": 3420,
            "count": 1
           }
          ]
         }
        },
        {
         "name": "diff_average",
         "dtype": "int64",
         "stats": {
          "unique_count": 2,
          "nan_count": 0,
          "min": "3324",
          "max": "3420",
          "histogram": [
           {
            "bin_start": 3324,
            "bin_end": 3333.6,
            "count": 1
           },
           {
            "bin_start": 3333.6,
            "bin_end": 3343.2,
            "count": 0
           },
           {
            "bin_start": 3343.2,
            "bin_end": 3352.8,
            "count": 0
           },
           {
            "bin_start": 3352.8,
            "bin_end": 3362.4,
            "count": 0
           },
           {
            "bin_start": 3362.4,
            "bin_end": 3372,
            "count": 0
           },
           {
            "bin_start": 3372,
            "bin_end": 3381.6,
            "count": 0
           },
           {
            "bin_start": 3381.6,
            "bin_end": 3391.2,
            "count": 0
           },
           {
            "bin_start": 3391.2,
            "bin_end": 3400.8,
            "count": 0
           },
           {
            "bin_start": 3400.8,
            "bin_end": 3410.4,
            "count": 0
           },
           {
            "bin_start": 3410.4,
            "bin_end": 3420,
            "count": 1
           }
          ]
         }
        },
        {
         "name": "font",
         "dtype": "int64",
         "stats": {
          "unique_count": 2,
          "nan_count": 0,
          "min": "3324",
          "max": "3420",
          "histogram": [
           {
            "bin_start": 3324,
            "bin_end": 3333.6,
            "count": 1
           },
           {
            "bin_start": 3333.6,
            "bin_end": 3343.2,
            "count": 0
           },
           {
            "bin_start": 3343.2,
            "bin_end": 3352.8,
            "count": 0
           },
           {
            "bin_start": 3352.8,
            "bin_end": 3362.4,
            "count": 0
           },
           {
            "bin_start": 3362.4,
            "bin_end": 3372,
            "count": 0
           },
           {
            "bin_start": 3372,
            "bin_end": 3381.6,
            "count": 0
           },
           {
            "bin_start": 3381.6,
            "bin_end": 3391.2,
            "count": 0
           },
           {
            "bin_start": 3391.2,
            "bin_end": 3400.8,
            "count": 0
           },
           {
            "bin_start": 3400.8,
            "bin_end": 3410.4,
            "count": 0
           },
           {
            "bin_start": 3410.4,
            "bin_end": 3420,
            "count": 1
           }
          ]
         }
        },
        {
         "name": "_deepnote_index_column",
         "dtype": "object"
        }
       ],
       "rows_top": [
        {
         "baseline_motorcycle1": 3324,
         "update_motorcycle1": 3324,
         "baseline_motorcycle2": 1399,
         "update_motorcycle2": 1399,
         "baseline_motorcycle3": 318,
         "update_motorcycle3": 318,
         "baseline_motorcycle4": 81,
         "update_motorcycle4": 81,
         "motorcycle_count": 3324,
         "baseline_average": 3324,
         "update_average": 3324,
         "diff_average": 3324,
         "font": 3324,
         "_deepnote_index_column": "Sign Bottom"
        },
        {
         "baseline_motorcycle1": 3420,
         "update_motorcycle1": 3420,
         "baseline_motorcycle2": 1426,
         "update_motorcycle2": 1426,
         "baseline_motorcycle3": 321,
         "update_motorcycle3": 321,
         "baseline_motorcycle4": 82,
         "update_motorcycle4": 82,
         "motorcycle_count": 3420,
         "baseline_average": 3420,
         "update_average": 3420,
         "diff_average": 3420,
         "font": 3420,
         "_deepnote_index_column": "Sign Top"
        }
       ],
       "rows_bottom": null
      },
      "text/plain": "             baseline_motorcycle1  update_motorcycle1  baseline_motorcycle2  \\\ncondition                                                                     \nSign Bottom                  3324                3324                  1399   \nSign Top                     3420                3420                  1426   \n\n             update_motorcycle2  baseline_motorcycle3  update_motorcycle3  \\\ncondition                                                                   \nSign Bottom                1399                   318                 318   \nSign Top                   1426                   321                 321   \n\n             baseline_motorcycle4  update_motorcycle4  motorcycle_count  \\\ncondition                                                                 \nSign Bottom                    81                  81              3324   \nSign Top                       82                  82              3420   \n\n             baseline_average  update_average  diff_average  font  \ncondition                                                          \nSign Bottom              3324            3324          3324  3324  \nSign Top                 3420            3420          3420  3420  ",
      "text/html": "<div>\n<style scoped>\n    .dataframe tbody tr th:only-of-type {\n        vertical-align: middle;\n    }\n\n    .dataframe tbody tr th {\n        vertical-align: top;\n    }\n\n    .dataframe thead th {\n        text-align: right;\n    }\n</style>\n<table border=\"1\" class=\"dataframe\">\n  <thead>\n    <tr style=\"text-align: right;\">\n      <th></th>\n      <th>baseline_motorcycle1</th>\n      <th>update_motorcycle1</th>\n      <th>baseline_motorcycle2</th>\n      <th>update_motorcycle2</th>\n      <th>baseline_motorcycle3</th>\n      <th>update_motorcycle3</th>\n      <th>baseline_motorcycle4</th>\n      <th>update_motorcycle4</th>\n      <th>motorcycle_count</th>\n      <th>baseline_average</th>\n      <th>update_average</th>\n      <th>diff_average</th>\n      <th>font</th>\n    </tr>\n    <tr>\n      <th>condition</th>\n      <th></th>\n      <th></th>\n      <th></th>\n      <th></th>\n      <th></th>\n      <th></th>\n      <th></th>\n      <th></th>\n      <th></th>\n      <th></th>\n      <th></th>\n      <th></th>\n      <th></th>\n    </tr>\n  </thead>\n  <tbody>\n    <tr>\n      <th>Sign Bottom</th>\n      <td>3324</td>\n      <td>3324</td>\n      <td>1399</td>\n      <td>1399</td>\n      <td>318</td>\n      <td>318</td>\n      <td>81</td>\n      <td>81</td>\n      <td>3324</td>\n      <td>3324</td>\n      <td>3324</td>\n      <td>3324</td>\n      <td>3324</td>\n    </tr>\n    <tr>\n      <th>Sign Top</th>\n      <td>3420</td>\n      <td>3420</td>\n      <td>1426</td>\n      <td>1426</td>\n      <td>321</td>\n      <td>321</td>\n      <td>82</td>\n      <td>82</td>\n      <td>3420</td>\n      <td>3420</td>\n      <td>3420</td>\n      <td>3420</td>\n      <td>3420</td>\n    </tr>\n  </tbody>\n</table>\n</div>"
     },
     "metadata": {}
    }
   ]
  },
  {
   "cell_type": "code",
   "metadata": {
    "tags": [],
    "cell_id": "00116-2bb4b1b6-b843-4182-9415-c6d75c8d9433",
    "deepnote_to_be_reexecuted": true,
    "source_hash": "68181eaa",
    "execution_start": 1634839395825,
    "execution_millis": 75,
    "deepnote_app_coordinates": {
     "x": 0,
     "y": 723,
     "w": 12,
     "h": 5
    },
    "deepnote_cell_type": "code",
    "deepnote_cell_height": 216,
    "deepnote_output_heights": [
     119
    ]
   },
   "source": "data_helvetica.groupby('condition').count()",
   "execution_count": null,
   "outputs": [
    {
     "output_type": "execute_result",
     "execution_count": 60,
     "data": {
      "application/vnd.deepnote.dataframe.v2+json": {
       "row_count": 2,
       "column_count": 13,
       "columns": [
        {
         "name": "baseline_motorcycle1",
         "dtype": "int64",
         "stats": {
          "unique_count": 2,
          "nan_count": 0,
          "min": "3339",
          "max": "3403",
          "histogram": [
           {
            "bin_start": 3339,
            "bin_end": 3345.4,
            "count": 1
           },
           {
            "bin_start": 3345.4,
            "bin_end": 3351.8,
            "count": 0
           },
           {
            "bin_start": 3351.8,
            "bin_end": 3358.2,
            "count": 0
           },
           {
            "bin_start": 3358.2,
            "bin_end": 3364.6,
            "count": 0
           },
           {
            "bin_start": 3364.6,
            "bin_end": 3371,
            "count": 0
           },
           {
            "bin_start": 3371,
            "bin_end": 3377.4,
            "count": 0
           },
           {
            "bin_start": 3377.4,
            "bin_end": 3383.8,
            "count": 0
           },
           {
            "bin_start": 3383.8,
            "bin_end": 3390.2,
            "count": 0
           },
           {
            "bin_start": 3390.2,
            "bin_end": 3396.6,
            "count": 0
           },
           {
            "bin_start": 3396.6,
            "bin_end": 3403,
            "count": 1
           }
          ]
         }
        },
        {
         "name": "update_motorcycle1",
         "dtype": "int64",
         "stats": {
          "unique_count": 2,
          "nan_count": 0,
          "min": "3339",
          "max": "3403",
          "histogram": [
           {
            "bin_start": 3339,
            "bin_end": 3345.4,
            "count": 1
           },
           {
            "bin_start": 3345.4,
            "bin_end": 3351.8,
            "count": 0
           },
           {
            "bin_start": 3351.8,
            "bin_end": 3358.2,
            "count": 0
           },
           {
            "bin_start": 3358.2,
            "bin_end": 3364.6,
            "count": 0
           },
           {
            "bin_start": 3364.6,
            "bin_end": 3371,
            "count": 0
           },
           {
            "bin_start": 3371,
            "bin_end": 3377.4,
            "count": 0
           },
           {
            "bin_start": 3377.4,
            "bin_end": 3383.8,
            "count": 0
           },
           {
            "bin_start": 3383.8,
            "bin_end": 3390.2,
            "count": 0
           },
           {
            "bin_start": 3390.2,
            "bin_end": 3396.6,
            "count": 0
           },
           {
            "bin_start": 3396.6,
            "bin_end": 3403,
            "count": 1
           }
          ]
         }
        },
        {
         "name": "baseline_motorcycle2",
         "dtype": "int64",
         "stats": {
          "unique_count": 2,
          "nan_count": 0,
          "min": "1391",
          "max": "1431",
          "histogram": [
           {
            "bin_start": 1391,
            "bin_end": 1395,
            "count": 1
           },
           {
            "bin_start": 1395,
            "bin_end": 1399,
            "count": 0
           },
           {
            "bin_start": 1399,
            "bin_end": 1403,
            "count": 0
           },
           {
            "bin_start": 1403,
            "bin_end": 1407,
            "count": 0
           },
           {
            "bin_start": 1407,
            "bin_end": 1411,
            "count": 0
           },
           {
            "bin_start": 1411,
            "bin_end": 1415,
            "count": 0
           },
           {
            "bin_start": 1415,
            "bin_end": 1419,
            "count": 0
           },
           {
            "bin_start": 1419,
            "bin_end": 1423,
            "count": 0
           },
           {
            "bin_start": 1423,
            "bin_end": 1427,
            "count": 0
           },
           {
            "bin_start": 1427,
            "bin_end": 1431,
            "count": 1
           }
          ]
         }
        },
        {
         "name": "update_motorcycle2",
         "dtype": "int64",
         "stats": {
          "unique_count": 2,
          "nan_count": 0,
          "min": "1391",
          "max": "1431",
          "histogram": [
           {
            "bin_start": 1391,
            "bin_end": 1395,
            "count": 1
           },
           {
            "bin_start": 1395,
            "bin_end": 1399,
            "count": 0
           },
           {
            "bin_start": 1399,
            "bin_end": 1403,
            "count": 0
           },
           {
            "bin_start": 1403,
            "bin_end": 1407,
            "count": 0
           },
           {
            "bin_start": 1407,
            "bin_end": 1411,
            "count": 0
           },
           {
            "bin_start": 1411,
            "bin_end": 1415,
            "count": 0
           },
           {
            "bin_start": 1415,
            "bin_end": 1419,
            "count": 0
           },
           {
            "bin_start": 1419,
            "bin_end": 1423,
            "count": 0
           },
           {
            "bin_start": 1423,
            "bin_end": 1427,
            "count": 0
           },
           {
            "bin_start": 1427,
            "bin_end": 1431,
            "count": 1
           }
          ]
         }
        },
        {
         "name": "baseline_motorcycle3",
         "dtype": "int64",
         "stats": {
          "unique_count": 2,
          "nan_count": 0,
          "min": "313",
          "max": "325",
          "histogram": [
           {
            "bin_start": 313,
            "bin_end": 314.2,
            "count": 1
           },
           {
            "bin_start": 314.2,
            "bin_end": 315.4,
            "count": 0
           },
           {
            "bin_start": 315.4,
            "bin_end": 316.6,
            "count": 0
           },
           {
            "bin_start": 316.6,
            "bin_end": 317.8,
            "count": 0
           },
           {
            "bin_start": 317.8,
            "bin_end": 319,
            "count": 0
           },
           {
            "bin_start": 319,
            "bin_end": 320.2,
            "count": 0
           },
           {
            "bin_start": 320.2,
            "bin_end": 321.4,
            "count": 0
           },
           {
            "bin_start": 321.4,
            "bin_end": 322.6,
            "count": 0
           },
           {
            "bin_start": 322.6,
            "bin_end": 323.8,
            "count": 0
           },
           {
            "bin_start": 323.8,
            "bin_end": 325,
            "count": 1
           }
          ]
         }
        },
        {
         "name": "update_motorcycle3",
         "dtype": "int64",
         "stats": {
          "unique_count": 2,
          "nan_count": 0,
          "min": "313",
          "max": "325",
          "histogram": [
           {
            "bin_start": 313,
            "bin_end": 314.2,
            "count": 1
           },
           {
            "bin_start": 314.2,
            "bin_end": 315.4,
            "count": 0
           },
           {
            "bin_start": 315.4,
            "bin_end": 316.6,
            "count": 0
           },
           {
            "bin_start": 316.6,
            "bin_end": 317.8,
            "count": 0
           },
           {
            "bin_start": 317.8,
            "bin_end": 319,
            "count": 0
           },
           {
            "bin_start": 319,
            "bin_end": 320.2,
            "count": 0
           },
           {
            "bin_start": 320.2,
            "bin_end": 321.4,
            "count": 0
           },
           {
            "bin_start": 321.4,
            "bin_end": 322.6,
            "count": 0
           },
           {
            "bin_start": 322.6,
            "bin_end": 323.8,
            "count": 0
           },
           {
            "bin_start": 323.8,
            "bin_end": 325,
            "count": 1
           }
          ]
         }
        },
        {
         "name": "baseline_motorcycle4",
         "dtype": "int64",
         "stats": {
          "unique_count": 2,
          "nan_count": 0,
          "min": "78",
          "max": "85",
          "histogram": [
           {
            "bin_start": 78,
            "bin_end": 78.7,
            "count": 1
           },
           {
            "bin_start": 78.7,
            "bin_end": 79.4,
            "count": 0
           },
           {
            "bin_start": 79.4,
            "bin_end": 80.1,
            "count": 0
           },
           {
            "bin_start": 80.1,
            "bin_end": 80.8,
            "count": 0
           },
           {
            "bin_start": 80.8,
            "bin_end": 81.5,
            "count": 0
           },
           {
            "bin_start": 81.5,
            "bin_end": 82.2,
            "count": 0
           },
           {
            "bin_start": 82.2,
            "bin_end": 82.9,
            "count": 0
           },
           {
            "bin_start": 82.9,
            "bin_end": 83.6,
            "count": 0
           },
           {
            "bin_start": 83.6,
            "bin_end": 84.3,
            "count": 0
           },
           {
            "bin_start": 84.3,
            "bin_end": 85,
            "count": 1
           }
          ]
         }
        },
        {
         "name": "update_motorcycle4",
         "dtype": "int64",
         "stats": {
          "unique_count": 2,
          "nan_count": 0,
          "min": "78",
          "max": "85",
          "histogram": [
           {
            "bin_start": 78,
            "bin_end": 78.7,
            "count": 1
           },
           {
            "bin_start": 78.7,
            "bin_end": 79.4,
            "count": 0
           },
           {
            "bin_start": 79.4,
            "bin_end": 80.1,
            "count": 0
           },
           {
            "bin_start": 80.1,
            "bin_end": 80.8,
            "count": 0
           },
           {
            "bin_start": 80.8,
            "bin_end": 81.5,
            "count": 0
           },
           {
            "bin_start": 81.5,
            "bin_end": 82.2,
            "count": 0
           },
           {
            "bin_start": 82.2,
            "bin_end": 82.9,
            "count": 0
           },
           {
            "bin_start": 82.9,
            "bin_end": 83.6,
            "count": 0
           },
           {
            "bin_start": 83.6,
            "bin_end": 84.3,
            "count": 0
           },
           {
            "bin_start": 84.3,
            "bin_end": 85,
            "count": 1
           }
          ]
         }
        },
        {
         "name": "motorcycle_count",
         "dtype": "int64",
         "stats": {
          "unique_count": 2,
          "nan_count": 0,
          "min": "3339",
          "max": "3403",
          "histogram": [
           {
            "bin_start": 3339,
            "bin_end": 3345.4,
            "count": 1
           },
           {
            "bin_start": 3345.4,
            "bin_end": 3351.8,
            "count": 0
           },
           {
            "bin_start": 3351.8,
            "bin_end": 3358.2,
            "count": 0
           },
           {
            "bin_start": 3358.2,
            "bin_end": 3364.6,
            "count": 0
           },
           {
            "bin_start": 3364.6,
            "bin_end": 3371,
            "count": 0
           },
           {
            "bin_start": 3371,
            "bin_end": 3377.4,
            "count": 0
           },
           {
            "bin_start": 3377.4,
            "bin_end": 3383.8,
            "count": 0
           },
           {
            "bin_start": 3383.8,
            "bin_end": 3390.2,
            "count": 0
           },
           {
            "bin_start": 3390.2,
            "bin_end": 3396.6,
            "count": 0
           },
           {
            "bin_start": 3396.6,
            "bin_end": 3403,
            "count": 1
           }
          ]
         }
        },
        {
         "name": "baseline_average",
         "dtype": "int64",
         "stats": {
          "unique_count": 2,
          "nan_count": 0,
          "min": "3339",
          "max": "3403",
          "histogram": [
           {
            "bin_start": 3339,
            "bin_end": 3345.4,
            "count": 1
           },
           {
            "bin_start": 3345.4,
            "bin_end": 3351.8,
            "count": 0
           },
           {
            "bin_start": 3351.8,
            "bin_end": 3358.2,
            "count": 0
           },
           {
            "bin_start": 3358.2,
            "bin_end": 3364.6,
            "count": 0
           },
           {
            "bin_start": 3364.6,
            "bin_end": 3371,
            "count": 0
           },
           {
            "bin_start": 3371,
            "bin_end": 3377.4,
            "count": 0
           },
           {
            "bin_start": 3377.4,
            "bin_end": 3383.8,
            "count": 0
           },
           {
            "bin_start": 3383.8,
            "bin_end": 3390.2,
            "count": 0
           },
           {
            "bin_start": 3390.2,
            "bin_end": 3396.6,
            "count": 0
           },
           {
            "bin_start": 3396.6,
            "bin_end": 3403,
            "count": 1
           }
          ]
         }
        },
        {
         "name": "update_average",
         "dtype": "int64",
         "stats": {
          "unique_count": 2,
          "nan_count": 0,
          "min": "3339",
          "max": "3403",
          "histogram": [
           {
            "bin_start": 3339,
            "bin_end": 3345.4,
            "count": 1
           },
           {
            "bin_start": 3345.4,
            "bin_end": 3351.8,
            "count": 0
           },
           {
            "bin_start": 3351.8,
            "bin_end": 3358.2,
            "count": 0
           },
           {
            "bin_start": 3358.2,
            "bin_end": 3364.6,
            "count": 0
           },
           {
            "bin_start": 3364.6,
            "bin_end": 3371,
            "count": 0
           },
           {
            "bin_start": 3371,
            "bin_end": 3377.4,
            "count": 0
           },
           {
            "bin_start": 3377.4,
            "bin_end": 3383.8,
            "count": 0
           },
           {
            "bin_start": 3383.8,
            "bin_end": 3390.2,
            "count": 0
           },
           {
            "bin_start": 3390.2,
            "bin_end": 3396.6,
            "count": 0
           },
           {
            "bin_start": 3396.6,
            "bin_end": 3403,
            "count": 1
           }
          ]
         }
        },
        {
         "name": "diff_average",
         "dtype": "int64",
         "stats": {
          "unique_count": 2,
          "nan_count": 0,
          "min": "3339",
          "max": "3403",
          "histogram": [
           {
            "bin_start": 3339,
            "bin_end": 3345.4,
            "count": 1
           },
           {
            "bin_start": 3345.4,
            "bin_end": 3351.8,
            "count": 0
           },
           {
            "bin_start": 3351.8,
            "bin_end": 3358.2,
            "count": 0
           },
           {
            "bin_start": 3358.2,
            "bin_end": 3364.6,
            "count": 0
           },
           {
            "bin_start": 3364.6,
            "bin_end": 3371,
            "count": 0
           },
           {
            "bin_start": 3371,
            "bin_end": 3377.4,
            "count": 0
           },
           {
            "bin_start": 3377.4,
            "bin_end": 3383.8,
            "count": 0
           },
           {
            "bin_start": 3383.8,
            "bin_end": 3390.2,
            "count": 0
           },
           {
            "bin_start": 3390.2,
            "bin_end": 3396.6,
            "count": 0
           },
           {
            "bin_start": 3396.6,
            "bin_end": 3403,
            "count": 1
           }
          ]
         }
        },
        {
         "name": "font",
         "dtype": "int64",
         "stats": {
          "unique_count": 2,
          "nan_count": 0,
          "min": "3339",
          "max": "3403",
          "histogram": [
           {
            "bin_start": 3339,
            "bin_end": 3345.4,
            "count": 1
           },
           {
            "bin_start": 3345.4,
            "bin_end": 3351.8,
            "count": 0
           },
           {
            "bin_start": 3351.8,
            "bin_end": 3358.2,
            "count": 0
           },
           {
            "bin_start": 3358.2,
            "bin_end": 3364.6,
            "count": 0
           },
           {
            "bin_start": 3364.6,
            "bin_end": 3371,
            "count": 0
           },
           {
            "bin_start": 3371,
            "bin_end": 3377.4,
            "count": 0
           },
           {
            "bin_start": 3377.4,
            "bin_end": 3383.8,
            "count": 0
           },
           {
            "bin_start": 3383.8,
            "bin_end": 3390.2,
            "count": 0
           },
           {
            "bin_start": 3390.2,
            "bin_end": 3396.6,
            "count": 0
           },
           {
            "bin_start": 3396.6,
            "bin_end": 3403,
            "count": 1
           }
          ]
         }
        },
        {
         "name": "_deepnote_index_column",
         "dtype": "object"
        }
       ],
       "rows_top": [
        {
         "baseline_motorcycle1": 3339,
         "update_motorcycle1": 3339,
         "baseline_motorcycle2": 1391,
         "update_motorcycle2": 1391,
         "baseline_motorcycle3": 325,
         "update_motorcycle3": 325,
         "baseline_motorcycle4": 85,
         "update_motorcycle4": 85,
         "motorcycle_count": 3339,
         "baseline_average": 3339,
         "update_average": 3339,
         "diff_average": 3339,
         "font": 3339,
         "_deepnote_index_column": "Sign Bottom"
        },
        {
         "baseline_motorcycle1": 3403,
         "update_motorcycle1": 3403,
         "baseline_motorcycle2": 1431,
         "update_motorcycle2": 1431,
         "baseline_motorcycle3": 313,
         "update_motorcycle3": 313,
         "baseline_motorcycle4": 78,
         "update_motorcycle4": 78,
         "motorcycle_count": 3403,
         "baseline_average": 3403,
         "update_average": 3403,
         "diff_average": 3403,
         "font": 3403,
         "_deepnote_index_column": "Sign Top"
        }
       ],
       "rows_bottom": null
      },
      "text/plain": "             baseline_motorcycle1  update_motorcycle1  baseline_motorcycle2  \\\ncondition                                                                     \nSign Bottom                  3339                3339                  1391   \nSign Top                     3403                3403                  1431   \n\n             update_motorcycle2  baseline_motorcycle3  update_motorcycle3  \\\ncondition                                                                   \nSign Bottom                1391                   325                 325   \nSign Top                   1431                   313                 313   \n\n             baseline_motorcycle4  update_motorcycle4  motorcycle_count  \\\ncondition                                                                 \nSign Bottom                    85                  85              3339   \nSign Top                       78                  78              3403   \n\n             baseline_average  update_average  diff_average  font  \ncondition                                                          \nSign Bottom              3339            3339          3339  3339  \nSign Top                 3403            3403          3403  3403  ",
      "text/html": "<div>\n<style scoped>\n    .dataframe tbody tr th:only-of-type {\n        vertical-align: middle;\n    }\n\n    .dataframe tbody tr th {\n        vertical-align: top;\n    }\n\n    .dataframe thead th {\n        text-align: right;\n    }\n</style>\n<table border=\"1\" class=\"dataframe\">\n  <thead>\n    <tr style=\"text-align: right;\">\n      <th></th>\n      <th>baseline_motorcycle1</th>\n      <th>update_motorcycle1</th>\n      <th>baseline_motorcycle2</th>\n      <th>update_motorcycle2</th>\n      <th>baseline_motorcycle3</th>\n      <th>update_motorcycle3</th>\n      <th>baseline_motorcycle4</th>\n      <th>update_motorcycle4</th>\n      <th>motorcycle_count</th>\n      <th>baseline_average</th>\n      <th>update_average</th>\n      <th>diff_average</th>\n      <th>font</th>\n    </tr>\n    <tr>\n      <th>condition</th>\n      <th></th>\n      <th></th>\n      <th></th>\n      <th></th>\n      <th></th>\n      <th></th>\n      <th></th>\n      <th></th>\n      <th></th>\n      <th></th>\n      <th></th>\n      <th></th>\n      <th></th>\n    </tr>\n  </thead>\n  <tbody>\n    <tr>\n      <th>Sign Bottom</th>\n      <td>3339</td>\n      <td>3339</td>\n      <td>1391</td>\n      <td>1391</td>\n      <td>325</td>\n      <td>325</td>\n      <td>85</td>\n      <td>85</td>\n      <td>3339</td>\n      <td>3339</td>\n      <td>3339</td>\n      <td>3339</td>\n      <td>3339</td>\n    </tr>\n    <tr>\n      <th>Sign Top</th>\n      <td>3403</td>\n      <td>3403</td>\n      <td>1431</td>\n      <td>1431</td>\n      <td>313</td>\n      <td>313</td>\n      <td>78</td>\n      <td>78</td>\n      <td>3403</td>\n      <td>3403</td>\n      <td>3403</td>\n      <td>3403</td>\n      <td>3403</td>\n    </tr>\n  </tbody>\n</table>\n</div>"
     },
     "metadata": {}
    }
   ]
  },
  {
   "cell_type": "code",
   "metadata": {
    "tags": [],
    "cell_id": "00118-51798e65-492b-4c2e-9275-f982e9f2413a",
    "deepnote_to_be_reexecuted": true,
    "source_hash": "d786443f",
    "execution_start": 1634839395908,
    "execution_millis": 200,
    "deepnote_app_coordinates": {
     "x": 0,
     "y": 729,
     "w": 12,
     "h": 5
    },
    "deepnote_cell_type": "code",
    "deepnote_cell_height": 361,
    "deepnote_output_heights": [
     264
    ]
   },
   "source": "data.describe()",
   "execution_count": null,
   "outputs": [
    {
     "output_type": "execute_result",
     "execution_count": 61,
     "data": {
      "application/vnd.deepnote.dataframe.v2+json": {
       "row_count": 8,
       "column_count": 12,
       "columns": [
        {
         "name": "baseline_motorcycle1",
         "dtype": "float64",
         "stats": {
          "unique_count": 8,
          "nan_count": 0,
          "min": "0.0",
          "max": "983155.0",
          "histogram": [
           {
            "bin_start": 0,
            "bin_end": 98315.5,
            "count": 7
           },
           {
            "bin_start": 98315.5,
            "bin_end": 196631,
            "count": 0
           },
           {
            "bin_start": 196631,
            "bin_end": 294946.5,
            "count": 0
           },
           {
            "bin_start": 294946.5,
            "bin_end": 393262,
            "count": 0
           },
           {
            "bin_start": 393262,
            "bin_end": 491577.5,
            "count": 0
           },
           {
            "bin_start": 491577.5,
            "bin_end": 589893,
            "count": 0
           },
           {
            "bin_start": 589893,
            "bin_end": 688208.5,
            "count": 0
           },
           {
            "bin_start": 688208.5,
            "bin_end": 786524,
            "count": 0
           },
           {
            "bin_start": 786524,
            "bin_end": 884839.5,
            "count": 0
           },
           {
            "bin_start": 884839.5,
            "bin_end": 983155,
            "count": 1
           }
          ]
         }
        },
        {
         "name": "update_motorcycle1",
         "dtype": "float64",
         "stats": {
          "unique_count": 8,
          "nan_count": 0,
          "min": "42.0",
          "max": "1010893.0",
          "histogram": [
           {
            "bin_start": 42,
            "bin_end": 101127.1,
            "count": 6
           },
           {
            "bin_start": 101127.1,
            "bin_end": 202212.2,
            "count": 1
           },
           {
            "bin_start": 202212.2,
            "bin_end": 303297.30000000005,
            "count": 0
           },
           {
            "bin_start": 303297.30000000005,
            "bin_end": 404382.4,
            "count": 0
           },
           {
            "bin_start": 404382.4,
            "bin_end": 505467.5,
            "count": 0
           },
           {
            "bin_start": 505467.5,
            "bin_end": 606552.6000000001,
            "count": 0
           },
           {
            "bin_start": 606552.6000000001,
            "bin_end": 707637.7000000001,
            "count": 0
           },
           {
            "bin_start": 707637.7000000001,
            "bin_end": 808722.8,
            "count": 0
           },
           {
            "bin_start": 808722.8,
            "bin_end": 909807.9,
            "count": 0
           },
           {
            "bin_start": 909807.9,
            "bin_end": 1010893,
            "count": 1
           }
          ]
         }
        },
        {
         "name": "baseline_motorcycle2",
         "dtype": "float64",
         "stats": {
          "unique_count": 8,
          "nan_count": 0,
          "min": "0.0",
          "max": "1000581.0",
          "histogram": [
           {
            "bin_start": 0,
            "bin_end": 100058.1,
            "count": 7
           },
           {
            "bin_start": 100058.1,
            "bin_end": 200116.2,
            "count": 0
           },
           {
            "bin_start": 200116.2,
            "bin_end": 300174.30000000005,
            "count": 0
           },
           {
            "bin_start": 300174.30000000005,
            "bin_end": 400232.4,
            "count": 0
           },
           {
            "bin_start": 400232.4,
            "bin_end": 500290.5,
            "count": 0
           },
           {
            "bin_start": 500290.5,
            "bin_end": 600348.6000000001,
            "count": 0
           },
           {
            "bin_start": 600348.6000000001,
            "bin_end": 700406.7000000001,
            "count": 0
           },
           {
            "bin_start": 700406.7000000001,
            "bin_end": 800464.8,
            "count": 0
           },
           {
            "bin_start": 800464.8,
            "bin_end": 900522.9,
            "count": 0
           },
           {
            "bin_start": 900522.9,
            "bin_end": 1000581,
            "count": 1
           }
          ]
         }
        },
        {
         "name": "update_motorcycle2",
         "dtype": "float64",
         "stats": {
          "unique_count": 8,
          "nan_count": 0,
          "min": "116.0",
          "max": "1030915.0",
          "histogram": [
           {
            "bin_start": 116,
            "bin_end": 103195.9,
            "count": 6
           },
           {
            "bin_start": 103195.9,
            "bin_end": 206275.8,
            "count": 1
           },
           {
            "bin_start": 206275.8,
            "bin_end": 309355.69999999995,
            "count": 0
           },
           {
            "bin_start": 309355.69999999995,
            "bin_end": 412435.6,
            "count": 0
           },
           {
            "bin_start": 412435.6,
            "bin_end": 515515.5,
            "count": 0
           },
           {
            "bin_start": 515515.5,
            "bin_end": 618595.3999999999,
            "count": 0
           },
           {
            "bin_start": 618595.3999999999,
            "bin_end": 721675.2999999999,
            "count": 0
           },
           {
            "bin_start": 721675.2999999999,
            "bin_end": 824755.2,
            "count": 0
           },
           {
            "bin_start": 824755.2,
            "bin_end": 927835.1,
            "count": 0
           },
           {
            "bin_start": 927835.1,
            "bin_end": 1030915,
            "count": 1
           }
          ]
         }
        },
        {
         "name": "baseline_motorcycle3",
         "dtype": "float64",
         "stats": {
          "unique_count": 8,
          "nan_count": 0,
          "min": "0.0",
          "max": "884594.0",
          "histogram": [
           {
            "bin_start": 0,
            "bin_end": 88459.4,
            "count": 6
           },
           {
            "bin_start": 88459.4,
            "bin_end": 176918.8,
            "count": 1
           },
           {
            "bin_start": 176918.8,
            "bin_end": 265378.19999999995,
            "count": 0
           },
           {
            "bin_start": 265378.19999999995,
            "bin_end": 353837.6,
            "count": 0
           },
           {
            "bin_start": 353837.6,
            "bin_end": 442297,
            "count": 0
           },
           {
            "bin_start": 442297,
            "bin_end": 530756.3999999999,
            "count": 0
           },
           {
            "bin_start": 530756.3999999999,
            "bin_end": 619215.7999999999,
            "count": 0
           },
           {
            "bin_start": 619215.7999999999,
            "bin_end": 707675.2,
            "count": 0
           },
           {
            "bin_start": 707675.2,
            "bin_end": 796134.6,
            "count": 0
           },
           {
            "bin_start": 796134.6,
            "bin_end": 884594,
            "count": 1
           }
          ]
         }
        },
        {
         "name": "update_motorcycle3",
         "dtype": "float64",
         "stats": {
          "unique_count": 8,
          "nan_count": 0,
          "min": "155.0",
          "max": "931105.0",
          "histogram": [
           {
            "bin_start": 155,
            "bin_end": 93250,
            "count": 6
           },
           {
            "bin_start": 93250,
            "bin_end": 186345,
            "count": 1
           },
           {
            "bin_start": 186345,
            "bin_end": 279440,
            "count": 0
           },
           {
            "bin_start": 279440,
            "bin_end": 372535,
            "count": 0
           },
           {
            "bin_start": 372535,
            "bin_end": 465630,
            "count": 0
           },
           {
            "bin_start": 465630,
            "bin_end": 558725,
            "count": 0
           },
           {
            "bin_start": 558725,
            "bin_end": 651820,
            "count": 0
           },
           {
            "bin_start": 651820,
            "bin_end": 744915,
            "count": 0
           },
           {
            "bin_start": 744915,
            "bin_end": 838010,
            "count": 0
           },
           {
            "bin_start": 838010,
            "bin_end": 931105,
            "count": 1
           }
          ]
         }
        },
        {
         "name": "baseline_motorcycle4",
         "dtype": "float64",
         "stats": {
          "unique_count": 8,
          "nan_count": 0,
          "min": "0.0",
          "max": "217715.0",
          "histogram": [
           {
            "bin_start": 0,
            "bin_end": 21771.5,
            "count": 3
           },
           {
            "bin_start": 21771.5,
            "bin_end": 43543,
            "count": 0
           },
           {
            "bin_start": 43543,
            "bin_end": 65314.5,
            "count": 1
           },
           {
            "bin_start": 65314.5,
            "bin_end": 87086,
            "count": 2
           },
           {
            "bin_start": 87086,
            "bin_end": 108857.5,
            "count": 1
           },
           {
            "bin_start": 108857.5,
            "bin_end": 130629,
            "count": 0
           },
           {
            "bin_start": 130629,
            "bin_end": 152400.5,
            "count": 0
           },
           {
            "bin_start": 152400.5,
            "bin_end": 174172,
            "count": 0
           },
           {
            "bin_start": 174172,
            "bin_end": 195943.5,
            "count": 0
           },
           {
            "bin_start": 195943.5,
            "bin_end": 217715,
            "count": 1
           }
          ]
         }
        },
        {
         "name": "update_motorcycle4",
         "dtype": "float64",
         "stats": {
          "unique_count": 8,
          "nan_count": 0,
          "min": "326.0",
          "max": "244658.0",
          "histogram": [
           {
            "bin_start": 326,
            "bin_end": 24759.2,
            "count": 2
           },
           {
            "bin_start": 24759.2,
            "bin_end": 49192.4,
            "count": 1
           },
           {
            "bin_start": 49192.4,
            "bin_end": 73625.6,
            "count": 1
           },
           {
            "bin_start": 73625.6,
            "bin_end": 98058.8,
            "count": 2
           },
           {
            "bin_start": 98058.8,
            "bin_end": 122492,
            "count": 0
           },
           {
            "bin_start": 122492,
            "bin_end": 146925.2,
            "count": 1
           },
           {
            "bin_start": 146925.2,
            "bin_end": 171358.4,
            "count": 0
           },
           {
            "bin_start": 171358.4,
            "bin_end": 195791.6,
            "count": 0
           },
           {
            "bin_start": 195791.6,
            "bin_end": 220224.80000000002,
            "count": 0
           },
           {
            "bin_start": 220224.80000000002,
            "bin_end": 244658,
            "count": 1
           }
          ]
         }
        },
        {
         "name": "motorcycle_count",
         "dtype": "float64",
         "stats": {
          "unique_count": 6,
          "nan_count": 0,
          "min": "0.6141599172261266",
          "max": "13486.0",
          "histogram": [
           {
            "bin_start": 0.6141599172261266,
            "bin_end": 1349.1527439255035,
            "count": 7
           },
           {
            "bin_start": 1349.1527439255035,
            "bin_end": 2697.691327933781,
            "count": 0
           },
           {
            "bin_start": 2697.691327933781,
            "bin_end": 4046.2299119420586,
            "count": 0
           },
           {
            "bin_start": 4046.2299119420586,
            "bin_end": 5394.768495950336,
            "count": 0
           },
           {
            "bin_start": 5394.768495950336,
            "bin_end": 6743.307079958613,
            "count": 0
           },
           {
            "bin_start": 6743.307079958613,
            "bin_end": 8091.845663966891,
            "count": 0
           },
           {
            "bin_start": 8091.845663966891,
            "bin_end": 9440.384247975167,
            "count": 0
           },
           {
            "bin_start": 9440.384247975167,
            "bin_end": 10788.922831983446,
            "count": 0
           },
           {
            "bin_start": 10788.922831983446,
            "bin_end": 12137.461415991724,
            "count": 0
           },
           {
            "bin_start": 12137.461415991724,
            "bin_end": 13486,
            "count": 1
           }
          ]
         }
        },
        {
         "name": "baseline_average",
         "dtype": "float64",
         "stats": {
          "unique_count": 8,
          "nan_count": 0,
          "min": "0.0",
          "max": "983155.0",
          "histogram": [
           {
            "bin_start": 0,
            "bin_end": 98315.5,
            "count": 7
           },
           {
            "bin_start": 98315.5,
            "bin_end": 196631,
            "count": 0
           },
           {
            "bin_start": 196631,
            "bin_end": 294946.5,
            "count": 0
           },
           {
            "bin_start": 294946.5,
            "bin_end": 393262,
            "count": 0
           },
           {
            "bin_start": 393262,
            "bin_end": 491577.5,
            "count": 0
           },
           {
            "bin_start": 491577.5,
            "bin_end": 589893,
            "count": 0
           },
           {
            "bin_start": 589893,
            "bin_end": 688208.5,
            "count": 0
           },
           {
            "bin_start": 688208.5,
            "bin_end": 786524,
            "count": 0
           },
           {
            "bin_start": 786524,
            "bin_end": 884839.5,
            "count": 0
           },
           {
            "bin_start": 884839.5,
            "bin_end": 983155,
            "count": 1
           }
          ]
         }
        },
        {
         "name": "update_average",
         "dtype": "float64",
         "stats": {
          "unique_count": 8,
          "nan_count": 0,
          "min": "125.0",
          "max": "1010893.0",
          "histogram": [
           {
            "bin_start": 125,
            "bin_end": 101201.8,
            "count": 6
           },
           {
            "bin_start": 101201.8,
            "bin_end": 202278.6,
            "count": 1
           },
           {
            "bin_start": 202278.6,
            "bin_end": 303355.4,
            "count": 0
           },
           {
            "bin_start": 303355.4,
            "bin_end": 404432.2,
            "count": 0
           },
           {
            "bin_start": 404432.2,
            "bin_end": 505509,
            "count": 0
           },
           {
            "bin_start": 505509,
            "bin_end": 606585.8,
            "count": 0
           },
           {
            "bin_start": 606585.8,
            "bin_end": 707662.6,
            "count": 0
           },
           {
            "bin_start": 707662.6,
            "bin_end": 808739.4,
            "count": 0
           },
           {
            "bin_start": 808739.4,
            "bin_end": 909816.2000000001,
            "count": 0
           },
           {
            "bin_start": 909816.2000000001,
            "bin_end": 1010893,
            "count": 1
           }
          ]
         }
        },
        {
         "name": "diff_average",
         "dtype": "float64",
         "stats": {
          "unique_count": 8,
          "nan_count": 0,
          "min": "24.0",
          "max": "49997.0",
          "histogram": [
           {
            "bin_start": 24,
            "bin_end": 5021.3,
            "count": 1
           },
           {
            "bin_start": 5021.3,
            "bin_end": 10018.6,
            "count": 0
           },
           {
            "bin_start": 10018.6,
            "bin_end": 15015.900000000001,
            "count": 2
           },
           {
            "bin_start": 15015.900000000001,
            "bin_end": 20013.2,
            "count": 1
           },
           {
            "bin_start": 20013.2,
            "bin_end": 25010.5,
            "count": 2
           },
           {
            "bin_start": 25010.5,
            "bin_end": 30007.800000000003,
            "count": 0
           },
           {
            "bin_start": 30007.800000000003,
            "bin_end": 35005.1,
            "count": 1
           },
           {
            "bin_start": 35005.1,
            "bin_end": 40002.4,
            "count": 0
           },
           {
            "bin_start": 40002.4,
            "bin_end": 44999.700000000004,
            "count": 0
           },
           {
            "bin_start": 44999.700000000004,
            "bin_end": 49997,
            "count": 1
           }
          ]
         }
        },
        {
         "name": "_deepnote_index_column",
         "dtype": "object"
        }
       ],
       "rows_top": [
        {
         "baseline_motorcycle1": 13486,
         "update_motorcycle1": 13486,
         "baseline_motorcycle2": 5647,
         "update_motorcycle2": 5647,
         "baseline_motorcycle3": 1277,
         "update_motorcycle3": 1277,
         "baseline_motorcycle4": 326,
         "update_motorcycle4": 326,
         "motorcycle_count": 13486,
         "baseline_average": 13486,
         "update_average": 13486,
         "diff_average": 13486,
         "_deepnote_index_column": "count"
        },
        {
         "baseline_motorcycle1": 67345.1194572149,
         "update_motorcycle1": 92275.01201245736,
         "baseline_motorcycle2": 67326.8714361608,
         "update_motorcycle2": 92276.41738976448,
         "baseline_motorcycle3": 67657.32028191072,
         "update_motorcycle3": 92849.408770556,
         "baseline_motorcycle4": 67827.9754601227,
         "update_motorcycle4": 93374.2791411043,
         "motorcycle_count": 1.5375945424885067,
         "baseline_average": 67267.58469894706,
         "update_average": 92166.98009046419,
         "diff_average": 24899.39539151713,
         "_deepnote_index_column": "mean"
        },
        {
         "baseline_motorcycle1": 56734.86027898263,
         "update_motorcycle1": 58553.48255400172,
         "baseline_motorcycle2": 60231.75606652491,
         "update_motorcycle2": 61889.10473675565,
         "baseline_motorcycle3": 64419.00185956839,
         "update_motorcycle3": 66547.92022156315,
         "baseline_motorcycle4": 54610.2172405298,
         "update_motorcycle4": 56345.38607010811,
         "motorcycle_count": 0.6141599172261266,
         "baseline_average": 50685.50690691765,
         "update_average": 52212.86427696471,
         "diff_average": 12495.931401445903,
         "_deepnote_index_column": "std"
        },
        {
         "baseline_motorcycle1": 0,
         "update_motorcycle1": 42,
         "baseline_motorcycle2": 0,
         "update_motorcycle2": 116,
         "baseline_motorcycle3": 0,
         "update_motorcycle3": 155,
         "baseline_motorcycle4": 0,
         "update_motorcycle4": 622,
         "motorcycle_count": 1,
         "baseline_average": 0,
         "update_average": 125,
         "diff_average": 24,
         "_deepnote_index_column": "min"
        },
        {
         "baseline_motorcycle1": 25277.75,
         "update_motorcycle1": 50092,
         "baseline_motorcycle2": 24496.5,
         "update_motorcycle2": 49880.5,
         "baseline_motorcycle3": 18500,
         "update_motorcycle3": 43872,
         "baseline_motorcycle4": 14284.75,
         "update_motorcycle4": 41525.5,
         "motorcycle_count": 1,
         "baseline_average": 31090.375,
         "update_average": 55919.875,
         "diff_average": 15525.25,
         "_deepnote_index_column": "25%"
        },
        {
         "baseline_motorcycle1": 56341.5,
         "update_motorcycle1": 82382,
         "baseline_motorcycle2": 56157,
         "update_motorcycle2": 82056,
         "baseline_motorcycle3": 58821,
         "update_motorcycle3": 85645,
         "baseline_motorcycle4": 68181,
         "update_motorcycle4": 93387.5,
         "motorcycle_count": 1,
         "baseline_average": 59717.5,
         "update_average": 84646,
         "diff_average": 24939.333333333336,
         "_deepnote_index_column": "50%"
        },
        {
         "baseline_motorcycle1": 96254.5,
         "update_motorcycle1": 123303.25,
         "baseline_motorcycle2": 97000,
         "update_motorcycle2": 122197,
         "baseline_motorcycle3": 100000,
         "update_motorcycle3": 128037,
         "baseline_motorcycle4": 106882,
         "update_motorcycle4": 128940.5,
         "motorcycle_count": 2,
         "baseline_average": 92238.25,
         "update_average": 119044.125,
         "diff_average": 34416.75,
         "_deepnote_index_column": "75%"
        },
        {
         "baseline_motorcycle1": 983155,
         "update_motorcycle1": 1010893,
         "baseline_motorcycle2": 1000581,
         "update_motorcycle2": 1030915,
         "baseline_motorcycle3": 884594,
         "update_motorcycle3": 931105,
         "baseline_motorcycle4": 217715,
         "update_motorcycle4": 244658,
         "motorcycle_count": 4,
         "baseline_average": 983155,
         "update_average": 1010893,
         "diff_average": 49997,
         "_deepnote_index_column": "max"
        }
       ],
       "rows_bottom": null
      },
      "text/plain": "       baseline_motorcycle1  update_motorcycle1  baseline_motorcycle2  \\\ncount          13486.000000        1.348600e+04          5.647000e+03   \nmean           67345.119457        9.227501e+04          6.732687e+04   \nstd            56734.860279        5.855348e+04          6.023176e+04   \nmin                0.000000        4.200000e+01          0.000000e+00   \n25%            25277.750000        5.009200e+04          2.449650e+04   \n50%            56341.500000        8.238200e+04          5.615700e+04   \n75%            96254.500000        1.233032e+05          9.700000e+04   \nmax           983155.000000        1.010893e+06          1.000581e+06   \n\n       update_motorcycle2  baseline_motorcycle3  update_motorcycle3  \\\ncount        5.647000e+03           1277.000000         1277.000000   \nmean         9.227642e+04          67657.320282        92849.408771   \nstd          6.188910e+04          64419.001860        66547.920222   \nmin          1.160000e+02              0.000000          155.000000   \n25%          4.988050e+04          18500.000000        43872.000000   \n50%          8.205600e+04          58821.000000        85645.000000   \n75%          1.221970e+05         100000.000000       128037.000000   \nmax          1.030915e+06         884594.000000       931105.000000   \n\n       baseline_motorcycle4  update_motorcycle4  motorcycle_count  \\\ncount            326.000000          326.000000      13486.000000   \nmean           67827.975460        93374.279141          1.537595   \nstd            54610.217241        56345.386070          0.614160   \nmin                0.000000          622.000000          1.000000   \n25%            14284.750000        41525.500000          1.000000   \n50%            68181.000000        93387.500000          1.000000   \n75%           106882.000000       128940.500000          2.000000   \nmax           217715.000000       244658.000000          4.000000   \n\n       baseline_average  update_average  diff_average  \ncount      13486.000000    1.348600e+04  13486.000000  \nmean       67267.584699    9.216698e+04  24899.395392  \nstd        50685.506907    5.221286e+04  12495.931401  \nmin            0.000000    1.250000e+02     24.000000  \n25%        31090.375000    5.591988e+04  15525.250000  \n50%        59717.500000    8.464600e+04  24939.333333  \n75%        92238.250000    1.190441e+05  34416.750000  \nmax       983155.000000    1.010893e+06  49997.000000  ",
      "text/html": "<div>\n<style scoped>\n    .dataframe tbody tr th:only-of-type {\n        vertical-align: middle;\n    }\n\n    .dataframe tbody tr th {\n        vertical-align: top;\n    }\n\n    .dataframe thead th {\n        text-align: right;\n    }\n</style>\n<table border=\"1\" class=\"dataframe\">\n  <thead>\n    <tr style=\"text-align: right;\">\n      <th></th>\n      <th>baseline_motorcycle1</th>\n      <th>update_motorcycle1</th>\n      <th>baseline_motorcycle2</th>\n      <th>update_motorcycle2</th>\n      <th>baseline_motorcycle3</th>\n      <th>update_motorcycle3</th>\n      <th>baseline_motorcycle4</th>\n      <th>update_motorcycle4</th>\n      <th>motorcycle_count</th>\n      <th>baseline_average</th>\n      <th>update_average</th>\n      <th>diff_average</th>\n    </tr>\n  </thead>\n  <tbody>\n    <tr>\n      <th>count</th>\n      <td>13486.000000</td>\n      <td>1.348600e+04</td>\n      <td>5.647000e+03</td>\n      <td>5.647000e+03</td>\n      <td>1277.000000</td>\n      <td>1277.000000</td>\n      <td>326.000000</td>\n      <td>326.000000</td>\n      <td>13486.000000</td>\n      <td>13486.000000</td>\n      <td>1.348600e+04</td>\n      <td>13486.000000</td>\n    </tr>\n    <tr>\n      <th>mean</th>\n      <td>67345.119457</td>\n      <td>9.227501e+04</td>\n      <td>6.732687e+04</td>\n      <td>9.227642e+04</td>\n      <td>67657.320282</td>\n      <td>92849.408771</td>\n      <td>67827.975460</td>\n      <td>93374.279141</td>\n      <td>1.537595</td>\n      <td>67267.584699</td>\n      <td>9.216698e+04</td>\n      <td>24899.395392</td>\n    </tr>\n    <tr>\n      <th>std</th>\n      <td>56734.860279</td>\n      <td>5.855348e+04</td>\n      <td>6.023176e+04</td>\n      <td>6.188910e+04</td>\n      <td>64419.001860</td>\n      <td>66547.920222</td>\n      <td>54610.217241</td>\n      <td>56345.386070</td>\n      <td>0.614160</td>\n      <td>50685.506907</td>\n      <td>5.221286e+04</td>\n      <td>12495.931401</td>\n    </tr>\n    <tr>\n      <th>min</th>\n      <td>0.000000</td>\n      <td>4.200000e+01</td>\n      <td>0.000000e+00</td>\n      <td>1.160000e+02</td>\n      <td>0.000000</td>\n      <td>155.000000</td>\n      <td>0.000000</td>\n      <td>622.000000</td>\n      <td>1.000000</td>\n      <td>0.000000</td>\n      <td>1.250000e+02</td>\n      <td>24.000000</td>\n    </tr>\n    <tr>\n      <th>25%</th>\n      <td>25277.750000</td>\n      <td>5.009200e+04</td>\n      <td>2.449650e+04</td>\n      <td>4.988050e+04</td>\n      <td>18500.000000</td>\n      <td>43872.000000</td>\n      <td>14284.750000</td>\n      <td>41525.500000</td>\n      <td>1.000000</td>\n      <td>31090.375000</td>\n      <td>5.591988e+04</td>\n      <td>15525.250000</td>\n    </tr>\n    <tr>\n      <th>50%</th>\n      <td>56341.500000</td>\n      <td>8.238200e+04</td>\n      <td>5.615700e+04</td>\n      <td>8.205600e+04</td>\n      <td>58821.000000</td>\n      <td>85645.000000</td>\n      <td>68181.000000</td>\n      <td>93387.500000</td>\n      <td>1.000000</td>\n      <td>59717.500000</td>\n      <td>8.464600e+04</td>\n      <td>24939.333333</td>\n    </tr>\n    <tr>\n      <th>75%</th>\n      <td>96254.500000</td>\n      <td>1.233032e+05</td>\n      <td>9.700000e+04</td>\n      <td>1.221970e+05</td>\n      <td>100000.000000</td>\n      <td>128037.000000</td>\n      <td>106882.000000</td>\n      <td>128940.500000</td>\n      <td>2.000000</td>\n      <td>92238.250000</td>\n      <td>1.190441e+05</td>\n      <td>34416.750000</td>\n    </tr>\n    <tr>\n      <th>max</th>\n      <td>983155.000000</td>\n      <td>1.010893e+06</td>\n      <td>1.000581e+06</td>\n      <td>1.030915e+06</td>\n      <td>884594.000000</td>\n      <td>931105.000000</td>\n      <td>217715.000000</td>\n      <td>244658.000000</td>\n      <td>4.000000</td>\n      <td>983155.000000</td>\n      <td>1.010893e+06</td>\n      <td>49997.000000</td>\n    </tr>\n  </tbody>\n</table>\n</div>"
     },
     "metadata": {}
    }
   ]
  },
  {
   "cell_type": "code",
   "metadata": {
    "tags": [],
    "cell_id": "00119-bc303aa0-ebbd-469a-a476-96d28007a7f7",
    "deepnote_to_be_reexecuted": true,
    "source_hash": "5ef29953",
    "execution_start": 1634839396113,
    "execution_millis": 3654,
    "deepnote_app_coordinates": {
     "x": 0,
     "y": 735,
     "w": 12,
     "h": 5
    },
    "deepnote_cell_type": "code",
    "deepnote_cell_height": 1027,
    "deepnote_output_heights": [
     570
    ]
   },
   "source": "fig,ax = plt.subplots(2,1,figsize=(8,8),sharex=True)\nsns.histplot(data['update_motorcycle1'], palette=PALETTE, ax=ax[0], edgecolor=None, alpha=0.5)\nax[0].set_title('Updated contracts REAL (Moto 1)')\n\nunif_addition = np.random.rand(*data['baseline_motorcycle1'].shape)*50000\n\nfake_y = data['baseline_motorcycle1'] + unif_addition\nsns.histplot(fake_y, palette=PALETTE, ax=ax[1], edgecolor=None, alpha=0.5)\nax[1].set_title('Updated contracts FAKE (moto 1)')\n\n\n# fake_y = data['baseline_motorcycle1'] + unif_addition\n# sns.histplot(fake_y, palette=PALETTE, ax=ax[2], edgecolor=None, alpha=0.5)\n# ax[2].set_title('Updated contracts FAKE (moto 1)')\n\n\n\n\nplt.xlabel('Kilometrage [km]')\nplt.tight_layout()\nplt.show()",
   "execution_count": null,
   "outputs": [
    {
     "data": {
      "text/plain": "<Figure size 576x576 with 2 Axes>",
      "image/png": "[encoded data removed]"
     },
     "metadata": {
      "needs_background": "light",
      "image/png": {
       "width": 568,
       "height": 568
      }
     },
     "output_type": "display_data"
    }
   ]
  },
  {
   "cell_type": "code",
   "metadata": {
    "tags": [],
    "cell_id": "00119-03632214-a26c-45c9-8ce1-dff73feb4533",
    "deepnote_to_be_reexecuted": true,
    "source_hash": "6a5c12f7",
    "execution_start": 1634841604732,
    "execution_millis": 155,
    "deepnote_app_coordinates": {
     "x": 0,
     "y": 741,
     "w": 12,
     "h": 5
    },
    "deepnote_cell_type": "code",
    "deepnote_cell_height": 256.79998779296875,
    "deepnote_output_heights": [
     null,
     21
    ]
   },
   "source": "bot = df_fonts[df_fonts['font']=='Arial'][df_fonts['condition']=='Sign Bottom']['baseline_motorcycle1']\ntop = df_fonts[df_fonts['font']=='Arial'][df_fonts['condition']=='Sign Top']['baseline_motorcycle1']\nstats.kstest(top, bot)",
   "execution_count": null,
   "outputs": [
    {
     "name": "stderr",
     "text": "/shared-libs/python3.7/py-core/lib/python3.7/site-packages/ipykernel_launcher.py:1: UserWarning: Boolean Series key will be reindexed to match DataFrame index.\n  \"\"\"Entry point for launching an IPython kernel.\n/shared-libs/python3.7/py-core/lib/python3.7/site-packages/ipykernel_launcher.py:2: UserWarning: Boolean Series key will be reindexed to match DataFrame index.\n  \n",
     "output_type": "stream"
    },
    {
     "output_type": "execute_result",
     "execution_count": 90,
     "data": {
      "text/plain": "KstestResult(statistic=0.13275064918614224, pvalue=2.271618856545773e-26)"
     },
     "metadata": {}
    }
   ]
  },
  {
   "cell_type": "code",
   "metadata": {
    "tags": [],
    "cell_id": "00120-a6aa3b7d-124f-430d-9dcc-65f79487b509",
    "deepnote_to_be_reexecuted": true,
    "source_hash": "fbd9a43b",
    "allow_embed": false,
    "execution_start": 1634839400194,
    "execution_millis": 175,
    "deepnote_app_coordinates": {
     "x": 0,
     "y": 747,
     "w": 12,
     "h": 5
    },
    "deepnote_cell_type": "code",
    "deepnote_cell_height": 118,
    "deepnote_output_heights": [
     21
    ]
   },
   "source": "stats.kstest(data_arial[data_arial['condition']=='Sign Top']['baseline_motorcycle1'], data_arial[data_arial['condition']=='Sign Bottom']['baseline_motorcycle1'])",
   "execution_count": null,
   "outputs": [
    {
     "output_type": "execute_result",
     "execution_count": 64,
     "data": {
      "text/plain": "KstestResult(statistic=0.13275064918614224, pvalue=2.271618856545773e-26)"
     },
     "metadata": {}
    }
   ]
  },
  {
   "cell_type": "code",
   "metadata": {
    "tags": [],
    "cell_id": "00119-f8d67767-1f65-44b9-b53d-974881957416",
    "deepnote_to_be_reexecuted": true,
    "source_hash": "41c2d92a",
    "execution_start": 1634839400393,
    "execution_millis": 43,
    "deepnote_app_coordinates": {
     "x": 0,
     "y": 753,
     "w": 12,
     "h": 5
    },
    "deepnote_cell_type": "code",
    "deepnote_cell_height": 118,
    "deepnote_output_heights": [
     21
    ]
   },
   "source": "stats.kstest(fake_y, data['update_motorcycle1'])",
   "execution_count": null,
   "outputs": [
    {
     "output_type": "execute_result",
     "execution_count": 65,
     "data": {
      "text/plain": "KstestResult(statistic=0.005487171881951691, pvalue=0.9865810101919755)"
     },
     "metadata": {}
    }
   ]
  },
  {
   "cell_type": "code",
   "metadata": {
    "tags": [],
    "cell_id": "00119-164bd19a-b602-4074-a501-88027ce40748",
    "deepnote_to_be_reexecuted": true,
    "source_hash": "94a80806",
    "execution_start": 1634839400448,
    "execution_millis": 23,
    "deepnote_app_coordinates": {
     "x": 0,
     "y": 759,
     "w": 12,
     "h": 5
    },
    "deepnote_cell_type": "code",
    "deepnote_cell_height": 349,
    "deepnote_output_heights": [
     252
    ]
   },
   "source": "data['update_motorcycle1'] - fake_y",
   "execution_count": null,
   "outputs": [
    {
     "output_type": "execute_result",
     "execution_count": 66,
     "data": {
      "text/plain": "id\n1        31618.702904\n2        -4262.107525\n3       -31159.214831\n4         -934.173511\n5        36660.661392\n             ...     \n13484     6071.357910\n13485   -15296.442538\n13486   -34848.573264\n13487      708.600810\n13488     7840.353836\nLength: 13486, dtype: float64"
     },
     "metadata": {}
    }
   ]
  },
  {
   "cell_type": "code",
   "metadata": {
    "tags": [],
    "cell_id": "00120-a0ec0054-f5c9-4026-96aa-088251f6a822",
    "deepnote_to_be_reexecuted": true,
    "source_hash": "f45d60e",
    "execution_start": 1634839400488,
    "execution_millis": 1748,
    "deepnote_app_coordinates": {
     "x": 0,
     "y": 765,
     "w": 12,
     "h": 5
    },
    "deepnote_cell_type": "code",
    "deepnote_cell_height": 1009,
    "deepnote_output_heights": [
     570
    ]
   },
   "source": "fig,ax = plt.subplots(2,1,figsize=(8,8),sharex=True, sharey=True)\nsns.histplot((data_arial[data_arial.condition == 'Sign Top'])['baseline_motorcycle1'], palette=PALETTE, ax=ax[0], edgecolor=None, alpha=0.5)\nax[0].set_title('Sign Top Arial')\n\n\nsns.histplot((data_arial[data_arial.condition == 'Sign Bottom'])['baseline_motorcycle1'], palette=PALETTE, ax=ax[1], edgecolor=None, alpha=0.5)\nax[1].set_title('Sign Bottom Arial')\n\n#ax[0].set_xlim((10**(4.5), 1e6))\n\n# fake_y = data['baseline_motorcycle1'] + unif_addition\n# sns.histplot(fake_y, palette=PALETTE, ax=ax[2], edgecolor=None, alpha=0.5) \n# ax[2].set_title('Updated contracts FAKE (moto 1)')\n\n\n\n\nplt.xlabel('Kilometrage [km]')\nplt.tight_layout()\nplt.show()",
   "execution_count": null,
   "outputs": [
    {
     "data": {
      "text/plain": "<Figure size 576x576 with 2 Axes>",
      "image/png": "[encoded data removed]"
     },
     "metadata": {
      "needs_background": "light",
      "image/png": {
       "width": 568,
       "height": 568
      }
     },
     "output_type": "display_data"
    }
   ]
  },
  {
   "cell_type": "code",
   "metadata": {
    "tags": [],
    "cell_id": "00124-c0db2f48-6c4a-4b5c-9a75-37969f621298",
    "deepnote_to_be_reexecuted": true,
    "source_hash": "5a196165",
    "execution_start": 1634839402241,
    "execution_millis": 10,
    "deepnote_app_coordinates": {
     "x": 0,
     "y": 771,
     "w": 12,
     "h": 5
    },
    "deepnote_cell_type": "code",
    "deepnote_cell_height": 279
   },
   "source": "# mean_diff = sb_arial.mean() - st_arial.mean()\n\n# fig,ax = plt.subplots(2,1, sharex=True)\n# sns.histplot(sb_arial, palette=PALETTE, ax=ax[0], edgecolor=None, alpha=0.5)\n# ax[0].set_title('Sign bottom arial')\n\n# unif_addition = np.random.rand(*st_arial.shape)*2*mean_diff\n# fake_y = st_arial + unif_addition\n# sns.histplot(fake_y, palette=PALETTE, ax=ax[1], edgecolor=None, alpha=0.5)\n# ax[1].set_title('FAKE sign bottom arial')\n\n# stats.kstest(fake_y, sb_arial)",
   "execution_count": null,
   "outputs": []
  },
  {
   "cell_type": "code",
   "metadata": {
    "tags": [],
    "cell_id": "00123-f2c41b1b-718b-4b51-bafd-6d8a430ccfc9",
    "deepnote_to_be_reexecuted": true,
    "source_hash": "5d459ab8",
    "execution_start": 1634839402260,
    "execution_millis": 456,
    "deepnote_app_coordinates": {
     "x": 0,
     "y": 777,
     "w": 12,
     "h": 5
    },
    "deepnote_cell_type": "code",
    "deepnote_cell_height": 756,
    "deepnote_output_heights": [
     21,
     499
    ]
   },
   "source": "st_arial = (data_arial[data_arial.condition == 'Sign Top'])['baseline_motorcycle1']\nsb_arial = (data_arial[data_arial.condition == 'Sign Bottom'])['baseline_motorcycle1']\ndiff = st_arial - sb_arial\n\nfig,ax = plt.subplots(1,1,figsize=(8,8))\nsns.histplot(diff, palette=PALETTE, ax=ax, edgecolor=None, alpha=0.5)\nax.set_title('Arial top - bottom')",
   "execution_count": null,
   "outputs": [
    {
     "output_type": "execute_result",
     "execution_count": 69,
     "data": {
      "text/plain": "Text(0.5, 1.0, 'Arial top - bottom')"
     },
     "metadata": {}
    },
    {
     "data": {
      "text/plain": "<Figure size 576x576 with 1 Axes>",
      "image/png": "[encoded data removed]"
     },
     "metadata": {
      "needs_background": "light",
      "image/png": {
       "width": 512,
       "height": 497
      }
     },
     "output_type": "display_data"
    }
   ]
  },
  {
   "cell_type": "code",
   "metadata": {
    "tags": [],
    "cell_id": "00125-77b48439-7de4-4f55-89ad-7ca1463fb60e",
    "deepnote_to_be_reexecuted": true,
    "source_hash": "be00077c",
    "execution_start": 1634839402721,
    "execution_millis": 804,
    "deepnote_app_coordinates": {
     "x": 0,
     "y": 783,
     "w": 12,
     "h": 5
    },
    "deepnote_cell_type": "code",
    "deepnote_cell_height": 790,
    "deepnote_output_heights": [
     21,
     497
    ]
   },
   "source": "a = st_arial.values[:3324]\na.sort\naa = sb_arial.values[:3324]\naa.sort()\ndiff = a-aa\n\nfig,ax = plt.subplots(1,1,figsize=(8,8))\nsns.histplot(diff, palette=PALETTE, ax=ax, edgecolor=None, alpha=0.5)\nax.set_title('Arial top - bottom')",
   "execution_count": null,
   "outputs": [
    {
     "output_type": "execute_result",
     "execution_count": 70,
     "data": {
      "text/plain": "Text(0.5, 1.0, 'Arial top - bottom')"
     },
     "metadata": {}
    },
    {
     "data": {
      "text/plain": "<Figure size 576x576 with 1 Axes>",
      "image/png": "[encoded data removed]"
     },
     "metadata": {
      "needs_background": "light",
      "image/png": {
       "width": 507,
       "height": 495
      }
     },
     "output_type": "display_data"
    }
   ]
  },
  {
   "cell_type": "code",
   "metadata": {
    "tags": [],
    "cell_id": "00126-017be0d2-4fcd-496f-832f-d2e0d4bf129b",
    "deepnote_to_be_reexecuted": true,
    "source_hash": "3cf142eb",
    "execution_start": 1634839403386,
    "execution_millis": 168,
    "deepnote_app_coordinates": {
     "x": 0,
     "y": 789,
     "w": 12,
     "h": 5
    },
    "deepnote_cell_type": "code",
    "deepnote_cell_height": 214,
    "deepnote_output_heights": [
     117
    ]
   },
   "source": "df_fonts.groupby(by=['condition','font']).count()['baseline_motorcycle1']",
   "execution_count": null,
   "outputs": [
    {
     "output_type": "execute_result",
     "execution_count": 71,
     "data": {
      "text/plain": "condition    font     \nSign Bottom  Arial        3324\n             Helvetica    3339\nSign Top     Arial        3420\n             Helvetica    3403\nName: baseline_motorcycle1, dtype: int64"
     },
     "metadata": {}
    }
   ]
  },
  {
   "cell_type": "code",
   "metadata": {
    "tags": [],
    "cell_id": "00127-20c2e152-f87b-4481-97e3-93639121f1c4",
    "deepnote_to_be_reexecuted": true,
    "source_hash": "19976bca",
    "execution_start": 1634839403421,
    "execution_millis": 561,
    "deepnote_app_coordinates": {
     "x": 0,
     "y": 795,
     "w": 12,
     "h": 5
    },
    "deepnote_cell_type": "code",
    "deepnote_cell_height": 453,
    "deepnote_output_heights": [
     null,
     250
    ]
   },
   "source": "arial_b = df_fonts[df_fonts.font == 'Arial']['baseline_motorcycle1']\narial_u = df_fonts[df_fonts.font == 'Arial']['update_motorcycle1']\ndiff = arial_u.astype(np.int) - arial_b.astype(np.int)\nsns.histplot(diff)",
   "execution_count": null,
   "outputs": [
    {
     "output_type": "execute_result",
     "execution_count": 72,
     "data": {
      "text/plain": "<AxesSubplot:ylabel='Count'>"
     },
     "metadata": {}
    },
    {
     "data": {
      "text/plain": "<Figure size 432x288 with 1 Axes>",
      "image/png": "[encoded data removed]"
     },
     "metadata": {
      "needs_background": "light",
      "image/png": {
       "width": 389,
       "height": 248
      }
     },
     "output_type": "display_data"
    }
   ]
  },
  {
   "cell_type": "code",
   "metadata": {
    "tags": [],
    "cell_id": "00133-9ee31e27-edac-4810-9736-5f9b0eee54ee",
    "deepnote_to_be_reexecuted": true,
    "source_hash": "a88056f1",
    "execution_start": 1634839403989,
    "execution_millis": 1995,
    "deepnote_app_coordinates": {
     "x": 0,
     "y": 801,
     "w": 12,
     "h": 5
    },
    "deepnote_cell_type": "code",
    "deepnote_cell_height": 882.4000244140625,
    "deepnote_output_heights": [
     null,
     null,
     265,
     265
    ]
   },
   "source": "print(arial_b.mean())\nprint(arial_u.mean())\nplt.figure()\nsns.histplot(arial_b)\nplt.figure()\nsns.histplot(arial_u)\n",
   "execution_count": null,
   "outputs": [
    {
     "name": "stdout",
     "text": "67105.86402728352\n91843.93119810201\n",
     "output_type": "stream"
    },
    {
     "output_type": "execute_result",
     "execution_count": 73,
     "data": {
      "text/plain": "<AxesSubplot:xlabel='update_motorcycle1', ylabel='Count'>"
     },
     "metadata": {}
    },
    {
     "data": {
      "text/plain": "<Figure size 432x288 with 1 Axes>",
      "image/png": "[encoded data removed]"
     },
     "metadata": {
      "needs_background": "light",
      "image/png": {
       "width": 389,
       "height": 263
      }
     },
     "output_type": "display_data"
    },
    {
     "data": {
      "text/plain": "<Figure size 432x288 with 1 Axes>",
      "image/png": "[encoded data removed]"
     },
     "metadata": {
      "needs_background": "light",
      "image/png": {
       "width": 389,
       "height": 263
      }
     },
     "output_type": "display_data"
    }
   ]
  },
  {
   "cell_type": "code",
   "metadata": {
    "tags": [],
    "cell_id": "00137-14f9f344-cafe-4878-850c-40da8994e107",
    "deepnote_to_be_reexecuted": true,
    "source_hash": "4940bdc5",
    "execution_start": 1634839405988,
    "execution_millis": 4229,
    "deepnote_app_coordinates": {
     "x": 0,
     "y": 807,
     "w": 12,
     "h": 5
    },
    "deepnote_cell_type": "code",
    "deepnote_cell_height": 331
   },
   "source": "fig, ax = plt.subplots(1,2,figsize=(12,5), gridspec_kw={'width_ratios': [3, 1]})\n\n# Plot histograms\nsns.histplot(x='update_average', hue='condition', data=data_helvetica[['update_average', 'condition']],ax=ax[0], palette=PALETTE)\nax[0].set_xlabel('Kilometrage [km]')\nax[0].set_title('A')\n\n# Plot barplot\nsns.barplot(x='condition', y='update_average', data = data_helvetica[['update_average', 'condition']],ax=ax[1], palette=PALETTE)\nax[1].set_ylabel('Kilometrage')\nax[1].set_title('B')\n\nplt.tight_layout()\nplt.show()",
   "execution_count": null,
   "outputs": [
    {
     "data": {
      "text/plain": "<Figure size 864x360 with 2 Axes>",
      "image/png": "[encoded data removed]"
     },
     "metadata": {
      "needs_background": "light",
      "image/png": {
       "width": 856,
       "height": 352
      }
     },
     "output_type": "display_data"
    }
   ]
  },
  {
   "cell_type": "markdown",
   "source": "<a style='text-decoration:none;line-height:16px;display:flex;color:#5B5B62;padding:10px;justify-content:end;' href='https://deepnote.com?utm_source=created-in-deepnote-cell&projectId=4745606a-24b3-450d-a9a2-0dcbca13975f' target=\"_blank\">\n<img alt='Created in deepnote.com' style='display:inline;max-height:16px;margin:0px;margin-right:7.5px;' src='data:image/svg+xml;base64,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' > </img>\nCreated in <span style='font-weight:600;margin-left:4px;'>Deepnote</span></a>",
   "metadata": {
    "tags": [],
    "created_in_deepnote_cell": true,
    "deepnote_cell_type": "markdown"
   }
  }
 ],
 "nbformat": 4,
 "nbformat_minor": 4,
 "metadata": {
  "interpreter": {
   "hash": "b3ba2566441a7c06988d0923437866b63cedc61552a5af99d1f4fb67d367b25f"
  },
  "kernelspec": {
   "display_name": "Python 3 (ipykernel)",
   "language": "python",
   "name": "python3"
  },
  "language_info": {
   "codemirror_mode": {
    "name": "ipython",
    "version": 3
   },
   "file_extension": ".py",
   "mimetype": "text/x-python",
   "name": "python",
   "nbconvert_exporter": "python",
   "pygments_lexer": "ipython3",
   "version": "3.8.11"
  },
  "pycharm": {
   "stem_cell": {
    "cell_type": "raw",
    "metadata": {
     "collapsed": false
    },
    "source": []
   }
  },
  "deepnote_notebook_id": "304a5537-095a-4332-b40f-914d1c555113",
  "deepnote": {},
  "deepnote_execution_queue": [],
  "deepnote_app_layout": "article"
 }
}