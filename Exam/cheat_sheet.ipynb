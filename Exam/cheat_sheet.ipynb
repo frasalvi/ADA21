{
 "cells": [
  {
   "cell_type": "code",
   "execution_count": null,
   "id": "52993c3d-0eec-4568-9642-def63e88a95d",
   "metadata": {},
   "outputs": [],
   "source": [
    "pd.factorize    #encode categorical features\n",
    "sklearn.pipeline.Pipeline    #combine transformations and an estimator\n",
    "sklearn.model_selection.GridSearchCV    #compute top params with cross validation\n",
    "sklearn.metrics.classification_report    #collection of classification metrics\n",
    "seaborn.pointplot    #show difference in a variable btw classes (categorical features)"
   ]
  },
  {
   "cell_type": "markdown",
   "id": "7e77cb6b-49d3-487d-b19b-a9563b1d814e",
   "metadata": {},
   "source": [
    "...we are not measuring the direct effect, but the total effect, including the effect mediated through the shortest path length. \n",
    "Depending on on the strength and the sign of the mediated impact, since we are measuring the total impact, we could see different results compared to the true direct causal effect."
   ]
  }
 ],
 "metadata": {
  "kernelspec": {
   "display_name": "Python [conda env:adaexam] *",
   "language": "python",
   "name": "conda-env-adaexam-py"
  },
  "language_info": {
   "codemirror_mode": {
    "name": "ipython",
    "version": 3
   },
   "file_extension": ".py",
   "mimetype": "text/x-python",
   "name": "python",
   "nbconvert_exporter": "python",
   "pygments_lexer": "ipython3",
   "version": "3.8.12"
  }
 },
 "nbformat": 4,
 "nbformat_minor": 5
}
