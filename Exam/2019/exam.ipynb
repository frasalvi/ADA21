{
 "cells": [
  {
   "cell_type": "markdown",
   "metadata": {},
   "source": [
    "# ADA final exam (winter semester 2019/2020)"
   ]
  },
  {
   "cell_type": "markdown",
   "metadata": {},
   "source": [
    "A friend of yours wants to start a YouTube channel and ideally earn some money via ads. However, there are so many channels and videos out there that your friend has no idea where to even start. Fortunately, they know that you have taken ADA and think you might help them out by analyzing the videos that are currently on YouTube."
   ]
  },
  {
   "cell_type": "markdown",
   "metadata": {},
   "source": [
    "The data you are provided with is a subset of YouTube videos, with videos from some of the giant channels in two categories: \"Gaming\" and \"How-to & Style\", which are the categories your friend is choosing between. The dataset contains a lot of videos, with data on those videos including their titles, their total number of views in 2019, their tags and descriptions, etc. The data is, in gzip-compressed format, contained in the `data/` folder, as the file `youtube.csv.gz`."
   ]
  },
  {
   "cell_type": "markdown",
   "metadata": {},
   "source": [
    "The three tasks A, B and C are **independent** of each other, and you can solve any combination of them. The exam is designed for more than 3 hours, so don't worry if you don't manage to solve everything; you can still score a 6."
   ]
  },
  {
   "cell_type": "markdown",
   "metadata": {},
   "source": [
    "You need to run the following two cells to read and prepare the dataset."
   ]
  },
  {
   "cell_type": "code",
   "execution_count": 1,
   "metadata": {},
   "outputs": [],
   "source": [
    "''' Some minimalistic imports '''\n",
    "import pandas as pd\n",
    "import random\n",
    "import gzip\n",
    "import operator\n",
    "import time\n",
    "from urllib.parse import unquote\n",
    "\n",
    "import math\n",
    "import numpy as np\n",
    "import scipy.stats as stats\n",
    "import sklearn\n",
    "\n",
    "import networkx as nx\n",
    "\n",
    "from IPython.display import Image\n",
    "%matplotlib inline\n",
    "import matplotlib.pyplot as plt\n",
    "import seaborn as sns"
   ]
  },
  {
   "cell_type": "code",
   "execution_count": 2,
   "metadata": {},
   "outputs": [],
   "source": [
    "import sklearn.model_selection\n",
    "import sklearn.linear_model\n",
    "import sklearn.metrics\n",
    "\n",
    "from operator import itemgetter\n",
    "from collections import Counter"
   ]
  },
  {
   "cell_type": "code",
   "execution_count": 3,
   "metadata": {},
   "outputs": [],
   "source": [
    "import pandas as pd\n",
    "import numpy as np"
   ]
  },
  {
   "cell_type": "code",
   "execution_count": 4,
   "metadata": {},
   "outputs": [],
   "source": [
    "youtube = pd.read_csv('data/youtube.csv.gz', compression='gzip')\n",
    "youtube.upload_date = pd.to_datetime(youtube.upload_date)"
   ]
  },
  {
   "cell_type": "markdown",
   "metadata": {},
   "source": [
    "## Dataset description"
   ]
  },
  {
   "cell_type": "markdown",
   "metadata": {},
   "source": [
    "Each row of the dataset corresponds to one video that was uploaded to YouTube. There are 11 columns:\n",
    "'channel', 'upload_date', 'title', 'categories', 'tags', 'duration',\n",
    "       'view_count', 'average_rating', 'height', 'width', 'channel_cat'.\n",
    "- `channel`: The channel (account) on which the video was uploaded.\n",
    "- `upload_date`: The date on which the video was uploaded (Pandas Timestamp object).\n",
    "- `title`: The title of the video.\n",
    "- `tags`: A list of words that describe the video.\n",
    "- `duration`: The duration of the video in seconds.\n",
    "- `view_count`: The number of times the video was watched.\n",
    "- `average_rating`: The average score with which the viewers rated the video (1-5).\n",
    "- `height`: The height of the video in pixels.\n",
    "- `width`: The width of the video in pixels.\n",
    "- `channel_cat`: The category of the channel on which this video was uploaded. This dataset only contains videos from channels from the 'Gaming' and the 'Howto & Style' category."
   ]
  },
  {
   "cell_type": "markdown",
   "metadata": {},
   "source": [
    "# Task A: Welcome to the exam!"
   ]
  },
  {
   "cell_type": "markdown",
   "metadata": {},
   "source": [
    "All of Task A refers to the videos that were published between and including 2010 and 2018."
   ]
  },
  {
   "cell_type": "markdown",
   "metadata": {},
   "source": [
    "## A1: A growing platform?"
   ]
  },
  {
   "cell_type": "markdown",
   "metadata": {},
   "source": [
    "You would first like to know whether YouTube in general is the right platform to invest time into."
   ]
  },
  {
   "cell_type": "markdown",
   "metadata": {},
   "source": [
    "1. Using the appropriate plot type, plot the number of videos published per year between and including 2010 and 2018."
   ]
  },
  {
   "cell_type": "code",
   "execution_count": 8,
   "metadata": {},
   "outputs": [],
   "source": [
    "youtube['year'] = youtube.upload_date.dt.year "
   ]
  },
  {
   "cell_type": "code",
   "execution_count": 15,
   "metadata": {},
   "outputs": [],
   "source": [
    "# Restrict dataset to years between 2010 and 2018\n",
    "youtube_A = youtube[(2010 <= youtube['year']) & (youtube['year'] <= 2018)]"
   ]
  },
  {
   "cell_type": "code",
   "execution_count": 36,
   "metadata": {},
   "outputs": [
    {
     "data": {
      "text/plain": [
       "2010     2731\n",
       "2011     7929\n",
       "2012    12987\n",
       "2013    18309\n",
       "2014    20216\n",
       "2015    15704\n",
       "2016    15966\n",
       "2017    17356\n",
       "2018    16665\n",
       "Name: year, dtype: int64"
      ]
     },
     "execution_count": 36,
     "metadata": {},
     "output_type": "execute_result"
    }
   ],
   "source": [
    "year_counts = youtube_A.year.value_counts().sort_index()\n",
    "year_counts"
   ]
  },
  {
   "cell_type": "code",
   "execution_count": 42,
   "metadata": {},
   "outputs": [
    {
     "data": {
      "image/png": "[encoded data removed]",
      "text/plain": [
       "<Figure size 432x288 with 1 Axes>"
      ]
     },
     "metadata": {
      "needs_background": "light"
     },
     "output_type": "display_data"
    }
   ],
   "source": [
    "sns.lineplot(x=year_counts.index, y=year_counts.values, marker=\"o\");\n",
    "plt.xlabel('year')\n",
    "plt.ylabel('number of videos');"
   ]
  },
  {
   "cell_type": "markdown",
   "metadata": {},
   "source": [
    "2. Now for each year, plot the number of channels that have been created between the beginning of 2010 and the end of that year. A channel is considered to be created at the time at which they upload their first video."
   ]
  },
  {
   "cell_type": "code",
   "execution_count": 62,
   "metadata": {},
   "outputs": [],
   "source": [
    "# Sort by channel and year\n",
    "youtube_A = youtube_A.sort_values(by=['channel', 'year'])\n",
    "\n",
    "# Count the number of channel created per year\n",
    "year_creation = youtube_A.groupby('channel').year.head(1).value_counts()\n",
    "year_creation = year_creation.sort_index()"
   ]
  },
  {
   "cell_type": "code",
   "execution_count": 134,
   "metadata": {},
   "outputs": [
    {
     "data": {
      "text/plain": [
       "2010     49\n",
       "2011     76\n",
       "2012    112\n",
       "2013    133\n",
       "2014    151\n",
       "2015    164\n",
       "2016    176\n",
       "2017    193\n",
       "2018    195\n",
       "Name: year, dtype: int64"
      ]
     },
     "execution_count": 134,
     "metadata": {},
     "output_type": "execute_result"
    }
   ],
   "source": [
    "# Cumulative sum - number of channels created between beginning of 2010 and end of index year\n",
    "year_creation = year_creation.cumsum()\n",
    "year_creation"
   ]
  },
  {
   "cell_type": "code",
   "execution_count": 135,
   "metadata": {},
   "outputs": [
    {
     "data": {
      "image/png": "[encoded data removed]",
      "text/plain": [
       "<Figure size 432x288 with 1 Axes>"
      ]
     },
     "metadata": {
      "needs_background": "light"
     },
     "output_type": "display_data"
    }
   ],
   "source": [
    "sns.lineplot(x=year_creation.index, y=year_creation.values, marker=\"o\");\n",
    "plt.xlabel('year')\n",
    "plt.ylabel('number of created channels');"
   ]
  },
  {
   "cell_type": "markdown",
   "metadata": {},
   "source": [
    "3. Normalize the number of videos published each year by the number of channels that have been created between the beginning of 2010 and the end of that year, and plot these quantities. Do seperate plots for gaming channels, how-to channels, and both together. Can you conclude from the plot that both gaming and how-to channels have been becoming less and less active recently? Why, or why not?"
   ]
  },
  {
   "cell_type": "code",
   "execution_count": 124,
   "metadata": {},
   "outputs": [
    {
     "data": {
      "text/html": [
       "<div>\n",
       "<style scoped>\n",
       "    .dataframe tbody tr th:only-of-type {\n",
       "        vertical-align: middle;\n",
       "    }\n",
       "\n",
       "    .dataframe tbody tr th {\n",
       "        vertical-align: top;\n",
       "    }\n",
       "\n",
       "    .dataframe thead th {\n",
       "        text-align: right;\n",
       "    }\n",
       "</style>\n",
       "<table border=\"1\" class=\"dataframe\">\n",
       "  <thead>\n",
       "    <tr style=\"text-align: right;\">\n",
       "      <th>year</th>\n",
       "      <th>2010</th>\n",
       "      <th>2011</th>\n",
       "      <th>2012</th>\n",
       "      <th>2013</th>\n",
       "      <th>2014</th>\n",
       "      <th>2015</th>\n",
       "      <th>2016</th>\n",
       "      <th>2017</th>\n",
       "      <th>2018</th>\n",
       "    </tr>\n",
       "    <tr>\n",
       "      <th>channel_cat</th>\n",
       "      <th></th>\n",
       "      <th></th>\n",
       "      <th></th>\n",
       "      <th></th>\n",
       "      <th></th>\n",
       "      <th></th>\n",
       "      <th></th>\n",
       "      <th></th>\n",
       "      <th></th>\n",
       "    </tr>\n",
       "  </thead>\n",
       "  <tbody>\n",
       "    <tr>\n",
       "      <th>Gaming</th>\n",
       "      <td>1560</td>\n",
       "      <td>5563</td>\n",
       "      <td>8922</td>\n",
       "      <td>13511</td>\n",
       "      <td>15076</td>\n",
       "      <td>10192</td>\n",
       "      <td>8492</td>\n",
       "      <td>8047</td>\n",
       "      <td>7144</td>\n",
       "    </tr>\n",
       "    <tr>\n",
       "      <th>Howto &amp; Style</th>\n",
       "      <td>1171</td>\n",
       "      <td>2366</td>\n",
       "      <td>4065</td>\n",
       "      <td>4798</td>\n",
       "      <td>5140</td>\n",
       "      <td>5512</td>\n",
       "      <td>7474</td>\n",
       "      <td>9309</td>\n",
       "      <td>9521</td>\n",
       "    </tr>\n",
       "  </tbody>\n",
       "</table>\n",
       "</div>"
      ],
      "text/plain": [
       "year           2010  2011  2012   2013   2014   2015  2016  2017  2018\n",
       "channel_cat                                                           \n",
       "Gaming         1560  5563  8922  13511  15076  10192  8492  8047  7144\n",
       "Howto & Style  1171  2366  4065   4798   5140   5512  7474  9309  9521"
      ]
     },
     "execution_count": 124,
     "metadata": {},
     "output_type": "execute_result"
    }
   ],
   "source": [
    "# Repeat the analysis separating by category\n",
    "year_counts_cat = youtube_A.groupby('channel_cat').year.value_counts().sort_index()\n",
    "year_counts_cat = year_counts_cat.unstack()\n",
    "year_counts_cat"
   ]
  },
  {
   "cell_type": "code",
   "execution_count": 161,
   "metadata": {},
   "outputs": [
    {
     "data": {
      "text/html": [
       "<div>\n",
       "<style scoped>\n",
       "    .dataframe tbody tr th:only-of-type {\n",
       "        vertical-align: middle;\n",
       "    }\n",
       "\n",
       "    .dataframe tbody tr th {\n",
       "        vertical-align: top;\n",
       "    }\n",
       "\n",
       "    .dataframe thead th {\n",
       "        text-align: right;\n",
       "    }\n",
       "</style>\n",
       "<table border=\"1\" class=\"dataframe\">\n",
       "  <thead>\n",
       "    <tr style=\"text-align: right;\">\n",
       "      <th>year</th>\n",
       "      <th>2010</th>\n",
       "      <th>2011</th>\n",
       "      <th>2012</th>\n",
       "      <th>2013</th>\n",
       "      <th>2014</th>\n",
       "      <th>2015</th>\n",
       "      <th>2016</th>\n",
       "      <th>2017</th>\n",
       "      <th>2018</th>\n",
       "    </tr>\n",
       "    <tr>\n",
       "      <th>channel_cat</th>\n",
       "      <th></th>\n",
       "      <th></th>\n",
       "      <th></th>\n",
       "      <th></th>\n",
       "      <th></th>\n",
       "      <th></th>\n",
       "      <th></th>\n",
       "      <th></th>\n",
       "      <th></th>\n",
       "    </tr>\n",
       "  </thead>\n",
       "  <tbody>\n",
       "    <tr>\n",
       "      <th>Gaming</th>\n",
       "      <td>24.0</td>\n",
       "      <td>41.0</td>\n",
       "      <td>61.0</td>\n",
       "      <td>73.0</td>\n",
       "      <td>82.0</td>\n",
       "      <td>91.0</td>\n",
       "      <td>94.0</td>\n",
       "      <td>99.0</td>\n",
       "      <td>NaN</td>\n",
       "    </tr>\n",
       "    <tr>\n",
       "      <th>Howto &amp; Style</th>\n",
       "      <td>25.0</td>\n",
       "      <td>35.0</td>\n",
       "      <td>51.0</td>\n",
       "      <td>60.0</td>\n",
       "      <td>69.0</td>\n",
       "      <td>73.0</td>\n",
       "      <td>82.0</td>\n",
       "      <td>94.0</td>\n",
       "      <td>96.0</td>\n",
       "    </tr>\n",
       "  </tbody>\n",
       "</table>\n",
       "</div>"
      ],
      "text/plain": [
       "year           2010  2011  2012  2013  2014  2015  2016  2017  2018\n",
       "channel_cat                                                        \n",
       "Gaming         24.0  41.0  61.0  73.0  82.0  91.0  94.0  99.0   NaN\n",
       "Howto & Style  25.0  35.0  51.0  60.0  69.0  73.0  82.0  94.0  96.0"
      ]
     },
     "execution_count": 161,
     "metadata": {},
     "output_type": "execute_result"
    }
   ],
   "source": [
    "# Repeat the analysis separating by category\n",
    "year_creation_cat = youtube_A.groupby('channel')[['year', 'channel_cat']].head(1)\n",
    "year_creation_cat = year_creation_cat.groupby('channel_cat').year.value_counts().sort_index()\n",
    "# year_creation_cat.append({['Gaming', 2018]: 0})\n",
    "year_creation_cat = year_creation_cat.groupby('channel_cat').cumsum()\n",
    "year_creation_cat = year_creation_cat.unstack()\n",
    "year_creation_cat"
   ]
  },
  {
   "cell_type": "code",
   "execution_count": 162,
   "metadata": {},
   "outputs": [],
   "source": [
    "# Manually fill the NaN with the value of the previous year (there are no new Gaming channels in 2018)\n",
    "year_creation_cat.loc['Gaming', 2018] = 99.0"
   ]
  },
  {
   "cell_type": "code",
   "execution_count": 173,
   "metadata": {},
   "outputs": [],
   "source": [
    "year_normalized = year_counts_cat / year_creation_cat"
   ]
  },
  {
   "cell_type": "code",
   "execution_count": 174,
   "metadata": {},
   "outputs": [
    {
     "data": {
      "text/html": [
       "<div>\n",
       "<style scoped>\n",
       "    .dataframe tbody tr th:only-of-type {\n",
       "        vertical-align: middle;\n",
       "    }\n",
       "\n",
       "    .dataframe tbody tr th {\n",
       "        vertical-align: top;\n",
       "    }\n",
       "\n",
       "    .dataframe thead th {\n",
       "        text-align: right;\n",
       "    }\n",
       "</style>\n",
       "<table border=\"1\" class=\"dataframe\">\n",
       "  <thead>\n",
       "    <tr style=\"text-align: right;\">\n",
       "      <th></th>\n",
       "      <th>2010</th>\n",
       "      <th>2011</th>\n",
       "      <th>2012</th>\n",
       "      <th>2013</th>\n",
       "      <th>2014</th>\n",
       "      <th>2015</th>\n",
       "      <th>2016</th>\n",
       "      <th>2017</th>\n",
       "      <th>2018</th>\n",
       "    </tr>\n",
       "  </thead>\n",
       "  <tbody>\n",
       "    <tr>\n",
       "      <th>Gaming</th>\n",
       "      <td>65.000000</td>\n",
       "      <td>135.682927</td>\n",
       "      <td>146.262295</td>\n",
       "      <td>185.082192</td>\n",
       "      <td>183.853659</td>\n",
       "      <td>112.000000</td>\n",
       "      <td>90.340426</td>\n",
       "      <td>81.282828</td>\n",
       "      <td>72.161616</td>\n",
       "    </tr>\n",
       "    <tr>\n",
       "      <th>Howto &amp; Style</th>\n",
       "      <td>46.840000</td>\n",
       "      <td>67.600000</td>\n",
       "      <td>79.705882</td>\n",
       "      <td>79.966667</td>\n",
       "      <td>74.492754</td>\n",
       "      <td>75.506849</td>\n",
       "      <td>91.146341</td>\n",
       "      <td>99.031915</td>\n",
       "      <td>99.177083</td>\n",
       "    </tr>\n",
       "    <tr>\n",
       "      <th>All</th>\n",
       "      <td>55.734694</td>\n",
       "      <td>104.328947</td>\n",
       "      <td>115.955357</td>\n",
       "      <td>137.661654</td>\n",
       "      <td>133.880795</td>\n",
       "      <td>95.756098</td>\n",
       "      <td>90.715909</td>\n",
       "      <td>89.927461</td>\n",
       "      <td>85.461538</td>\n",
       "    </tr>\n",
       "  </tbody>\n",
       "</table>\n",
       "</div>"
      ],
      "text/plain": [
       "                    2010        2011        2012        2013        2014  \\\n",
       "Gaming         65.000000  135.682927  146.262295  185.082192  183.853659   \n",
       "Howto & Style  46.840000   67.600000   79.705882   79.966667   74.492754   \n",
       "All            55.734694  104.328947  115.955357  137.661654  133.880795   \n",
       "\n",
       "                     2015       2016       2017       2018  \n",
       "Gaming         112.000000  90.340426  81.282828  72.161616  \n",
       "Howto & Style   75.506849  91.146341  99.031915  99.177083  \n",
       "All             95.756098  90.715909  89.927461  85.461538  "
      ]
     },
     "execution_count": 174,
     "metadata": {},
     "output_type": "execute_result"
    }
   ],
   "source": [
    "# Normalize stats for all channels and append them\n",
    "all_normalized = year_counts / year_creation\n",
    "year_normalized = year_normalized.append(pd.DataFrame([all_normalized.values], columns = all_normalized.index, index=['All']))\n",
    "year_normalized"
   ]
  },
  {
   "cell_type": "code",
   "execution_count": 175,
   "metadata": {},
   "outputs": [
    {
     "data": {
      "text/html": [
       "<div>\n",
       "<style scoped>\n",
       "    .dataframe tbody tr th:only-of-type {\n",
       "        vertical-align: middle;\n",
       "    }\n",
       "\n",
       "    .dataframe tbody tr th {\n",
       "        vertical-align: top;\n",
       "    }\n",
       "\n",
       "    .dataframe thead th {\n",
       "        text-align: right;\n",
       "    }\n",
       "</style>\n",
       "<table border=\"1\" class=\"dataframe\">\n",
       "  <thead>\n",
       "    <tr style=\"text-align: right;\">\n",
       "      <th></th>\n",
       "      <th>category</th>\n",
       "      <th>year</th>\n",
       "      <th>value</th>\n",
       "    </tr>\n",
       "  </thead>\n",
       "  <tbody>\n",
       "    <tr>\n",
       "      <th>0</th>\n",
       "      <td>Gaming</td>\n",
       "      <td>2010</td>\n",
       "      <td>65.000000</td>\n",
       "    </tr>\n",
       "    <tr>\n",
       "      <th>1</th>\n",
       "      <td>Howto &amp; Style</td>\n",
       "      <td>2010</td>\n",
       "      <td>46.840000</td>\n",
       "    </tr>\n",
       "    <tr>\n",
       "      <th>2</th>\n",
       "      <td>All</td>\n",
       "      <td>2010</td>\n",
       "      <td>55.734694</td>\n",
       "    </tr>\n",
       "    <tr>\n",
       "      <th>3</th>\n",
       "      <td>Gaming</td>\n",
       "      <td>2011</td>\n",
       "      <td>135.682927</td>\n",
       "    </tr>\n",
       "    <tr>\n",
       "      <th>4</th>\n",
       "      <td>Howto &amp; Style</td>\n",
       "      <td>2011</td>\n",
       "      <td>67.600000</td>\n",
       "    </tr>\n",
       "  </tbody>\n",
       "</table>\n",
       "</div>"
      ],
      "text/plain": [
       "        category  year       value\n",
       "0         Gaming  2010   65.000000\n",
       "1  Howto & Style  2010   46.840000\n",
       "2            All  2010   55.734694\n",
       "3         Gaming  2011  135.682927\n",
       "4  Howto & Style  2011   67.600000"
      ]
     },
     "execution_count": 175,
     "metadata": {},
     "output_type": "execute_result"
    }
   ],
   "source": [
    "# Prepare data for plotting\n",
    "year_normalized = year_normalized.melt(ignore_index=False).reset_index().rename({'variable': 'year', 'index': 'category'}, axis=1)\n",
    "year_normalized.head()"
   ]
  },
  {
   "cell_type": "code",
   "execution_count": 178,
   "metadata": {},
   "outputs": [
    {
     "data": {
      "image/png": "[encoded data removed]",
      "text/plain": [
       "<Figure size 432x288 with 1 Axes>"
      ]
     },
     "metadata": {
      "needs_background": "light"
     },
     "output_type": "display_data"
    }
   ],
   "source": [
    "sns.lineplot(x='year', y='value', hue='category', data=year_normalized, marker='o')\n",
    "plt.xlabel('year')\n",
    "plt.ylabel('number of videos / number of channels created');"
   ]
  },
  {
   "cell_type": "markdown",
   "metadata": {},
   "source": [
    "It seems that Gaming channels have become less active over time, while Howto & Style have undergone a surge in the last years."
   ]
  },
  {
   "cell_type": "markdown",
   "metadata": {},
   "source": [
    "## A2: The one thing we all love: cash money"
   ]
  },
  {
   "cell_type": "markdown",
   "metadata": {},
   "source": [
    "Your friend is really keen on making money from their YouTube channel through ads and wants you to help them choose the most profitable channel category (Gaming or Howto & Style). The ad profit is directly proportional to the number of views of a video."
   ]
  },
  {
   "cell_type": "markdown",
   "metadata": {},
   "source": [
    "1. Since your friend wants to keep producing videos for several years to come, it might also be worth looking at the growth of the two categories.\n",
    "  1. Compute the total number of views in each category per year for the years 2010-2018.\n",
    "  2. Divide the yearly view count by the number of channels that posted a video in each category in each year. Plot these normalized counts.\n",
    "\n",
    "\n"
   ]
  },
  {
   "cell_type": "code",
   "execution_count": 202,
   "metadata": {},
   "outputs": [
    {
     "data": {
      "text/plain": [
       "channel_cat  year\n",
       "Gaming       2010    7.792190e+08\n",
       "             2011    2.500144e+09\n",
       "             2012    6.189954e+09\n",
       "             2013    1.503147e+10\n",
       "             2014    2.497133e+10\n",
       "Name: view_count, dtype: float64"
      ]
     },
     "execution_count": 202,
     "metadata": {},
     "output_type": "execute_result"
    }
   ],
   "source": [
    "views_yearly = youtube_A.groupby(['channel_cat', 'year']).view_count.sum()#.reset_index()\n",
    "views_yearly.head()"
   ]
  },
  {
   "cell_type": "code",
   "execution_count": 310,
   "metadata": {},
   "outputs": [
    {
     "data": {
      "text/plain": [
       "channel_cat\n",
       "Gaming           1.269254e+11\n",
       "Howto & Style    7.707333e+10\n",
       "Name: view_count, dtype: float64"
      ]
     },
     "execution_count": 310,
     "metadata": {},
     "output_type": "execute_result"
    }
   ],
   "source": [
    "views_yearly.groupby('channel_cat').sum()"
   ]
  },
  {
   "cell_type": "code",
   "execution_count": 203,
   "metadata": {},
   "outputs": [
    {
     "data": {
      "text/plain": [
       "channel_cat  year\n",
       "Gaming       2010    24\n",
       "             2011    41\n",
       "             2012    57\n",
       "             2013    66\n",
       "             2014    69\n",
       "Name: title, dtype: int64"
      ]
     },
     "execution_count": 203,
     "metadata": {},
     "output_type": "execute_result"
    }
   ],
   "source": [
    "# Number of videos by channel by year\n",
    "videos_yearly = youtube_A.groupby(['channel_cat', 'channel', 'year']).title.count()\n",
    "\n",
    "# Set a 1 for each entry: a row with a 1 for each year in with a channel has published at least a video\n",
    "videos_yearly[:] = 1\n",
    "\n",
    "# Sum the ones, grouping by category and year\n",
    "videos_yearly = videos_yearly.groupby(['channel_cat', 'year']).sum()#.reset_index()\n",
    "videos_yearly.head()"
   ]
  },
  {
   "cell_type": "code",
   "execution_count": 214,
   "metadata": {},
   "outputs": [
    {
     "data": {
      "text/html": [
       "<div>\n",
       "<style scoped>\n",
       "    .dataframe tbody tr th:only-of-type {\n",
       "        vertical-align: middle;\n",
       "    }\n",
       "\n",
       "    .dataframe tbody tr th {\n",
       "        vertical-align: top;\n",
       "    }\n",
       "\n",
       "    .dataframe thead th {\n",
       "        text-align: right;\n",
       "    }\n",
       "</style>\n",
       "<table border=\"1\" class=\"dataframe\">\n",
       "  <thead>\n",
       "    <tr style=\"text-align: right;\">\n",
       "      <th></th>\n",
       "      <th>channel_cat</th>\n",
       "      <th>year</th>\n",
       "      <th>view_normalized</th>\n",
       "    </tr>\n",
       "  </thead>\n",
       "  <tbody>\n",
       "    <tr>\n",
       "      <th>0</th>\n",
       "      <td>Gaming</td>\n",
       "      <td>2010</td>\n",
       "      <td>3.246746e+07</td>\n",
       "    </tr>\n",
       "    <tr>\n",
       "      <th>1</th>\n",
       "      <td>Gaming</td>\n",
       "      <td>2011</td>\n",
       "      <td>6.097913e+07</td>\n",
       "    </tr>\n",
       "    <tr>\n",
       "      <th>2</th>\n",
       "      <td>Gaming</td>\n",
       "      <td>2012</td>\n",
       "      <td>1.085957e+08</td>\n",
       "    </tr>\n",
       "    <tr>\n",
       "      <th>3</th>\n",
       "      <td>Gaming</td>\n",
       "      <td>2013</td>\n",
       "      <td>2.277496e+08</td>\n",
       "    </tr>\n",
       "    <tr>\n",
       "      <th>4</th>\n",
       "      <td>Gaming</td>\n",
       "      <td>2014</td>\n",
       "      <td>3.619033e+08</td>\n",
       "    </tr>\n",
       "  </tbody>\n",
       "</table>\n",
       "</div>"
      ],
      "text/plain": [
       "  channel_cat  year  view_normalized\n",
       "0      Gaming  2010     3.246746e+07\n",
       "1      Gaming  2011     6.097913e+07\n",
       "2      Gaming  2012     1.085957e+08\n",
       "3      Gaming  2013     2.277496e+08\n",
       "4      Gaming  2014     3.619033e+08"
      ]
     },
     "execution_count": 214,
     "metadata": {},
     "output_type": "execute_result"
    }
   ],
   "source": [
    "views_normalized = views_yearly / videos_yearly\n",
    "views_normalized = views_normalized.reset_index().rename({0: 'view_normalized'}, axis=1)\n",
    "views_normalized.head()"
   ]
  },
  {
   "cell_type": "code",
   "execution_count": 216,
   "metadata": {},
   "outputs": [
    {
     "data": {
      "image/png": "[encoded data removed]",
      "text/plain": [
       "<Figure size 432x288 with 1 Axes>"
      ]
     },
     "metadata": {
      "needs_background": "light"
     },
     "output_type": "display_data"
    }
   ],
   "source": [
    "sns.lineplot(x='year', y='view_normalized', hue='channel_cat', data=views_normalized, marker='o')\n",
    "plt.xlabel('year')\n",
    "plt.ylabel('n. of views / n. of channels who pubblished videos');"
   ]
  },
  {
   "cell_type": "markdown",
   "metadata": {},
   "source": [
    "2. Your friend's channel will be brand new, so you decide to look more closely at newer channels. For this question and all the following questions in A2, only consider channels that uploaded their first video in  2016 or later. Compute the total number of views in each category and divide it by the number of channels in that category.\n"
   ]
  },
  {
   "cell_type": "code",
   "execution_count": 272,
   "metadata": {},
   "outputs": [
    {
     "data": {
      "text/plain": [
       "array(['5-Minute Crafts', '5-Minute Crafts GIRLY', '5-Minute Crafts PLAY',\n",
       "       'Anaysa', 'Antonio Garza', 'BRICO SYMPA', 'BRIGHT SIDE', 'Blossom',\n",
       "       'Ceeday', 'Chris Smoove', 'Clash Royale', 'Crafty Panda',\n",
       "       'Daequan Loco', 'Denis', 'Frost Diamond', 'GameGrumps',\n",
       "       'Grandpa Kitchen', 'Health Tips for You', 'Homemade solutions',\n",
       "       'Hong Giang DIY Slime', 'Indian Health', 'Izabela Stress',\n",
       "       'Jess No Limit', 'MeLlamanFredy', 'SHORT TIME SECRET',\n",
       "       'Satisfying Slime Videos', 'So Yummy', 'Tasty', 'Tom Slime',\n",
       "       'Xyz Gyan', 'YourHealth'], dtype=object)"
      ]
     },
     "execution_count": 272,
     "metadata": {},
     "output_type": "execute_result"
    }
   ],
   "source": [
    "first_videos = youtube_A.groupby('channel').year.head(1)\n",
    "# List of creators (indexes) who uploaded their first video after 2016\n",
    "creators = first_videos[first_videos >= 2016].index\n",
    "\n",
    "# Convert indexes to creator names\n",
    "creators = youtube_A2.loc[creators].channel.values\n",
    "creators"
   ]
  },
  {
   "cell_type": "code",
   "execution_count": 280,
   "metadata": {},
   "outputs": [
    {
     "data": {
      "text/html": [
       "<div>\n",
       "<style scoped>\n",
       "    .dataframe tbody tr th:only-of-type {\n",
       "        vertical-align: middle;\n",
       "    }\n",
       "\n",
       "    .dataframe tbody tr th {\n",
       "        vertical-align: top;\n",
       "    }\n",
       "\n",
       "    .dataframe thead th {\n",
       "        text-align: right;\n",
       "    }\n",
       "</style>\n",
       "<table border=\"1\" class=\"dataframe\">\n",
       "  <thead>\n",
       "    <tr style=\"text-align: right;\">\n",
       "      <th></th>\n",
       "      <th>channel</th>\n",
       "      <th>upload_date</th>\n",
       "      <th>title</th>\n",
       "      <th>tags</th>\n",
       "      <th>duration</th>\n",
       "      <th>view_count</th>\n",
       "      <th>average_rating</th>\n",
       "      <th>height</th>\n",
       "      <th>width</th>\n",
       "      <th>channel_cat</th>\n",
       "      <th>year</th>\n",
       "    </tr>\n",
       "  </thead>\n",
       "  <tbody>\n",
       "    <tr>\n",
       "      <th>84197</th>\n",
       "      <td>5-Minute Crafts</td>\n",
       "      <td>2016-12-30</td>\n",
       "      <td>How to make character snowflakes in less than ...</td>\n",
       "      <td>['how to', 'diy']</td>\n",
       "      <td>65.0</td>\n",
       "      <td>93470.0</td>\n",
       "      <td>4.661972</td>\n",
       "      <td>1080.0</td>\n",
       "      <td>1920.0</td>\n",
       "      <td>Howto &amp; Style</td>\n",
       "      <td>2016</td>\n",
       "    </tr>\n",
       "    <tr>\n",
       "      <th>84198</th>\n",
       "      <td>5-Minute Crafts</td>\n",
       "      <td>2016-12-30</td>\n",
       "      <td>How to change the color of your fresh flowers ...</td>\n",
       "      <td>['diy', 'how to']</td>\n",
       "      <td>59.0</td>\n",
       "      <td>27450.0</td>\n",
       "      <td>4.707865</td>\n",
       "      <td>1080.0</td>\n",
       "      <td>1920.0</td>\n",
       "      <td>Howto &amp; Style</td>\n",
       "      <td>2016</td>\n",
       "    </tr>\n",
       "    <tr>\n",
       "      <th>84199</th>\n",
       "      <td>5-Minute Crafts</td>\n",
       "      <td>2016-12-29</td>\n",
       "      <td>Foam science experiments that will blow your m...</td>\n",
       "      <td>['how to', 'tutorial']</td>\n",
       "      <td>45.0</td>\n",
       "      <td>358140.0</td>\n",
       "      <td>4.749210</td>\n",
       "      <td>1080.0</td>\n",
       "      <td>1920.0</td>\n",
       "      <td>Howto &amp; Style</td>\n",
       "      <td>2016</td>\n",
       "    </tr>\n",
       "    <tr>\n",
       "      <th>84200</th>\n",
       "      <td>5-Minute Crafts</td>\n",
       "      <td>2016-12-29</td>\n",
       "      <td>Creative Christmas hairstyle for little girls ...</td>\n",
       "      <td>['tutorial', 'how to']</td>\n",
       "      <td>45.0</td>\n",
       "      <td>72104.0</td>\n",
       "      <td>4.772728</td>\n",
       "      <td>1080.0</td>\n",
       "      <td>1920.0</td>\n",
       "      <td>Howto &amp; Style</td>\n",
       "      <td>2016</td>\n",
       "    </tr>\n",
       "    <tr>\n",
       "      <th>84201</th>\n",
       "      <td>5-Minute Crafts</td>\n",
       "      <td>2016-12-29</td>\n",
       "      <td>4 incredibly simple kitchen hacks l 5-MINUTE C...</td>\n",
       "      <td>['tutorial', 'how to']</td>\n",
       "      <td>50.0</td>\n",
       "      <td>72056.0</td>\n",
       "      <td>4.463687</td>\n",
       "      <td>1080.0</td>\n",
       "      <td>1920.0</td>\n",
       "      <td>Howto &amp; Style</td>\n",
       "      <td>2016</td>\n",
       "    </tr>\n",
       "  </tbody>\n",
       "</table>\n",
       "</div>"
      ],
      "text/plain": [
       "               channel upload_date  \\\n",
       "84197  5-Minute Crafts  2016-12-30   \n",
       "84198  5-Minute Crafts  2016-12-30   \n",
       "84199  5-Minute Crafts  2016-12-29   \n",
       "84200  5-Minute Crafts  2016-12-29   \n",
       "84201  5-Minute Crafts  2016-12-29   \n",
       "\n",
       "                                                   title  \\\n",
       "84197  How to make character snowflakes in less than ...   \n",
       "84198  How to change the color of your fresh flowers ...   \n",
       "84199  Foam science experiments that will blow your m...   \n",
       "84200  Creative Christmas hairstyle for little girls ...   \n",
       "84201  4 incredibly simple kitchen hacks l 5-MINUTE C...   \n",
       "\n",
       "                         tags  duration  view_count  average_rating  height  \\\n",
       "84197       ['how to', 'diy']      65.0     93470.0        4.661972  1080.0   \n",
       "84198       ['diy', 'how to']      59.0     27450.0        4.707865  1080.0   \n",
       "84199  ['how to', 'tutorial']      45.0    358140.0        4.749210  1080.0   \n",
       "84200  ['tutorial', 'how to']      45.0     72104.0        4.772728  1080.0   \n",
       "84201  ['tutorial', 'how to']      50.0     72056.0        4.463687  1080.0   \n",
       "\n",
       "        width    channel_cat  year  \n",
       "84197  1920.0  Howto & Style  2016  \n",
       "84198  1920.0  Howto & Style  2016  \n",
       "84199  1920.0  Howto & Style  2016  \n",
       "84200  1920.0  Howto & Style  2016  \n",
       "84201  1920.0  Howto & Style  2016  "
      ]
     },
     "execution_count": 280,
     "metadata": {},
     "output_type": "execute_result"
    }
   ],
   "source": [
    "youtube_A2 = youtube_A[youtube_A.channel.isin(creators)]\n",
    "youtube_A2.head()"
   ]
  },
  {
   "cell_type": "code",
   "execution_count": 284,
   "metadata": {},
   "outputs": [
    {
     "data": {
      "text/plain": [
       "channel_cat\n",
       "Gaming           7.694004e+08\n",
       "Howto & Style    1.212496e+09\n",
       "dtype: float64"
      ]
     },
     "execution_count": 284,
     "metadata": {},
     "output_type": "execute_result"
    }
   ],
   "source": [
    "groups = youtube_A2.groupby('channel_cat')\n",
    "groups.view_count.sum()  / groups.channel.unique().apply(lambda x: len(x))"
   ]
  },
  {
   "cell_type": "markdown",
   "metadata": {},
   "source": [
    "3. The number of views might be very unevenly over the different channels, and channels might upload different numbers of videos.\n",
    "  1. Compute the mean number of views per video for each channel.\n",
    "  2. Compute the mean of these means for each of the two categories. Print these values.\n",
    "  3. Using bootstrapping, compute 95% confidence intervals for these two means. From this analysis, can you draw a recommendation for one of the two categories? Why, or why not?"
   ]
  },
  {
   "cell_type": "code",
   "execution_count": 297,
   "metadata": {},
   "outputs": [
    {
     "data": {
      "text/html": [
       "<div>\n",
       "<style scoped>\n",
       "    .dataframe tbody tr th:only-of-type {\n",
       "        vertical-align: middle;\n",
       "    }\n",
       "\n",
       "    .dataframe tbody tr th {\n",
       "        vertical-align: top;\n",
       "    }\n",
       "\n",
       "    .dataframe thead th {\n",
       "        text-align: right;\n",
       "    }\n",
       "</style>\n",
       "<table border=\"1\" class=\"dataframe\">\n",
       "  <thead>\n",
       "    <tr style=\"text-align: right;\">\n",
       "      <th></th>\n",
       "      <th>channel_cat</th>\n",
       "      <th>channel</th>\n",
       "      <th>view_count</th>\n",
       "    </tr>\n",
       "  </thead>\n",
       "  <tbody>\n",
       "    <tr>\n",
       "      <th>0</th>\n",
       "      <td>Gaming</td>\n",
       "      <td>Ceeday</td>\n",
       "      <td>2.386543e+06</td>\n",
       "    </tr>\n",
       "    <tr>\n",
       "      <th>1</th>\n",
       "      <td>Gaming</td>\n",
       "      <td>Chris Smoove</td>\n",
       "      <td>5.275000e+05</td>\n",
       "    </tr>\n",
       "    <tr>\n",
       "      <th>2</th>\n",
       "      <td>Gaming</td>\n",
       "      <td>Clash Royale</td>\n",
       "      <td>1.944144e+06</td>\n",
       "    </tr>\n",
       "    <tr>\n",
       "      <th>3</th>\n",
       "      <td>Gaming</td>\n",
       "      <td>Daequan Loco</td>\n",
       "      <td>1.245950e+06</td>\n",
       "    </tr>\n",
       "    <tr>\n",
       "      <th>4</th>\n",
       "      <td>Gaming</td>\n",
       "      <td>Denis</td>\n",
       "      <td>2.074953e+06</td>\n",
       "    </tr>\n",
       "    <tr>\n",
       "      <th>5</th>\n",
       "      <td>Gaming</td>\n",
       "      <td>Frost Diamond</td>\n",
       "      <td>1.376930e+06</td>\n",
       "    </tr>\n",
       "    <tr>\n",
       "      <th>6</th>\n",
       "      <td>Gaming</td>\n",
       "      <td>GameGrumps</td>\n",
       "      <td>6.767778e+05</td>\n",
       "    </tr>\n",
       "    <tr>\n",
       "      <th>7</th>\n",
       "      <td>Gaming</td>\n",
       "      <td>Jess No Limit</td>\n",
       "      <td>1.324468e+06</td>\n",
       "    </tr>\n",
       "    <tr>\n",
       "      <th>8</th>\n",
       "      <td>Howto &amp; Style</td>\n",
       "      <td>5-Minute Crafts</td>\n",
       "      <td>4.001437e+06</td>\n",
       "    </tr>\n",
       "    <tr>\n",
       "      <th>9</th>\n",
       "      <td>Howto &amp; Style</td>\n",
       "      <td>5-Minute Crafts GIRLY</td>\n",
       "      <td>1.822314e+06</td>\n",
       "    </tr>\n",
       "    <tr>\n",
       "      <th>10</th>\n",
       "      <td>Howto &amp; Style</td>\n",
       "      <td>5-Minute Crafts PLAY</td>\n",
       "      <td>1.879931e+06</td>\n",
       "    </tr>\n",
       "    <tr>\n",
       "      <th>11</th>\n",
       "      <td>Howto &amp; Style</td>\n",
       "      <td>Anaysa</td>\n",
       "      <td>3.157148e+06</td>\n",
       "    </tr>\n",
       "    <tr>\n",
       "      <th>12</th>\n",
       "      <td>Howto &amp; Style</td>\n",
       "      <td>Antonio Garza</td>\n",
       "      <td>4.003824e+06</td>\n",
       "    </tr>\n",
       "    <tr>\n",
       "      <th>13</th>\n",
       "      <td>Howto &amp; Style</td>\n",
       "      <td>BRICO SYMPA</td>\n",
       "      <td>2.964726e+05</td>\n",
       "    </tr>\n",
       "    <tr>\n",
       "      <th>14</th>\n",
       "      <td>Howto &amp; Style</td>\n",
       "      <td>BRIGHT SIDE</td>\n",
       "      <td>3.602201e+06</td>\n",
       "    </tr>\n",
       "    <tr>\n",
       "      <th>15</th>\n",
       "      <td>Howto &amp; Style</td>\n",
       "      <td>Blossom</td>\n",
       "      <td>1.507491e+07</td>\n",
       "    </tr>\n",
       "    <tr>\n",
       "      <th>16</th>\n",
       "      <td>Howto &amp; Style</td>\n",
       "      <td>Crafty Panda</td>\n",
       "      <td>1.280582e+07</td>\n",
       "    </tr>\n",
       "    <tr>\n",
       "      <th>17</th>\n",
       "      <td>Howto &amp; Style</td>\n",
       "      <td>Grandpa Kitchen</td>\n",
       "      <td>3.209222e+06</td>\n",
       "    </tr>\n",
       "    <tr>\n",
       "      <th>18</th>\n",
       "      <td>Howto &amp; Style</td>\n",
       "      <td>Health Tips for You</td>\n",
       "      <td>7.638814e+04</td>\n",
       "    </tr>\n",
       "    <tr>\n",
       "      <th>19</th>\n",
       "      <td>Howto &amp; Style</td>\n",
       "      <td>Homemade solutions</td>\n",
       "      <td>3.359716e+06</td>\n",
       "    </tr>\n",
       "    <tr>\n",
       "      <th>20</th>\n",
       "      <td>Howto &amp; Style</td>\n",
       "      <td>Hong Giang DIY Slime</td>\n",
       "      <td>6.205299e+06</td>\n",
       "    </tr>\n",
       "    <tr>\n",
       "      <th>21</th>\n",
       "      <td>Howto &amp; Style</td>\n",
       "      <td>Indian Health</td>\n",
       "      <td>5.346228e+05</td>\n",
       "    </tr>\n",
       "    <tr>\n",
       "      <th>22</th>\n",
       "      <td>Howto &amp; Style</td>\n",
       "      <td>Izabela Stress</td>\n",
       "      <td>5.843732e+06</td>\n",
       "    </tr>\n",
       "    <tr>\n",
       "      <th>23</th>\n",
       "      <td>Howto &amp; Style</td>\n",
       "      <td>MeLlamanFredy</td>\n",
       "      <td>7.716124e+05</td>\n",
       "    </tr>\n",
       "    <tr>\n",
       "      <th>24</th>\n",
       "      <td>Howto &amp; Style</td>\n",
       "      <td>SHORT TIME SECRET</td>\n",
       "      <td>1.680203e+06</td>\n",
       "    </tr>\n",
       "    <tr>\n",
       "      <th>25</th>\n",
       "      <td>Howto &amp; Style</td>\n",
       "      <td>Satisfying Slime Videos</td>\n",
       "      <td>3.674915e+06</td>\n",
       "    </tr>\n",
       "    <tr>\n",
       "      <th>26</th>\n",
       "      <td>Howto &amp; Style</td>\n",
       "      <td>So Yummy</td>\n",
       "      <td>9.300094e+06</td>\n",
       "    </tr>\n",
       "    <tr>\n",
       "      <th>27</th>\n",
       "      <td>Howto &amp; Style</td>\n",
       "      <td>Tasty</td>\n",
       "      <td>9.620655e+05</td>\n",
       "    </tr>\n",
       "    <tr>\n",
       "      <th>28</th>\n",
       "      <td>Howto &amp; Style</td>\n",
       "      <td>Tom Slime</td>\n",
       "      <td>5.253791e+06</td>\n",
       "    </tr>\n",
       "    <tr>\n",
       "      <th>29</th>\n",
       "      <td>Howto &amp; Style</td>\n",
       "      <td>Xyz Gyan</td>\n",
       "      <td>2.297454e+06</td>\n",
       "    </tr>\n",
       "    <tr>\n",
       "      <th>30</th>\n",
       "      <td>Howto &amp; Style</td>\n",
       "      <td>YourHealth</td>\n",
       "      <td>1.394823e+06</td>\n",
       "    </tr>\n",
       "  </tbody>\n",
       "</table>\n",
       "</div>"
      ],
      "text/plain": [
       "      channel_cat                  channel    view_count\n",
       "0          Gaming                   Ceeday  2.386543e+06\n",
       "1          Gaming             Chris Smoove  5.275000e+05\n",
       "2          Gaming             Clash Royale  1.944144e+06\n",
       "3          Gaming             Daequan Loco  1.245950e+06\n",
       "4          Gaming                    Denis  2.074953e+06\n",
       "5          Gaming            Frost Diamond  1.376930e+06\n",
       "6          Gaming               GameGrumps  6.767778e+05\n",
       "7          Gaming            Jess No Limit  1.324468e+06\n",
       "8   Howto & Style          5-Minute Crafts  4.001437e+06\n",
       "9   Howto & Style    5-Minute Crafts GIRLY  1.822314e+06\n",
       "10  Howto & Style     5-Minute Crafts PLAY  1.879931e+06\n",
       "11  Howto & Style                   Anaysa  3.157148e+06\n",
       "12  Howto & Style            Antonio Garza  4.003824e+06\n",
       "13  Howto & Style              BRICO SYMPA  2.964726e+05\n",
       "14  Howto & Style              BRIGHT SIDE  3.602201e+06\n",
       "15  Howto & Style                  Blossom  1.507491e+07\n",
       "16  Howto & Style             Crafty Panda  1.280582e+07\n",
       "17  Howto & Style          Grandpa Kitchen  3.209222e+06\n",
       "18  Howto & Style      Health Tips for You  7.638814e+04\n",
       "19  Howto & Style       Homemade solutions  3.359716e+06\n",
       "20  Howto & Style     Hong Giang DIY Slime  6.205299e+06\n",
       "21  Howto & Style            Indian Health  5.346228e+05\n",
       "22  Howto & Style           Izabela Stress  5.843732e+06\n",
       "23  Howto & Style            MeLlamanFredy  7.716124e+05\n",
       "24  Howto & Style        SHORT TIME SECRET  1.680203e+06\n",
       "25  Howto & Style  Satisfying Slime Videos  3.674915e+06\n",
       "26  Howto & Style                 So Yummy  9.300094e+06\n",
       "27  Howto & Style                    Tasty  9.620655e+05\n",
       "28  Howto & Style                Tom Slime  5.253791e+06\n",
       "29  Howto & Style                 Xyz Gyan  2.297454e+06\n",
       "30  Howto & Style               YourHealth  1.394823e+06"
      ]
     },
     "execution_count": 297,
     "metadata": {},
     "output_type": "execute_result"
    }
   ],
   "source": [
    "means = youtube_A2.groupby(['channel_cat', 'channel']).view_count.mean()\n",
    "means = means.reset_index()\n",
    "means"
   ]
  },
  {
   "cell_type": "code",
   "execution_count": 298,
   "metadata": {},
   "outputs": [
    {
     "data": {
      "text/html": [
       "<div>\n",
       "<style scoped>\n",
       "    .dataframe tbody tr th:only-of-type {\n",
       "        vertical-align: middle;\n",
       "    }\n",
       "\n",
       "    .dataframe tbody tr th {\n",
       "        vertical-align: top;\n",
       "    }\n",
       "\n",
       "    .dataframe thead th {\n",
       "        text-align: right;\n",
       "    }\n",
       "</style>\n",
       "<table border=\"1\" class=\"dataframe\">\n",
       "  <thead>\n",
       "    <tr style=\"text-align: right;\">\n",
       "      <th></th>\n",
       "      <th>view_count</th>\n",
       "    </tr>\n",
       "    <tr>\n",
       "      <th>channel_cat</th>\n",
       "      <th></th>\n",
       "    </tr>\n",
       "  </thead>\n",
       "  <tbody>\n",
       "    <tr>\n",
       "      <th>Gaming</th>\n",
       "      <td>1.444658e+06</td>\n",
       "    </tr>\n",
       "    <tr>\n",
       "      <th>Howto &amp; Style</th>\n",
       "      <td>3.965565e+06</td>\n",
       "    </tr>\n",
       "  </tbody>\n",
       "</table>\n",
       "</div>"
      ],
      "text/plain": [
       "                 view_count\n",
       "channel_cat                \n",
       "Gaming         1.444658e+06\n",
       "Howto & Style  3.965565e+06"
      ]
     },
     "execution_count": 298,
     "metadata": {},
     "output_type": "execute_result"
    }
   ],
   "source": [
    "means.groupby('channel_cat').mean()"
   ]
  },
  {
   "cell_type": "code",
   "execution_count": 301,
   "metadata": {},
   "outputs": [
    {
     "data": {
      "text/html": [
       "<div>\n",
       "<style scoped>\n",
       "    .dataframe tbody tr th:only-of-type {\n",
       "        vertical-align: middle;\n",
       "    }\n",
       "\n",
       "    .dataframe tbody tr th {\n",
       "        vertical-align: top;\n",
       "    }\n",
       "\n",
       "    .dataframe thead th {\n",
       "        text-align: right;\n",
       "    }\n",
       "</style>\n",
       "<table border=\"1\" class=\"dataframe\">\n",
       "  <thead>\n",
       "    <tr style=\"text-align: right;\">\n",
       "      <th></th>\n",
       "      <th>channel_cat</th>\n",
       "      <th>channel</th>\n",
       "      <th>view_count</th>\n",
       "    </tr>\n",
       "  </thead>\n",
       "  <tbody>\n",
       "    <tr>\n",
       "      <th>0</th>\n",
       "      <td>Gaming</td>\n",
       "      <td>Ceeday</td>\n",
       "      <td>2.386543e+06</td>\n",
       "    </tr>\n",
       "    <tr>\n",
       "      <th>1</th>\n",
       "      <td>Gaming</td>\n",
       "      <td>Chris Smoove</td>\n",
       "      <td>5.275000e+05</td>\n",
       "    </tr>\n",
       "    <tr>\n",
       "      <th>2</th>\n",
       "      <td>Gaming</td>\n",
       "      <td>Clash Royale</td>\n",
       "      <td>1.944144e+06</td>\n",
       "    </tr>\n",
       "    <tr>\n",
       "      <th>3</th>\n",
       "      <td>Gaming</td>\n",
       "      <td>Daequan Loco</td>\n",
       "      <td>1.245950e+06</td>\n",
       "    </tr>\n",
       "    <tr>\n",
       "      <th>4</th>\n",
       "      <td>Gaming</td>\n",
       "      <td>Denis</td>\n",
       "      <td>2.074953e+06</td>\n",
       "    </tr>\n",
       "    <tr>\n",
       "      <th>5</th>\n",
       "      <td>Gaming</td>\n",
       "      <td>Frost Diamond</td>\n",
       "      <td>1.376930e+06</td>\n",
       "    </tr>\n",
       "    <tr>\n",
       "      <th>6</th>\n",
       "      <td>Gaming</td>\n",
       "      <td>GameGrumps</td>\n",
       "      <td>6.767778e+05</td>\n",
       "    </tr>\n",
       "    <tr>\n",
       "      <th>7</th>\n",
       "      <td>Gaming</td>\n",
       "      <td>Jess No Limit</td>\n",
       "      <td>1.324468e+06</td>\n",
       "    </tr>\n",
       "  </tbody>\n",
       "</table>\n",
       "</div>"
      ],
      "text/plain": [
       "  channel_cat        channel    view_count\n",
       "0      Gaming         Ceeday  2.386543e+06\n",
       "1      Gaming   Chris Smoove  5.275000e+05\n",
       "2      Gaming   Clash Royale  1.944144e+06\n",
       "3      Gaming   Daequan Loco  1.245950e+06\n",
       "4      Gaming          Denis  2.074953e+06\n",
       "5      Gaming  Frost Diamond  1.376930e+06\n",
       "6      Gaming     GameGrumps  6.767778e+05\n",
       "7      Gaming  Jess No Limit  1.324468e+06"
      ]
     },
     "execution_count": 301,
     "metadata": {},
     "output_type": "execute_result"
    }
   ],
   "source": [
    "means_gaming"
   ]
  },
  {
   "cell_type": "code",
   "execution_count": 300,
   "metadata": {},
   "outputs": [],
   "source": [
    "means_gaming = means[means.channel_cat == 'Gaming']\n",
    "means_howto = means[means.channel_cat == 'Howto & Style']"
   ]
  },
  {
   "cell_type": "code",
   "execution_count": 306,
   "metadata": {},
   "outputs": [
    {
     "data": {
      "text/plain": [
       "BootstrapResult(confidence_interval=ConfidenceInterval(low=1018824.7939184383, high=1867412.3927489193), standard_error=219143.50073599163)"
      ]
     },
     "execution_count": 306,
     "metadata": {},
     "output_type": "execute_result"
    }
   ],
   "source": [
    "stats.bootstrap([means_gaming.view_count.values], np.mean, confidence_level=0.95)"
   ]
  },
  {
   "cell_type": "code",
   "execution_count": 308,
   "metadata": {},
   "outputs": [
    {
     "data": {
      "text/plain": [
       "BootstrapResult(confidence_interval=ConfidenceInterval(low=2753879.830465163, high=5957670.690933616), standard_error=784416.6070317226)"
      ]
     },
     "execution_count": 308,
     "metadata": {},
     "output_type": "execute_result"
    }
   ],
   "source": [
    "stats.bootstrap([means_howto.view_count.values], np.mean, confidence_level=0.95)"
   ]
  },
  {
   "cell_type": "markdown",
   "metadata": {},
   "source": [
    "The analysis shows clearly that the average views for each channel are significantly higher for channels in the Howto & Style category rather than Gaming channels. This is statistically significant, since the 95% confidence interval do not intersect in any point. Therefore, my raccomandation to maximize the gain from ads would be to open a new Howto & Style channel."
   ]
  },
  {
   "cell_type": "markdown",
   "metadata": {},
   "source": [
    "# Task B: View forecasting (Machine Learning)"
   ]
  },
  {
   "cell_type": "markdown",
   "metadata": {},
   "source": [
    "Your friend wants to figure out how they can optimize their videos for getting the maximum number of views (without using shocking thumbnails and clickbait titles). In this task, you will build a machine learning (ML) model for predicting the success of a video."
   ]
  },
  {
   "cell_type": "markdown",
   "metadata": {},
   "source": [
    "## B1: Get those shovels out again"
   ]
  },
  {
   "cell_type": "markdown",
   "metadata": {},
   "source": [
    "1. For the prediction model, use all rows of the dataset, but keep only the following columns: `view_count, channel, upload_date, duration, average_rating, height, width`."
   ]
  },
  {
   "cell_type": "code",
   "execution_count": 16,
   "metadata": {},
   "outputs": [
    {
     "data": {
      "text/html": [
       "<div>\n",
       "<style scoped>\n",
       "    .dataframe tbody tr th:only-of-type {\n",
       "        vertical-align: middle;\n",
       "    }\n",
       "\n",
       "    .dataframe tbody tr th {\n",
       "        vertical-align: top;\n",
       "    }\n",
       "\n",
       "    .dataframe thead th {\n",
       "        text-align: right;\n",
       "    }\n",
       "</style>\n",
       "<table border=\"1\" class=\"dataframe\">\n",
       "  <thead>\n",
       "    <tr style=\"text-align: right;\">\n",
       "      <th></th>\n",
       "      <th>view_count</th>\n",
       "      <th>channel</th>\n",
       "      <th>upload_date</th>\n",
       "      <th>duration</th>\n",
       "      <th>average_rating</th>\n",
       "      <th>height</th>\n",
       "      <th>width</th>\n",
       "    </tr>\n",
       "  </thead>\n",
       "  <tbody>\n",
       "    <tr>\n",
       "      <th>0</th>\n",
       "      <td>2541550.0</td>\n",
       "      <td>PewDiePie</td>\n",
       "      <td>2013-03-04</td>\n",
       "      <td>1126.0</td>\n",
       "      <td>4.886102</td>\n",
       "      <td>720.0</td>\n",
       "      <td>1280.0</td>\n",
       "    </tr>\n",
       "    <tr>\n",
       "      <th>1</th>\n",
       "      <td>1727646.0</td>\n",
       "      <td>PewDiePie</td>\n",
       "      <td>2013-03-04</td>\n",
       "      <td>903.0</td>\n",
       "      <td>4.951531</td>\n",
       "      <td>720.0</td>\n",
       "      <td>1280.0</td>\n",
       "    </tr>\n",
       "    <tr>\n",
       "      <th>2</th>\n",
       "      <td>1402747.0</td>\n",
       "      <td>PewDiePie</td>\n",
       "      <td>2013-03-04</td>\n",
       "      <td>806.0</td>\n",
       "      <td>4.962706</td>\n",
       "      <td>720.0</td>\n",
       "      <td>1280.0</td>\n",
       "    </tr>\n",
       "    <tr>\n",
       "      <th>3</th>\n",
       "      <td>4348296.0</td>\n",
       "      <td>PewDiePie</td>\n",
       "      <td>2013-03-03</td>\n",
       "      <td>909.0</td>\n",
       "      <td>4.937665</td>\n",
       "      <td>720.0</td>\n",
       "      <td>1280.0</td>\n",
       "    </tr>\n",
       "    <tr>\n",
       "      <th>4</th>\n",
       "      <td>1410659.0</td>\n",
       "      <td>PewDiePie</td>\n",
       "      <td>2013-03-03</td>\n",
       "      <td>834.0</td>\n",
       "      <td>4.957545</td>\n",
       "      <td>720.0</td>\n",
       "      <td>1280.0</td>\n",
       "    </tr>\n",
       "    <tr>\n",
       "      <th>...</th>\n",
       "      <td>...</td>\n",
       "      <td>...</td>\n",
       "      <td>...</td>\n",
       "      <td>...</td>\n",
       "      <td>...</td>\n",
       "      <td>...</td>\n",
       "      <td>...</td>\n",
       "    </tr>\n",
       "    <tr>\n",
       "      <th>139502</th>\n",
       "      <td>284147.0</td>\n",
       "      <td>cutepolish</td>\n",
       "      <td>2010-02-23</td>\n",
       "      <td>201.0</td>\n",
       "      <td>4.608439</td>\n",
       "      <td>480.0</td>\n",
       "      <td>640.0</td>\n",
       "    </tr>\n",
       "    <tr>\n",
       "      <th>139503</th>\n",
       "      <td>136278.0</td>\n",
       "      <td>cutepolish</td>\n",
       "      <td>2010-02-22</td>\n",
       "      <td>180.0</td>\n",
       "      <td>4.638451</td>\n",
       "      <td>480.0</td>\n",
       "      <td>640.0</td>\n",
       "    </tr>\n",
       "    <tr>\n",
       "      <th>139504</th>\n",
       "      <td>228384.0</td>\n",
       "      <td>cutepolish</td>\n",
       "      <td>2010-02-21</td>\n",
       "      <td>277.0</td>\n",
       "      <td>4.836411</td>\n",
       "      <td>480.0</td>\n",
       "      <td>640.0</td>\n",
       "    </tr>\n",
       "    <tr>\n",
       "      <th>139505</th>\n",
       "      <td>247053.0</td>\n",
       "      <td>cutepolish</td>\n",
       "      <td>2010-02-20</td>\n",
       "      <td>174.0</td>\n",
       "      <td>4.855700</td>\n",
       "      <td>480.0</td>\n",
       "      <td>640.0</td>\n",
       "    </tr>\n",
       "    <tr>\n",
       "      <th>139506</th>\n",
       "      <td>331964.0</td>\n",
       "      <td>cutepolish</td>\n",
       "      <td>2010-02-20</td>\n",
       "      <td>329.0</td>\n",
       "      <td>4.462126</td>\n",
       "      <td>480.0</td>\n",
       "      <td>640.0</td>\n",
       "    </tr>\n",
       "  </tbody>\n",
       "</table>\n",
       "<p>139507 rows × 7 columns</p>\n",
       "</div>"
      ],
      "text/plain": [
       "        view_count     channel upload_date  duration  average_rating  height  \\\n",
       "0        2541550.0   PewDiePie  2013-03-04    1126.0        4.886102   720.0   \n",
       "1        1727646.0   PewDiePie  2013-03-04     903.0        4.951531   720.0   \n",
       "2        1402747.0   PewDiePie  2013-03-04     806.0        4.962706   720.0   \n",
       "3        4348296.0   PewDiePie  2013-03-03     909.0        4.937665   720.0   \n",
       "4        1410659.0   PewDiePie  2013-03-03     834.0        4.957545   720.0   \n",
       "...            ...         ...         ...       ...             ...     ...   \n",
       "139502    284147.0  cutepolish  2010-02-23     201.0        4.608439   480.0   \n",
       "139503    136278.0  cutepolish  2010-02-22     180.0        4.638451   480.0   \n",
       "139504    228384.0  cutepolish  2010-02-21     277.0        4.836411   480.0   \n",
       "139505    247053.0  cutepolish  2010-02-20     174.0        4.855700   480.0   \n",
       "139506    331964.0  cutepolish  2010-02-20     329.0        4.462126   480.0   \n",
       "\n",
       "         width  \n",
       "0       1280.0  \n",
       "1       1280.0  \n",
       "2       1280.0  \n",
       "3       1280.0  \n",
       "4       1280.0  \n",
       "...        ...  \n",
       "139502   640.0  \n",
       "139503   640.0  \n",
       "139504   640.0  \n",
       "139505   640.0  \n",
       "139506   640.0  \n",
       "\n",
       "[139507 rows x 7 columns]"
      ]
     },
     "execution_count": 16,
     "metadata": {},
     "output_type": "execute_result"
    }
   ],
   "source": [
    "B_columns = ['view_count', 'channel', 'upload_date', 'duration', 'average_rating', 'height', 'width']\n",
    "youtubeB = youtube[B_columns].copy()\n",
    "youtubeB"
   ]
  },
  {
   "cell_type": "markdown",
   "metadata": {},
   "source": [
    "2. Extract the upload year and upload month from the `upload_date` column into the two columns `upload_year` and `upload_month`, and remove `upload_date`."
   ]
  },
  {
   "cell_type": "code",
   "execution_count": 22,
   "metadata": {},
   "outputs": [
    {
     "data": {
      "text/html": [
       "<div>\n",
       "<style scoped>\n",
       "    .dataframe tbody tr th:only-of-type {\n",
       "        vertical-align: middle;\n",
       "    }\n",
       "\n",
       "    .dataframe tbody tr th {\n",
       "        vertical-align: top;\n",
       "    }\n",
       "\n",
       "    .dataframe thead th {\n",
       "        text-align: right;\n",
       "    }\n",
       "</style>\n",
       "<table border=\"1\" class=\"dataframe\">\n",
       "  <thead>\n",
       "    <tr style=\"text-align: right;\">\n",
       "      <th></th>\n",
       "      <th>view_count</th>\n",
       "      <th>channel</th>\n",
       "      <th>duration</th>\n",
       "      <th>average_rating</th>\n",
       "      <th>height</th>\n",
       "      <th>width</th>\n",
       "      <th>upload_year</th>\n",
       "      <th>upload_month</th>\n",
       "    </tr>\n",
       "  </thead>\n",
       "  <tbody>\n",
       "    <tr>\n",
       "      <th>0</th>\n",
       "      <td>2541550.0</td>\n",
       "      <td>PewDiePie</td>\n",
       "      <td>1126.0</td>\n",
       "      <td>4.886102</td>\n",
       "      <td>720.0</td>\n",
       "      <td>1280.0</td>\n",
       "      <td>2013</td>\n",
       "      <td>3</td>\n",
       "    </tr>\n",
       "    <tr>\n",
       "      <th>1</th>\n",
       "      <td>1727646.0</td>\n",
       "      <td>PewDiePie</td>\n",
       "      <td>903.0</td>\n",
       "      <td>4.951531</td>\n",
       "      <td>720.0</td>\n",
       "      <td>1280.0</td>\n",
       "      <td>2013</td>\n",
       "      <td>3</td>\n",
       "    </tr>\n",
       "    <tr>\n",
       "      <th>2</th>\n",
       "      <td>1402747.0</td>\n",
       "      <td>PewDiePie</td>\n",
       "      <td>806.0</td>\n",
       "      <td>4.962706</td>\n",
       "      <td>720.0</td>\n",
       "      <td>1280.0</td>\n",
       "      <td>2013</td>\n",
       "      <td>3</td>\n",
       "    </tr>\n",
       "    <tr>\n",
       "      <th>3</th>\n",
       "      <td>4348296.0</td>\n",
       "      <td>PewDiePie</td>\n",
       "      <td>909.0</td>\n",
       "      <td>4.937665</td>\n",
       "      <td>720.0</td>\n",
       "      <td>1280.0</td>\n",
       "      <td>2013</td>\n",
       "      <td>3</td>\n",
       "    </tr>\n",
       "    <tr>\n",
       "      <th>4</th>\n",
       "      <td>1410659.0</td>\n",
       "      <td>PewDiePie</td>\n",
       "      <td>834.0</td>\n",
       "      <td>4.957545</td>\n",
       "      <td>720.0</td>\n",
       "      <td>1280.0</td>\n",
       "      <td>2013</td>\n",
       "      <td>3</td>\n",
       "    </tr>\n",
       "    <tr>\n",
       "      <th>...</th>\n",
       "      <td>...</td>\n",
       "      <td>...</td>\n",
       "      <td>...</td>\n",
       "      <td>...</td>\n",
       "      <td>...</td>\n",
       "      <td>...</td>\n",
       "      <td>...</td>\n",
       "      <td>...</td>\n",
       "    </tr>\n",
       "    <tr>\n",
       "      <th>139502</th>\n",
       "      <td>284147.0</td>\n",
       "      <td>cutepolish</td>\n",
       "      <td>201.0</td>\n",
       "      <td>4.608439</td>\n",
       "      <td>480.0</td>\n",
       "      <td>640.0</td>\n",
       "      <td>2010</td>\n",
       "      <td>2</td>\n",
       "    </tr>\n",
       "    <tr>\n",
       "      <th>139503</th>\n",
       "      <td>136278.0</td>\n",
       "      <td>cutepolish</td>\n",
       "      <td>180.0</td>\n",
       "      <td>4.638451</td>\n",
       "      <td>480.0</td>\n",
       "      <td>640.0</td>\n",
       "      <td>2010</td>\n",
       "      <td>2</td>\n",
       "    </tr>\n",
       "    <tr>\n",
       "      <th>139504</th>\n",
       "      <td>228384.0</td>\n",
       "      <td>cutepolish</td>\n",
       "      <td>277.0</td>\n",
       "      <td>4.836411</td>\n",
       "      <td>480.0</td>\n",
       "      <td>640.0</td>\n",
       "      <td>2010</td>\n",
       "      <td>2</td>\n",
       "    </tr>\n",
       "    <tr>\n",
       "      <th>139505</th>\n",
       "      <td>247053.0</td>\n",
       "      <td>cutepolish</td>\n",
       "      <td>174.0</td>\n",
       "      <td>4.855700</td>\n",
       "      <td>480.0</td>\n",
       "      <td>640.0</td>\n",
       "      <td>2010</td>\n",
       "      <td>2</td>\n",
       "    </tr>\n",
       "    <tr>\n",
       "      <th>139506</th>\n",
       "      <td>331964.0</td>\n",
       "      <td>cutepolish</td>\n",
       "      <td>329.0</td>\n",
       "      <td>4.462126</td>\n",
       "      <td>480.0</td>\n",
       "      <td>640.0</td>\n",
       "      <td>2010</td>\n",
       "      <td>2</td>\n",
       "    </tr>\n",
       "  </tbody>\n",
       "</table>\n",
       "<p>139507 rows × 8 columns</p>\n",
       "</div>"
      ],
      "text/plain": [
       "        view_count     channel  duration  average_rating  height   width  \\\n",
       "0        2541550.0   PewDiePie    1126.0        4.886102   720.0  1280.0   \n",
       "1        1727646.0   PewDiePie     903.0        4.951531   720.0  1280.0   \n",
       "2        1402747.0   PewDiePie     806.0        4.962706   720.0  1280.0   \n",
       "3        4348296.0   PewDiePie     909.0        4.937665   720.0  1280.0   \n",
       "4        1410659.0   PewDiePie     834.0        4.957545   720.0  1280.0   \n",
       "...            ...         ...       ...             ...     ...     ...   \n",
       "139502    284147.0  cutepolish     201.0        4.608439   480.0   640.0   \n",
       "139503    136278.0  cutepolish     180.0        4.638451   480.0   640.0   \n",
       "139504    228384.0  cutepolish     277.0        4.836411   480.0   640.0   \n",
       "139505    247053.0  cutepolish     174.0        4.855700   480.0   640.0   \n",
       "139506    331964.0  cutepolish     329.0        4.462126   480.0   640.0   \n",
       "\n",
       "        upload_year  upload_month  \n",
       "0              2013             3  \n",
       "1              2013             3  \n",
       "2              2013             3  \n",
       "3              2013             3  \n",
       "4              2013             3  \n",
       "...             ...           ...  \n",
       "139502         2010             2  \n",
       "139503         2010             2  \n",
       "139504         2010             2  \n",
       "139505         2010             2  \n",
       "139506         2010             2  \n",
       "\n",
       "[139507 rows x 8 columns]"
      ]
     },
     "execution_count": 22,
     "metadata": {},
     "output_type": "execute_result"
    }
   ],
   "source": [
    "youtubeB['upload_year'] = youtubeB.upload_date.dt.year\n",
    "youtubeB['upload_month'] = youtubeB.upload_date.dt.month\n",
    "youtubeB = youtubeB.drop('upload_date', axis=1)\n",
    "youtubeB"
   ]
  },
  {
   "cell_type": "markdown",
   "metadata": {},
   "source": [
    "3. The entry in the channel column for a video indicates on which channel the video was uploaded. Encode this column via one-hot encoding."
   ]
  },
  {
   "cell_type": "code",
   "execution_count": 26,
   "metadata": {},
   "outputs": [
    {
     "data": {
      "text/html": [
       "<div>\n",
       "<style scoped>\n",
       "    .dataframe tbody tr th:only-of-type {\n",
       "        vertical-align: middle;\n",
       "    }\n",
       "\n",
       "    .dataframe tbody tr th {\n",
       "        vertical-align: top;\n",
       "    }\n",
       "\n",
       "    .dataframe thead th {\n",
       "        text-align: right;\n",
       "    }\n",
       "</style>\n",
       "<table border=\"1\" class=\"dataframe\">\n",
       "  <thead>\n",
       "    <tr style=\"text-align: right;\">\n",
       "      <th></th>\n",
       "      <th>view_count</th>\n",
       "      <th>duration</th>\n",
       "      <th>average_rating</th>\n",
       "      <th>height</th>\n",
       "      <th>width</th>\n",
       "      <th>upload_year</th>\n",
       "      <th>upload_month</th>\n",
       "      <th>channel_5-Minute Crafts</th>\n",
       "      <th>channel_5-Minute Crafts GIRLY</th>\n",
       "      <th>channel_5-Minute Crafts PLAY</th>\n",
       "      <th>...</th>\n",
       "      <th>channel_grav3yardgirl</th>\n",
       "      <th>channel_iHasCupquake</th>\n",
       "      <th>channel_jacksepticeye</th>\n",
       "      <th>channel_jaipurthepinkcity</th>\n",
       "      <th>channel_jeffreestar</th>\n",
       "      <th>channel_speedyw03</th>\n",
       "      <th>channel_stampylonghead</th>\n",
       "      <th>channel_theRadBrad</th>\n",
       "      <th>channel_videogamedunkey</th>\n",
       "      <th>channel_windy31</th>\n",
       "    </tr>\n",
       "  </thead>\n",
       "  <tbody>\n",
       "    <tr>\n",
       "      <th>0</th>\n",
       "      <td>2541550.0</td>\n",
       "      <td>1126.0</td>\n",
       "      <td>4.886102</td>\n",
       "      <td>720.0</td>\n",
       "      <td>1280.0</td>\n",
       "      <td>2013</td>\n",
       "      <td>3</td>\n",
       "      <td>0</td>\n",
       "      <td>0</td>\n",
       "      <td>0</td>\n",
       "      <td>...</td>\n",
       "      <td>0</td>\n",
       "      <td>0</td>\n",
       "      <td>0</td>\n",
       "      <td>0</td>\n",
       "      <td>0</td>\n",
       "      <td>0</td>\n",
       "      <td>0</td>\n",
       "      <td>0</td>\n",
       "      <td>0</td>\n",
       "      <td>0</td>\n",
       "    </tr>\n",
       "    <tr>\n",
       "      <th>1</th>\n",
       "      <td>1727646.0</td>\n",
       "      <td>903.0</td>\n",
       "      <td>4.951531</td>\n",
       "      <td>720.0</td>\n",
       "      <td>1280.0</td>\n",
       "      <td>2013</td>\n",
       "      <td>3</td>\n",
       "      <td>0</td>\n",
       "      <td>0</td>\n",
       "      <td>0</td>\n",
       "      <td>...</td>\n",
       "      <td>0</td>\n",
       "      <td>0</td>\n",
       "      <td>0</td>\n",
       "      <td>0</td>\n",
       "      <td>0</td>\n",
       "      <td>0</td>\n",
       "      <td>0</td>\n",
       "      <td>0</td>\n",
       "      <td>0</td>\n",
       "      <td>0</td>\n",
       "    </tr>\n",
       "    <tr>\n",
       "      <th>2</th>\n",
       "      <td>1402747.0</td>\n",
       "      <td>806.0</td>\n",
       "      <td>4.962706</td>\n",
       "      <td>720.0</td>\n",
       "      <td>1280.0</td>\n",
       "      <td>2013</td>\n",
       "      <td>3</td>\n",
       "      <td>0</td>\n",
       "      <td>0</td>\n",
       "      <td>0</td>\n",
       "      <td>...</td>\n",
       "      <td>0</td>\n",
       "      <td>0</td>\n",
       "      <td>0</td>\n",
       "      <td>0</td>\n",
       "      <td>0</td>\n",
       "      <td>0</td>\n",
       "      <td>0</td>\n",
       "      <td>0</td>\n",
       "      <td>0</td>\n",
       "      <td>0</td>\n",
       "    </tr>\n",
       "    <tr>\n",
       "      <th>3</th>\n",
       "      <td>4348296.0</td>\n",
       "      <td>909.0</td>\n",
       "      <td>4.937665</td>\n",
       "      <td>720.0</td>\n",
       "      <td>1280.0</td>\n",
       "      <td>2013</td>\n",
       "      <td>3</td>\n",
       "      <td>0</td>\n",
       "      <td>0</td>\n",
       "      <td>0</td>\n",
       "      <td>...</td>\n",
       "      <td>0</td>\n",
       "      <td>0</td>\n",
       "      <td>0</td>\n",
       "      <td>0</td>\n",
       "      <td>0</td>\n",
       "      <td>0</td>\n",
       "      <td>0</td>\n",
       "      <td>0</td>\n",
       "      <td>0</td>\n",
       "      <td>0</td>\n",
       "    </tr>\n",
       "    <tr>\n",
       "      <th>4</th>\n",
       "      <td>1410659.0</td>\n",
       "      <td>834.0</td>\n",
       "      <td>4.957545</td>\n",
       "      <td>720.0</td>\n",
       "      <td>1280.0</td>\n",
       "      <td>2013</td>\n",
       "      <td>3</td>\n",
       "      <td>0</td>\n",
       "      <td>0</td>\n",
       "      <td>0</td>\n",
       "      <td>...</td>\n",
       "      <td>0</td>\n",
       "      <td>0</td>\n",
       "      <td>0</td>\n",
       "      <td>0</td>\n",
       "      <td>0</td>\n",
       "      <td>0</td>\n",
       "      <td>0</td>\n",
       "      <td>0</td>\n",
       "      <td>0</td>\n",
       "      <td>0</td>\n",
       "    </tr>\n",
       "    <tr>\n",
       "      <th>...</th>\n",
       "      <td>...</td>\n",
       "      <td>...</td>\n",
       "      <td>...</td>\n",
       "      <td>...</td>\n",
       "      <td>...</td>\n",
       "      <td>...</td>\n",
       "      <td>...</td>\n",
       "      <td>...</td>\n",
       "      <td>...</td>\n",
       "      <td>...</td>\n",
       "      <td>...</td>\n",
       "      <td>...</td>\n",
       "      <td>...</td>\n",
       "      <td>...</td>\n",
       "      <td>...</td>\n",
       "      <td>...</td>\n",
       "      <td>...</td>\n",
       "      <td>...</td>\n",
       "      <td>...</td>\n",
       "      <td>...</td>\n",
       "      <td>...</td>\n",
       "    </tr>\n",
       "    <tr>\n",
       "      <th>139502</th>\n",
       "      <td>284147.0</td>\n",
       "      <td>201.0</td>\n",
       "      <td>4.608439</td>\n",
       "      <td>480.0</td>\n",
       "      <td>640.0</td>\n",
       "      <td>2010</td>\n",
       "      <td>2</td>\n",
       "      <td>0</td>\n",
       "      <td>0</td>\n",
       "      <td>0</td>\n",
       "      <td>...</td>\n",
       "      <td>0</td>\n",
       "      <td>0</td>\n",
       "      <td>0</td>\n",
       "      <td>0</td>\n",
       "      <td>0</td>\n",
       "      <td>0</td>\n",
       "      <td>0</td>\n",
       "      <td>0</td>\n",
       "      <td>0</td>\n",
       "      <td>0</td>\n",
       "    </tr>\n",
       "    <tr>\n",
       "      <th>139503</th>\n",
       "      <td>136278.0</td>\n",
       "      <td>180.0</td>\n",
       "      <td>4.638451</td>\n",
       "      <td>480.0</td>\n",
       "      <td>640.0</td>\n",
       "      <td>2010</td>\n",
       "      <td>2</td>\n",
       "      <td>0</td>\n",
       "      <td>0</td>\n",
       "      <td>0</td>\n",
       "      <td>...</td>\n",
       "      <td>0</td>\n",
       "      <td>0</td>\n",
       "      <td>0</td>\n",
       "      <td>0</td>\n",
       "      <td>0</td>\n",
       "      <td>0</td>\n",
       "      <td>0</td>\n",
       "      <td>0</td>\n",
       "      <td>0</td>\n",
       "      <td>0</td>\n",
       "    </tr>\n",
       "    <tr>\n",
       "      <th>139504</th>\n",
       "      <td>228384.0</td>\n",
       "      <td>277.0</td>\n",
       "      <td>4.836411</td>\n",
       "      <td>480.0</td>\n",
       "      <td>640.0</td>\n",
       "      <td>2010</td>\n",
       "      <td>2</td>\n",
       "      <td>0</td>\n",
       "      <td>0</td>\n",
       "      <td>0</td>\n",
       "      <td>...</td>\n",
       "      <td>0</td>\n",
       "      <td>0</td>\n",
       "      <td>0</td>\n",
       "      <td>0</td>\n",
       "      <td>0</td>\n",
       "      <td>0</td>\n",
       "      <td>0</td>\n",
       "      <td>0</td>\n",
       "      <td>0</td>\n",
       "      <td>0</td>\n",
       "    </tr>\n",
       "    <tr>\n",
       "      <th>139505</th>\n",
       "      <td>247053.0</td>\n",
       "      <td>174.0</td>\n",
       "      <td>4.855700</td>\n",
       "      <td>480.0</td>\n",
       "      <td>640.0</td>\n",
       "      <td>2010</td>\n",
       "      <td>2</td>\n",
       "      <td>0</td>\n",
       "      <td>0</td>\n",
       "      <td>0</td>\n",
       "      <td>...</td>\n",
       "      <td>0</td>\n",
       "      <td>0</td>\n",
       "      <td>0</td>\n",
       "      <td>0</td>\n",
       "      <td>0</td>\n",
       "      <td>0</td>\n",
       "      <td>0</td>\n",
       "      <td>0</td>\n",
       "      <td>0</td>\n",
       "      <td>0</td>\n",
       "    </tr>\n",
       "    <tr>\n",
       "      <th>139506</th>\n",
       "      <td>331964.0</td>\n",
       "      <td>329.0</td>\n",
       "      <td>4.462126</td>\n",
       "      <td>480.0</td>\n",
       "      <td>640.0</td>\n",
       "      <td>2010</td>\n",
       "      <td>2</td>\n",
       "      <td>0</td>\n",
       "      <td>0</td>\n",
       "      <td>0</td>\n",
       "      <td>...</td>\n",
       "      <td>0</td>\n",
       "      <td>0</td>\n",
       "      <td>0</td>\n",
       "      <td>0</td>\n",
       "      <td>0</td>\n",
       "      <td>0</td>\n",
       "      <td>0</td>\n",
       "      <td>0</td>\n",
       "      <td>0</td>\n",
       "      <td>0</td>\n",
       "    </tr>\n",
       "  </tbody>\n",
       "</table>\n",
       "<p>139507 rows × 202 columns</p>\n",
       "</div>"
      ],
      "text/plain": [
       "        view_count  duration  average_rating  height   width  upload_year  \\\n",
       "0        2541550.0    1126.0        4.886102   720.0  1280.0         2013   \n",
       "1        1727646.0     903.0        4.951531   720.0  1280.0         2013   \n",
       "2        1402747.0     806.0        4.962706   720.0  1280.0         2013   \n",
       "3        4348296.0     909.0        4.937665   720.0  1280.0         2013   \n",
       "4        1410659.0     834.0        4.957545   720.0  1280.0         2013   \n",
       "...            ...       ...             ...     ...     ...          ...   \n",
       "139502    284147.0     201.0        4.608439   480.0   640.0         2010   \n",
       "139503    136278.0     180.0        4.638451   480.0   640.0         2010   \n",
       "139504    228384.0     277.0        4.836411   480.0   640.0         2010   \n",
       "139505    247053.0     174.0        4.855700   480.0   640.0         2010   \n",
       "139506    331964.0     329.0        4.462126   480.0   640.0         2010   \n",
       "\n",
       "        upload_month  channel_5-Minute Crafts  channel_5-Minute Crafts GIRLY  \\\n",
       "0                  3                        0                              0   \n",
       "1                  3                        0                              0   \n",
       "2                  3                        0                              0   \n",
       "3                  3                        0                              0   \n",
       "4                  3                        0                              0   \n",
       "...              ...                      ...                            ...   \n",
       "139502             2                        0                              0   \n",
       "139503             2                        0                              0   \n",
       "139504             2                        0                              0   \n",
       "139505             2                        0                              0   \n",
       "139506             2                        0                              0   \n",
       "\n",
       "        channel_5-Minute Crafts PLAY  ...  channel_grav3yardgirl  \\\n",
       "0                                  0  ...                      0   \n",
       "1                                  0  ...                      0   \n",
       "2                                  0  ...                      0   \n",
       "3                                  0  ...                      0   \n",
       "4                                  0  ...                      0   \n",
       "...                              ...  ...                    ...   \n",
       "139502                             0  ...                      0   \n",
       "139503                             0  ...                      0   \n",
       "139504                             0  ...                      0   \n",
       "139505                             0  ...                      0   \n",
       "139506                             0  ...                      0   \n",
       "\n",
       "        channel_iHasCupquake  channel_jacksepticeye  \\\n",
       "0                          0                      0   \n",
       "1                          0                      0   \n",
       "2                          0                      0   \n",
       "3                          0                      0   \n",
       "4                          0                      0   \n",
       "...                      ...                    ...   \n",
       "139502                     0                      0   \n",
       "139503                     0                      0   \n",
       "139504                     0                      0   \n",
       "139505                     0                      0   \n",
       "139506                     0                      0   \n",
       "\n",
       "        channel_jaipurthepinkcity  channel_jeffreestar  channel_speedyw03  \\\n",
       "0                               0                    0                  0   \n",
       "1                               0                    0                  0   \n",
       "2                               0                    0                  0   \n",
       "3                               0                    0                  0   \n",
       "4                               0                    0                  0   \n",
       "...                           ...                  ...                ...   \n",
       "139502                          0                    0                  0   \n",
       "139503                          0                    0                  0   \n",
       "139504                          0                    0                  0   \n",
       "139505                          0                    0                  0   \n",
       "139506                          0                    0                  0   \n",
       "\n",
       "        channel_stampylonghead  channel_theRadBrad  channel_videogamedunkey  \\\n",
       "0                            0                   0                        0   \n",
       "1                            0                   0                        0   \n",
       "2                            0                   0                        0   \n",
       "3                            0                   0                        0   \n",
       "4                            0                   0                        0   \n",
       "...                        ...                 ...                      ...   \n",
       "139502                       0                   0                        0   \n",
       "139503                       0                   0                        0   \n",
       "139504                       0                   0                        0   \n",
       "139505                       0                   0                        0   \n",
       "139506                       0                   0                        0   \n",
       "\n",
       "        channel_windy31  \n",
       "0                     0  \n",
       "1                     0  \n",
       "2                     0  \n",
       "3                     0  \n",
       "4                     0  \n",
       "...                 ...  \n",
       "139502                0  \n",
       "139503                0  \n",
       "139504                0  \n",
       "139505                0  \n",
       "139506                0  \n",
       "\n",
       "[139507 rows x 202 columns]"
      ]
     },
     "execution_count": 26,
     "metadata": {},
     "output_type": "execute_result"
    }
   ],
   "source": [
    "youtubeB = pd.get_dummies(youtubeB)\n",
    "youtubeB"
   ]
  },
  {
   "cell_type": "markdown",
   "metadata": {},
   "source": [
    "4. Split the data into a train (70%) and a test set (30%) with the appropriate function from sklearn, using 42 as the random seed."
   ]
  },
  {
   "cell_type": "code",
   "execution_count": 35,
   "metadata": {},
   "outputs": [],
   "source": [
    "y = youtubeB['view_count']\n",
    "X = youtubeB.drop('view_count', axis=1)"
   ]
  },
  {
   "cell_type": "code",
   "execution_count": 36,
   "metadata": {},
   "outputs": [],
   "source": [
    "X_train, X_test, y_train, y_test = sklearn.model_selection.train_test_split(X, y, train_size=0.7, random_state=42)"
   ]
  },
  {
   "cell_type": "markdown",
   "metadata": {},
   "source": [
    "## B2: Who is the most viewed of them all?"
   ]
  },
  {
   "cell_type": "markdown",
   "metadata": {},
   "source": [
    "1. Train a ridge regression model (i.e., an L2-regularized linear regression model) on the train set that predicts the view count from the other features. Find and use the optimal regularization parameter $\\alpha$ from the set {0.001, 0.01, 0.1} via 3-fold cross validation."
   ]
  },
  {
   "cell_type": "code",
   "execution_count": 77,
   "metadata": {},
   "outputs": [],
   "source": [
    "parameters = {'alpha': [0.001, 0.01, 0.1]}\n",
    "\n",
    "estimator = sklearn.linear_model.Ridge(random_state=42)\n",
    "gs = sklearn.model_selection.GridSearchCV(estimator, parameters, cv=3)"
   ]
  },
  {
   "cell_type": "code",
   "execution_count": 78,
   "metadata": {},
   "outputs": [
    {
     "data": {
      "text/plain": [
       "GridSearchCV(cv=3, estimator=Ridge(random_state=42),\n",
       "             param_grid={'alpha': [0.001, 0.01, 0.1]})"
      ]
     },
     "execution_count": 78,
     "metadata": {},
     "output_type": "execute_result"
    }
   ],
   "source": [
    "gs.fit(X_train, y_train)"
   ]
  },
  {
   "cell_type": "code",
   "execution_count": 79,
   "metadata": {},
   "outputs": [
    {
     "data": {
      "text/plain": [
       "{'alpha': 0.1}"
      ]
     },
     "execution_count": 79,
     "metadata": {},
     "output_type": "execute_result"
    }
   ],
   "source": [
    "gs.best_params_"
   ]
  },
  {
   "cell_type": "code",
   "execution_count": 83,
   "metadata": {},
   "outputs": [
    {
     "data": {
      "text/plain": [
       "Ridge(alpha=0.1, random_state=42)"
      ]
     },
     "execution_count": 83,
     "metadata": {},
     "output_type": "execute_result"
    }
   ],
   "source": [
    "# Train model with the best alpha, 0.1\n",
    "model = sklearn.linear_model.Ridge(alpha=0.1, random_state=42)\n",
    "model.fit(X_train, y_train)"
   ]
  },
  {
   "cell_type": "markdown",
   "metadata": {},
   "source": [
    "2. Report the mean absolute error that the model makes on the test set."
   ]
  },
  {
   "cell_type": "code",
   "execution_count": 84,
   "metadata": {},
   "outputs": [],
   "source": [
    "y_pred = model.predict(X_test)"
   ]
  },
  {
   "cell_type": "code",
   "execution_count": 85,
   "metadata": {},
   "outputs": [
    {
     "data": {
      "text/plain": [
       "1444649.5039951417"
      ]
     },
     "execution_count": 85,
     "metadata": {},
     "output_type": "execute_result"
    }
   ],
   "source": [
    "sklearn.metrics.mean_absolute_error(y_test, y_pred)"
   ]
  },
  {
   "cell_type": "markdown",
   "metadata": {},
   "source": [
    "## B3: Checking our ambitions"
   ]
  },
  {
   "cell_type": "markdown",
   "metadata": {},
   "source": [
    "To improve performance, you want to make the task of the ML model easier and turn it into a classification task. Now it only has to predict whether a video has a high view count (defined as being larger than the median of the view counts in the training set) or a low view count (defined as being smaller or equal to the median of the view counts in the training set)."
   ]
  },
  {
   "cell_type": "markdown",
   "metadata": {},
   "source": [
    "1. Train a logistic regression model for this classification task. Find and use the optimal regularization parameter C (as defined in scikit-learn's documentation) from the set {1, 10, 100} via 3-fold cross validation. Use the random seed 42. _Hint_: If you get a warning about the training algorithm failing to converge, increase the maximum number of training iterations."
   ]
  },
  {
   "cell_type": "code",
   "execution_count": 62,
   "metadata": {},
   "outputs": [],
   "source": [
    "median = y_train.median()"
   ]
  },
  {
   "cell_type": "code",
   "execution_count": 75,
   "metadata": {},
   "outputs": [
    {
     "data": {
      "text/plain": [
       "50407     1\n",
       "19656     0\n",
       "11409     1\n",
       "129767    1\n",
       "99944     1\n",
       "         ..\n",
       "110268    0\n",
       "119879    0\n",
       "103694    0\n",
       "131932    0\n",
       "121958    0\n",
       "Name: view_count, Length: 97654, dtype: int32"
      ]
     },
     "execution_count": 75,
     "metadata": {},
     "output_type": "execute_result"
    }
   ],
   "source": [
    "# Create new binary y for classification\n",
    "yb_train = (y_train > median).astype(int)\n",
    "yb_test = (y_test > median).astype(int)\n",
    "yb_train"
   ]
  },
  {
   "cell_type": "code",
   "execution_count": 91,
   "metadata": {},
   "outputs": [],
   "source": [
    "parameters = {'C': [1, 10, 100]}\n",
    "\n",
    "estimator = sklearn.linear_model.LogisticRegression(max_iter=1000, random_state=42)\n",
    "gs = sklearn.model_selection.GridSearchCV(estimator, parameters, cv=3)"
   ]
  },
  {
   "cell_type": "code",
   "execution_count": 92,
   "metadata": {},
   "outputs": [
    {
     "data": {
      "text/plain": [
       "GridSearchCV(cv=3, estimator=LogisticRegression(max_iter=1000, random_state=42),\n",
       "             param_grid={'C': [1, 10, 100]})"
      ]
     },
     "execution_count": 92,
     "metadata": {},
     "output_type": "execute_result"
    }
   ],
   "source": [
    "gs.fit(X_train, yb_train)"
   ]
  },
  {
   "cell_type": "code",
   "execution_count": 93,
   "metadata": {},
   "outputs": [
    {
     "data": {
      "text/plain": [
       "{'C': 10}"
      ]
     },
     "execution_count": 93,
     "metadata": {},
     "output_type": "execute_result"
    }
   ],
   "source": [
    "gs.best_params_"
   ]
  },
  {
   "cell_type": "code",
   "execution_count": 97,
   "metadata": {},
   "outputs": [
    {
     "data": {
      "text/plain": [
       "LogisticRegression(C=10, max_iter=1000, random_state=42)"
      ]
     },
     "execution_count": 97,
     "metadata": {},
     "output_type": "execute_result"
    }
   ],
   "source": [
    "# Train model with the best C, 10\n",
    "model = sklearn.linear_model.LogisticRegression(max_iter=1000, C=10, random_state=42)\n",
    "model.fit(X_train, yb_train)"
   ]
  },
  {
   "cell_type": "markdown",
   "metadata": {},
   "source": [
    "2. Compute the accuracy of the logistic regression model on the test set."
   ]
  },
  {
   "cell_type": "code",
   "execution_count": 98,
   "metadata": {},
   "outputs": [],
   "source": [
    "yb_pred = model.predict(X_test)"
   ]
  },
  {
   "cell_type": "code",
   "execution_count": 99,
   "metadata": {},
   "outputs": [
    {
     "data": {
      "text/plain": [
       "0.7480467350010752"
      ]
     },
     "execution_count": 99,
     "metadata": {},
     "output_type": "execute_result"
    }
   ],
   "source": [
    "sklearn.metrics.accuracy_score(yb_test, yb_pred)"
   ]
  },
  {
   "cell_type": "markdown",
   "metadata": {},
   "source": [
    "## B4: ...something's not right."
   ]
  },
  {
   "cell_type": "markdown",
   "metadata": {},
   "source": [
    "You are satisfied with the model performance. In fact, you are a bit surprised at how good the model is given the relatively little amount of information about the videos. So you take a closer look at the features and realize that the (one-hot-encoded) channel feature does not make sense for the application that your friend has in mind."
   ]
  },
  {
   "cell_type": "markdown",
   "metadata": {},
   "source": [
    "1. Why does the channel feature not make sense?"
   ]
  },
  {
   "cell_type": "markdown",
   "metadata": {},
   "source": [
    "The application is defined as \"optimizing their videos for getting the maximum number of views\". Therefore, setting the channel of the video is not a possible optimization, assuming that our friend owns only one channel and, even if he owned multiple channels, they would be equivalent since he would still be the creator. Also, those one-hot channel features would be all 0 in all the videos he would ever made, since they refer to other channels. Therefore, for this kind of application the channel feature is completely unrelevant and does not help us in understanding how to make videos that would get high views."
   ]
  },
  {
   "cell_type": "markdown",
   "metadata": {},
   "source": [
    "2. Train another logistic regression model with all the features from B3 except the one-hot-encoded channel. Use again 42 as the seed for the train test split and perform the same hyperparameter optimization as in B3. How does the model performance change?"
   ]
  },
  {
   "cell_type": "code",
   "execution_count": 102,
   "metadata": {},
   "outputs": [],
   "source": [
    "features = ['duration', 'average_rating', 'height', 'width', 'upload_year', 'upload_month']"
   ]
  },
  {
   "cell_type": "code",
   "execution_count": 107,
   "metadata": {},
   "outputs": [],
   "source": [
    "# remove one-hot channel features from the dataset\n",
    "X4_train = X_train[features]\n",
    "X4_test = X_test[features]"
   ]
  },
  {
   "cell_type": "code",
   "execution_count": 108,
   "metadata": {},
   "outputs": [],
   "source": [
    "parameters = {'C': [1, 10, 100]}\n",
    "\n",
    "estimator = sklearn.linear_model.LogisticRegression(max_iter=1000, random_state=42)\n",
    "gs = sklearn.model_selection.GridSearchCV(estimator, parameters, cv=3)"
   ]
  },
  {
   "cell_type": "code",
   "execution_count": 109,
   "metadata": {},
   "outputs": [
    {
     "data": {
      "text/plain": [
       "GridSearchCV(cv=3, estimator=LogisticRegression(max_iter=1000, random_state=42),\n",
       "             param_grid={'C': [1, 10, 100]})"
      ]
     },
     "execution_count": 109,
     "metadata": {},
     "output_type": "execute_result"
    }
   ],
   "source": [
    "gs.fit(X4_train, yb_train)"
   ]
  },
  {
   "cell_type": "code",
   "execution_count": 110,
   "metadata": {},
   "outputs": [
    {
     "data": {
      "text/plain": [
       "{'C': 1}"
      ]
     },
     "execution_count": 110,
     "metadata": {},
     "output_type": "execute_result"
    }
   ],
   "source": [
    "gs.best_params_"
   ]
  },
  {
   "cell_type": "code",
   "execution_count": 111,
   "metadata": {},
   "outputs": [
    {
     "data": {
      "text/plain": [
       "LogisticRegression(C=1, max_iter=1000, random_state=42)"
      ]
     },
     "execution_count": 111,
     "metadata": {},
     "output_type": "execute_result"
    }
   ],
   "source": [
    "# Train model with the best C, 1\n",
    "model = sklearn.linear_model.LogisticRegression(max_iter=1000, C=1, random_state=42)\n",
    "model.fit(X4_train, yb_train)"
   ]
  },
  {
   "cell_type": "code",
   "execution_count": 114,
   "metadata": {},
   "outputs": [],
   "source": [
    "yb4_pred = model.predict(X4_test)"
   ]
  },
  {
   "cell_type": "code",
   "execution_count": 113,
   "metadata": {},
   "outputs": [
    {
     "data": {
      "text/plain": [
       "0.6048311948964232"
      ]
     },
     "execution_count": 113,
     "metadata": {},
     "output_type": "execute_result"
    }
   ],
   "source": [
    "sklearn.metrics.accuracy_score(yb_test, yb4_pred)"
   ]
  },
  {
   "cell_type": "markdown",
   "metadata": {},
   "source": [
    "The model performance gets considerably worst, which is reasonable since the model now has less information and cannot distinguish between channels, which is a factor for sure closely related to how many views a video get."
   ]
  },
  {
   "cell_type": "markdown",
   "metadata": {},
   "source": [
    "## B5: \"We kinda forgot about categories.\""
   ]
  },
  {
   "cell_type": "markdown",
   "metadata": {},
   "source": [
    "On second thought, there is actually one feature that you may use about the channel. Namely, the channel category. The reason this one makes sense might also help you answer B4.1."
   ]
  },
  {
   "cell_type": "markdown",
   "metadata": {},
   "source": [
    "1. Train and evaluate another logistic regression model (in the same way as in B4 regarding train/test split and hyperparameter) that additionally includes the one-hot-encoded channel category."
   ]
  },
  {
   "cell_type": "code",
   "execution_count": 120,
   "metadata": {},
   "outputs": [],
   "source": [
    "X5_train = X4_train.copy()\n",
    "X5_test = X4_test.copy()\n",
    "X5_train['category'] = youtube.loc[X5_train.index].channel_cat\n",
    "X5_test['category'] = youtube.loc[X5_test.index].channel_cat"
   ]
  },
  {
   "cell_type": "code",
   "execution_count": 124,
   "metadata": {},
   "outputs": [],
   "source": [
    "X5_train = pd.get_dummies(X5_train)\n",
    "X5_test = pd.get_dummies(X5_test)"
   ]
  },
  {
   "cell_type": "code",
   "execution_count": 125,
   "metadata": {},
   "outputs": [],
   "source": [
    "parameters = {'C': [1, 10, 100]}\n",
    "\n",
    "estimator = sklearn.linear_model.LogisticRegression(max_iter=1000, random_state=42)\n",
    "gs = sklearn.model_selection.GridSearchCV(estimator, parameters, cv=3)"
   ]
  },
  {
   "cell_type": "code",
   "execution_count": 126,
   "metadata": {},
   "outputs": [
    {
     "data": {
      "text/plain": [
       "GridSearchCV(cv=3, estimator=LogisticRegression(max_iter=1000, random_state=42),\n",
       "             param_grid={'C': [1, 10, 100]})"
      ]
     },
     "execution_count": 126,
     "metadata": {},
     "output_type": "execute_result"
    }
   ],
   "source": [
    "gs.fit(X5_train, yb_train)"
   ]
  },
  {
   "cell_type": "code",
   "execution_count": 127,
   "metadata": {},
   "outputs": [
    {
     "data": {
      "text/plain": [
       "{'C': 100}"
      ]
     },
     "execution_count": 127,
     "metadata": {},
     "output_type": "execute_result"
    }
   ],
   "source": [
    "gs.best_params_"
   ]
  },
  {
   "cell_type": "code",
   "execution_count": 128,
   "metadata": {},
   "outputs": [
    {
     "data": {
      "text/plain": [
       "LogisticRegression(C=100, max_iter=1000, random_state=42)"
      ]
     },
     "execution_count": 128,
     "metadata": {},
     "output_type": "execute_result"
    }
   ],
   "source": [
    "# Train model with the best C, 100\n",
    "model = sklearn.linear_model.LogisticRegression(max_iter=1000, C=100, random_state=42)\n",
    "model.fit(X5_train, yb_train)"
   ]
  },
  {
   "cell_type": "code",
   "execution_count": 129,
   "metadata": {},
   "outputs": [],
   "source": [
    "yb5_pred = model.predict(X5_test)"
   ]
  },
  {
   "cell_type": "code",
   "execution_count": 130,
   "metadata": {},
   "outputs": [
    {
     "data": {
      "text/plain": [
       "0.614053950732325"
      ]
     },
     "execution_count": 130,
     "metadata": {},
     "output_type": "execute_result"
    }
   ],
   "source": [
    "sklearn.metrics.accuracy_score(yb_test, yb5_pred)"
   ]
  },
  {
   "cell_type": "markdown",
   "metadata": {},
   "source": [
    "2. The dynamics of the two categories might differ a lot, and the two communities might value different properties of a video differently. For instance, for one community, a long duration might be more important, for the other one, a large picture width. Thus, having only a single weight for, e.g., the duration of a video, might not give the best results. Is there something smarter that you can do than simply including the category as a single one-hot-encoded feature to improve the classification performance? Implement your idea and compare the accuracy on the test set with that of the first model (from task B5.1)."
   ]
  },
  {
   "cell_type": "markdown",
   "metadata": {},
   "source": [
    "To incorporate those kind of relationships between the category and the other features, we could expand the features by adding the interaction of the one-hot category variables with all the others, i.e. their product. In this way, for each feature, we will have one weight for each category (in practice, for each feature we will have one weight active for both categories and one active only for one of the two, corresponding to the encoding 1, but this is equivalent to the other view - the weight for the category 0 is the first weight, the weight for the category 1 is simply the sum of the two weights)."
   ]
  },
  {
   "cell_type": "code",
   "execution_count": 167,
   "metadata": {},
   "outputs": [],
   "source": [
    "# Create interactions features\n",
    "interactions_train = X5_train[features].multiply(X5_train.category_Gaming, axis=0).add_suffix('_gaming')\n",
    "interactions_test = X5_test[features].multiply(X5_test.category_Gaming, axis=0).add_suffix('_gaming')"
   ]
  },
  {
   "cell_type": "code",
   "execution_count": 169,
   "metadata": {},
   "outputs": [
    {
     "data": {
      "text/html": [
       "<div>\n",
       "<style scoped>\n",
       "    .dataframe tbody tr th:only-of-type {\n",
       "        vertical-align: middle;\n",
       "    }\n",
       "\n",
       "    .dataframe tbody tr th {\n",
       "        vertical-align: top;\n",
       "    }\n",
       "\n",
       "    .dataframe thead th {\n",
       "        text-align: right;\n",
       "    }\n",
       "</style>\n",
       "<table border=\"1\" class=\"dataframe\">\n",
       "  <thead>\n",
       "    <tr style=\"text-align: right;\">\n",
       "      <th></th>\n",
       "      <th>duration</th>\n",
       "      <th>average_rating</th>\n",
       "      <th>height</th>\n",
       "      <th>width</th>\n",
       "      <th>upload_year</th>\n",
       "      <th>upload_month</th>\n",
       "      <th>category_Gaming</th>\n",
       "      <th>category_Howto &amp; Style</th>\n",
       "      <th>duration_gaming</th>\n",
       "      <th>average_rating_gaming</th>\n",
       "      <th>height_gaming</th>\n",
       "      <th>width_gaming</th>\n",
       "      <th>upload_year_gaming</th>\n",
       "      <th>upload_month_gaming</th>\n",
       "    </tr>\n",
       "  </thead>\n",
       "  <tbody>\n",
       "    <tr>\n",
       "      <th>50407</th>\n",
       "      <td>957.0</td>\n",
       "      <td>4.932541</td>\n",
       "      <td>1080.0</td>\n",
       "      <td>1920.0</td>\n",
       "      <td>2016</td>\n",
       "      <td>6</td>\n",
       "      <td>1</td>\n",
       "      <td>0</td>\n",
       "      <td>957.0</td>\n",
       "      <td>4.932541</td>\n",
       "      <td>1080.0</td>\n",
       "      <td>1920.0</td>\n",
       "      <td>2016</td>\n",
       "      <td>6</td>\n",
       "    </tr>\n",
       "    <tr>\n",
       "      <th>19656</th>\n",
       "      <td>163.0</td>\n",
       "      <td>4.820296</td>\n",
       "      <td>720.0</td>\n",
       "      <td>1280.0</td>\n",
       "      <td>2012</td>\n",
       "      <td>4</td>\n",
       "      <td>1</td>\n",
       "      <td>0</td>\n",
       "      <td>163.0</td>\n",
       "      <td>4.820296</td>\n",
       "      <td>720.0</td>\n",
       "      <td>1280.0</td>\n",
       "      <td>2012</td>\n",
       "      <td>4</td>\n",
       "    </tr>\n",
       "    <tr>\n",
       "      <th>11409</th>\n",
       "      <td>1050.0</td>\n",
       "      <td>4.869127</td>\n",
       "      <td>720.0</td>\n",
       "      <td>1280.0</td>\n",
       "      <td>2013</td>\n",
       "      <td>7</td>\n",
       "      <td>1</td>\n",
       "      <td>0</td>\n",
       "      <td>1050.0</td>\n",
       "      <td>4.869127</td>\n",
       "      <td>720.0</td>\n",
       "      <td>1280.0</td>\n",
       "      <td>2013</td>\n",
       "      <td>7</td>\n",
       "    </tr>\n",
       "    <tr>\n",
       "      <th>129767</th>\n",
       "      <td>512.0</td>\n",
       "      <td>4.959641</td>\n",
       "      <td>2160.0</td>\n",
       "      <td>3840.0</td>\n",
       "      <td>2019</td>\n",
       "      <td>4</td>\n",
       "      <td>0</td>\n",
       "      <td>1</td>\n",
       "      <td>0.0</td>\n",
       "      <td>0.000000</td>\n",
       "      <td>0.0</td>\n",
       "      <td>0.0</td>\n",
       "      <td>0</td>\n",
       "      <td>0</td>\n",
       "    </tr>\n",
       "    <tr>\n",
       "      <th>99944</th>\n",
       "      <td>47.0</td>\n",
       "      <td>3.344828</td>\n",
       "      <td>1080.0</td>\n",
       "      <td>1920.0</td>\n",
       "      <td>2018</td>\n",
       "      <td>10</td>\n",
       "      <td>0</td>\n",
       "      <td>1</td>\n",
       "      <td>0.0</td>\n",
       "      <td>0.000000</td>\n",
       "      <td>0.0</td>\n",
       "      <td>0.0</td>\n",
       "      <td>0</td>\n",
       "      <td>0</td>\n",
       "    </tr>\n",
       "    <tr>\n",
       "      <th>...</th>\n",
       "      <td>...</td>\n",
       "      <td>...</td>\n",
       "      <td>...</td>\n",
       "      <td>...</td>\n",
       "      <td>...</td>\n",
       "      <td>...</td>\n",
       "      <td>...</td>\n",
       "      <td>...</td>\n",
       "      <td>...</td>\n",
       "      <td>...</td>\n",
       "      <td>...</td>\n",
       "      <td>...</td>\n",
       "      <td>...</td>\n",
       "      <td>...</td>\n",
       "    </tr>\n",
       "    <tr>\n",
       "      <th>110268</th>\n",
       "      <td>1365.0</td>\n",
       "      <td>4.817560</td>\n",
       "      <td>1080.0</td>\n",
       "      <td>1920.0</td>\n",
       "      <td>2015</td>\n",
       "      <td>6</td>\n",
       "      <td>0</td>\n",
       "      <td>1</td>\n",
       "      <td>0.0</td>\n",
       "      <td>0.000000</td>\n",
       "      <td>0.0</td>\n",
       "      <td>0.0</td>\n",
       "      <td>0</td>\n",
       "      <td>0</td>\n",
       "    </tr>\n",
       "    <tr>\n",
       "      <th>119879</th>\n",
       "      <td>676.0</td>\n",
       "      <td>4.794393</td>\n",
       "      <td>1080.0</td>\n",
       "      <td>1080.0</td>\n",
       "      <td>2018</td>\n",
       "      <td>8</td>\n",
       "      <td>0</td>\n",
       "      <td>1</td>\n",
       "      <td>0.0</td>\n",
       "      <td>0.000000</td>\n",
       "      <td>0.0</td>\n",
       "      <td>0.0</td>\n",
       "      <td>0</td>\n",
       "      <td>0</td>\n",
       "    </tr>\n",
       "    <tr>\n",
       "      <th>103694</th>\n",
       "      <td>360.0</td>\n",
       "      <td>4.755102</td>\n",
       "      <td>480.0</td>\n",
       "      <td>854.0</td>\n",
       "      <td>2013</td>\n",
       "      <td>2</td>\n",
       "      <td>0</td>\n",
       "      <td>1</td>\n",
       "      <td>0.0</td>\n",
       "      <td>0.000000</td>\n",
       "      <td>0.0</td>\n",
       "      <td>0.0</td>\n",
       "      <td>0</td>\n",
       "      <td>0</td>\n",
       "    </tr>\n",
       "    <tr>\n",
       "      <th>131932</th>\n",
       "      <td>398.0</td>\n",
       "      <td>4.913793</td>\n",
       "      <td>1080.0</td>\n",
       "      <td>1920.0</td>\n",
       "      <td>2016</td>\n",
       "      <td>7</td>\n",
       "      <td>0</td>\n",
       "      <td>1</td>\n",
       "      <td>0.0</td>\n",
       "      <td>0.000000</td>\n",
       "      <td>0.0</td>\n",
       "      <td>0.0</td>\n",
       "      <td>0</td>\n",
       "      <td>0</td>\n",
       "    </tr>\n",
       "    <tr>\n",
       "      <th>121958</th>\n",
       "      <td>751.0</td>\n",
       "      <td>4.917595</td>\n",
       "      <td>1080.0</td>\n",
       "      <td>1920.0</td>\n",
       "      <td>2017</td>\n",
       "      <td>3</td>\n",
       "      <td>0</td>\n",
       "      <td>1</td>\n",
       "      <td>0.0</td>\n",
       "      <td>0.000000</td>\n",
       "      <td>0.0</td>\n",
       "      <td>0.0</td>\n",
       "      <td>0</td>\n",
       "      <td>0</td>\n",
       "    </tr>\n",
       "  </tbody>\n",
       "</table>\n",
       "<p>97654 rows × 14 columns</p>\n",
       "</div>"
      ],
      "text/plain": [
       "        duration  average_rating  height   width  upload_year  upload_month  \\\n",
       "50407      957.0        4.932541  1080.0  1920.0         2016             6   \n",
       "19656      163.0        4.820296   720.0  1280.0         2012             4   \n",
       "11409     1050.0        4.869127   720.0  1280.0         2013             7   \n",
       "129767     512.0        4.959641  2160.0  3840.0         2019             4   \n",
       "99944       47.0        3.344828  1080.0  1920.0         2018            10   \n",
       "...          ...             ...     ...     ...          ...           ...   \n",
       "110268    1365.0        4.817560  1080.0  1920.0         2015             6   \n",
       "119879     676.0        4.794393  1080.0  1080.0         2018             8   \n",
       "103694     360.0        4.755102   480.0   854.0         2013             2   \n",
       "131932     398.0        4.913793  1080.0  1920.0         2016             7   \n",
       "121958     751.0        4.917595  1080.0  1920.0         2017             3   \n",
       "\n",
       "        category_Gaming  category_Howto & Style  duration_gaming  \\\n",
       "50407                 1                       0            957.0   \n",
       "19656                 1                       0            163.0   \n",
       "11409                 1                       0           1050.0   \n",
       "129767                0                       1              0.0   \n",
       "99944                 0                       1              0.0   \n",
       "...                 ...                     ...              ...   \n",
       "110268                0                       1              0.0   \n",
       "119879                0                       1              0.0   \n",
       "103694                0                       1              0.0   \n",
       "131932                0                       1              0.0   \n",
       "121958                0                       1              0.0   \n",
       "\n",
       "        average_rating_gaming  height_gaming  width_gaming  \\\n",
       "50407                4.932541         1080.0        1920.0   \n",
       "19656                4.820296          720.0        1280.0   \n",
       "11409                4.869127          720.0        1280.0   \n",
       "129767               0.000000            0.0           0.0   \n",
       "99944                0.000000            0.0           0.0   \n",
       "...                       ...            ...           ...   \n",
       "110268               0.000000            0.0           0.0   \n",
       "119879               0.000000            0.0           0.0   \n",
       "103694               0.000000            0.0           0.0   \n",
       "131932               0.000000            0.0           0.0   \n",
       "121958               0.000000            0.0           0.0   \n",
       "\n",
       "        upload_year_gaming  upload_month_gaming  \n",
       "50407                 2016                    6  \n",
       "19656                 2012                    4  \n",
       "11409                 2013                    7  \n",
       "129767                   0                    0  \n",
       "99944                    0                    0  \n",
       "...                    ...                  ...  \n",
       "110268                   0                    0  \n",
       "119879                   0                    0  \n",
       "103694                   0                    0  \n",
       "131932                   0                    0  \n",
       "121958                   0                    0  \n",
       "\n",
       "[97654 rows x 14 columns]"
      ]
     },
     "execution_count": 169,
     "metadata": {},
     "output_type": "execute_result"
    }
   ],
   "source": [
    "X52_train = X5_train.merge(interactions_train, left_index=True, right_index=True)\n",
    "X52_test = X5_test.merge(interactions_test, left_index=True, right_index=True)\n",
    "X52_train"
   ]
  },
  {
   "cell_type": "code",
   "execution_count": 173,
   "metadata": {},
   "outputs": [],
   "source": [
    "parameters = {'C': [1, 10, 100]}\n",
    "\n",
    "estimator = sklearn.linear_model.LogisticRegression(max_iter=5000, random_state=42)\n",
    "gs = sklearn.model_selection.GridSearchCV(estimator, parameters, cv=3)"
   ]
  },
  {
   "cell_type": "code",
   "execution_count": 174,
   "metadata": {},
   "outputs": [
    {
     "data": {
      "text/plain": [
       "GridSearchCV(cv=3, estimator=LogisticRegression(max_iter=5000, random_state=42),\n",
       "             param_grid={'C': [1, 10, 100]})"
      ]
     },
     "execution_count": 174,
     "metadata": {},
     "output_type": "execute_result"
    }
   ],
   "source": [
    "gs.fit(X52_train, yb_train)"
   ]
  },
  {
   "cell_type": "code",
   "execution_count": 175,
   "metadata": {},
   "outputs": [
    {
     "data": {
      "text/plain": [
       "{'C': 10}"
      ]
     },
     "execution_count": 175,
     "metadata": {},
     "output_type": "execute_result"
    }
   ],
   "source": [
    "gs.best_params_"
   ]
  },
  {
   "cell_type": "code",
   "execution_count": 176,
   "metadata": {},
   "outputs": [
    {
     "data": {
      "text/plain": [
       "LogisticRegression(C=10, max_iter=1000, random_state=42)"
      ]
     },
     "execution_count": 176,
     "metadata": {},
     "output_type": "execute_result"
    }
   ],
   "source": [
    "# Train model with the best C, 10\n",
    "model = sklearn.linear_model.LogisticRegression(max_iter=1000, C=10, random_state=42)\n",
    "model.fit(X52_train, yb_train)"
   ]
  },
  {
   "cell_type": "code",
   "execution_count": 177,
   "metadata": {},
   "outputs": [],
   "source": [
    "yb52_pred = model.predict(X52_test)"
   ]
  },
  {
   "cell_type": "code",
   "execution_count": 178,
   "metadata": {},
   "outputs": [
    {
     "data": {
      "text/plain": [
       "0.6328339665018039"
      ]
     },
     "execution_count": 178,
     "metadata": {},
     "output_type": "execute_result"
    }
   ],
   "source": [
    "sklearn.metrics.accuracy_score(yb_test, yb52_pred)"
   ]
  },
  {
   "cell_type": "markdown",
   "metadata": {},
   "source": [
    "Indeed, the accuracy increased by over 2% after adding the interaction features, increasing performances of our classifier."
   ]
  },
  {
   "cell_type": "markdown",
   "metadata": {},
   "source": [
    "# Task C: A map of the channels (Graphs)"
   ]
  },
  {
   "cell_type": "markdown",
   "metadata": {},
   "source": [
    "Your friend wants to map out the channels and represent their similarities. For this purpose, we have created two undirected and unweighted graphs for you, where in each graph, each channel has a node and similar channels have edges connecting them. In one graph, the similarity between two channels is based on how similar their video descriptions are, while in the other, the similarity is based on how similar their video tags are. We will call the former $G_{text}$ and the latter $G_{tags}$. You will be analyzing the two graphs loaded by running the cell below."
   ]
  },
  {
   "cell_type": "code",
   "execution_count": 5,
   "metadata": {
    "tags": []
   },
   "outputs": [],
   "source": [
    "from networkx import from_numpy_array\n",
    "import json\n",
    "g_text_adj = np.loadtxt(open('data/g_text_adj.csv', 'r'), delimiter=',', skiprows=0)\n",
    "g_tags_adj = np.loadtxt(open('data/g_tags_adj.csv', 'r'), delimiter=',', skiprows=0)\n",
    "channel_to_index = json.load(open('data/channel_indices.json', 'r'))\n",
    "g_text = from_numpy_array(g_text_adj)\n",
    "g_tags = from_numpy_array(g_tags_adj)"
   ]
  },
  {
   "cell_type": "markdown",
   "metadata": {},
   "source": [
    "## C1: Does YouTube have a content diversity problem?"
   ]
  },
  {
   "cell_type": "markdown",
   "metadata": {},
   "source": [
    "1. For each graph, calculate its diameter (i.e., the largest shortest-path length, where the maximization is done over all node pairs). What difference do you see? _Hint_: Don't worry if you get an error, just read the error message carefully."
   ]
  },
  {
   "cell_type": "code",
   "execution_count": 6,
   "metadata": {},
   "outputs": [
    {
     "data": {
      "text/plain": [
       "2"
      ]
     },
     "execution_count": 6,
     "metadata": {},
     "output_type": "execute_result"
    }
   ],
   "source": [
    "nx.diameter(g_text)"
   ]
  },
  {
   "cell_type": "code",
   "execution_count": 7,
   "metadata": {},
   "outputs": [
    {
     "ename": "NetworkXError",
     "evalue": "Found infinite path length because the graph is not connected",
     "output_type": "error",
     "traceback": [
      "\u001b[1;31m---------------------------------------------------------------------------\u001b[0m",
      "\u001b[1;31mNetworkXError\u001b[0m                             Traceback (most recent call last)",
      "\u001b[1;32m~\\AppData\\Local\\Temp/ipykernel_17924/2364827308.py\u001b[0m in \u001b[0;36m<module>\u001b[1;34m\u001b[0m\n\u001b[1;32m----> 1\u001b[1;33m \u001b[0mnx\u001b[0m\u001b[1;33m.\u001b[0m\u001b[0mdiameter\u001b[0m\u001b[1;33m(\u001b[0m\u001b[0mg_tags\u001b[0m\u001b[1;33m)\u001b[0m\u001b[1;33m\u001b[0m\u001b[1;33m\u001b[0m\u001b[0m\n\u001b[0m",
      "\u001b[1;32m~\\ProgramsAltri\\anaconda3\\envs\\adaexam\\lib\\site-packages\\networkx\\algorithms\\distance_measures.py\u001b[0m in \u001b[0;36mdiameter\u001b[1;34m(G, e, usebounds)\u001b[0m\n\u001b[0;32m    297\u001b[0m         \u001b[1;32mreturn\u001b[0m \u001b[0mextrema_bounding\u001b[0m\u001b[1;33m(\u001b[0m\u001b[0mG\u001b[0m\u001b[1;33m,\u001b[0m \u001b[0mcompute\u001b[0m\u001b[1;33m=\u001b[0m\u001b[1;34m\"diameter\"\u001b[0m\u001b[1;33m)\u001b[0m\u001b[1;33m\u001b[0m\u001b[1;33m\u001b[0m\u001b[0m\n\u001b[0;32m    298\u001b[0m     \u001b[1;32mif\u001b[0m \u001b[0me\u001b[0m \u001b[1;32mis\u001b[0m \u001b[1;32mNone\u001b[0m\u001b[1;33m:\u001b[0m\u001b[1;33m\u001b[0m\u001b[1;33m\u001b[0m\u001b[0m\n\u001b[1;32m--> 299\u001b[1;33m         \u001b[0me\u001b[0m \u001b[1;33m=\u001b[0m \u001b[0meccentricity\u001b[0m\u001b[1;33m(\u001b[0m\u001b[0mG\u001b[0m\u001b[1;33m)\u001b[0m\u001b[1;33m\u001b[0m\u001b[1;33m\u001b[0m\u001b[0m\n\u001b[0m\u001b[0;32m    300\u001b[0m     \u001b[1;32mreturn\u001b[0m \u001b[0mmax\u001b[0m\u001b[1;33m(\u001b[0m\u001b[0me\u001b[0m\u001b[1;33m.\u001b[0m\u001b[0mvalues\u001b[0m\u001b[1;33m(\u001b[0m\u001b[1;33m)\u001b[0m\u001b[1;33m)\u001b[0m\u001b[1;33m\u001b[0m\u001b[1;33m\u001b[0m\u001b[0m\n\u001b[0;32m    301\u001b[0m \u001b[1;33m\u001b[0m\u001b[0m\n",
      "\u001b[1;32m~\\ProgramsAltri\\anaconda3\\envs\\adaexam\\lib\\site-packages\\networkx\\algorithms\\distance_measures.py\u001b[0m in \u001b[0;36meccentricity\u001b[1;34m(G, v, sp)\u001b[0m\n\u001b[0;32m    262\u001b[0m             \u001b[1;32melse\u001b[0m\u001b[1;33m:\u001b[0m\u001b[1;33m\u001b[0m\u001b[1;33m\u001b[0m\u001b[0m\n\u001b[0;32m    263\u001b[0m                 \u001b[0mmsg\u001b[0m \u001b[1;33m=\u001b[0m \u001b[1;34m\"Found infinite path length because the graph is not\"\u001b[0m \u001b[1;34m\" connected\"\u001b[0m\u001b[1;33m\u001b[0m\u001b[1;33m\u001b[0m\u001b[0m\n\u001b[1;32m--> 264\u001b[1;33m             \u001b[1;32mraise\u001b[0m \u001b[0mnx\u001b[0m\u001b[1;33m.\u001b[0m\u001b[0mNetworkXError\u001b[0m\u001b[1;33m(\u001b[0m\u001b[0mmsg\u001b[0m\u001b[1;33m)\u001b[0m\u001b[1;33m\u001b[0m\u001b[1;33m\u001b[0m\u001b[0m\n\u001b[0m\u001b[0;32m    265\u001b[0m \u001b[1;33m\u001b[0m\u001b[0m\n\u001b[0;32m    266\u001b[0m         \u001b[0me\u001b[0m\u001b[1;33m[\u001b[0m\u001b[0mn\u001b[0m\u001b[1;33m]\u001b[0m \u001b[1;33m=\u001b[0m \u001b[0mmax\u001b[0m\u001b[1;33m(\u001b[0m\u001b[0mlength\u001b[0m\u001b[1;33m.\u001b[0m\u001b[0mvalues\u001b[0m\u001b[1;33m(\u001b[0m\u001b[1;33m)\u001b[0m\u001b[1;33m)\u001b[0m\u001b[1;33m\u001b[0m\u001b[1;33m\u001b[0m\u001b[0m\n",
      "\u001b[1;31mNetworkXError\u001b[0m: Found infinite path length because the graph is not connected"
     ]
    }
   ],
   "source": [
    "nx.diameter(g_tags)"
   ]
  },
  {
   "cell_type": "markdown",
   "metadata": {},
   "source": [
    "g_text has a maximum shortest-path length of only 2! On the other hand, g_tags is not connected so the diameter is not defined."
   ]
  },
  {
   "cell_type": "markdown",
   "metadata": {},
   "source": [
    "2. What does the diameter of $G_{text}$ say about the diversity of the channels’ contents? How about the diameter of $G_{tags}$?"
   ]
  },
  {
   "cell_type": "markdown",
   "metadata": {},
   "source": [
    "The diameter of g_text is extremely low, and means that each pair of channels is connected by at most one extra channel, if they are not already connected directly. Therefore, the graph is extremely connected and has a lot of edges, which suggests that channels are very similar with respect to video descriptions and there is in general not a lot of diversity. In terms of tags, however, not every pair of channels is connected, meaning that they have very different tags."
   ]
  },
  {
   "cell_type": "markdown",
   "metadata": {},
   "source": [
    "3. Based on what you have calculated, which one has greater diversity: descriptions used by channels, or tags used by channels? Justify your answer."
   ]
  },
  {
   "cell_type": "markdown",
   "metadata": {},
   "source": [
    "As already discussed, tags seem to have a higher diversity, because there exist pair of channels which are not connected, hence with very different tags. However, that result might also be caused by few outliers that are not connected, while all the other channels are connected and have a very low diameter. Therefore, further investigation would be needed to establish in a conclusive way which one has greater diversity."
   ]
  },
  {
   "cell_type": "markdown",
   "metadata": {},
   "source": [
    "4. Imagine that you want to **compare** content diversity between two sets of channels (i.e., you want to see which set of channels has more diverse content), and you have calculated a tag-based graph for each set. Do you think the diameter is a good measure for doing the comparison? Justify your answer."
   ]
  },
  {
   "cell_type": "markdown",
   "metadata": {},
   "source": [
    "The diameter would not be a good measure in a tag-based graph, since the graph is not connected and the diameter could not be defined in the sets of channels we want to consider."
   ]
  },
  {
   "cell_type": "markdown",
   "metadata": {},
   "source": [
    "5. Back to our own two graphs. Based on $G_{text}$, for each category of channels, which channel is the one most representative of the contents of all channels in that category? In other words, for each category, if you needed to provide a summary of all channels in the category via one channel, which channel would you choose? Show us (us being the exam designers and your friend) the descriptions of this channel’s two most-viewed videos. What metric did you use for this purpose? Explain your choice."
   ]
  },
  {
   "cell_type": "markdown",
   "metadata": {},
   "source": [
    "A good metric for this choice is Closeness Centrality, that is [the reciprocal of the sum of the length of the shortest paths between the node and all other nodes in the graph](https://en.wikipedia.org/wiki/Closeness_centrality#:~:text=the%20reciprocal%20of%20the%20sum%20of%20the%20length%20of%20the%20shortest%20paths%20between%20the%20node%20and%20all%20other%20nodes%20in%20the%20graph), which is a proxy of how much a node is *close* to all the others, hence similar and representative of its category."
   ]
  },
  {
   "cell_type": "code",
   "execution_count": 8,
   "metadata": {},
   "outputs": [],
   "source": [
    "# Build index -> channel dict\n",
    "index_to_channel = {k: v for v, k in channel_to_index.items()}"
   ]
  },
  {
   "cell_type": "code",
   "execution_count": 9,
   "metadata": {},
   "outputs": [],
   "source": [
    "nx.set_node_attributes(g_text, index_to_channel, 'name')\n",
    "nx.set_node_attributes(g_tags, index_to_channel, 'name')"
   ]
  },
  {
   "cell_type": "code",
   "execution_count": 10,
   "metadata": {},
   "outputs": [
    {
     "data": {
      "text/plain": [
       "[('PewDiePie', 'Gaming'),\n",
       " ('Marshmello', 'Gaming'),\n",
       " ('VanossGaming', 'Gaming'),\n",
       " ('Markiplier', 'Gaming'),\n",
       " ('jacksepticeye', 'Gaming'),\n",
       " ('Ninja', 'Gaming'),\n",
       " ('DanTDM', 'Gaming'),\n",
       " ('PopularMMOs', 'Gaming'),\n",
       " ('Ali-A', 'Gaming'),\n",
       " ('Clash of Clans', 'Gaming'),\n",
       " ('Jelly', 'Gaming'),\n",
       " ('IGN', 'Gaming'),\n",
       " ('SSundee', 'Gaming'),\n",
       " ('H2ODelirious', 'Gaming'),\n",
       " ('FGTeeV', 'Gaming'),\n",
       " ('Lachlan', 'Gaming'),\n",
       " ('The Game Theorists', 'Gaming'),\n",
       " ('Sky Does Everything', 'Gaming'),\n",
       " ('LazarBeam', 'Gaming'),\n",
       " ('Tfue', 'Gaming')]"
      ]
     },
     "execution_count": 10,
     "metadata": {},
     "output_type": "execute_result"
    }
   ],
   "source": [
    "# Build a channel -> category dict\n",
    "channel_to_cat = youtube[['channel', 'channel_cat']].drop_duplicates().set_index('channel').to_dict()['channel_cat']\n",
    "list(channel_to_cat.items())[:20]"
   ]
  },
  {
   "cell_type": "code",
   "execution_count": 11,
   "metadata": {},
   "outputs": [],
   "source": [
    "# convert to index -> category and add it as a node property\n",
    "index_to_cat = {channel_to_index[k]: v for k, v in channel_to_cat.items()}\n",
    "nx.set_node_attributes(g_text, index_to_cat, 'category')\n",
    "nx.set_node_attributes(g_tags, index_to_cat, 'category')"
   ]
  },
  {
   "cell_type": "code",
   "execution_count": 12,
   "metadata": {},
   "outputs": [
    {
     "data": {
      "text/plain": [
       "{'name': 'League of Legends', 'category': 'Gaming'}"
      ]
     },
     "execution_count": 12,
     "metadata": {},
     "output_type": "execute_result"
    }
   ],
   "source": [
    "g_text.nodes[0]"
   ]
  },
  {
   "cell_type": "code",
   "execution_count": 13,
   "metadata": {},
   "outputs": [],
   "source": [
    "nodes_gaming = [index for index, attributes in g_text.nodes(data=True) if attributes['category'] == 'Gaming']\n",
    "nodes_howto = [index for index, attributes in g_text.nodes(data=True) if attributes['category'] == 'Howto & Style']"
   ]
  },
  {
   "cell_type": "code",
   "execution_count": 14,
   "metadata": {},
   "outputs": [],
   "source": [
    "g_gaming = g_text.subgraph(nodes_gaming)\n",
    "g_howto = g_text.subgraph(nodes_howto)"
   ]
  },
  {
   "cell_type": "code",
   "execution_count": 15,
   "metadata": {},
   "outputs": [],
   "source": [
    "closeness_centrality_gaming = nx.closeness_centrality(g_gaming)\n",
    "closeness_centrality_howto = nx.closeness_centrality(g_howto)"
   ]
  },
  {
   "cell_type": "code",
   "execution_count": 16,
   "metadata": {},
   "outputs": [
    {
     "data": {
      "text/plain": [
       "[(2, 1.0),\n",
       " (16, 1.0),\n",
       " (31, 1.0),\n",
       " (33, 1.0),\n",
       " (44, 1.0),\n",
       " (51, 1.0),\n",
       " (54, 1.0),\n",
       " (55, 1.0),\n",
       " (56, 1.0),\n",
       " (71, 1.0)]"
      ]
     },
     "execution_count": 16,
     "metadata": {},
     "output_type": "execute_result"
    }
   ],
   "source": [
    "sorted(closeness_centrality_gaming.items(), key=itemgetter(1), reverse=True)[:10]"
   ]
  },
  {
   "cell_type": "code",
   "execution_count": 17,
   "metadata": {},
   "outputs": [
    {
     "data": {
      "text/plain": [
       "[(1, 1.0),\n",
       " (6, 1.0),\n",
       " (15, 1.0),\n",
       " (32, 1.0),\n",
       " (64, 1.0),\n",
       " (67, 1.0),\n",
       " (82, 1.0),\n",
       " (93, 1.0),\n",
       " (104, 1.0),\n",
       " (118, 1.0)]"
      ]
     },
     "execution_count": 17,
     "metadata": {},
     "output_type": "execute_result"
    }
   ],
   "source": [
    "sorted(closeness_centrality_howto.items(), key=itemgetter(1), reverse=True)[:10]"
   ]
  },
  {
   "cell_type": "markdown",
   "metadata": {},
   "source": [
    "We select node 2 as a proxy for the Gaming category, and node 1 as a proxy for the Howto & Style category."
   ]
  },
  {
   "cell_type": "code",
   "execution_count": 18,
   "metadata": {},
   "outputs": [
    {
     "data": {
      "text/plain": [
       "'SSundee'"
      ]
     },
     "execution_count": 18,
     "metadata": {},
     "output_type": "execute_result"
    }
   ],
   "source": [
    "index_to_channel[2]"
   ]
  },
  {
   "cell_type": "code",
   "execution_count": 19,
   "metadata": {},
   "outputs": [
    {
     "data": {
      "text/plain": [
       "array(['BajanCanadian Gets Shot in the Eye - LA Vlog w/ Team Crafted',\n",
       "       'Minecraft Mod - Plants vs Zombies 2 Mod - New Mobs and Items!!'],\n",
       "      dtype=object)"
      ]
     },
     "execution_count": 19,
     "metadata": {},
     "output_type": "execute_result"
    }
   ],
   "source": [
    "# Get titles of the two most-viewed videos of Desi Perkins\n",
    "youtube[youtube.channel == 'SSundee'].sort_values(by='view_count', ascending=False).iloc[:2].title.values"
   ]
  },
  {
   "cell_type": "code",
   "execution_count": 20,
   "metadata": {},
   "outputs": [
    {
     "data": {
      "text/plain": [
       "'Desi Perkins'"
      ]
     },
     "execution_count": 20,
     "metadata": {},
     "output_type": "execute_result"
    }
   ],
   "source": [
    "index_to_channel[1]"
   ]
  },
  {
   "cell_type": "code",
   "execution_count": 21,
   "metadata": {},
   "outputs": [
    {
     "data": {
      "text/plain": [
       "array(['EYEBROW TUTORIAL',\n",
       "       'KIM KARDASHIAN WEST MAKEUP TUTORIAL + NEW KKW PRODUCT REVEAL | DESI PERKINS'],\n",
       "      dtype=object)"
      ]
     },
     "execution_count": 21,
     "metadata": {},
     "output_type": "execute_result"
    }
   ],
   "source": [
    "# Get titles of the two most-viewed videos of Desi Perkins\n",
    "youtube[youtube.channel == 'Desi Perkins'].sort_values(by='view_count', ascending=False).iloc[:2].title.values"
   ]
  },
  {
   "cell_type": "markdown",
   "metadata": {},
   "source": [
    "## C2: Going back to categories again"
   ]
  },
  {
   "cell_type": "markdown",
   "metadata": {},
   "source": [
    "1. We want to use the two graphs to cluster channels from the same category together, and we want to compare their effectiveness at doing so. Use Kernighan-Lin bisection in the networkx package (`networkx.algorithms.community.kernighan_lin_bisection`) to divide each graph into two communities. Use 42 as the random seed. For each graph, show how many members of each category fall into each of the two communities."
   ]
  },
  {
   "cell_type": "code",
   "execution_count": 22,
   "metadata": {},
   "outputs": [],
   "source": [
    "p1_text, p2_text = nx.algorithms.community.kernighan_lin_bisection(g_text, seed=42)\n",
    "p1_tags, p2_tags = nx.algorithms.community.kernighan_lin_bisection(g_tags, seed=42)"
   ]
  },
  {
   "cell_type": "code",
   "execution_count": 23,
   "metadata": {},
   "outputs": [],
   "source": [
    "g_p1_text = g_text.subgraph(p1_text)\n",
    "g_p2_text = g_text.subgraph(p2_text)\n",
    "\n",
    "g_p1_tags = g_tags.subgraph(p1_tags)\n",
    "g_p2_tags = g_tags.subgraph(p2_tags)"
   ]
  },
  {
   "cell_type": "markdown",
   "metadata": {},
   "source": [
    "Get members of categories for the two partitions of g_text"
   ]
  },
  {
   "cell_type": "code",
   "execution_count": 34,
   "metadata": {},
   "outputs": [
    {
     "data": {
      "text/plain": [
       "Counter({'Howto & Style': 44, 'Gaming': 53})"
      ]
     },
     "execution_count": 34,
     "metadata": {},
     "output_type": "execute_result"
    }
   ],
   "source": [
    "categories_1_text = Counter(nx.get_node_attributes(g_p1_text, 'category').values())\n",
    "categories_1_text"
   ]
  },
  {
   "cell_type": "code",
   "execution_count": 35,
   "metadata": {},
   "outputs": [
    {
     "data": {
      "text/plain": [
       "Counter({'Gaming': 46, 'Howto & Style': 52})"
      ]
     },
     "execution_count": 35,
     "metadata": {},
     "output_type": "execute_result"
    }
   ],
   "source": [
    "categories_2_text = Counter(nx.get_node_attributes(g_p2_text, 'category').values())\n",
    "categories_2_text"
   ]
  },
  {
   "cell_type": "markdown",
   "metadata": {},
   "source": [
    "Get members of categories for the two partitions of g_tags"
   ]
  },
  {
   "cell_type": "code",
   "execution_count": 36,
   "metadata": {},
   "outputs": [
    {
     "data": {
      "text/plain": [
       "Counter({'Gaming': 81, 'Howto & Style': 16})"
      ]
     },
     "execution_count": 36,
     "metadata": {},
     "output_type": "execute_result"
    }
   ],
   "source": [
    "categories_1_tags = Counter(nx.get_node_attributes(g_p1_tags, 'category').values())\n",
    "categories_1_tags"
   ]
  },
  {
   "cell_type": "code",
   "execution_count": 37,
   "metadata": {},
   "outputs": [
    {
     "data": {
      "text/plain": [
       "Counter({'Howto & Style': 80, 'Gaming': 18})"
      ]
     },
     "execution_count": 37,
     "metadata": {},
     "output_type": "execute_result"
    }
   ],
   "source": [
    "categories_2_tags = Counter(nx.get_node_attributes(g_p2_tags, 'category').values())\n",
    "categories_2_tags"
   ]
  },
  {
   "cell_type": "markdown",
   "metadata": {},
   "source": [
    "2. If one of these graphs were ideal for this clustering task, what would the resulting communities look like? If it were the absolute worst possible graph for the task, what would the resulting communities look like?"
   ]
  },
  {
   "cell_type": "markdown",
   "metadata": {},
   "source": [
    "Ideally, we would want the algorithm to perfectly separate the two communities - videos of differente categories. Hence, for the perfect graph for this task, we would get two partitions containing each only videos of one category. On the other side, on the absolute worst possible graph for this task, we would get two partitions containing each approximately the same number of videos of both categories."
   ]
  },
  {
   "cell_type": "markdown",
   "metadata": {},
   "source": [
    "3. Calculate the probability $P(community|category)$ for each community and category within each graph. Design a metric, using the four $P(community|category)$ values in a graph, whose value would be 1 for the ideal graph and 0 for the worst graph. Calculate this metric for both graphs and compare the two. What do the results say about how representative tags and descriptions are regarding the channel categories? Are tags better suited, or descriptions?"
   ]
  },
  {
   "cell_type": "code",
   "execution_count": 63,
   "metadata": {},
   "outputs": [],
   "source": [
    "p1g_text = categories_1_text['Gaming'] / len(nodes_gaming)\n",
    "p1h_text = categories_1_text['Howto & Style'] / len(nodes_gaming)\n",
    "p2g_text = categories_2_text['Gaming'] / len(nodes_gaming)\n",
    "p2h_text = categories_2_text['Howto & Style'] / len(nodes_gaming)\n",
    "\n",
    "p1g_tags = categories_1_tags['Gaming'] / len(nodes_gaming)\n",
    "p1h_tags = categories_1_tags['Howto & Style'] / len(nodes_gaming)\n",
    "p2g_tags = categories_2_tags['Gaming'] / len(nodes_gaming)\n",
    "p2h_tags = categories_2_tags['Howto & Style'] / len(nodes_gaming)"
   ]
  },
  {
   "cell_type": "markdown",
   "metadata": {},
   "source": [
    "Using Bayes theorem, $P(community|category)$ = $P(category|community)$ * $P(community)$ / $P(category)$."
   ]
  },
  {
   "cell_type": "code",
   "execution_count": 66,
   "metadata": {},
   "outputs": [
    {
     "data": {
      "text/html": [
       "<div>\n",
       "<style scoped>\n",
       "    .dataframe tbody tr th:only-of-type {\n",
       "        vertical-align: middle;\n",
       "    }\n",
       "\n",
       "    .dataframe tbody tr th {\n",
       "        vertical-align: top;\n",
       "    }\n",
       "\n",
       "    .dataframe thead th {\n",
       "        text-align: right;\n",
       "    }\n",
       "</style>\n",
       "<table border=\"1\" class=\"dataframe\">\n",
       "  <thead>\n",
       "    <tr style=\"text-align: right;\">\n",
       "      <th></th>\n",
       "      <th>Gaming</th>\n",
       "      <th>Howto &amp; Style</th>\n",
       "    </tr>\n",
       "  </thead>\n",
       "  <tbody>\n",
       "    <tr>\n",
       "      <th>1</th>\n",
       "      <td>0.818182</td>\n",
       "      <td>0.161616</td>\n",
       "    </tr>\n",
       "    <tr>\n",
       "      <th>2</th>\n",
       "      <td>0.181818</td>\n",
       "      <td>0.808081</td>\n",
       "    </tr>\n",
       "  </tbody>\n",
       "</table>\n",
       "</div>"
      ],
      "text/plain": [
       "     Gaming  Howto & Style\n",
       "1  0.818182       0.161616\n",
       "2  0.181818       0.808081"
      ]
     },
     "execution_count": 66,
     "metadata": {},
     "output_type": "execute_result"
    }
   ],
   "source": [
    "Pmatrix_text = pd.DataFrame([[p1g_text, p1h_text], [p2g_text, p2h_text]], columns=['Gaming', 'Howto & Style'], index=[1, 2])\n",
    "Pmatrix_tags = pd.DataFrame([[p1g_tags, p1h_tags], [p2g_tags, p2h_tags]], columns=['Gaming', 'Howto & Style'], index=[1, 2])\n",
    "Pmatrix_tags"
   ]
  },
  {
   "cell_type": "markdown",
   "metadata": {},
   "source": [
    "A simple metric would be to compute, for each community, the difference in probabilities of belonging to the community conditional on the two categories, and then compute the average over all communities.\n",
    "$$M = \\frac{1}{2}\\sum_{community=\\{1, 2\\}} |P(community|category=\\text{'Gaming'}) - P(community|category=\\text{'Howto & Style'})|$$"
   ]
  },
  {
   "cell_type": "markdown",
   "metadata": {},
   "source": [
    "Clearly, M=1 for the optimal graph and M=0 for the worst possible graph."
   ]
  },
  {
   "cell_type": "code",
   "execution_count": 72,
   "metadata": {},
   "outputs": [],
   "source": [
    "def compute_metric(Pmatrix):\n",
    "    return abs(Pmatrix['Gaming'] - Pmatrix['Howto & Style']).mean()"
   ]
  },
  {
   "cell_type": "code",
   "execution_count": 73,
   "metadata": {},
   "outputs": [
    {
     "data": {
      "text/plain": [
       "0.0757575757575758"
      ]
     },
     "execution_count": 73,
     "metadata": {},
     "output_type": "execute_result"
    }
   ],
   "source": [
    "compute_metric(Pmatrix_text)"
   ]
  },
  {
   "cell_type": "code",
   "execution_count": 74,
   "metadata": {},
   "outputs": [
    {
     "data": {
      "text/plain": [
       "0.6414141414141414"
      ]
     },
     "execution_count": 74,
     "metadata": {},
     "output_type": "execute_result"
    }
   ],
   "source": [
    "compute_metric(Pmatrix_tags)"
   ]
  },
  {
   "cell_type": "markdown",
   "metadata": {},
   "source": [
    "The results show that tags convey much more information about categories rather than descriptions, hence are more representative. This indeed goes into the same directions of the other findings, which already revealed that tags are more diverse while descriptions are very similar for all channels regardless of their category."
   ]
  },
  {
   "cell_type": "markdown",
   "metadata": {},
   "source": [
    "4. The Kernighan-Lin bisection you used above performs a min-edge cut: It attempts to partition the nodes of the graph into two sets of almost-equal size by deleting as few edges as possible. It starts off by creating a random partition of the nodes of the graph into two sets A and B that are almost equal in size, and then iteratively and in a greedy fashion moves nodes between A and B to reduce the number of edges between A and B. Show at least one toy example of a graph where the initialization could also be the final result. (Hint: Think of how, as we explained, the bisection algorithm relies on a minimum edge cut with a random initialization; under what circumstances could the original A and B be the best partition given that graph?)"
   ]
  },
  {
   "cell_type": "code",
   "execution_count": 82,
   "metadata": {},
   "outputs": [
    {
     "data": {
      "image/png": "[encoded data removed]",
      "text/plain": [
       "<Figure size 432x288 with 1 Axes>"
      ]
     },
     "metadata": {},
     "output_type": "display_data"
    }
   ],
   "source": [
    "G_toy = nx.Graph()\n",
    "G_toy.add_edges_from([(1, 2), (2, 3), (1, 3), (3, 4), (4, 5), (5, 6), (4, 6)])\n",
    "nx.draw_spring(G_toy, with_labels=True)"
   ]
  },
  {
   "cell_type": "markdown",
   "metadata": {},
   "source": [
    "The algorithm does not need to run if the random initialization coincides with the final results, i.e. there is no node that can be moved from A to B reducing the total number of edges between the two partitions. For example, in the toy Graph depicted above, a random initialization which is already an optimal partition is A=[1, 2, 3], B=[4, 5, 6]."
   ]
  }
 ],
 "metadata": {
  "kernelspec": {
   "display_name": "Python [conda env:adaexam] *",
   "language": "python",
   "name": "conda-env-adaexam-py"
  },
  "language_info": {
   "codemirror_mode": {
    "name": "ipython",
    "version": 3
   },
   "file_extension": ".py",
   "mimetype": "text/x-python",
   "name": "python",
   "nbconvert_exporter": "python",
   "pygments_lexer": "ipython3",
   "version": "3.8.12"
  }
 },
 "nbformat": 4,
 "nbformat_minor": 4
}
