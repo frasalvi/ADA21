{
 "cells": [
  {
   "cell_type": "code",
   "execution_count": 1,
   "metadata": {
    "tags": []
   },
   "outputs": [],
   "source": [
    "import numpy as np\n",
    "import pandas as pd\n",
    "import matplotlib.pyplot as plt\n",
    "from helpers.helper_functions import *"
   ]
  },
  {
   "cell_type": "code",
   "execution_count": 6,
   "metadata": {},
   "outputs": [],
   "source": [
    "import re"
   ]
  },
  {
   "cell_type": "markdown",
   "metadata": {},
   "source": [
    "# The Significant Bang Theory\n",
    "\n",
    "Attention, ADA students!\n",
    "\n",
    "The Sheldon Cooper we all know and love (OK, some of us might not know him, and some might not love him) from the TV series \"The Big Bang Theory\" has gotten into an argument with Leonard from the same TV show. Sheldon insists that he knows the show better than anyone, and keeps making various claims about the show, which neither of them know how to prove or disprove. The two of them have reached out to you ladies and gentlemen, as data scientists, to help them. You will be given the full script of the series, with information on the episode, the scene, the person saying each dialogue line, and the dialogue lines themselves.\n",
    "\n",
    "Leonard has challenged several of Sheldon's claims about the show, and throughout this exam you will see some of those and you will get to prove or disprove them, but remember: sometimes, we can neither prove a claim, nor disprove it!\n",
    "\n",
    "## Deadline\n",
    "Wednesday, January 30th, 2019; 11:15 A.M. (Swiss time)\n",
    "\n",
    "_For the deadline for extramural exams, see the submission subsection._\n",
    "\n",
    "## Important notes\n",
    "* Don't forget to add a textual description of your thought process, the assumptions you made, and your results!\n",
    "* Please write all your comments in English, and use meaningful variable names in your code.\n",
    "* As we have seen during the semester, data science is all about multiple iterations on the same dataset. Do not obsess over small details in the beginning, and try to complete as many tasks as possible during the first 2 hours. Then, go back to the obtained results, write meaningful comments, and debug your code if you have found any glaring mistake.\n",
    "* Fully read the instructions for each question before starting to solve it to avoid misunderstandings, and remember to save your notebook often!\n",
    "* The exam contains **15 questions organised into 4 tasks**, and is designed for more than 3 hours. **You do not need to solve everything in order to get a 6**, and you have some freedom is choosing the tasks you wish to solve.\n",
    "* You cannot leave the room in the first and last 15 minutes.\n",
    "* You can use all the online resources you want except for communication tools (emails, web chats, forums, phone, etc.). We will be monitoring the network for unusual activity.\n",
    "* Remember, this is not a homework assignment -- no teamwork allowed!\n",
    "\n",
    "## Submission\n",
    "* Your file has to be named as \"NameSurname_SCIPER.ipynb\".\n",
    "* Make sure you upload your Jupyter Notebook (1 file) to [this](https://goo.gl/forms/7GLvYl94uSOn54jH2) Google form at the end of the exam, with all the cells already evaluated (except for the Spark-related question, Q7). You need to sign in to Google using your EPFL credentials in order to submit the form.\n",
    "* In case of problems with the form, send your Jupyter Notebook (along with your name and SCIPER number) as a direct message to @ramtin on Mattermost. This is reserved only for those who encounter problems with the submission -- you need to have a reasonable justification for using this back-up.\n",
    "* You will have until 11:20 (strict deadline) to turn in your submission. **Late submissions will not be accepted.** This deadline is for the students taking the exam at EPFL -- students taking the exam extramurally will have their submission deadline as the starting time of the exam plus 3 hours and 5 minutes."
   ]
  },
  {
   "cell_type": "markdown",
   "metadata": {},
   "source": [
    "## Task A: Picking up the shovel (10 points)\n",
    "\n",
    "**Note: You will use the data you preprocess in this task in all the subsequent ones.**\n",
    "\n",
    "Our friends' argument concerns the entire show. We have given you a file in the `data/` folder that contains the script of every single episode. New episodes are indicated by '>>', new scenes by '>', and the rest of the lines are dialogue lines. Some lines are said by multiple people (for example, lines indicated by 'All' or 'Together'); **you must discard these lines**, for the sake of simplicity. However, you do not need to do it for Q1 in this task -- you'll take care of it when you solve Q2.\n",
    "\n",
    "**Q1**. (5 points) Your first task is to extract all lines of dialogue in each scene and episode, creating a dataframe where each row has the episode and scene where a dialogue line was said, the character who said it, and the line itself. You do not need to extract the proper name of the episode (e.g. episode 1 can appear as \"Series 01 Episode 01 - Pilot Episode\", and doesn't need to appear as \"Pilot Episode\"). Then, answer the following question: In total, how many scenes are there in each season? We're not asking about unique scenes; the same location appearing in two episodes counts as two scenes. You can use a Pandas dataframe with a season column and a scene count column as the response.\n",
    "\n",
    "**Note: The data refers to seasons as \"series\".**"
   ]
  },
  {
   "cell_type": "code",
   "execution_count": 7,
   "metadata": {
    "tags": []
   },
   "outputs": [],
   "source": [
    "with open('data/all_scripts.txt', encoding=\"utf8\") as fs:\n",
    "    script = fs.readlines()"
   ]
  },
  {
   "cell_type": "code",
   "execution_count": 8,
   "metadata": {},
   "outputs": [],
   "source": [
    "script = [line.strip() for line in script]"
   ]
  },
  {
   "cell_type": "code",
   "execution_count": 9,
   "metadata": {},
   "outputs": [
    {
     "name": "stdout",
     "output_type": "stream",
     "text": [
      "Penny:\n"
     ]
    }
   ],
   "source": [
    "lines = []\n",
    "for line in script:\n",
    "    if line.startswith('>>'):\n",
    "        episode = line[3:]\n",
    "        season = episode[7:9]\n",
    "        continue\n",
    "    if line.startswith('>'):\n",
    "        scene = line[2:]\n",
    "        continue\n",
    "    splitting = re.split(': ', line)\n",
    "    speaker = splitting[0]\n",
    "    try:\n",
    "        text = splitting[1]\n",
    "    except:\n",
    "        print(line)\n",
    "        continue\n",
    "    lines.append({'season': season,\n",
    "                  'episode': episode,\n",
    "                  'scene': scene,\n",
    "                  'speaker': speaker,\n",
    "                  'text': text})\n",
    "    \n",
    "    \n",
    "data = pd.DataFrame(lines)"
   ]
  },
  {
   "cell_type": "code",
   "execution_count": 10,
   "metadata": {},
   "outputs": [
    {
     "data": {
      "text/html": [
       "<div>\n",
       "<style scoped>\n",
       "    .dataframe tbody tr th:only-of-type {\n",
       "        vertical-align: middle;\n",
       "    }\n",
       "\n",
       "    .dataframe tbody tr th {\n",
       "        vertical-align: top;\n",
       "    }\n",
       "\n",
       "    .dataframe thead th {\n",
       "        text-align: right;\n",
       "    }\n",
       "</style>\n",
       "<table border=\"1\" class=\"dataframe\">\n",
       "  <thead>\n",
       "    <tr style=\"text-align: right;\">\n",
       "      <th></th>\n",
       "      <th>season</th>\n",
       "      <th>episode</th>\n",
       "      <th>scene</th>\n",
       "      <th>speaker</th>\n",
       "      <th>text</th>\n",
       "    </tr>\n",
       "  </thead>\n",
       "  <tbody>\n",
       "    <tr>\n",
       "      <th>0</th>\n",
       "      <td>01</td>\n",
       "      <td>Series 01 Episode 01 – Pilot Episode</td>\n",
       "      <td>A corridor at a sperm bank.</td>\n",
       "      <td>Sheldon</td>\n",
       "      <td>So if a photon is directed through a plane wit...</td>\n",
       "    </tr>\n",
       "    <tr>\n",
       "      <th>1</th>\n",
       "      <td>01</td>\n",
       "      <td>Series 01 Episode 01 – Pilot Episode</td>\n",
       "      <td>A corridor at a sperm bank.</td>\n",
       "      <td>Leonard</td>\n",
       "      <td>Agreed, what’s your point?</td>\n",
       "    </tr>\n",
       "    <tr>\n",
       "      <th>2</th>\n",
       "      <td>01</td>\n",
       "      <td>Series 01 Episode 01 – Pilot Episode</td>\n",
       "      <td>A corridor at a sperm bank.</td>\n",
       "      <td>Sheldon</td>\n",
       "      <td>There’s no point, I just think it’s a good ide...</td>\n",
       "    </tr>\n",
       "    <tr>\n",
       "      <th>3</th>\n",
       "      <td>01</td>\n",
       "      <td>Series 01 Episode 01 – Pilot Episode</td>\n",
       "      <td>A corridor at a sperm bank.</td>\n",
       "      <td>Leonard</td>\n",
       "      <td>Excuse me?</td>\n",
       "    </tr>\n",
       "    <tr>\n",
       "      <th>4</th>\n",
       "      <td>01</td>\n",
       "      <td>Series 01 Episode 01 – Pilot Episode</td>\n",
       "      <td>A corridor at a sperm bank.</td>\n",
       "      <td>Receptionist</td>\n",
       "      <td>Hang on.</td>\n",
       "    </tr>\n",
       "    <tr>\n",
       "      <th>...</th>\n",
       "      <td>...</td>\n",
       "      <td>...</td>\n",
       "      <td>...</td>\n",
       "      <td>...</td>\n",
       "      <td>...</td>\n",
       "    </tr>\n",
       "    <tr>\n",
       "      <th>51286</th>\n",
       "      <td>10</td>\n",
       "      <td>Series 10 Episode 24 – The Long Distance Disso...</td>\n",
       "      <td>Sheldon’s office.</td>\n",
       "      <td>Ramona</td>\n",
       "      <td>Mmm. No big deal, I enjoy spending time with you.</td>\n",
       "    </tr>\n",
       "    <tr>\n",
       "      <th>51287</th>\n",
       "      <td>10</td>\n",
       "      <td>Series 10 Episode 24 – The Long Distance Disso...</td>\n",
       "      <td>Sheldon’s office.</td>\n",
       "      <td>Sheldon</td>\n",
       "      <td>And I with you. Question, are you seeking a ro...</td>\n",
       "    </tr>\n",
       "    <tr>\n",
       "      <th>51288</th>\n",
       "      <td>10</td>\n",
       "      <td>Series 10 Episode 24 – The Long Distance Disso...</td>\n",
       "      <td>Sheldon’s office.</td>\n",
       "      <td>Ramona</td>\n",
       "      <td>What if I were?</td>\n",
       "    </tr>\n",
       "    <tr>\n",
       "      <th>51289</th>\n",
       "      <td>10</td>\n",
       "      <td>Series 10 Episode 24 – The Long Distance Disso...</td>\n",
       "      <td>Sheldon’s office.</td>\n",
       "      <td>Sheldon</td>\n",
       "      <td>Well, that would raise a number of problems. W...</td>\n",
       "    </tr>\n",
       "    <tr>\n",
       "      <th>51290</th>\n",
       "      <td>10</td>\n",
       "      <td>Series 10 Episode 24 – The Long Distance Disso...</td>\n",
       "      <td>Princeton.</td>\n",
       "      <td>Sheldon</td>\n",
       "      <td>(Knock, knock, knock) Amy. (Knock, knock, knoc...</td>\n",
       "    </tr>\n",
       "  </tbody>\n",
       "</table>\n",
       "<p>51291 rows × 5 columns</p>\n",
       "</div>"
      ],
      "text/plain": [
       "      season                                            episode  \\\n",
       "0         01               Series 01 Episode 01 – Pilot Episode   \n",
       "1         01               Series 01 Episode 01 – Pilot Episode   \n",
       "2         01               Series 01 Episode 01 – Pilot Episode   \n",
       "3         01               Series 01 Episode 01 – Pilot Episode   \n",
       "4         01               Series 01 Episode 01 – Pilot Episode   \n",
       "...      ...                                                ...   \n",
       "51286     10  Series 10 Episode 24 – The Long Distance Disso...   \n",
       "51287     10  Series 10 Episode 24 – The Long Distance Disso...   \n",
       "51288     10  Series 10 Episode 24 – The Long Distance Disso...   \n",
       "51289     10  Series 10 Episode 24 – The Long Distance Disso...   \n",
       "51290     10  Series 10 Episode 24 – The Long Distance Disso...   \n",
       "\n",
       "                             scene       speaker  \\\n",
       "0      A corridor at a sperm bank.       Sheldon   \n",
       "1      A corridor at a sperm bank.       Leonard   \n",
       "2      A corridor at a sperm bank.       Sheldon   \n",
       "3      A corridor at a sperm bank.       Leonard   \n",
       "4      A corridor at a sperm bank.  Receptionist   \n",
       "...                            ...           ...   \n",
       "51286            Sheldon’s office.        Ramona   \n",
       "51287            Sheldon’s office.       Sheldon   \n",
       "51288            Sheldon’s office.        Ramona   \n",
       "51289            Sheldon’s office.       Sheldon   \n",
       "51290                   Princeton.       Sheldon   \n",
       "\n",
       "                                                    text  \n",
       "0      So if a photon is directed through a plane wit...  \n",
       "1                             Agreed, what’s your point?  \n",
       "2      There’s no point, I just think it’s a good ide...  \n",
       "3                                             Excuse me?  \n",
       "4                                               Hang on.  \n",
       "...                                                  ...  \n",
       "51286  Mmm. No big deal, I enjoy spending time with you.  \n",
       "51287  And I with you. Question, are you seeking a ro...  \n",
       "51288                                    What if I were?  \n",
       "51289  Well, that would raise a number of problems. W...  \n",
       "51290  (Knock, knock, knock) Amy. (Knock, knock, knoc...  \n",
       "\n",
       "[51291 rows x 5 columns]"
      ]
     },
     "execution_count": 10,
     "metadata": {},
     "output_type": "execute_result"
    }
   ],
   "source": [
    "data"
   ]
  },
  {
   "cell_type": "code",
   "execution_count": 11,
   "metadata": {},
   "outputs": [
    {
     "data": {
      "text/plain": [
       "season  episode                                            \n",
       "01      Series 01 Episode 01 – Pilot Episode                   12\n",
       "        Series 01 Episode 02 – The Big Bran Hypothesis         11\n",
       "        Series 01 Episode 03 – The Fuzzy Boots Corollary       11\n",
       "        Series 01 Episode 04 – The Luminous Fish Effect        14\n",
       "        Series 01 Episode 05 – The Hamburger Postulate          8\n",
       "                                                               ..\n",
       "10      Series 10 Episode 20 – The Recollection Dissipation     9\n",
       "        Series 10 Episode 21 – The Separation Agitation         7\n",
       "        Series 10 Episode 22 – The Cognition Regeneration      10\n",
       "        Series 10 Episode 23 – The Gyroscopic Collapse          9\n",
       "        Series 10 Episode 24 – The Long Distance Dissonance     9\n",
       "Name: scene, Length: 231, dtype: int64"
      ]
     },
     "execution_count": 11,
     "metadata": {},
     "output_type": "execute_result"
    }
   ],
   "source": [
    "# Build df of scene counts by episode\n",
    "scene_by_episode = data.groupby(['season', 'episode']).scene.unique().apply(lambda x: len(x))\n",
    "scene_by_episode"
   ]
  },
  {
   "cell_type": "code",
   "execution_count": 12,
   "metadata": {},
   "outputs": [
    {
     "data": {
      "text/plain": [
       "season\n",
       "01    157\n",
       "02    205\n",
       "03    193\n",
       "04    219\n",
       "05    198\n",
       "06    211\n",
       "07    207\n",
       "08    191\n",
       "09    177\n",
       "10    189\n",
       "Name: scene, dtype: int64"
      ]
     },
     "execution_count": 12,
     "metadata": {},
     "output_type": "execute_result"
    }
   ],
   "source": [
    "scene_by_episode.groupby('season').sum()"
   ]
  },
  {
   "cell_type": "markdown",
   "metadata": {},
   "source": [
    "**Q2**. (5 points) Now, let's define two sets of characters: all the characters, and recurrent characters. Recurrent characters are those who appear in more than one episode. For the subsequent sections, you will need to have a list of recurrent characters. Assume that there are no two _named characters_ (i.e. characters who have actual names and aren't referred to generically as \"little girl\", \"grumpy grandpa\", etc.) with the same name, i.e. there are no two Sheldons, etc. Generate a list of recurrent characters who have more than 90 dialogue lines in total, and then take a look at the list you have. If you've done this correctly, you should have a list of 20 names. However, one of these is clearly not a recurrent character. Manually remove that one, and print out your list of recurrent characters. To remove that character, pay attention to the _named character_ assumption we gave you earlier on. **For all the subsequent questions, you must only keep the dialogue lines said by the recurrent characters in your list.**\n",
    "\n",
    "_Hint: \"I know all the recurrent characters because I've watched the entire series five times\" is not an acceptable argument, so you need to actually generate the list._"
   ]
  },
  {
   "cell_type": "code",
   "execution_count": 13,
   "metadata": {
    "tags": []
   },
   "outputs": [
    {
     "data": {
      "text/plain": [
       "episode\n",
       "Series 01 Episode 01 – Pilot Episode                   [Sheldon, Leonard, Receptionist, Penny, Howard...\n",
       "Series 01 Episode 02 – The Big Bran Hypothesis                    [Leonard, Howard, Sheldon, Raj, Penny]\n",
       "Series 01 Episode 03 – The Fuzzy Boots Corollary       [Howard, Sheldon, Raj, Leonard, Penny, Lesley,...\n",
       "Series 01 Episode 04 – The Luminous Fish Effect        [Sheldon, Leonard, Raj, Howard, Summer, Gableh...\n",
       "Series 01 Episode 05 – The Hamburger Postulate            [Sheldon, Howard, Leonard, Raj, Penny, Lesley]\n",
       "                                                                             ...                        \n",
       "Series 10 Episode 20 – The Recollection Dissipation    [Penny, Leonard, Amy, Raj, Sheldon, Howard, St...\n",
       "Series 10 Episode 21 – The Separation Agitation        [Sheldon, Amy, Together, Howard, Raj, Leonard,...\n",
       "Series 10 Episode 22 – The Cognition Regeneration      [Leonard, Howard, Raj, Sheldon, Penny, Bernade...\n",
       "Series 10 Episode 23 – The Gyroscopic Collapse         [Penny, Leonard, Sheldon, All, Amy, Bernadette...\n",
       "Series 10 Episode 24 – The Long Distance Dissonance    [Sheldon, Amy, Howard, Leonard, Raj, Ramona, P...\n",
       "Name: speaker, Length: 231, dtype: object"
      ]
     },
     "execution_count": 13,
     "metadata": {},
     "output_type": "execute_result"
    }
   ],
   "source": [
    "# List of characters appearing in each episode\n",
    "char_by_episode = data.groupby('episode').speaker.unique()\n",
    "char_by_episode"
   ]
  },
  {
   "cell_type": "code",
   "execution_count": 14,
   "metadata": {},
   "outputs": [
    {
     "data": {
      "text/plain": [
       "[('Abby', 1),\n",
       " ('Actress', 1),\n",
       " ('Adam', 2),\n",
       " ('Air Force Officer', 1),\n",
       " ('Alex', 4),\n",
       " ('Alfred', 2),\n",
       " ('Alice', 1),\n",
       " ('Alicia', 1),\n",
       " ('All', 40),\n",
       " ('Amelia', 1)]"
      ]
     },
     "execution_count": 14,
     "metadata": {},
     "output_type": "execute_result"
    }
   ],
   "source": [
    "# Number of episodes in which each character appears\n",
    "char_nepisodes = dict(zip(*np.unique(np.concatenate(char_by_episode.values), return_counts=True)))\n",
    "list(char_nepisodes.items())[:10]"
   ]
  },
  {
   "cell_type": "code",
   "execution_count": 15,
   "metadata": {},
   "outputs": [
    {
     "data": {
      "text/plain": [
       "array(['Adam', 'Alex', 'Alfred', 'All', 'Amy', 'Arthur', 'Assistant',\n",
       "       'Barman', 'Barry', 'Bernadette', 'Bert', 'Beverley', 'Beverly',\n",
       "       'Both', 'Claire', 'Col. Williams', 'Colonel Williams', 'Dan',\n",
       "       'Dave', 'Dimitri', 'Doctor', 'Emily', 'Everyone', 'Female Voice',\n",
       "       'Gablehauser', 'Gablehouser', 'Girl', 'Girls', 'Guy', 'Howard',\n",
       "       'Howard and Bernadette', 'Howard and Raj', 'Howard’s Mother',\n",
       "       'Ira', 'Janine', 'Katee Sackhoff', 'Kevin', 'Kripke', 'Kurt',\n",
       "       'LeVar', 'Leonard', 'Leonard and Howard', 'Lesley', 'Leslie',\n",
       "       'Lucy', 'Man', 'Man on TV', 'Mary', 'Mike', 'Mr Rostenkowski',\n",
       "       'Mr. Rostenkowski', 'Mrs Cooper', 'Mrs Davis', 'Mrs Hofstadter',\n",
       "       'Mrs Koothrappali', 'Mrs Wolowitz', 'Nurse', 'Penny',\n",
       "       'Penny’s Dad', 'Policeman', 'Priya', 'Raj', 'Ramona',\n",
       "       'Receptionist', 'Santa', 'Security Guard', 'Seibert', 'Sheldon',\n",
       "       'Siri', 'Spock', 'Steph', 'Stephen Hawking', 'Stuart', 'Summer',\n",
       "       'Together', 'Voice', 'Waiter', 'Waitress', 'Wil', 'Wil Wheaton',\n",
       "       'Woman', 'Woman on TV', 'Wyatt', 'Zack'], dtype='<U21')"
      ]
     },
     "execution_count": 15,
     "metadata": {},
     "output_type": "execute_result"
    }
   ],
   "source": [
    "# Characters appearing in more than one episode\n",
    "recurrent_chars = np.array([k for k, v in char_nepisodes.items() if v > 1])\n",
    "recurrent_chars"
   ]
  },
  {
   "cell_type": "code",
   "execution_count": 16,
   "metadata": {},
   "outputs": [],
   "source": [
    "# Number of lines belonging to each character\n",
    "nlines_by_char = data.groupby('speaker').text.count()"
   ]
  },
  {
   "cell_type": "code",
   "execution_count": 248,
   "metadata": {},
   "outputs": [
    {
     "data": {
      "text/plain": [
       "Index(['Amy', 'Arthur', 'Bernadette', 'Bert', 'Beverley', 'Emily', 'Howard',\n",
       "       'Kripke', 'Leonard', 'Leslie', 'Man', 'Mrs Cooper', 'Mrs Wolowitz',\n",
       "       'Penny', 'Priya', 'Raj', 'Sheldon', 'Stuart', 'Wil', 'Zack'],\n",
       "      dtype='object', name='speaker')"
      ]
     },
     "execution_count": 248,
     "metadata": {},
     "output_type": "execute_result"
    }
   ],
   "source": [
    "prolific_chars = nlines_by_char[nlines_by_char > 90].index\n",
    "prolific_chars"
   ]
  },
  {
   "cell_type": "code",
   "execution_count": 249,
   "metadata": {},
   "outputs": [
    {
     "data": {
      "text/plain": [
       "array(['Mrs Cooper', 'Kripke', 'Leslie', 'Amy', 'Leonard', 'Sheldon',\n",
       "       'Howard', 'Stuart', 'Zack', 'Priya', 'Bert', 'Penny', 'Bernadette',\n",
       "       'Arthur', 'Raj', 'Man', 'Emily', 'Mrs Wolowitz', 'Beverley', 'Wil'],\n",
       "      dtype='<U12')"
      ]
     },
     "execution_count": 249,
     "metadata": {},
     "output_type": "execute_result"
    }
   ],
   "source": [
    "# Intersection of characters appearing in more than one episode and with more than 90 lines\n",
    "recurrent_prolific_chars = np.array(list(set(recurrent_chars) & set(prolific_chars)))\n",
    "recurrent_prolific_chars"
   ]
  },
  {
   "cell_type": "code",
   "execution_count": 256,
   "metadata": {},
   "outputs": [
    {
     "data": {
      "text/plain": [
       "19"
      ]
     },
     "execution_count": 256,
     "metadata": {},
     "output_type": "execute_result"
    }
   ],
   "source": [
    "len(recurrent_prolific_chars)"
   ]
  },
  {
   "cell_type": "markdown",
   "metadata": {},
   "source": [
    "Based on our definition of characters, 'Man' is clearly not admissible, hence must be manually removed."
   ]
  },
  {
   "cell_type": "code",
   "execution_count": 255,
   "metadata": {},
   "outputs": [],
   "source": [
    "recurrent_prolific_chars = np.delete(recurrent_prolific_chars, np.where(recurrent_prolific_chars=='Man'))"
   ]
  },
  {
   "cell_type": "code",
   "execution_count": 257,
   "metadata": {},
   "outputs": [],
   "source": [
    "data_rec = data[data.speaker.isin(recurrent_prolific_chars)].copy()"
   ]
  },
  {
   "cell_type": "markdown",
   "metadata": {},
   "source": [
    "## Task B: Read the ~~stats~~ scripts carefully (30 points)\n",
    "\n",
    "### Part 1: Don't put the shovel down just yet\n",
    "\n",
    "**Q3**. (2.5 points) From each dialogue line, replace punctuation marks (listed in the EXCLUDE_CHARS variable provided in `helpers/helper_functions.py`) with whitespaces, and lowercase all the text. **Do not remove any stopwords, leave them be for all the questions in this task.**"
   ]
  },
  {
   "cell_type": "code",
   "execution_count": 22,
   "metadata": {},
   "outputs": [],
   "source": [
    "dataB = data_rec.copy()"
   ]
  },
  {
   "cell_type": "code",
   "execution_count": 23,
   "metadata": {},
   "outputs": [],
   "source": [
    "from string import punctuation\n",
    "\n",
    "EXCLUDE_CHARS = set(punctuation).union(set('’'))"
   ]
  },
  {
   "cell_type": "code",
   "execution_count": 24,
   "metadata": {},
   "outputs": [],
   "source": [
    "dataB.text = dataB.text.apply(lambda s: ''.join([char.lower() if char not in EXCLUDE_CHARS else ' ' for char in s]))"
   ]
  },
  {
   "cell_type": "code",
   "execution_count": 25,
   "metadata": {},
   "outputs": [
    {
     "data": {
      "text/plain": [
       "0        so if a photon is directed through a plane wit...\n",
       "1                               agreed  what s your point \n",
       "2        there s no point  i just think it s a good ide...\n",
       "3                                               excuse me \n",
       "5        one across is aegean  eight down is nabakov  t...\n",
       "                               ...                        \n",
       "51283    uh  breakfast yes  lunch no  i did have a coug...\n",
       "51285                           how thoughtful  thank you \n",
       "51287    and i with you  question  are you seeking a ro...\n",
       "51289    well  that would raise a number of problems  w...\n",
       "51290     knock  knock  knock  amy   knock  knock  knoc...\n",
       "Name: text, Length: 48324, dtype: object"
      ]
     },
     "execution_count": 25,
     "metadata": {},
     "output_type": "execute_result"
    }
   ],
   "source": [
    "dataB.text"
   ]
  },
  {
   "cell_type": "markdown",
   "metadata": {},
   "source": [
    "**Q4**. (5 points) For each term, calculate its \"corpus frequency\", i.e. its number of occurrences in the entire series. Visualize the distribution of corpus frequency using a histogram. Explain your observations. What are the appropriate x and y scales for this plot?"
   ]
  },
  {
   "cell_type": "code",
   "execution_count": 26,
   "metadata": {},
   "outputs": [],
   "source": [
    "from collections import Counter\n",
    "import seaborn as sns\n",
    "from operator import itemgetter"
   ]
  },
  {
   "cell_type": "code",
   "execution_count": 27,
   "metadata": {
    "tags": []
   },
   "outputs": [],
   "source": [
    "full_text = ' '.join(dataB.text.values)"
   ]
  },
  {
   "cell_type": "code",
   "execution_count": 28,
   "metadata": {},
   "outputs": [
    {
     "data": {
      "text/plain": [
       "[('so', 3182),\n",
       " ('if', 2484),\n",
       " ('a', 13488),\n",
       " ('photon', 4),\n",
       " ('is', 5427),\n",
       " ('directed', 3),\n",
       " ('through', 276),\n",
       " ('plane', 25),\n",
       " ('with', 3937),\n",
       " ('two', 701)]"
      ]
     },
     "execution_count": 28,
     "metadata": {},
     "output_type": "execute_result"
    }
   ],
   "source": [
    "# Count number of occurrences for each term\n",
    "word_frequencies = Counter(full_text.split(' '))\n",
    "list(word_frequencies.items())[:10]"
   ]
  },
  {
   "cell_type": "code",
   "execution_count": 29,
   "metadata": {},
   "outputs": [],
   "source": [
    "frequencies = list(word_frequencies.values())"
   ]
  },
  {
   "cell_type": "code",
   "execution_count": 30,
   "metadata": {},
   "outputs": [],
   "source": [
    "histvalues = sorted(Counter(frequencies).items(), key=itemgetter(1), reverse=True)\n",
    "histx, histy = list(zip(*histvalues))"
   ]
  },
  {
   "cell_type": "code",
   "execution_count": 31,
   "metadata": {},
   "outputs": [
    {
     "data": {
      "image/png": "[encoded data removed]",
      "text/plain": [
       "<Figure size 432x288 with 1 Axes>"
      ]
     },
     "metadata": {
      "needs_background": "light"
     },
     "output_type": "display_data"
    }
   ],
   "source": [
    "plt.hist(frequencies, bins=np.logspace(0, 6, 100), log=True);\n",
    "plt.xscale('log')"
   ]
  },
  {
   "cell_type": "markdown",
   "metadata": {},
   "source": [
    "The appropriate scale is loglog. We are observing a power low, which is typical for word occurrences."
   ]
  },
  {
   "cell_type": "markdown",
   "metadata": {},
   "source": [
    "### Part 2: Talkativity\n",
    "**Q5**. (2.5 points) For each of the recurrent characters, calculate their total number of words uttered across all episodes. Based on this, who seems to be the most talkative character?"
   ]
  },
  {
   "cell_type": "code",
   "execution_count": 32,
   "metadata": {
    "tags": []
   },
   "outputs": [],
   "source": [
    "# add a new column with the number of words per line\n",
    "dataB['nwords'] = dataB.text.apply(lambda x: len(x.split(' ')))"
   ]
  },
  {
   "cell_type": "code",
   "execution_count": 33,
   "metadata": {},
   "outputs": [
    {
     "data": {
      "text/plain": [
       "speaker\n",
       "Sheldon         222487\n",
       "Leonard         125874\n",
       "Penny            99459\n",
       "Howard           84378\n",
       "Raj              72941\n",
       "Amy              47929\n",
       "Bernadette       33489\n",
       "Stuart            9769\n",
       "Mrs Cooper        4060\n",
       "Beverley          2447\n",
       "Priya             2424\n",
       "Arthur            1933\n",
       "Emily             1930\n",
       "Zack              1775\n",
       "Mrs Wolowitz      1757\n",
       "Man               1552\n",
       "Leslie            1541\n",
       "Kripke            1538\n",
       "Bert              1407\n",
       "Name: nwords, dtype: int64"
      ]
     },
     "execution_count": 33,
     "metadata": {},
     "output_type": "execute_result"
    }
   ],
   "source": [
    "words_by_speaker = dataB.groupby('speaker').nwords.sum().sort_values(ascending=False)\n",
    "words_by_speaker"
   ]
  },
  {
   "cell_type": "markdown",
   "metadata": {},
   "source": [
    "The most talkative character seems to be Sheldon! (unsurprisingly...)"
   ]
  },
  {
   "cell_type": "markdown",
   "metadata": {},
   "source": [
    "**Q6**. (12.5 points) For each of the recurrent characters, calculate their total number of words uttered per episode (ignoring episodes that the character does not appear in), and calculate a **robust summary statistic** for the word count distribution of each person.\n",
    "\n",
    "&nbsp;&nbsp;&nbsp;&nbsp;&nbsp;&nbsp;**i)** (2.5 points) What changes do you observe, compared to the analysis in Q5?\n",
    "\n",
    "&nbsp;&nbsp;&nbsp;&nbsp;&nbsp;&nbsp;**ii)** (2.5 points) Why is this analysis an improvement over the previous one, and how could you improve it even further? _Hint: The improvement involves making your unit for word counts even more granular - you can go further down than episodes._\n",
    "\n",
    "&nbsp;&nbsp;&nbsp;&nbsp;&nbsp;&nbsp;**iii)** (7.5 points) Incorporate that improvement. Do you still see the same results? How **confident** can you be that the \"most talkative\" person given by this twice improved method is really more talkative than the second most talkative one? _Hint: Read the question again. A good idea would be to use bootstrapping and calculate your summary statistic on each bootstrapped set._"
   ]
  },
  {
   "cell_type": "code",
   "execution_count": 34,
   "metadata": {
    "tags": []
   },
   "outputs": [
    {
     "data": {
      "text/plain": [
       "speaker  episode                                            \n",
       "Amy      Series 03 Episode 23 – The Lunar Excitation            120\n",
       "         Series 04 Episode 01 – The Robotic Manipulation        170\n",
       "         Series 04 Episode 03 – The Zazzy Substitution          566\n",
       "         Series 04 Episode 05 – The Desperation Emanation       274\n",
       "         Series 04 Episode 08 – The 21 Second Excitation        716\n",
       "                                                               ... \n",
       "Zack     Series 04 Episode 17 – The Toast Derivation            196\n",
       "         Series 07 Episode 09 – The Thanksgiving Decoupling     151\n",
       "         Series 07 Episode 11 – The Cooper Extraction            24\n",
       "         Series 09 Episode 22 – The Fermentation Bifurcation    266\n",
       "         Series 10 Episode 22 – The Cognition Regeneration      347\n",
       "Name: nwords, Length: 1651, dtype: int64"
      ]
     },
     "execution_count": 34,
     "metadata": {},
     "output_type": "execute_result"
    }
   ],
   "source": [
    "words_by_char_episode = dataB.groupby(['speaker', 'episode']).nwords.sum()\n",
    "words_by_char_episode"
   ]
  },
  {
   "cell_type": "code",
   "execution_count": 35,
   "metadata": {},
   "outputs": [
    {
     "data": {
      "text/plain": [
       "speaker\n",
       "Sheldon         936.0\n",
       "Leonard         486.0\n",
       "Arthur          437.5\n",
       "Penny           402.0\n",
       "Mrs Cooper      356.5\n",
       "Howard          352.0\n",
       "Amy             278.0\n",
       "Raj             267.5\n",
       "Bert            245.5\n",
       "Beverley        226.0\n",
       "Kripke          197.5\n",
       "Bernadette      193.0\n",
       "Priya           182.0\n",
       "Zack            173.5\n",
       "Stuart          142.0\n",
       "Leslie          139.0\n",
       "Emily           109.0\n",
       "Mrs Wolowitz     49.0\n",
       "Man              15.5\n",
       "Name: nwords, dtype: float64"
      ]
     },
     "execution_count": 35,
     "metadata": {},
     "output_type": "execute_result"
    }
   ],
   "source": [
    "words_by_char_episode.groupby('speaker').median().sort_values(ascending=False)"
   ]
  },
  {
   "cell_type": "markdown",
   "metadata": {},
   "source": [
    "With respect to Q5 we observe significant differences in the order, with characters such as Arthur or Bert which previously were at the bottom of the list now in much higher positions, or viceversa others such as Bernadette which lost positions. Note that the summary statistic used is the median, which is robust to eventual outliers."
   ]
  },
  {
   "cell_type": "markdown",
   "metadata": {},
   "source": [
    "The improvement is due to the fact that we are considering single episodes instead of aggregating between all of them. In fact, aggregating over all episodes is privileging characters that appear in a lot of episodes, but potentially saying very little in each episode. Instead, considering single episodes allows us to evaluate talkativeness proportionally to how much a character appeared in the show. Continuing further in this direction, we could consider the distribution over single scenes instead of aggregating all of them within each episode."
   ]
  },
  {
   "cell_type": "code",
   "execution_count": 36,
   "metadata": {},
   "outputs": [],
   "source": [
    "import scipy.stats"
   ]
  },
  {
   "cell_type": "code",
   "execution_count": 37,
   "metadata": {},
   "outputs": [],
   "source": [
    "words_by_char_scene = dataB.groupby(['speaker', 'episode', 'scene']).nwords.sum()"
   ]
  },
  {
   "cell_type": "code",
   "execution_count": 38,
   "metadata": {},
   "outputs": [],
   "source": [
    "# Compute medians\n",
    "words_by_char_scene_medians = pd.DataFrame(words_by_char_scene.groupby('speaker').median()).rename({'nwords': 'median'})"
   ]
  },
  {
   "cell_type": "code",
   "execution_count": 39,
   "metadata": {},
   "outputs": [],
   "source": [
    "# Compute bootstrapped medians\n",
    "words_by_char_scene_medians['bootstrap'] = words_by_char_scene.groupby('speaker').apply(\n",
    "    lambda x: scipy.stats.bootstrap([x.values], method='percentile',\n",
    "                                    statistic=np.median, confidence_level=0.95).confidence_interval)"
   ]
  },
  {
   "cell_type": "code",
   "execution_count": 40,
   "metadata": {},
   "outputs": [
    {
     "data": {
      "text/html": [
       "<div>\n",
       "<style scoped>\n",
       "    .dataframe tbody tr th:only-of-type {\n",
       "        vertical-align: middle;\n",
       "    }\n",
       "\n",
       "    .dataframe tbody tr th {\n",
       "        vertical-align: top;\n",
       "    }\n",
       "\n",
       "    .dataframe thead th {\n",
       "        text-align: right;\n",
       "    }\n",
       "</style>\n",
       "<table border=\"1\" class=\"dataframe\">\n",
       "  <thead>\n",
       "    <tr style=\"text-align: right;\">\n",
       "      <th></th>\n",
       "      <th>nwords</th>\n",
       "      <th>bootstrap</th>\n",
       "    </tr>\n",
       "    <tr>\n",
       "      <th>speaker</th>\n",
       "      <th></th>\n",
       "      <th></th>\n",
       "    </tr>\n",
       "  </thead>\n",
       "  <tbody>\n",
       "    <tr>\n",
       "      <th>Mrs Cooper</th>\n",
       "      <td>155.0</td>\n",
       "      <td>(97.0, 197.0)</td>\n",
       "    </tr>\n",
       "    <tr>\n",
       "      <th>Arthur</th>\n",
       "      <td>150.5</td>\n",
       "      <td>(101.0, 257.0)</td>\n",
       "    </tr>\n",
       "    <tr>\n",
       "      <th>Sheldon</th>\n",
       "      <td>140.0</td>\n",
       "      <td>(133.0, 148.0)</td>\n",
       "    </tr>\n",
       "    <tr>\n",
       "      <th>Beverley</th>\n",
       "      <td>127.0</td>\n",
       "      <td>(60.0, 201.0)</td>\n",
       "    </tr>\n",
       "    <tr>\n",
       "      <th>Bert</th>\n",
       "      <td>106.0</td>\n",
       "      <td>(49.0, 143.0)</td>\n",
       "    </tr>\n",
       "    <tr>\n",
       "      <th>Penny</th>\n",
       "      <td>87.0</td>\n",
       "      <td>(82.0, 96.0)</td>\n",
       "    </tr>\n",
       "    <tr>\n",
       "      <th>Leonard</th>\n",
       "      <td>82.0</td>\n",
       "      <td>(77.0, 88.0)</td>\n",
       "    </tr>\n",
       "    <tr>\n",
       "      <th>Amy</th>\n",
       "      <td>78.0</td>\n",
       "      <td>(69.0, 89.0)</td>\n",
       "    </tr>\n",
       "    <tr>\n",
       "      <th>Zack</th>\n",
       "      <td>78.0</td>\n",
       "      <td>(42.5, 106.5)</td>\n",
       "    </tr>\n",
       "    <tr>\n",
       "      <th>Howard</th>\n",
       "      <td>77.0</td>\n",
       "      <td>(72.0, 81.0)</td>\n",
       "    </tr>\n",
       "    <tr>\n",
       "      <th>Raj</th>\n",
       "      <td>71.0</td>\n",
       "      <td>(67.0, 75.0)</td>\n",
       "    </tr>\n",
       "    <tr>\n",
       "      <th>Leslie</th>\n",
       "      <td>70.0</td>\n",
       "      <td>(37.0, 117.0)</td>\n",
       "    </tr>\n",
       "    <tr>\n",
       "      <th>Kripke</th>\n",
       "      <td>69.5</td>\n",
       "      <td>(41.5, 92.5)</td>\n",
       "    </tr>\n",
       "    <tr>\n",
       "      <th>Stuart</th>\n",
       "      <td>64.0</td>\n",
       "      <td>(49.0, 77.0)</td>\n",
       "    </tr>\n",
       "    <tr>\n",
       "      <th>Bernadette</th>\n",
       "      <td>63.0</td>\n",
       "      <td>(56.0, 70.0)</td>\n",
       "    </tr>\n",
       "    <tr>\n",
       "      <th>Priya</th>\n",
       "      <td>54.0</td>\n",
       "      <td>(23.0, 76.0)</td>\n",
       "    </tr>\n",
       "    <tr>\n",
       "      <th>Emily</th>\n",
       "      <td>44.0</td>\n",
       "      <td>(39.0, 53.0)</td>\n",
       "    </tr>\n",
       "    <tr>\n",
       "      <th>Mrs Wolowitz</th>\n",
       "      <td>32.0</td>\n",
       "      <td>(21.0, 53.0)</td>\n",
       "    </tr>\n",
       "    <tr>\n",
       "      <th>Man</th>\n",
       "      <td>18.5</td>\n",
       "      <td>(8.0, 39.0)</td>\n",
       "    </tr>\n",
       "  </tbody>\n",
       "</table>\n",
       "</div>"
      ],
      "text/plain": [
       "              nwords       bootstrap\n",
       "speaker                             \n",
       "Mrs Cooper     155.0   (97.0, 197.0)\n",
       "Arthur         150.5  (101.0, 257.0)\n",
       "Sheldon        140.0  (133.0, 148.0)\n",
       "Beverley       127.0   (60.0, 201.0)\n",
       "Bert           106.0   (49.0, 143.0)\n",
       "Penny           87.0    (82.0, 96.0)\n",
       "Leonard         82.0    (77.0, 88.0)\n",
       "Amy             78.0    (69.0, 89.0)\n",
       "Zack            78.0   (42.5, 106.5)\n",
       "Howard          77.0    (72.0, 81.0)\n",
       "Raj             71.0    (67.0, 75.0)\n",
       "Leslie          70.0   (37.0, 117.0)\n",
       "Kripke          69.5    (41.5, 92.5)\n",
       "Stuart          64.0    (49.0, 77.0)\n",
       "Bernadette      63.0    (56.0, 70.0)\n",
       "Priya           54.0    (23.0, 76.0)\n",
       "Emily           44.0    (39.0, 53.0)\n",
       "Mrs Wolowitz    32.0    (21.0, 53.0)\n",
       "Man             18.5     (8.0, 39.0)"
      ]
     },
     "execution_count": 40,
     "metadata": {},
     "output_type": "execute_result"
    }
   ],
   "source": [
    "words_by_char_scene_medians.sort_values(by='nwords', ascending=False)"
   ]
  },
  {
   "cell_type": "markdown",
   "metadata": {},
   "source": [
    "Again, considering single scene changed significantly our results, and now Mrs Cooper and Arthur are on top. However, we see that 95% confidence intervals of the most talkative characters are hugely overlapping, hence with this approach we cannot establish in a statistically significant way who is the single most talkative character."
   ]
  },
  {
   "cell_type": "markdown",
   "metadata": {},
   "source": [
    "### Part 3: Obligatory Spark cameo\n",
    "**Q7**. (7.5 points) Write a Spark script that does the following: Given the raw input file and your list of recurrent characters, create an RDD containing (speaker, dialogue line) rows **only for the recurrent characters** (assume that you already have the list --  no need to calculate it using Spark), and then generate a vectorized bag of words representation for each dialogue line, thus generating an RDD with (speaker, bag of words vector) rows. Then, calculate an aggregated bag of words vector (sum of all vectors) for each person. The final output is therefore an RDD with each of its rows being (speaker, aggregated bag of words vector). For your bag of words vectors, you can use $1\\times|V|$ scipy CSR matrices (where $|V|$ is the size of the vocabulary). No filtering of the vocabulary is necessary for this part.\n",
    "\n",
    "You do not need to run this script, but you do need to use Spark logic and also, the syntax needs to be correct."
   ]
  },
  {
   "cell_type": "code",
   "execution_count": 333,
   "metadata": {},
   "outputs": [],
   "source": [
    "from pyspark.sql import *\n",
    "from pyspark.sql.functions import *\n",
    "from pyspark import SparkContext"
   ]
  },
  {
   "cell_type": "code",
   "execution_count": 334,
   "metadata": {
    "tags": []
   },
   "outputs": [],
   "source": [
    "# create the session\n",
    "spark = SparkSession.builder.getOrCreate()\n",
    "\n",
    "# create the context\n",
    "sc = spark.sparkContext"
   ]
  },
  {
   "cell_type": "markdown",
   "metadata": {},
   "source": [
    "## Task C: The Gossip Graph (30 points)\n",
    "\n",
    "**Note: Only for this task, discard the recurrent characters whose names are not single words, e.g. Mrs. Cooper.**\n",
    "\n",
    "Let us define _gossip_ as follows: if a dialogue line of character A mentions B by name in a scene that does not involve character B, we say that “A gossips about B” in that line. Multiple mentions of the same person in a single line are counted once, but a character can gossip about several others in the same line. For the sake of simplicity, we only consider gossips where the name of the recurrent character is mentioned as it appears in our list of characters; for example, if someone says \"Cooper\" and they mean Sheldon, we discard that.\n",
    "\n",
    "**Q8**. (12.5 points) Create the two following graphs first:\n",
    "\n",
    "1. (5 points) Create the _familiarity graph_, an undirected weighted graph, in which there is a node for each recurrent character, and an edge between two characters if they appear together in at least one scene. The weight of the edge between them is the number of scenes they appear in together. If an edge exists between two people in the familiarity graph, we say that they \"know each other\".\n",
    "2. (7.5 points) Create the _gossip graph_, which is a directed weighted graph, in which there there is a node for each recurrent character, and a directed edge from the node for A to the node for B if A has gossiped about B at least once. The weight of the edge is the number of scenes in which A has gossiped about B.\n",
    "\n",
    "_Hint: You can create each graph first as an adjacency matrix and then create a networkx graph out of that._"
   ]
  },
  {
   "cell_type": "code",
   "execution_count": 258,
   "metadata": {
    "tags": []
   },
   "outputs": [],
   "source": [
    "dataC = data_rec.copy()"
   ]
  },
  {
   "cell_type": "code",
   "execution_count": 259,
   "metadata": {},
   "outputs": [],
   "source": [
    "recurrent_prolific_chars_1word = [char for char in recurrent_prolific_chars if len(char.split(' ')) == 1]"
   ]
  },
  {
   "cell_type": "code",
   "execution_count": 260,
   "metadata": {},
   "outputs": [],
   "source": [
    "# Keep only recurrent character whose name is one word only\n",
    "dataC = dataC[dataC.speaker.isin(recurrent_prolific_chars_1word)]"
   ]
  },
  {
   "cell_type": "code",
   "execution_count": 261,
   "metadata": {},
   "outputs": [],
   "source": [
    "# List of unique speakers for each scene\n",
    "speakers_by_scene = dataC.groupby(['episode', 'scene']).speaker.unique()"
   ]
  },
  {
   "cell_type": "code",
   "execution_count": 262,
   "metadata": {},
   "outputs": [],
   "source": [
    "# Initialize dict of character -> dict of character -> number of scenes in which they appear toghether\n",
    "familiarity = {char: {char_: 0 for char_ in recurrent_prolific_chars_1word if char_ is not char} for char in recurrent_prolific_chars_1word}\n",
    "\n",
    "# Populate the counts\n",
    "for scene_speakers in speakers_by_scene:\n",
    "    for i, speaker1 in enumerate(scene_speakers):\n",
    "        for speaker2 in scene_speakers[i+1:]:\n",
    "            familiarity[speaker1][speaker2] += 1\n",
    "            familiarity[speaker2][speaker1] += 1 # not really necessary since it's an undirected graph"
   ]
  },
  {
   "cell_type": "code",
   "execution_count": 263,
   "metadata": {},
   "outputs": [
    {
     "data": {
      "text/plain": [
       "[('Kripke', 'Amy', 1),\n",
       " ('Kripke', 'Leonard', 14),\n",
       " ('Kripke', 'Sheldon', 18),\n",
       " ('Kripke', 'Howard', 9),\n",
       " ('Kripke', 'Stuart', 2),\n",
       " ('Kripke', 'Penny', 1),\n",
       " ('Kripke', 'Raj', 12),\n",
       " ('Kripke', 'Wil', 2),\n",
       " ('Leslie', 'Amy', 1),\n",
       " ('Leslie', 'Leonard', 14)]"
      ]
     },
     "execution_count": 263,
     "metadata": {},
     "output_type": "execute_result"
    }
   ],
   "source": [
    "# Convert dictionary to edges representation, removing empty edges\n",
    "familiarity_edges = [(s1, s2, w) for s1, values in familiarity.items() for s2, w in values.items() if w>0]\n",
    "familiarity_edges[:10]"
   ]
  },
  {
   "cell_type": "code",
   "execution_count": 264,
   "metadata": {},
   "outputs": [],
   "source": [
    "import networkx as nx"
   ]
  },
  {
   "cell_type": "code",
   "execution_count": 265,
   "metadata": {},
   "outputs": [],
   "source": [
    "G_familiarity = nx.Graph()\n",
    "G_familiarity.add_weighted_edges_from(familiarity_edges)"
   ]
  },
  {
   "cell_type": "code",
   "execution_count": 266,
   "metadata": {},
   "outputs": [],
   "source": [
    "gossip = {}\n",
    "\n",
    "# Create a episode-scene list\n",
    "scenes_list = list(map(lambda x: ''.join(x), dataC[['episode', 'scene']].values))\n",
    "\n",
    "for character in recurrent_prolific_chars_1word:\n",
    "    \n",
    "    # Get a list of all scenes in which character appears\n",
    "    is_appearing = speakers_by_scene.apply(lambda x: character in x)\n",
    "    scenes_appearing = list(map(lambda x: ''.join(x), is_appearing[is_appearing].index))\n",
    "    \n",
    "    # Create masking\n",
    "    mask = list(map(lambda x: x not in scenes_appearing, scenes_list))\n",
    "    \n",
    "    df_gossip = dataC[mask]\n",
    "    \n",
    "    groups = df_gossip.groupby(['episode', 'scene', 'speaker'])\n",
    "\n",
    "    # list of speaker -> number of times character gossiped about speaker\n",
    "    gossiped = groups.text.apply(lambda x: character in ' '.join(x)).groupby('speaker').sum()\n",
    "    gossip[character] = gossiped.to_dict()"
   ]
  },
  {
   "cell_type": "code",
   "execution_count": 267,
   "metadata": {},
   "outputs": [
    {
     "data": {
      "text/plain": [
       "[('Kripke', 'Amy', 3),\n",
       " ('Kripke', 'Howard', 1),\n",
       " ('Kripke', 'Leonard', 5),\n",
       " ('Kripke', 'Penny', 1),\n",
       " ('Kripke', 'Raj', 2),\n",
       " ('Kripke', 'Sheldon', 12),\n",
       " ('Leslie', 'Howard', 3),\n",
       " ('Leslie', 'Leonard', 2),\n",
       " ('Leslie', 'Penny', 1),\n",
       " ('Leslie', 'Raj', 1)]"
      ]
     },
     "execution_count": 267,
     "metadata": {},
     "output_type": "execute_result"
    }
   ],
   "source": [
    "# Convert dictionary to edges representation, removing empty edges\n",
    "gossip_edges = [(s1, s2, w) for s1, values in gossip.items() for s2, w in values.items() if w>0]\n",
    "gossip_edges[:10]"
   ]
  },
  {
   "cell_type": "code",
   "execution_count": 268,
   "metadata": {},
   "outputs": [],
   "source": [
    "G_gossip = nx.DiGraph()\n",
    "G_gossip.add_weighted_edges_from(gossip_edges)"
   ]
  },
  {
   "cell_type": "markdown",
   "metadata": {},
   "source": [
    "Now, answer the following questions:\n",
    "\n",
    "**Q9**. (5 points) Sheldon claims that every character in the show is familiar with everyone else through at most one intermediary. Based on the familiarity graph, is this true? If not, at most how many intermediaries are needed?"
   ]
  },
  {
   "cell_type": "code",
   "execution_count": 269,
   "metadata": {},
   "outputs": [
    {
     "data": {
      "image/png": "[encoded data removed]",
      "text/plain": [
       "<Figure size 432x288 with 1 Axes>"
      ]
     },
     "metadata": {},
     "output_type": "display_data"
    }
   ],
   "source": [
    "nx.draw_spring(G_familiarity, with_labels=True)"
   ]
  },
  {
   "cell_type": "code",
   "execution_count": 270,
   "metadata": {},
   "outputs": [
    {
     "data": {
      "text/plain": [
       "True"
      ]
     },
     "execution_count": 270,
     "metadata": {},
     "output_type": "execute_result"
    }
   ],
   "source": [
    "nx.is_connected(G_familiarity)"
   ]
  },
  {
   "cell_type": "code",
   "execution_count": 271,
   "metadata": {
    "tags": []
   },
   "outputs": [
    {
     "data": {
      "text/plain": [
       "2"
      ]
     },
     "execution_count": 271,
     "metadata": {},
     "output_type": "execute_result"
    }
   ],
   "source": [
    "nx.diameter(G_familiarity)"
   ]
  },
  {
   "cell_type": "markdown",
   "metadata": {},
   "source": [
    "Sheldon is (as always) right! The graph is connected with diameter 2, hence the longest shortest path between any two characters involves one intermediate."
   ]
  },
  {
   "cell_type": "markdown",
   "metadata": {},
   "source": [
    "**Q10**. (5 points) Who is the character through whom the largest number of these indirect familiarities happen? Calculate an appropriate centrality metric on the familiarity graph to answer this question. You can use the package networkx for this section."
   ]
  },
  {
   "cell_type": "code",
   "execution_count": 272,
   "metadata": {
    "tags": []
   },
   "outputs": [],
   "source": [
    "betweenness = nx.betweenness_centrality(G_familiarity)"
   ]
  },
  {
   "cell_type": "code",
   "execution_count": 273,
   "metadata": {},
   "outputs": [],
   "source": [
    "from operator import itemgetter"
   ]
  },
  {
   "cell_type": "code",
   "execution_count": 274,
   "metadata": {},
   "outputs": [
    {
     "data": {
      "text/plain": [
       "[('Amy', 0.04351851851851851),\n",
       " ('Leonard', 0.04351851851851851),\n",
       " ('Sheldon', 0.04351851851851851),\n",
       " ('Howard', 0.04351851851851851),\n",
       " ('Penny', 0.04351851851851851),\n",
       " ('Raj', 0.04351851851851851),\n",
       " ('Stuart', 0.019708994708994704),\n",
       " ('Bernadette', 0.01316137566137566),\n",
       " ('Wil', 0.006018518518518519),\n",
       " ('Kripke', 0.0),\n",
       " ('Leslie', 0.0),\n",
       " ('Beverley', 0.0),\n",
       " ('Zack', 0.0),\n",
       " ('Priya', 0.0),\n",
       " ('Bert', 0.0),\n",
       " ('Arthur', 0.0),\n",
       " ('Emily', 0.0)]"
      ]
     },
     "execution_count": 274,
     "metadata": {},
     "output_type": "execute_result"
    }
   ],
   "source": [
    "sorted(betweenness.items(), key=itemgetter(1), reverse=True)"
   ]
  },
  {
   "cell_type": "markdown",
   "metadata": {},
   "source": [
    "The appropriate metric is betweenness centrality, measuring the number of shortest paths passing through each node. There is an ex-aequo for the character trough whom the largest number of indirect familiarities happen, between Amy, Leonard, Sheldon, Howard, Penny and Raj."
   ]
  },
  {
   "cell_type": "markdown",
   "metadata": {},
   "source": [
    "**Q11**. (2.5 points) Another claim of Sheldon's is that every recurrent character in the show gossips about all the other recurrent characters. What property of the gossip graph would correspond to this? Does the gossip graph possess that property? If not, then is it the case that for every pair of recurrent characters, at least one gossips about the other? What property would this correspond to?"
   ]
  },
  {
   "cell_type": "markdown",
   "metadata": {
    "jupyter": {
     "outputs_hidden": true
    }
   },
   "source": [
    "The property corresponding to Sheldon's claim is completeness, that is if the graph has an edge between every ordered pair of characters."
   ]
  },
  {
   "cell_type": "code",
   "execution_count": 275,
   "metadata": {},
   "outputs": [
    {
     "data": {
      "image/png": "[encoded data removed]",
      "text/plain": [
       "<Figure size 432x288 with 1 Axes>"
      ]
     },
     "metadata": {},
     "output_type": "display_data"
    }
   ],
   "source": [
    "nx.draw_spring(G_gossip, with_labels=True)"
   ]
  },
  {
   "cell_type": "code",
   "execution_count": 279,
   "metadata": {},
   "outputs": [
    {
     "name": "stdout",
     "output_type": "stream",
     "text": [
      "The gossip graph has 17 nodes and 120 edges. To be complete, it would need 272 edges.\n"
     ]
    }
   ],
   "source": [
    "nedges = len(G_gossip.edges)\n",
    "nnodes = len(G_gossip.nodes)\n",
    "\n",
    "print(f'The gossip graph has {nnodes} nodes and {nedges} edges. To be complete, it would need {nnodes*(nnodes-1)} edges.')"
   ]
  },
  {
   "cell_type": "markdown",
   "metadata": {},
   "source": [
    "The graph is not complete, and the property is not satisfied. The second claim corresponds to the completeness of the underlying undirected graph. "
   ]
  },
  {
   "cell_type": "code",
   "execution_count": 281,
   "metadata": {},
   "outputs": [],
   "source": [
    "G_gossip_undir = G_gossip.to_undirected()"
   ]
  },
  {
   "cell_type": "code",
   "execution_count": 285,
   "metadata": {},
   "outputs": [
    {
     "data": {
      "image/png": "[encoded data removed]",
      "text/plain": [
       "<Figure size 432x288 with 1 Axes>"
      ]
     },
     "metadata": {},
     "output_type": "display_data"
    }
   ],
   "source": [
    "nx.draw_spring(G_gossip_undir, with_labels=True)"
   ]
  },
  {
   "cell_type": "code",
   "execution_count": 283,
   "metadata": {},
   "outputs": [
    {
     "name": "stdout",
     "output_type": "stream",
     "text": [
      "The undirected gossip graph has 17 nodes and 80 edges. To be complete, it would need 136.0 edges.\n"
     ]
    }
   ],
   "source": [
    "nedges = len(G_gossip_undir.edges)\n",
    "nnodes = len(G_gossip_undir.nodes)\n",
    "\n",
    "print(f'The undirected gossip graph has {nnodes} nodes and {nedges} edges. To be complete, it would need {nnodes*(nnodes-1)/2} edges.')"
   ]
  },
  {
   "cell_type": "markdown",
   "metadata": {},
   "source": [
    "Still, the graph is not complete and the property is thus not respected."
   ]
  },
  {
   "cell_type": "markdown",
   "metadata": {},
   "source": [
    "**Q12**. (5 points) Use the gossip graph and the familiarity graph to figure out if for every pair of recurrent characters, one of them has gossiped about the other if and only if they know each other. Explain your method - the simpler, the better."
   ]
  },
  {
   "cell_type": "markdown",
   "metadata": {},
   "source": [
    "We need to check if, for every edge of G_gossip_undir, there is a corresponding edge in G_familiarity. To do so, we can create a set of all the edges in G_familiarity and a set of all the edges in G_gossip_undir, and compute their intersection. If the number of elements in the intersection is the same as the number of edges in G_gossip_undir, the claim is true."
   ]
  },
  {
   "cell_type": "code",
   "execution_count": 315,
   "metadata": {
    "tags": []
   },
   "outputs": [],
   "source": [
    "gossip_undir_edges = set(map(lambda x: frozenset(x), G_gossip_undir.edges)) \n",
    "gossip_familiarity = set(map(lambda x: frozenset(x), G_familiarity.edges)) "
   ]
  },
  {
   "cell_type": "code",
   "execution_count": 317,
   "metadata": {},
   "outputs": [],
   "source": [
    "edges_intersection = gossip_familiarity.intersection(gossip_undir_edges)"
   ]
  },
  {
   "cell_type": "code",
   "execution_count": 319,
   "metadata": {},
   "outputs": [
    {
     "name": "stdout",
     "output_type": "stream",
     "text": [
      "The number of intersecting edges is 78, the number of original gossiping edges is 80\n"
     ]
    }
   ],
   "source": [
    "print(f'The number of intersecting edges is {len(edges_intersection)}, the number of original gossiping edges is {len(gossip_undir_edges)}')"
   ]
  },
  {
   "cell_type": "markdown",
   "metadata": {},
   "source": [
    "Therefore, it does exist at least one pair of characters such that they don't know each other but at least one of them gossiped about the other."
   ]
  },
  {
   "cell_type": "code",
   "execution_count": 321,
   "metadata": {},
   "outputs": [
    {
     "data": {
      "text/plain": [
       "{frozenset({'Arthur', 'Bert'}), frozenset({'Bernadette', 'Bert'})}"
      ]
     },
     "execution_count": 321,
     "metadata": {},
     "output_type": "execute_result"
    }
   ],
   "source": [
    "gossip_undir_edges.difference(edges_intersection)"
   ]
  },
  {
   "cell_type": "code",
   "execution_count": 330,
   "metadata": {},
   "outputs": [
    {
     "data": {
      "text/plain": [
       "0"
      ]
     },
     "execution_count": 330,
     "metadata": {},
     "output_type": "execute_result"
    }
   ],
   "source": [
    "familiarity['Bert']['Bernadette']"
   ]
  },
  {
   "cell_type": "code",
   "execution_count": 331,
   "metadata": {},
   "outputs": [
    {
     "data": {
      "text/plain": [
       "1"
      ]
     },
     "execution_count": 331,
     "metadata": {},
     "output_type": "execute_result"
    }
   ],
   "source": [
    "gossip['Bert']['Bernadette']"
   ]
  },
  {
   "cell_type": "markdown",
   "metadata": {},
   "source": [
    "An example of such pair are Bernadetet and Bert."
   ]
  },
  {
   "cell_type": "markdown",
   "metadata": {},
   "source": [
    "## Task D: The Detective's Hat (30 points)\n",
    "\n",
    "Sheldon claims that given a dialogue line, he can, with an accuracy of above 70%, say whether it's by himself or by someone else. Leonard contests this claim, since he believes that this claimed accuracy is too high. Leonard also suspects that it's easier for Sheldon to distinguish the lines that _aren't_ his, rather than those that _are_. We want you to put on the (proverbial) detective's hat and to investigate this claim.\n",
    "\n",
    "**Q13**. (7.5 points) Divide the set of all dialogue lines into two subsets: the training set, consisting of all the seasons except the last two, and the test set, consisting of the last two seasons. Each of your data points (which is one row of your matrix) is one **dialogue line**. Now, use the scikit-learn class **TfIdfVectorizer** to create TF-IDF representations for the data points in your training and test sets. Note that since you're going to train a machine learning model, everything used in the training needs to be independent of the test set. As a preprocessing step, remove stopwords and words that appear only once from your vocabulary. Use the simple tokenizer provided in `helpers/helper_functions.py` as an input to the TfidfVectorizer class, and use the words provided in `helpers/stopwords.txt` as your stopwords."
   ]
  },
  {
   "cell_type": "code",
   "execution_count": 332,
   "metadata": {
    "tags": []
   },
   "outputs": [],
   "source": [
    "dataD = data_rec.copy()"
   ]
  },
  {
   "cell_type": "code",
   "execution_count": 337,
   "metadata": {},
   "outputs": [],
   "source": [
    "data_train = dataD[dataD.season.astype(int) < 9]\n",
    "data_test = dataD[dataD.season.astype(int) >= 9]"
   ]
  },
  {
   "cell_type": "code",
   "execution_count": 338,
   "metadata": {},
   "outputs": [],
   "source": [
    "import sklearn.feature_extraction"
   ]
  },
  {
   "cell_type": "code",
   "execution_count": 346,
   "metadata": {},
   "outputs": [],
   "source": [
    "def simple_tokeniser(text):\n",
    "    return text.split()"
   ]
  },
  {
   "cell_type": "code",
   "execution_count": 357,
   "metadata": {},
   "outputs": [
    {
     "data": {
      "text/plain": [
       "['i', 'me', 'my', 'myself', 'we', 'our', 'ours', 'ourselves', 'you', 'your']"
      ]
     },
     "execution_count": 357,
     "metadata": {},
     "output_type": "execute_result"
    }
   ],
   "source": [
    "with open('helpers/stopwords.txt') as fs:\n",
    "    stopwords = fs.read().splitlines()\n",
    "\n",
    "stopwords[:10]"
   ]
  },
  {
   "cell_type": "code",
   "execution_count": 542,
   "metadata": {},
   "outputs": [],
   "source": [
    "vectorizer = sklearn.feature_extraction.text.TfidfVectorizer(tokenizer=simple_tokeniser, stop_words=stopwords, min_df=2)\n",
    "X_train = vectorizer.fit_transform(data_train.text.values)\n",
    "X_test = vectorizer.transform(data_test.text.values)\n",
    "\n",
    "y_train = (data_train.speaker == 'Sheldon').values.astype(int)\n",
    "y_test = (data_test.speaker == 'Sheldon').values.astype(int)"
   ]
  },
  {
   "cell_type": "markdown",
   "metadata": {},
   "source": [
    "**Q14**. (5 points) Find the set of all words in the training set that are only uttered by Sheldon. Is it possible for Sheldon to identify himself only based on these? Use the test set to assess this possibility, and explain your method."
   ]
  },
  {
   "cell_type": "code",
   "execution_count": 423,
   "metadata": {
    "tags": []
   },
   "outputs": [],
   "source": [
    "# Set of all words uttered by Sheldon and by all other characters\n",
    "words_by_sheldon = set((' '.join(data_train[data_train.speaker == 'Sheldon'].text.values)).split())\n",
    "words_by_others = set((' '.join(data_train[data_train.speaker != 'Sheldon'].text.values)).split())\n",
    "\n",
    "# Set of words only uttered by Sheldon\n",
    "words_by_sheldon_only = words_by_sheldon.difference(words_by_others)"
   ]
  },
  {
   "cell_type": "code",
   "execution_count": 424,
   "metadata": {},
   "outputs": [],
   "source": [
    "# Predict that a quote is by Sheldon if in its text appears any word uttered only by Sheldon\n",
    "y_pred = data_test.text.apply(lambda x: np.any([word in words_by_sheldon_only for word in x.split()])).values.astype(int)"
   ]
  },
  {
   "cell_type": "code",
   "execution_count": 425,
   "metadata": {},
   "outputs": [],
   "source": [
    "import sklearn.metrics"
   ]
  },
  {
   "cell_type": "code",
   "execution_count": 426,
   "metadata": {},
   "outputs": [
    {
     "data": {
      "text/plain": [
       "0.7626118595732128"
      ]
     },
     "execution_count": 426,
     "metadata": {},
     "output_type": "execute_result"
    }
   ],
   "source": [
    "sklearn.metrics.accuracy_score(y_test, y_pred)"
   ]
  },
  {
   "cell_type": "code",
   "execution_count": 427,
   "metadata": {},
   "outputs": [
    {
     "data": {
      "text/plain": [
       "array([[7310,  622],\n",
       "       [1792,  445]], dtype=int64)"
      ]
     },
     "execution_count": 427,
     "metadata": {},
     "output_type": "execute_result"
    }
   ],
   "source": [
    "sklearn.metrics.confusion_matrix(y_test, y_pred)"
   ]
  },
  {
   "cell_type": "markdown",
   "metadata": {},
   "source": [
    "Apparently, it is possible with a high accuracy (0.76) to identify Sheldon quotes just by this simple method."
   ]
  },
  {
   "cell_type": "markdown",
   "metadata": {},
   "source": [
    "**Q15**. (17.5 points) Now, perform singular value decomposition (SVD) on the training TF-IDF matrix, and calculate a **25-dimensional approximation** for both the training and test TF-IDF matrices (you can do this using scikit-learn's **TruncatedSVD** class). Then, train a logistic regression classifier with 10-fold cross-validation (using the scikit-learn **LogisticRegressionCV** class) on the output of the SVD that given a dialogue line, tells you whether it's by Sheldon or by someone else.\n",
    "\n",
    "&nbsp;&nbsp;&nbsp;&nbsp;&nbsp;&nbsp;**i)** (7.5 points) Report precision, recall and F1-score for both classes (Sheldon and not-Sheldon), as well as accuracy, of your classifier on the training set and the test set. You need to implement the calculation of the evaluation measures (precision, etc.) yourself -- using the scikit-learn functions for them is not allowed.\n",
    "\n",
    "&nbsp;&nbsp;&nbsp;&nbsp;&nbsp;&nbsp;**ii)** (5 points) What difference do you observe between the model's scores on the training and test sets? What could you infer from the amount of difference you see? What about the difference between scores on the two classes? Given the performance of your classifier, is Leonard right that the accuracy Sheldon claims is unattainable? What about his suspicions about the lines that Sheldon can and cannot distinguish?\n",
    "    \n",
    "&nbsp;&nbsp;&nbsp;&nbsp;&nbsp;&nbsp;**iii)** (2.5 points) List 10 of the most extreme false positives and 10 of the most extreme false negatives, in terms of the probabilities predicted by the logistic regression model. What are common features of false positives? What about the false negatives?\n",
    "    \n",
    "&nbsp;&nbsp;&nbsp;&nbsp;&nbsp;&nbsp;**iv)** (2.5 points) What is the most important feature in the model? What are the 5 most important words in this feature? _Hint: Think of the definition of an SVD, and that you did an SVD on the TF-IDF matrix with dialogue lines as rows and words as columns. You have projected the original data points onto a 25-dimensional subspace -- you need to look at the unit vectors you used for the projection._"
   ]
  },
  {
   "cell_type": "code",
   "execution_count": 516,
   "metadata": {},
   "outputs": [],
   "source": [
    "import sklearn.decomposition\n",
    "import sklearn.linear_model"
   ]
  },
  {
   "cell_type": "code",
   "execution_count": 543,
   "metadata": {},
   "outputs": [],
   "source": [
    "svd = sklearn.decomposition.TruncatedSVD(n_components=25, random_state=42)\n",
    "\n",
    "X_train_svd = svd.fit_transform(X_train)\n",
    "X_test_svd = svd.transform(X_test)"
   ]
  },
  {
   "cell_type": "code",
   "execution_count": 544,
   "metadata": {},
   "outputs": [],
   "source": [
    "model = sklearn.linear_model.LogisticRegressionCV(cv=10)"
   ]
  },
  {
   "cell_type": "code",
   "execution_count": 545,
   "metadata": {},
   "outputs": [
    {
     "data": {
      "text/plain": [
       "LogisticRegressionCV(cv=10)"
      ]
     },
     "execution_count": 545,
     "metadata": {},
     "output_type": "execute_result"
    }
   ],
   "source": [
    "model.fit(X_train_svd, y_train)"
   ]
  },
  {
   "cell_type": "code",
   "execution_count": 546,
   "metadata": {},
   "outputs": [],
   "source": [
    "y_pred_train = model.predict(X_train_svd)"
   ]
  },
  {
   "cell_type": "code",
   "execution_count": 547,
   "metadata": {},
   "outputs": [],
   "source": [
    "y_pred = model.predict(X_test_svd)"
   ]
  },
  {
   "cell_type": "code",
   "execution_count": 548,
   "metadata": {},
   "outputs": [],
   "source": [
    "def compute_confusion_matrix(true_label, predict_label):#prediction_proba, decision_threshold=0.5): \n",
    "    \n",
    "    # predict_label = (prediction_proba[:,1]>decision_threshold).astype(int)   \n",
    "                                                                                                                       \n",
    "    TP = np.sum(np.logical_and(predict_label==1, true_label==1))\n",
    "    TN = np.sum(np.logical_and(predict_label==0, true_label==0))\n",
    "    FP = np.sum(np.logical_and(predict_label==1, true_label==0))\n",
    "    FN = np.sum(np.logical_and(predict_label==0, true_label==1))\n",
    "    \n",
    "    confusion_matrix = np.asarray([[TP, FP],\n",
    "                                    [FN, TN]])\n",
    "    return confusion_matrix\n",
    "\n",
    "\n",
    "def compute_all_score(confusion_matrix, t=0.5):\n",
    "    [[TP, FP],[FN, TN]] = confusion_matrix.astype(float)\n",
    "    \n",
    "    accuracy =  (TP+TN)/np.sum(confusion_matrix)\n",
    "    \n",
    "    precision_positive = TP/(TP+FP) if (TP+FP) !=0 else np.nan\n",
    "    precision_negative = TN/(TN+FN) if (TN+FN) !=0 else np.nan\n",
    "    \n",
    "    recall_positive = TP/(TP+FN) if (TP+FN) !=0 else np.nan\n",
    "    recall_negative = TN/(TN+FP) if (TN+FP) !=0 else np.nan\n",
    "\n",
    "    F1_score_positive = 2 *(precision_positive*recall_positive)/(precision_positive+recall_positive) if (precision_positive+recall_positive) !=0 else np.nan\n",
    "    F1_score_negative = 2 *(precision_negative*recall_negative)/(precision_negative+recall_negative) if (precision_negative+recall_negative) !=0 else np.nan\n",
    "\n",
    "    return [accuracy, precision_positive, recall_positive, F1_score_positive, precision_negative, recall_negative, F1_score_negative]"
   ]
  },
  {
   "cell_type": "code",
   "execution_count": 549,
   "metadata": {},
   "outputs": [
    {
     "data": {
      "text/plain": [
       "[0.7524098910310143,\n",
       " nan,\n",
       " 0.0,\n",
       " nan,\n",
       " 0.7524098910310143,\n",
       " 1.0,\n",
       " 0.8587144992526158]"
      ]
     },
     "execution_count": 549,
     "metadata": {},
     "output_type": "execute_result"
    }
   ],
   "source": [
    "compute_all_score(compute_confusion_matrix(y_train, y_pred_train))"
   ]
  },
  {
   "cell_type": "code",
   "execution_count": 550,
   "metadata": {},
   "outputs": [
    {
     "data": {
      "text/plain": [
       "[0.7800177008555413,\n",
       " nan,\n",
       " 0.0,\n",
       " nan,\n",
       " 0.7800177008555413,\n",
       " 1.0,\n",
       " 0.8764156676426716]"
      ]
     },
     "execution_count": 550,
     "metadata": {},
     "output_type": "execute_result"
    }
   ],
   "source": [
    "compute_all_score(compute_confusion_matrix(y_test, y_pred))"
   ]
  },
  {
   "cell_type": "code",
   "execution_count": 514,
   "metadata": {},
   "outputs": [
    {
     "name": "stdout",
     "output_type": "stream",
     "text": [
      "              precision    recall  f1-score   support\n",
      "\n",
      "           0       0.75      1.00      0.86     28724\n",
      "           1       0.00      0.00      0.00      9452\n",
      "\n",
      "    accuracy                           0.75     38176\n",
      "   macro avg       0.38      0.50      0.43     38176\n",
      "weighted avg       0.57      0.75      0.65     38176\n",
      "\n"
     ]
    },
    {
     "name": "stderr",
     "output_type": "stream",
     "text": [
      "C:\\Users\\franc\\ProgramsAltri\\anaconda3\\envs\\adaexam\\lib\\site-packages\\sklearn\\metrics\\_classification.py:1308: UndefinedMetricWarning: Precision and F-score are ill-defined and being set to 0.0 in labels with no predicted samples. Use `zero_division` parameter to control this behavior.\n",
      "  _warn_prf(average, modifier, msg_start, len(result))\n",
      "C:\\Users\\franc\\ProgramsAltri\\anaconda3\\envs\\adaexam\\lib\\site-packages\\sklearn\\metrics\\_classification.py:1308: UndefinedMetricWarning: Precision and F-score are ill-defined and being set to 0.0 in labels with no predicted samples. Use `zero_division` parameter to control this behavior.\n",
      "  _warn_prf(average, modifier, msg_start, len(result))\n",
      "C:\\Users\\franc\\ProgramsAltri\\anaconda3\\envs\\adaexam\\lib\\site-packages\\sklearn\\metrics\\_classification.py:1308: UndefinedMetricWarning: Precision and F-score are ill-defined and being set to 0.0 in labels with no predicted samples. Use `zero_division` parameter to control this behavior.\n",
      "  _warn_prf(average, modifier, msg_start, len(result))\n"
     ]
    }
   ],
   "source": [
    "print(sklearn.metrics.classification_report(y_train, y_pred_train))"
   ]
  },
  {
   "cell_type": "code",
   "execution_count": 469,
   "metadata": {},
   "outputs": [
    {
     "name": "stdout",
     "output_type": "stream",
     "text": [
      "              precision    recall  f1-score   support\n",
      "\n",
      "           0       0.81      0.95      0.88      7932\n",
      "           1       0.55      0.22      0.32      2237\n",
      "\n",
      "    accuracy                           0.79     10169\n",
      "   macro avg       0.68      0.59      0.60     10169\n",
      "weighted avg       0.75      0.79      0.75     10169\n",
      "\n"
     ]
    }
   ],
   "source": [
    "print(sklearn.metrics.classification_report(y_test, y_pred))"
   ]
  },
  {
   "cell_type": "code",
   "execution_count": 471,
   "metadata": {},
   "outputs": [],
   "source": [
    "yprob = model.predict_proba(X_test)"
   ]
  },
  {
   "cell_type": "code",
   "execution_count": 478,
   "metadata": {},
   "outputs": [],
   "source": [
    "false_positives = np.logical_and(y_pred==1, y_test==0)\n",
    "false_negatives = np.logical_and(y_pred==0, y_test==1)"
   ]
  },
  {
   "cell_type": "code",
   "execution_count": 489,
   "metadata": {},
   "outputs": [],
   "source": [
    "extreme_FP = np.argsort(-yprob[false_positives][:, 1])[:10]\n",
    "extreme_FN = np.argsort(-yprob[false_negatives][:, 0])[:10]"
   ]
  },
  {
   "cell_type": "code",
   "execution_count": 493,
   "metadata": {},
   "outputs": [
    {
     "data": {
      "text/plain": [
       "matrix([[0., 0., 0., ..., 0., 0., 0.],\n",
       "        [0., 0., 0., ..., 0., 0., 0.],\n",
       "        [0., 0., 0., ..., 0., 0., 0.],\n",
       "        ...,\n",
       "        [0., 0., 0., ..., 0., 0., 0.],\n",
       "        [0., 0., 0., ..., 0., 0., 0.],\n",
       "        [0., 0., 0., ..., 0., 0., 0.]])"
      ]
     },
     "execution_count": 493,
     "metadata": {},
     "output_type": "execute_result"
    }
   ],
   "source": [
    "X_test[extreme_FP].todense()"
   ]
  }
 ],
 "metadata": {
  "kernelspec": {
   "display_name": "Python [conda env:adaexam] *",
   "language": "python",
   "name": "conda-env-adaexam-py"
  },
  "language_info": {
   "codemirror_mode": {
    "name": "ipython",
    "version": 3
   },
   "file_extension": ".py",
   "mimetype": "text/x-python",
   "name": "python",
   "nbconvert_exporter": "python",
   "pygments_lexer": "ipython3",
   "version": "3.8.12"
  }
 },
 "nbformat": 4,
 "nbformat_minor": 4
}
