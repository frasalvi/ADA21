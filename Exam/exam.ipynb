{
 "cells": [
  {
   "cell_type": "markdown",
   "metadata": {},
   "source": [
    "# ADA final exam (Fall 2021)\n",
    "\n",
    "This exam consists of 2 parts.\n",
    "The first part has 3 tasks.\n",
    "The second part has 2 tasks.\n",
    "The two parts are completely independent of each other.\n",
    "\n",
    "## Important: The data used for this exam **is not entirely real.** A great deal of it has been artificially created or modified. Conclusions drawn from this data have no real link to reality!"
   ]
  },
  {
   "cell_type": "code",
   "execution_count": 1,
   "metadata": {
    "pycharm": {
     "name": "#%%\n"
    }
   },
   "outputs": [],
   "source": [
    "%matplotlib inline\n",
    "\n",
    "# General\n",
    "import pandas as pd\n",
    "import numpy as np\n",
    "\n",
    "# For plotting\n",
    "import matplotlib.pyplot as plt\n",
    "import seaborn as sns\n",
    "\n",
    "# For graph-related stuff\n",
    "import networkx as nx\n",
    "\n",
    "# For regression analyses and statistical tests\n",
    "import scipy.stats as stats\n",
    "import statsmodels.stats\n",
    "import statsmodels.formula.api as smf\n",
    "\n",
    "# For classification\n",
    "from sklearn import linear_model as lm\n",
    "from sklearn.model_selection import train_test_split\n",
    "from sklearn.metrics import accuracy_score"
   ]
  },
  {
   "cell_type": "code",
   "execution_count": 2,
   "metadata": {},
   "outputs": [],
   "source": [
    "from operator import itemgetter\n",
    "from sklearn.linear_model import LogisticRegression"
   ]
  },
  {
   "cell_type": "markdown",
   "metadata": {},
   "source": [
    "\n",
    "## Part 1 — Faculty hiring network\n",
    "\n",
    "For the first part of the exam, you will analyze data from a faculty hiring network. After completing their Ph.D., researchers who want to pursue an academic career must compete for relatively few permanent positions (as “faculty”, i.e., professors) in a highly competitive job market. You will analyze a directed graph that captures the dynamics of this hiring process in the United States:\n",
    "\n",
    "\n",
    "- Each node $u$ in this graph represents a different American university.\n",
    "- For each university, we also provide a score that captures how highly  this university is ranked (e.g., Stanford University is ranked more highly than the University of Alabama). The higher the score, the more highly ranked the university.\n",
    "- Each directed edge $(u,v)$ in this graph represents a hiring decision where someone who did their Ph.D. at university $u$ subsequently was hired by university $v$. Each edge is also associated with a gender label, which specifies if the person hired was a man (M) or a woman (F).\n",
    "- Note that, when multiple researchers were trained at a given university $u$ and subsequently hired by university $v$, there will be multiple edges pointing from $u$ to $v$, each of which corresponds to a different person.\n",
    "\n",
    "\n",
    "## Files (in the `./data/part-1/` folder)\n",
    "\n",
    "- `nodelist.tsv` a tab-separated file containing the nodes of the graph. Recall that each node represents a different university. The file has these columns:\n",
    "    - `u` — the node index;\n",
    "    - `score` — the rank of the university (the higher the better);\n",
    "    - `name` — the name of the university.\n",
    "\n",
    "- `edgelist.tsv` a tab-separated file containing the edges of the graph. Recall that each edge represents a hiring decision. The file has columns:\n",
    "    - `u` — the source university, where the person got their Ph.D.;\n",
    "    - `v` — the target university, where the person was hired;\n",
    "    - `gender` — the gender of the person.\n",
    "\n",
    "\n",
    "### Task 1 — (20 points)\n",
    "\n",
    "1. Using the above files, create the directed graph representing the hiring network using `networkx`.\n",
    "Each node should contain the attributes `score` and `name`, and each edge should contain the attribute `gender`.\n",
    "Print the total numbers of nodes and edges in the graph.\n",
    "\n",
    "2. Create a plot that allows you to easily visualize **(a)** what fraction of all researchers in the graph are hired by the $N$ universities that hire the most; and  **(b)** what fraction of all researchers in the graph are trained by the $N$ universities whose students get hired the most.\n",
    "Here, $N$ could be any number between 1 and the number of universities.\n",
    "\n",
    "3. **/Multiple choice:/** Which centrality metric(s) is/are illustrated in the plot you made for the previous subtask? Select all that apply from the list below and **justify your answer.**\n",
    "    1. Betweenness centrality\n",
    "    2. In-degree centrality\n",
    "    3. Out-degree centrality\n",
    "    4. PageRank centrality\n",
    "\n",
    "4. **/True or false:/** Search engines such as Google have historically used PageRank centrality as a signal to determine the importance of pages on the Web. Is the following statement **true** or **false**? Justify. **\"In the faculty hiring network, PageRank centrality is positively correlated with university score, that is, universities with higher scores are more likely to also have higher PageRank centrality.\"**\n"
   ]
  },
  {
   "cell_type": "markdown",
   "metadata": {},
   "source": [
    "1."
   ]
  },
  {
   "cell_type": "code",
   "execution_count": 3,
   "metadata": {},
   "outputs": [],
   "source": [
    "nodes = pd.read_csv('data/part-1/nodelist.tsv', sep='\\t')\n",
    "edges = pd.read_csv('data/part-1/edgelist.tsv', sep='\\t')"
   ]
  },
  {
   "cell_type": "code",
   "execution_count": 4,
   "metadata": {},
   "outputs": [
    {
     "data": {
      "text/html": [
       "<div>\n",
       "<style scoped>\n",
       "    .dataframe tbody tr th:only-of-type {\n",
       "        vertical-align: middle;\n",
       "    }\n",
       "\n",
       "    .dataframe tbody tr th {\n",
       "        vertical-align: top;\n",
       "    }\n",
       "\n",
       "    .dataframe thead th {\n",
       "        text-align: right;\n",
       "    }\n",
       "</style>\n",
       "<table border=\"1\" class=\"dataframe\">\n",
       "  <thead>\n",
       "    <tr style=\"text-align: right;\">\n",
       "      <th></th>\n",
       "      <th>score</th>\n",
       "      <th>name</th>\n",
       "    </tr>\n",
       "    <tr>\n",
       "      <th>u</th>\n",
       "      <th></th>\n",
       "      <th></th>\n",
       "    </tr>\n",
       "  </thead>\n",
       "  <tbody>\n",
       "    <tr>\n",
       "      <th>1</th>\n",
       "      <td>100.000000</td>\n",
       "      <td>Stanford University</td>\n",
       "    </tr>\n",
       "    <tr>\n",
       "      <th>2</th>\n",
       "      <td>99.956665</td>\n",
       "      <td>UC Berkeley</td>\n",
       "    </tr>\n",
       "    <tr>\n",
       "      <th>3</th>\n",
       "      <td>99.301230</td>\n",
       "      <td>MIT</td>\n",
       "    </tr>\n",
       "    <tr>\n",
       "      <th>4</th>\n",
       "      <td>98.369536</td>\n",
       "      <td>California Institute of Technology</td>\n",
       "    </tr>\n",
       "    <tr>\n",
       "      <th>5</th>\n",
       "      <td>97.892855</td>\n",
       "      <td>Harvard University</td>\n",
       "    </tr>\n",
       "  </tbody>\n",
       "</table>\n",
       "</div>"
      ],
      "text/plain": [
       "        score                                name\n",
       "u                                                \n",
       "1  100.000000                 Stanford University\n",
       "2   99.956665                         UC Berkeley\n",
       "3   99.301230                                 MIT\n",
       "4   98.369536  California Institute of Technology\n",
       "5   97.892855                  Harvard University"
      ]
     },
     "execution_count": 4,
     "metadata": {},
     "output_type": "execute_result"
    }
   ],
   "source": [
    "nodes = nodes.set_index('u')\n",
    "nodes.head()"
   ]
  },
  {
   "cell_type": "code",
   "execution_count": 5,
   "metadata": {},
   "outputs": [],
   "source": [
    "G = nx.from_pandas_edgelist(edges, source='u', target='v', edge_attr='gender', create_using=nx.MultiDiGraph())"
   ]
  },
  {
   "cell_type": "code",
   "execution_count": 6,
   "metadata": {},
   "outputs": [],
   "source": [
    "nx.set_node_attributes(G, nodes.score.to_dict(), 'score')\n",
    "nx.set_node_attributes(G, nodes.name.to_dict(), 'name')"
   ]
  },
  {
   "cell_type": "code",
   "execution_count": 7,
   "metadata": {},
   "outputs": [
    {
     "data": {
      "text/plain": [
       "[(1, 1, {'gender': 'F'}),\n",
       " (1, 1, {'gender': 'F'}),\n",
       " (1, 1, {'gender': 'F'}),\n",
       " (1, 1, {'gender': 'M'}),\n",
       " (1, 1, {'gender': 'M'}),\n",
       " (1, 1, {'gender': 'F'}),\n",
       " (1, 1, {'gender': 'F'}),\n",
       " (1, 1, {'gender': 'F'}),\n",
       " (1, 1, {'gender': 'M'}),\n",
       " (1, 2, {'gender': 'F'})]"
      ]
     },
     "execution_count": 7,
     "metadata": {},
     "output_type": "execute_result"
    }
   ],
   "source": [
    "list(G.edges(data=True))[:10]"
   ]
  },
  {
   "cell_type": "code",
   "execution_count": 8,
   "metadata": {
    "pycharm": {
     "name": "#%%\n"
    }
   },
   "outputs": [
    {
     "data": {
      "text/plain": [
       "[(1, {'score': 100.0, 'name': 'Stanford University'}),\n",
       " (2, {'score': 99.95666540274092, 'name': 'UC Berkeley'}),\n",
       " (3, {'score': 99.30122961919722, 'name': 'MIT'}),\n",
       " (5, {'score': 97.8928552082769, 'name': 'Harvard University'}),\n",
       " (6, {'score': 96.71740425762418, 'name': 'Cornell University'}),\n",
       " (7, {'score': 96.18113861654297, 'name': 'Carnegie Mellon University'}),\n",
       " (8, {'score': 96.15947131791344, 'name': 'Princeton University'}),\n",
       " (9, {'score': 95.80196089052598, 'name': 'Yale University'}),\n",
       " (10, {'score': 95.2169438275283, 'name': 'University of Washington'}),\n",
       " (11,\n",
       "  {'score': 93.93315638372783,\n",
       "   'name': 'University of Illinois, Urbana Champaign'})]"
      ]
     },
     "execution_count": 8,
     "metadata": {},
     "output_type": "execute_result"
    }
   ],
   "source": [
    "list(G.nodes(data=True))[:10]"
   ]
  },
  {
   "cell_type": "code",
   "execution_count": 9,
   "metadata": {},
   "outputs": [
    {
     "name": "stdout",
     "output_type": "stream",
     "text": [
      "The graph has 205 nodes and 4388 edges\n"
     ]
    }
   ],
   "source": [
    "nnodes = len(G.nodes)\n",
    "nedges = len(G.edges)\n",
    "\n",
    "print(f'The graph has {nnodes} nodes and {nedges} edges')"
   ]
  },
  {
   "cell_type": "markdown",
   "metadata": {},
   "source": [
    "2."
   ]
  },
  {
   "cell_type": "markdown",
   "metadata": {},
   "source": [
    "To get the N universities that hire the most, we can rank nodes based on their in-degree. Viceversa, the N universities whose students get hired the most are the ones with highest out-degree."
   ]
  },
  {
   "cell_type": "code",
   "execution_count": 10,
   "metadata": {},
   "outputs": [],
   "source": [
    "N = 10"
   ]
  },
  {
   "cell_type": "code",
   "execution_count": 11,
   "metadata": {},
   "outputs": [
    {
     "name": "stdout",
     "output_type": "stream",
     "text": [
      "[(7, 116), (37, 77), (3, 67), (55, 63), (28, 53), (21, 50), (191, 50), (111, 49), (1, 47), (6, 47)]\n"
     ]
    }
   ],
   "source": [
    "in_degrees = dict(G.in_degree)\n",
    "topN_hiring = sorted(in_degrees.items(), key=itemgetter(1), reverse=True)[:N]\n",
    "print(topN_hiring)\n",
    "\n",
    "topN_hiring_nodes = list(zip(*topN_hiring))[0]"
   ]
  },
  {
   "cell_type": "code",
   "execution_count": 12,
   "metadata": {},
   "outputs": [
    {
     "name": "stdout",
     "output_type": "stream",
     "text": [
      "[(3, 299), (2, 204), (1, 189), (7, 166), (11, 164), (21, 145), (6, 113), (35, 99), (18, 94), (12, 87)]\n"
     ]
    }
   ],
   "source": [
    "out_degrees = dict(G.out_degree)\n",
    "topN_hired = sorted(out_degrees.items(), key=itemgetter(1), reverse=True)[:N]\n",
    "print(topN_hired)\n",
    "\n",
    "topN_hired_nodes = list(zip(*topN_hired))[0]"
   ]
  },
  {
   "cell_type": "markdown",
   "metadata": {},
   "source": [
    "Researchers in the graph correspond with edges."
   ]
  },
  {
   "cell_type": "code",
   "execution_count": 13,
   "metadata": {},
   "outputs": [
    {
     "data": {
      "text/plain": [
       "v\n",
       "7      116\n",
       "37      77\n",
       "3       67\n",
       "55      63\n",
       "28      53\n",
       "191     50\n",
       "21      50\n",
       "111     49\n",
       "1       47\n",
       "6       47\n",
       "Name: u, dtype: int64"
      ]
     },
     "execution_count": 13,
     "metadata": {},
     "output_type": "execute_result"
    }
   ],
   "source": [
    "# Again we find the same results.\n",
    "number_hiring = edges.groupby('v').u.count().sort_values(ascending=False) \n",
    "number_hired = edges.groupby('u').v.count().sort_values(ascending=False)\n",
    "\n",
    "number_hiring[:N]"
   ]
  },
  {
   "cell_type": "code",
   "execution_count": 14,
   "metadata": {},
   "outputs": [
    {
     "data": {
      "text/plain": [
       "name\n",
       "Carnegie Mellon University    0.026436\n",
       "Georgia Tech                  0.017548\n",
       "MIT                           0.015269\n",
       "University of Waterloo        0.014357\n",
       "University of Michigan        0.012078\n",
       "DePaul University             0.011395\n",
       "University of Toronto         0.011395\n",
       "Indiana University            0.011167\n",
       "Stanford University           0.010711\n",
       "Cornell University            0.010711\n",
       "Name: u, dtype: float64"
      ]
     },
     "execution_count": 14,
     "metadata": {},
     "output_type": "execute_result"
    }
   ],
   "source": [
    "# prepare data for plotting, associating index to name and dividing counts by number of researchers\n",
    "plot_hiring = number_hiring[:N] / len(edges)\n",
    "plot_hiring.index = nodes.loc[plot_hiring.index].name\n",
    "plot_hired = number_hired[:N]  / len(edges)\n",
    "plot_hired.index = nodes.loc[plot_hired.index].name\n",
    "plot_hiring"
   ]
  },
  {
   "cell_type": "code",
   "execution_count": 15,
   "metadata": {},
   "outputs": [
    {
     "data": {
      "image/png": "[encoded data removed]",
      "text/plain": [
       "<Figure size 432x288 with 1 Axes>"
      ]
     },
     "metadata": {
      "needs_background": "light"
     },
     "output_type": "display_data"
    }
   ],
   "source": [
    "plot_hiring.plot.bar();\n",
    "plt.ylabel('Fraction of researchers hired');"
   ]
  },
  {
   "cell_type": "code",
   "execution_count": 16,
   "metadata": {},
   "outputs": [
    {
     "data": {
      "image/png": "[encoded data removed]",
      "text/plain": [
       "<Figure size 432x288 with 1 Axes>"
      ]
     },
     "metadata": {
      "needs_background": "light"
     },
     "output_type": "display_data"
    }
   ],
   "source": [
    "plot_hired.plot.bar();\n",
    "plt.ylabel('Fraction of hired students trained');"
   ]
  },
  {
   "cell_type": "markdown",
   "metadata": {},
   "source": [
    "3."
   ]
  },
  {
   "cell_type": "markdown",
   "metadata": {},
   "source": [
    "**B** and **C**, in-degree and out-degree, which as already explained (and showed) coincide respectively with the number of hired researched and the number of trained researchers."
   ]
  },
  {
   "cell_type": "markdown",
   "metadata": {},
   "source": [
    "4."
   ]
  },
  {
   "cell_type": "markdown",
   "metadata": {},
   "source": [
    "**False**. In general, we can think that in-degree, the number of hired researchers, correlates with how big an university is and how much funding it has, while out-degree, the number of researchers trained, correlates with quality of education, which also correlates with score. The two measures, though, might not be correlated with one another, or also be negatively correlated. Therefore, PageRank centrality, which would assign to each university a centrality mainly based on its inlinks, would not necessarily correlate with score, but more with size of universities."
   ]
  },
  {
   "cell_type": "markdown",
   "metadata": {},
   "source": [
    "This can also be tested experimentally, as below."
   ]
  },
  {
   "cell_type": "code",
   "execution_count": 17,
   "metadata": {},
   "outputs": [
    {
     "data": {
      "text/plain": [
       "[(204, 0.05696520701518409),\n",
       " (194, 0.0406202568894265),\n",
       " (198, 0.036056540613184467),\n",
       " (200, 0.03416499931376037),\n",
       " (180, 0.027669420891804557),\n",
       " (193, 0.025301345770629247),\n",
       " (181, 0.02489954006952596),\n",
       " (191, 0.022859592201519896),\n",
       " (179, 0.015306314006972249),\n",
       " (140, 0.012049017817743818)]"
      ]
     },
     "execution_count": 17,
     "metadata": {},
     "output_type": "execute_result"
    }
   ],
   "source": [
    "pagerank_centralities = nx.algorithms.link_analysis.pagerank_alg.pagerank(G)\n",
    "pagerank_centralities = sorted(pagerank_centralities.items(), key=itemgetter(1), reverse=True)\n",
    "pagerank_centralities[:10]"
   ]
  },
  {
   "cell_type": "markdown",
   "metadata": {},
   "source": [
    "We can immediately see that the highests PageRank centralities belong to universities with low scores, meaning that at the opposite it seems to be negatively correlated with scores. This correlation would need, though, more rigorous statistical analysis to be conclusively established."
   ]
  },
  {
   "cell_type": "markdown",
   "metadata": {},
   "source": [
    "### Task 2 — (15 points)\n",
    "\n",
    "Each hiring decision $(u,v)$ connects two different universities with different scores.\n",
    "\n",
    "1. Divide the universities into quintiles according to their scores ($Q_1$ to $Q_5$, where $Q_5$ contains the highest-ranked universities, i.e., those with the highest scores). Create a succinct plot that captures, for each pair of quintiles ($Q_i$, $Q_j$), what fraction of people in the dataset who got their Ph.D. from a university in $Q_i$ were hired by a university in $Q_j$.\n",
    "\n",
    "\n",
    "2. **/Multiple choice:/** What does the plot made in the previous subtask reveal about the faculty hiring process? Select one of the following options and justify your answer.\n",
    "    1. Ph.D. graduates who are hired as professors usually go to universities that are better than the universities where they were trained.\n",
    "    2. Ph.D. graduates who are hired as professors usually go to universities that are around the same or worse than the universities where they were trained.\n",
    "\n",
    "3. **/True or false:/** Let $E$ be the set of edges from the hiring network, and let $X$ be defined as follows:\n",
    "$$X = \\frac{|(u,v) \\in E : u \\in Q_1 \\text{ and } v \\in Q_5 |}{{|(u,v) \\in E : u \\in Q_1|}}$$\n",
    " *Thinking critically about the data that was given to you,* is the following statement **true** or **false**? Justify your answer. **\"If I get my Ph.D. in a 1st-quintile university, I have a chance of around X * 100%  of getting a job in a 5th-quintile university.\"**\n",
    "\n",
    "\n",
    "---\n",
    "**Hints:**\n",
    "- [pandas.qcut](https://pandas.pydata.org/docs/reference/api/pandas.qcut.html) makes splitting data into quantiles easy!\n"
   ]
  },
  {
   "cell_type": "markdown",
   "metadata": {},
   "source": [
    "1."
   ]
  },
  {
   "cell_type": "code",
   "execution_count": 18,
   "metadata": {
    "pycharm": {
     "name": "#%%\n"
    }
   },
   "outputs": [
    {
     "data": {
      "text/html": [
       "<div>\n",
       "<style scoped>\n",
       "    .dataframe tbody tr th:only-of-type {\n",
       "        vertical-align: middle;\n",
       "    }\n",
       "\n",
       "    .dataframe tbody tr th {\n",
       "        vertical-align: top;\n",
       "    }\n",
       "\n",
       "    .dataframe thead th {\n",
       "        text-align: right;\n",
       "    }\n",
       "</style>\n",
       "<table border=\"1\" class=\"dataframe\">\n",
       "  <thead>\n",
       "    <tr style=\"text-align: right;\">\n",
       "      <th></th>\n",
       "      <th>score</th>\n",
       "      <th>name</th>\n",
       "      <th>people_hired</th>\n",
       "      <th>people_trained</th>\n",
       "      <th>quantile</th>\n",
       "    </tr>\n",
       "    <tr>\n",
       "      <th>u</th>\n",
       "      <th></th>\n",
       "      <th></th>\n",
       "      <th></th>\n",
       "      <th></th>\n",
       "      <th></th>\n",
       "    </tr>\n",
       "  </thead>\n",
       "  <tbody>\n",
       "    <tr>\n",
       "      <th>1</th>\n",
       "      <td>100.000000</td>\n",
       "      <td>Stanford University</td>\n",
       "      <td>47</td>\n",
       "      <td>189.0</td>\n",
       "      <td>Q5</td>\n",
       "    </tr>\n",
       "    <tr>\n",
       "      <th>2</th>\n",
       "      <td>99.956665</td>\n",
       "      <td>UC Berkeley</td>\n",
       "      <td>43</td>\n",
       "      <td>204.0</td>\n",
       "      <td>Q5</td>\n",
       "    </tr>\n",
       "    <tr>\n",
       "      <th>3</th>\n",
       "      <td>99.301230</td>\n",
       "      <td>MIT</td>\n",
       "      <td>67</td>\n",
       "      <td>299.0</td>\n",
       "      <td>Q5</td>\n",
       "    </tr>\n",
       "    <tr>\n",
       "      <th>4</th>\n",
       "      <td>98.369536</td>\n",
       "      <td>California Institute of Technology</td>\n",
       "      <td>13</td>\n",
       "      <td>40.0</td>\n",
       "      <td>Q5</td>\n",
       "    </tr>\n",
       "    <tr>\n",
       "      <th>5</th>\n",
       "      <td>97.892855</td>\n",
       "      <td>Harvard University</td>\n",
       "      <td>20</td>\n",
       "      <td>68.0</td>\n",
       "      <td>Q5</td>\n",
       "    </tr>\n",
       "    <tr>\n",
       "      <th>6</th>\n",
       "      <td>96.717404</td>\n",
       "      <td>Cornell University</td>\n",
       "      <td>47</td>\n",
       "      <td>113.0</td>\n",
       "      <td>Q5</td>\n",
       "    </tr>\n",
       "    <tr>\n",
       "      <th>7</th>\n",
       "      <td>96.181139</td>\n",
       "      <td>Carnegie Mellon University</td>\n",
       "      <td>116</td>\n",
       "      <td>166.0</td>\n",
       "      <td>Q5</td>\n",
       "    </tr>\n",
       "    <tr>\n",
       "      <th>8</th>\n",
       "      <td>96.159471</td>\n",
       "      <td>Princeton University</td>\n",
       "      <td>28</td>\n",
       "      <td>82.0</td>\n",
       "      <td>Q5</td>\n",
       "    </tr>\n",
       "    <tr>\n",
       "      <th>9</th>\n",
       "      <td>95.801961</td>\n",
       "      <td>Yale University</td>\n",
       "      <td>20</td>\n",
       "      <td>47.0</td>\n",
       "      <td>Q5</td>\n",
       "    </tr>\n",
       "    <tr>\n",
       "      <th>10</th>\n",
       "      <td>95.216944</td>\n",
       "      <td>University of Washington</td>\n",
       "      <td>45</td>\n",
       "      <td>76.0</td>\n",
       "      <td>Q5</td>\n",
       "    </tr>\n",
       "  </tbody>\n",
       "</table>\n",
       "</div>"
      ],
      "text/plain": [
       "         score                                name  people_hired  \\\n",
       "u                                                                  \n",
       "1   100.000000                 Stanford University            47   \n",
       "2    99.956665                         UC Berkeley            43   \n",
       "3    99.301230                                 MIT            67   \n",
       "4    98.369536  California Institute of Technology            13   \n",
       "5    97.892855                  Harvard University            20   \n",
       "6    96.717404                  Cornell University            47   \n",
       "7    96.181139          Carnegie Mellon University           116   \n",
       "8    96.159471                Princeton University            28   \n",
       "9    95.801961                     Yale University            20   \n",
       "10   95.216944            University of Washington            45   \n",
       "\n",
       "    people_trained quantile  \n",
       "u                            \n",
       "1            189.0       Q5  \n",
       "2            204.0       Q5  \n",
       "3            299.0       Q5  \n",
       "4             40.0       Q5  \n",
       "5             68.0       Q5  \n",
       "6            113.0       Q5  \n",
       "7            166.0       Q5  \n",
       "8             82.0       Q5  \n",
       "9             47.0       Q5  \n",
       "10            76.0       Q5  "
      ]
     },
     "execution_count": 18,
     "metadata": {},
     "output_type": "execute_result"
    }
   ],
   "source": [
    "# Split into quantiles and enrich the DataFrame\n",
    "nodes['people_hired'] = number_hiring\n",
    "nodes['people_trained'] = number_hired\n",
    "nodes['quantile'] = pd.qcut(nodes.score, q=5, labels=['Q1', 'Q2', 'Q3', 'Q4', 'Q5'])\n",
    "\n",
    "nodes.head(10)"
   ]
  },
  {
   "cell_type": "code",
   "execution_count": 19,
   "metadata": {},
   "outputs": [
    {
     "data": {
      "text/html": [
       "<div>\n",
       "<style scoped>\n",
       "    .dataframe tbody tr th:only-of-type {\n",
       "        vertical-align: middle;\n",
       "    }\n",
       "\n",
       "    .dataframe tbody tr th {\n",
       "        vertical-align: top;\n",
       "    }\n",
       "\n",
       "    .dataframe thead th {\n",
       "        text-align: right;\n",
       "    }\n",
       "</style>\n",
       "<table border=\"1\" class=\"dataframe\">\n",
       "  <thead>\n",
       "    <tr style=\"text-align: right;\">\n",
       "      <th></th>\n",
       "      <th>u</th>\n",
       "      <th>v</th>\n",
       "      <th>gender</th>\n",
       "      <th>u_quantile</th>\n",
       "      <th>v_quantile</th>\n",
       "    </tr>\n",
       "  </thead>\n",
       "  <tbody>\n",
       "    <tr>\n",
       "      <th>0</th>\n",
       "      <td>1</td>\n",
       "      <td>1</td>\n",
       "      <td>F</td>\n",
       "      <td>Q5</td>\n",
       "      <td>Q5</td>\n",
       "    </tr>\n",
       "    <tr>\n",
       "      <th>1</th>\n",
       "      <td>1</td>\n",
       "      <td>1</td>\n",
       "      <td>F</td>\n",
       "      <td>Q5</td>\n",
       "      <td>Q5</td>\n",
       "    </tr>\n",
       "    <tr>\n",
       "      <th>2</th>\n",
       "      <td>1</td>\n",
       "      <td>1</td>\n",
       "      <td>F</td>\n",
       "      <td>Q5</td>\n",
       "      <td>Q5</td>\n",
       "    </tr>\n",
       "    <tr>\n",
       "      <th>3</th>\n",
       "      <td>1</td>\n",
       "      <td>1</td>\n",
       "      <td>M</td>\n",
       "      <td>Q5</td>\n",
       "      <td>Q5</td>\n",
       "    </tr>\n",
       "    <tr>\n",
       "      <th>4</th>\n",
       "      <td>1</td>\n",
       "      <td>1</td>\n",
       "      <td>M</td>\n",
       "      <td>Q5</td>\n",
       "      <td>Q5</td>\n",
       "    </tr>\n",
       "    <tr>\n",
       "      <th>5</th>\n",
       "      <td>1</td>\n",
       "      <td>1</td>\n",
       "      <td>F</td>\n",
       "      <td>Q5</td>\n",
       "      <td>Q5</td>\n",
       "    </tr>\n",
       "    <tr>\n",
       "      <th>6</th>\n",
       "      <td>1</td>\n",
       "      <td>1</td>\n",
       "      <td>F</td>\n",
       "      <td>Q5</td>\n",
       "      <td>Q5</td>\n",
       "    </tr>\n",
       "    <tr>\n",
       "      <th>7</th>\n",
       "      <td>1</td>\n",
       "      <td>1</td>\n",
       "      <td>F</td>\n",
       "      <td>Q5</td>\n",
       "      <td>Q5</td>\n",
       "    </tr>\n",
       "    <tr>\n",
       "      <th>8</th>\n",
       "      <td>1</td>\n",
       "      <td>1</td>\n",
       "      <td>M</td>\n",
       "      <td>Q5</td>\n",
       "      <td>Q5</td>\n",
       "    </tr>\n",
       "    <tr>\n",
       "      <th>9</th>\n",
       "      <td>1</td>\n",
       "      <td>2</td>\n",
       "      <td>F</td>\n",
       "      <td>Q5</td>\n",
       "      <td>Q5</td>\n",
       "    </tr>\n",
       "  </tbody>\n",
       "</table>\n",
       "</div>"
      ],
      "text/plain": [
       "   u  v gender u_quantile v_quantile\n",
       "0  1  1      F         Q5         Q5\n",
       "1  1  1      F         Q5         Q5\n",
       "2  1  1      F         Q5         Q5\n",
       "3  1  1      M         Q5         Q5\n",
       "4  1  1      M         Q5         Q5\n",
       "5  1  1      F         Q5         Q5\n",
       "6  1  1      F         Q5         Q5\n",
       "7  1  1      F         Q5         Q5\n",
       "8  1  1      M         Q5         Q5\n",
       "9  1  2      F         Q5         Q5"
      ]
     },
     "execution_count": 19,
     "metadata": {},
     "output_type": "execute_result"
    }
   ],
   "source": [
    "# Enrich edges DataFrame with quantiles\n",
    "edges['u_quantile'] = nodes.loc[edges.u.values]['quantile'].values\n",
    "edges['v_quantile'] = nodes.loc[edges.v.values]['quantile'].values\n",
    "edges.head(10)"
   ]
  },
  {
   "cell_type": "code",
   "execution_count": 20,
   "metadata": {},
   "outputs": [
    {
     "data": {
      "text/html": [
       "<div>\n",
       "<style scoped>\n",
       "    .dataframe tbody tr th:only-of-type {\n",
       "        vertical-align: middle;\n",
       "    }\n",
       "\n",
       "    .dataframe tbody tr th {\n",
       "        vertical-align: top;\n",
       "    }\n",
       "\n",
       "    .dataframe thead th {\n",
       "        text-align: right;\n",
       "    }\n",
       "</style>\n",
       "<table border=\"1\" class=\"dataframe\">\n",
       "  <thead>\n",
       "    <tr style=\"text-align: right;\">\n",
       "      <th></th>\n",
       "      <th>training_university</th>\n",
       "      <th>hiring_university</th>\n",
       "      <th>counts</th>\n",
       "    </tr>\n",
       "  </thead>\n",
       "  <tbody>\n",
       "    <tr>\n",
       "      <th>0</th>\n",
       "      <td>Q1</td>\n",
       "      <td>Q1</td>\n",
       "      <td>63</td>\n",
       "    </tr>\n",
       "    <tr>\n",
       "      <th>1</th>\n",
       "      <td>Q1</td>\n",
       "      <td>Q2</td>\n",
       "      <td>5</td>\n",
       "    </tr>\n",
       "    <tr>\n",
       "      <th>2</th>\n",
       "      <td>Q1</td>\n",
       "      <td>Q3</td>\n",
       "      <td>4</td>\n",
       "    </tr>\n",
       "    <tr>\n",
       "      <th>3</th>\n",
       "      <td>Q1</td>\n",
       "      <td>Q5</td>\n",
       "      <td>1</td>\n",
       "    </tr>\n",
       "    <tr>\n",
       "      <th>4</th>\n",
       "      <td>Q1</td>\n",
       "      <td>Q4</td>\n",
       "      <td>0</td>\n",
       "    </tr>\n",
       "    <tr>\n",
       "      <th>5</th>\n",
       "      <td>Q2</td>\n",
       "      <td>Q2</td>\n",
       "      <td>68</td>\n",
       "    </tr>\n",
       "    <tr>\n",
       "      <th>6</th>\n",
       "      <td>Q2</td>\n",
       "      <td>Q1</td>\n",
       "      <td>61</td>\n",
       "    </tr>\n",
       "    <tr>\n",
       "      <th>7</th>\n",
       "      <td>Q2</td>\n",
       "      <td>Q3</td>\n",
       "      <td>16</td>\n",
       "    </tr>\n",
       "    <tr>\n",
       "      <th>8</th>\n",
       "      <td>Q2</td>\n",
       "      <td>Q4</td>\n",
       "      <td>11</td>\n",
       "    </tr>\n",
       "    <tr>\n",
       "      <th>9</th>\n",
       "      <td>Q2</td>\n",
       "      <td>Q5</td>\n",
       "      <td>4</td>\n",
       "    </tr>\n",
       "    <tr>\n",
       "      <th>10</th>\n",
       "      <td>Q3</td>\n",
       "      <td>Q1</td>\n",
       "      <td>123</td>\n",
       "    </tr>\n",
       "    <tr>\n",
       "      <th>11</th>\n",
       "      <td>Q3</td>\n",
       "      <td>Q3</td>\n",
       "      <td>107</td>\n",
       "    </tr>\n",
       "    <tr>\n",
       "      <th>12</th>\n",
       "      <td>Q3</td>\n",
       "      <td>Q2</td>\n",
       "      <td>87</td>\n",
       "    </tr>\n",
       "    <tr>\n",
       "      <th>13</th>\n",
       "      <td>Q3</td>\n",
       "      <td>Q4</td>\n",
       "      <td>35</td>\n",
       "    </tr>\n",
       "    <tr>\n",
       "      <th>14</th>\n",
       "      <td>Q3</td>\n",
       "      <td>Q5</td>\n",
       "      <td>9</td>\n",
       "    </tr>\n",
       "    <tr>\n",
       "      <th>15</th>\n",
       "      <td>Q4</td>\n",
       "      <td>Q3</td>\n",
       "      <td>192</td>\n",
       "    </tr>\n",
       "    <tr>\n",
       "      <th>16</th>\n",
       "      <td>Q4</td>\n",
       "      <td>Q4</td>\n",
       "      <td>192</td>\n",
       "    </tr>\n",
       "    <tr>\n",
       "      <th>17</th>\n",
       "      <td>Q4</td>\n",
       "      <td>Q2</td>\n",
       "      <td>145</td>\n",
       "    </tr>\n",
       "    <tr>\n",
       "      <th>18</th>\n",
       "      <td>Q4</td>\n",
       "      <td>Q1</td>\n",
       "      <td>136</td>\n",
       "    </tr>\n",
       "    <tr>\n",
       "      <th>19</th>\n",
       "      <td>Q4</td>\n",
       "      <td>Q5</td>\n",
       "      <td>56</td>\n",
       "    </tr>\n",
       "    <tr>\n",
       "      <th>20</th>\n",
       "      <td>Q5</td>\n",
       "      <td>Q5</td>\n",
       "      <td>1381</td>\n",
       "    </tr>\n",
       "    <tr>\n",
       "      <th>21</th>\n",
       "      <td>Q5</td>\n",
       "      <td>Q4</td>\n",
       "      <td>681</td>\n",
       "    </tr>\n",
       "    <tr>\n",
       "      <th>22</th>\n",
       "      <td>Q5</td>\n",
       "      <td>Q3</td>\n",
       "      <td>493</td>\n",
       "    </tr>\n",
       "    <tr>\n",
       "      <th>23</th>\n",
       "      <td>Q5</td>\n",
       "      <td>Q2</td>\n",
       "      <td>306</td>\n",
       "    </tr>\n",
       "    <tr>\n",
       "      <th>24</th>\n",
       "      <td>Q5</td>\n",
       "      <td>Q1</td>\n",
       "      <td>212</td>\n",
       "    </tr>\n",
       "  </tbody>\n",
       "</table>\n",
       "</div>"
      ],
      "text/plain": [
       "   training_university hiring_university  counts\n",
       "0                   Q1                Q1      63\n",
       "1                   Q1                Q2       5\n",
       "2                   Q1                Q3       4\n",
       "3                   Q1                Q5       1\n",
       "4                   Q1                Q4       0\n",
       "5                   Q2                Q2      68\n",
       "6                   Q2                Q1      61\n",
       "7                   Q2                Q3      16\n",
       "8                   Q2                Q4      11\n",
       "9                   Q2                Q5       4\n",
       "10                  Q3                Q1     123\n",
       "11                  Q3                Q3     107\n",
       "12                  Q3                Q2      87\n",
       "13                  Q3                Q4      35\n",
       "14                  Q3                Q5       9\n",
       "15                  Q4                Q3     192\n",
       "16                  Q4                Q4     192\n",
       "17                  Q4                Q2     145\n",
       "18                  Q4                Q1     136\n",
       "19                  Q4                Q5      56\n",
       "20                  Q5                Q5    1381\n",
       "21                  Q5                Q4     681\n",
       "22                  Q5                Q3     493\n",
       "23                  Q5                Q2     306\n",
       "24                  Q5                Q1     212"
      ]
     },
     "execution_count": 20,
     "metadata": {},
     "output_type": "execute_result"
    }
   ],
   "source": [
    "# Compute number of people \n",
    "pairwise_counts = edges.groupby('u_quantile').v_quantile.value_counts()\n",
    "pairwise_counts.index = pairwise_counts.index.set_names(['training_university', 'hiring_university'])\n",
    "pairwise_counts= pairwise_counts.reset_index()\n",
    "pairwise_counts = pairwise_counts.rename({'v_quantile': 'counts'}, axis=1)\n",
    "pairwise_counts"
   ]
  },
  {
   "cell_type": "markdown",
   "metadata": {},
   "source": [
    "Interpreting the question as \"**fraction of people in the dataset who got their Ph.D. from a university $Q_i$**\" (denominator of the fraction = number of people who did their PhD in university $Q_i$) and not as \"**fraction of people in the dataset,** who got their Ph.D. from a university $Q_i$\" (denominator of the fraction = number of people in the dataset)"
   ]
  },
  {
   "cell_type": "code",
   "execution_count": 21,
   "metadata": {},
   "outputs": [
    {
     "data": {
      "text/plain": [
       "training_university\n",
       "Q1      73\n",
       "Q2     160\n",
       "Q3     361\n",
       "Q4     721\n",
       "Q5    3073\n",
       "Name: counts, dtype: int64"
      ]
     },
     "execution_count": 21,
     "metadata": {},
     "output_type": "execute_result"
    }
   ],
   "source": [
    "trained_by_quantile = pairwise_counts.groupby('training_university').counts.sum()\n",
    "trained_by_quantile"
   ]
  },
  {
   "cell_type": "code",
   "execution_count": 22,
   "metadata": {},
   "outputs": [
    {
     "data": {
      "text/html": [
       "<div>\n",
       "<style scoped>\n",
       "    .dataframe tbody tr th:only-of-type {\n",
       "        vertical-align: middle;\n",
       "    }\n",
       "\n",
       "    .dataframe tbody tr th {\n",
       "        vertical-align: top;\n",
       "    }\n",
       "\n",
       "    .dataframe thead th {\n",
       "        text-align: right;\n",
       "    }\n",
       "</style>\n",
       "<table border=\"1\" class=\"dataframe\">\n",
       "  <thead>\n",
       "    <tr style=\"text-align: right;\">\n",
       "      <th></th>\n",
       "      <th>training_university</th>\n",
       "      <th>hiring_university</th>\n",
       "      <th>counts</th>\n",
       "    </tr>\n",
       "  </thead>\n",
       "  <tbody>\n",
       "    <tr>\n",
       "      <th>0</th>\n",
       "      <td>Q1</td>\n",
       "      <td>Q1</td>\n",
       "      <td>0.863014</td>\n",
       "    </tr>\n",
       "    <tr>\n",
       "      <th>1</th>\n",
       "      <td>Q1</td>\n",
       "      <td>Q2</td>\n",
       "      <td>0.068493</td>\n",
       "    </tr>\n",
       "    <tr>\n",
       "      <th>2</th>\n",
       "      <td>Q1</td>\n",
       "      <td>Q3</td>\n",
       "      <td>0.054795</td>\n",
       "    </tr>\n",
       "    <tr>\n",
       "      <th>3</th>\n",
       "      <td>Q1</td>\n",
       "      <td>Q5</td>\n",
       "      <td>0.013699</td>\n",
       "    </tr>\n",
       "    <tr>\n",
       "      <th>4</th>\n",
       "      <td>Q1</td>\n",
       "      <td>Q4</td>\n",
       "      <td>0.000000</td>\n",
       "    </tr>\n",
       "    <tr>\n",
       "      <th>5</th>\n",
       "      <td>Q2</td>\n",
       "      <td>Q2</td>\n",
       "      <td>0.425000</td>\n",
       "    </tr>\n",
       "    <tr>\n",
       "      <th>6</th>\n",
       "      <td>Q2</td>\n",
       "      <td>Q1</td>\n",
       "      <td>0.381250</td>\n",
       "    </tr>\n",
       "    <tr>\n",
       "      <th>7</th>\n",
       "      <td>Q2</td>\n",
       "      <td>Q3</td>\n",
       "      <td>0.100000</td>\n",
       "    </tr>\n",
       "    <tr>\n",
       "      <th>8</th>\n",
       "      <td>Q2</td>\n",
       "      <td>Q4</td>\n",
       "      <td>0.068750</td>\n",
       "    </tr>\n",
       "    <tr>\n",
       "      <th>9</th>\n",
       "      <td>Q2</td>\n",
       "      <td>Q5</td>\n",
       "      <td>0.025000</td>\n",
       "    </tr>\n",
       "    <tr>\n",
       "      <th>10</th>\n",
       "      <td>Q3</td>\n",
       "      <td>Q1</td>\n",
       "      <td>0.340720</td>\n",
       "    </tr>\n",
       "    <tr>\n",
       "      <th>11</th>\n",
       "      <td>Q3</td>\n",
       "      <td>Q3</td>\n",
       "      <td>0.296399</td>\n",
       "    </tr>\n",
       "    <tr>\n",
       "      <th>12</th>\n",
       "      <td>Q3</td>\n",
       "      <td>Q2</td>\n",
       "      <td>0.240997</td>\n",
       "    </tr>\n",
       "    <tr>\n",
       "      <th>13</th>\n",
       "      <td>Q3</td>\n",
       "      <td>Q4</td>\n",
       "      <td>0.096953</td>\n",
       "    </tr>\n",
       "    <tr>\n",
       "      <th>14</th>\n",
       "      <td>Q3</td>\n",
       "      <td>Q5</td>\n",
       "      <td>0.024931</td>\n",
       "    </tr>\n",
       "    <tr>\n",
       "      <th>15</th>\n",
       "      <td>Q4</td>\n",
       "      <td>Q3</td>\n",
       "      <td>0.266297</td>\n",
       "    </tr>\n",
       "    <tr>\n",
       "      <th>16</th>\n",
       "      <td>Q4</td>\n",
       "      <td>Q4</td>\n",
       "      <td>0.266297</td>\n",
       "    </tr>\n",
       "    <tr>\n",
       "      <th>17</th>\n",
       "      <td>Q4</td>\n",
       "      <td>Q2</td>\n",
       "      <td>0.201110</td>\n",
       "    </tr>\n",
       "    <tr>\n",
       "      <th>18</th>\n",
       "      <td>Q4</td>\n",
       "      <td>Q1</td>\n",
       "      <td>0.188627</td>\n",
       "    </tr>\n",
       "    <tr>\n",
       "      <th>19</th>\n",
       "      <td>Q4</td>\n",
       "      <td>Q5</td>\n",
       "      <td>0.077670</td>\n",
       "    </tr>\n",
       "    <tr>\n",
       "      <th>20</th>\n",
       "      <td>Q5</td>\n",
       "      <td>Q5</td>\n",
       "      <td>0.449398</td>\n",
       "    </tr>\n",
       "    <tr>\n",
       "      <th>21</th>\n",
       "      <td>Q5</td>\n",
       "      <td>Q4</td>\n",
       "      <td>0.221608</td>\n",
       "    </tr>\n",
       "    <tr>\n",
       "      <th>22</th>\n",
       "      <td>Q5</td>\n",
       "      <td>Q3</td>\n",
       "      <td>0.160430</td>\n",
       "    </tr>\n",
       "    <tr>\n",
       "      <th>23</th>\n",
       "      <td>Q5</td>\n",
       "      <td>Q2</td>\n",
       "      <td>0.099577</td>\n",
       "    </tr>\n",
       "    <tr>\n",
       "      <th>24</th>\n",
       "      <td>Q5</td>\n",
       "      <td>Q1</td>\n",
       "      <td>0.068988</td>\n",
       "    </tr>\n",
       "  </tbody>\n",
       "</table>\n",
       "</div>"
      ],
      "text/plain": [
       "   training_university hiring_university    counts\n",
       "0                   Q1                Q1  0.863014\n",
       "1                   Q1                Q2  0.068493\n",
       "2                   Q1                Q3  0.054795\n",
       "3                   Q1                Q5  0.013699\n",
       "4                   Q1                Q4  0.000000\n",
       "5                   Q2                Q2  0.425000\n",
       "6                   Q2                Q1  0.381250\n",
       "7                   Q2                Q3  0.100000\n",
       "8                   Q2                Q4  0.068750\n",
       "9                   Q2                Q5  0.025000\n",
       "10                  Q3                Q1  0.340720\n",
       "11                  Q3                Q3  0.296399\n",
       "12                  Q3                Q2  0.240997\n",
       "13                  Q3                Q4  0.096953\n",
       "14                  Q3                Q5  0.024931\n",
       "15                  Q4                Q3  0.266297\n",
       "16                  Q4                Q4  0.266297\n",
       "17                  Q4                Q2  0.201110\n",
       "18                  Q4                Q1  0.188627\n",
       "19                  Q4                Q5  0.077670\n",
       "20                  Q5                Q5  0.449398\n",
       "21                  Q5                Q4  0.221608\n",
       "22                  Q5                Q3  0.160430\n",
       "23                  Q5                Q2  0.099577\n",
       "24                  Q5                Q1  0.068988"
      ]
     },
     "execution_count": 22,
     "metadata": {},
     "output_type": "execute_result"
    }
   ],
   "source": [
    "# Converting counts to fractions\n",
    "pairwise_counts.counts = pairwise_counts.counts / trained_by_quantile[pairwise_counts.training_university.values].values\n",
    "pairwise_counts"
   ]
  },
  {
   "cell_type": "code",
   "execution_count": 23,
   "metadata": {},
   "outputs": [
    {
     "data": {
      "image/png": "[encoded data removed]",
      "text/plain": [
       "<Figure size 432x288 with 2 Axes>"
      ]
     },
     "metadata": {
      "needs_background": "light"
     },
     "output_type": "display_data"
    }
   ],
   "source": [
    "# Prepare data for plotting\n",
    "data_heat = pairwise_counts.pivot(index='training_university', columns='hiring_university', values='counts')\n",
    "sns.heatmap(data_heat, cmap=\"YlGnBu\");"
   ]
  },
  {
   "cell_type": "markdown",
   "metadata": {},
   "source": [
    "2."
   ]
  },
  {
   "cell_type": "markdown",
   "metadata": {},
   "source": [
    "**B**, Ph.D. graduates who are hired as professors usually go to universities that are around the same or worse than the universities where they were trained.\n",
    "This is evident as the \"heatmap matrix\" is lower-diagonal-like, meaning that hired researchers tend to get hired at universities at the same level or worse than the ones where they were trained, and only rarely get hired at better universities."
   ]
  },
  {
   "cell_type": "markdown",
   "metadata": {},
   "source": [
    "3."
   ]
  },
  {
   "cell_type": "markdown",
   "metadata": {},
   "source": [
    "**False**. The data only show students who later where hired and became researchers, and not all students. Therefore, the statement would be true only if the assumptions would include obtaining a PhD in Q1 but also getting hired somewhere."
   ]
  },
  {
   "cell_type": "markdown",
   "metadata": {},
   "source": [
    "### Task 3 — (25 points)\n",
    "\n",
    "Let the \"source university\" of a person be the university at which the person got their Ph.D., and let their \"target university\" be the university at which they were hired after their Ph.D.\n",
    "\n",
    "\n",
    "1. For each hiring decision $(u, v)$, let the score gain ($d$) be defined as the difference between the scores of the target university and the source university (target university score minus source university score; see hint for example). Calculate the average difference for men ($\\bar{d_{M}}$) and for women ($\\bar{d_{F}}$) in the dataset. Determine whether the difference between these two averages ($\\bar{d_{M}}$ and $\\bar{d_{F}}$) is statistically significant.\n",
    "\n",
    "2. **/True or false:/** Is the following statement **true** or **false**? Justify your answer. **\"The results you obtained in Task 3.1 do not refute the hypothesis that women are disadvantaged in the faculty hiring process.\"**\n",
    "\n",
    "3. For each quintile $Q$ from Task 2.1, calculate the following: **(a)** the percentage of women among hiring decisions $(u, v)$ with $u \\in Q$ ; and **b)** the average score gain for hiring decisions $(u, v)$ with $u \\in Q$.\n",
    "\n",
    "4. **/Discuss:/** Considering the results obtained in Task 3.3, why is comparing the average score gain for men ($\\bar{d_{M}}$) and women ($\\bar{d_{F}}$) insufficient for determining the causal effect of gender on score gain?\n",
    "\n",
    "5. Use `statsmodels` to run a linear regression where hiring decisions (edges of the hiring network) are the data points, gender and source-university score are the predictors, and score gain is the outcome. Report the summary of your model.\n",
    "\n",
    "6. **/True or false:/** Considering the following statement, answer **true** or **false** and justify your answer. **\"The results you obtained in Task 3.5 suggest that academic hiring decisions are unfair to women.\"**\n",
    "\n",
    "---\n",
    "**Hint** — The university with the best score is Stanford University (score 100), and the university with the 10th best score is the University of Washington (score 95.26). If someone was trained at Stanford and then got a job at the University of Washington, their score gain is $95.26 - 100 = -4.74$."
   ]
  },
  {
   "cell_type": "code",
   "execution_count": 24,
   "metadata": {
    "pycharm": {
     "name": "#%%\n"
    }
   },
   "outputs": [
    {
     "data": {
      "text/html": [
       "<div>\n",
       "<style scoped>\n",
       "    .dataframe tbody tr th:only-of-type {\n",
       "        vertical-align: middle;\n",
       "    }\n",
       "\n",
       "    .dataframe tbody tr th {\n",
       "        vertical-align: top;\n",
       "    }\n",
       "\n",
       "    .dataframe thead th {\n",
       "        text-align: right;\n",
       "    }\n",
       "</style>\n",
       "<table border=\"1\" class=\"dataframe\">\n",
       "  <thead>\n",
       "    <tr style=\"text-align: right;\">\n",
       "      <th></th>\n",
       "      <th>u</th>\n",
       "      <th>v</th>\n",
       "      <th>gender</th>\n",
       "      <th>u_quantile</th>\n",
       "      <th>v_quantile</th>\n",
       "      <th>u_score</th>\n",
       "      <th>v_score</th>\n",
       "      <th>score_gain</th>\n",
       "    </tr>\n",
       "  </thead>\n",
       "  <tbody>\n",
       "    <tr>\n",
       "      <th>0</th>\n",
       "      <td>1</td>\n",
       "      <td>1</td>\n",
       "      <td>F</td>\n",
       "      <td>Q5</td>\n",
       "      <td>Q5</td>\n",
       "      <td>100.0</td>\n",
       "      <td>100.000000</td>\n",
       "      <td>0.000000</td>\n",
       "    </tr>\n",
       "    <tr>\n",
       "      <th>1</th>\n",
       "      <td>1</td>\n",
       "      <td>1</td>\n",
       "      <td>F</td>\n",
       "      <td>Q5</td>\n",
       "      <td>Q5</td>\n",
       "      <td>100.0</td>\n",
       "      <td>100.000000</td>\n",
       "      <td>0.000000</td>\n",
       "    </tr>\n",
       "    <tr>\n",
       "      <th>2</th>\n",
       "      <td>1</td>\n",
       "      <td>1</td>\n",
       "      <td>F</td>\n",
       "      <td>Q5</td>\n",
       "      <td>Q5</td>\n",
       "      <td>100.0</td>\n",
       "      <td>100.000000</td>\n",
       "      <td>0.000000</td>\n",
       "    </tr>\n",
       "    <tr>\n",
       "      <th>3</th>\n",
       "      <td>1</td>\n",
       "      <td>1</td>\n",
       "      <td>M</td>\n",
       "      <td>Q5</td>\n",
       "      <td>Q5</td>\n",
       "      <td>100.0</td>\n",
       "      <td>100.000000</td>\n",
       "      <td>0.000000</td>\n",
       "    </tr>\n",
       "    <tr>\n",
       "      <th>4</th>\n",
       "      <td>1</td>\n",
       "      <td>1</td>\n",
       "      <td>M</td>\n",
       "      <td>Q5</td>\n",
       "      <td>Q5</td>\n",
       "      <td>100.0</td>\n",
       "      <td>100.000000</td>\n",
       "      <td>0.000000</td>\n",
       "    </tr>\n",
       "    <tr>\n",
       "      <th>5</th>\n",
       "      <td>1</td>\n",
       "      <td>1</td>\n",
       "      <td>F</td>\n",
       "      <td>Q5</td>\n",
       "      <td>Q5</td>\n",
       "      <td>100.0</td>\n",
       "      <td>100.000000</td>\n",
       "      <td>0.000000</td>\n",
       "    </tr>\n",
       "    <tr>\n",
       "      <th>6</th>\n",
       "      <td>1</td>\n",
       "      <td>1</td>\n",
       "      <td>F</td>\n",
       "      <td>Q5</td>\n",
       "      <td>Q5</td>\n",
       "      <td>100.0</td>\n",
       "      <td>100.000000</td>\n",
       "      <td>0.000000</td>\n",
       "    </tr>\n",
       "    <tr>\n",
       "      <th>7</th>\n",
       "      <td>1</td>\n",
       "      <td>1</td>\n",
       "      <td>F</td>\n",
       "      <td>Q5</td>\n",
       "      <td>Q5</td>\n",
       "      <td>100.0</td>\n",
       "      <td>100.000000</td>\n",
       "      <td>0.000000</td>\n",
       "    </tr>\n",
       "    <tr>\n",
       "      <th>8</th>\n",
       "      <td>1</td>\n",
       "      <td>1</td>\n",
       "      <td>M</td>\n",
       "      <td>Q5</td>\n",
       "      <td>Q5</td>\n",
       "      <td>100.0</td>\n",
       "      <td>100.000000</td>\n",
       "      <td>0.000000</td>\n",
       "    </tr>\n",
       "    <tr>\n",
       "      <th>9</th>\n",
       "      <td>1</td>\n",
       "      <td>2</td>\n",
       "      <td>F</td>\n",
       "      <td>Q5</td>\n",
       "      <td>Q5</td>\n",
       "      <td>100.0</td>\n",
       "      <td>99.956665</td>\n",
       "      <td>-0.043335</td>\n",
       "    </tr>\n",
       "    <tr>\n",
       "      <th>10</th>\n",
       "      <td>1</td>\n",
       "      <td>2</td>\n",
       "      <td>F</td>\n",
       "      <td>Q5</td>\n",
       "      <td>Q5</td>\n",
       "      <td>100.0</td>\n",
       "      <td>99.956665</td>\n",
       "      <td>-0.043335</td>\n",
       "    </tr>\n",
       "    <tr>\n",
       "      <th>11</th>\n",
       "      <td>1</td>\n",
       "      <td>2</td>\n",
       "      <td>M</td>\n",
       "      <td>Q5</td>\n",
       "      <td>Q5</td>\n",
       "      <td>100.0</td>\n",
       "      <td>99.956665</td>\n",
       "      <td>-0.043335</td>\n",
       "    </tr>\n",
       "    <tr>\n",
       "      <th>12</th>\n",
       "      <td>1</td>\n",
       "      <td>2</td>\n",
       "      <td>M</td>\n",
       "      <td>Q5</td>\n",
       "      <td>Q5</td>\n",
       "      <td>100.0</td>\n",
       "      <td>99.956665</td>\n",
       "      <td>-0.043335</td>\n",
       "    </tr>\n",
       "    <tr>\n",
       "      <th>13</th>\n",
       "      <td>1</td>\n",
       "      <td>2</td>\n",
       "      <td>F</td>\n",
       "      <td>Q5</td>\n",
       "      <td>Q5</td>\n",
       "      <td>100.0</td>\n",
       "      <td>99.956665</td>\n",
       "      <td>-0.043335</td>\n",
       "    </tr>\n",
       "    <tr>\n",
       "      <th>14</th>\n",
       "      <td>1</td>\n",
       "      <td>2</td>\n",
       "      <td>F</td>\n",
       "      <td>Q5</td>\n",
       "      <td>Q5</td>\n",
       "      <td>100.0</td>\n",
       "      <td>99.956665</td>\n",
       "      <td>-0.043335</td>\n",
       "    </tr>\n",
       "    <tr>\n",
       "      <th>15</th>\n",
       "      <td>1</td>\n",
       "      <td>2</td>\n",
       "      <td>F</td>\n",
       "      <td>Q5</td>\n",
       "      <td>Q5</td>\n",
       "      <td>100.0</td>\n",
       "      <td>99.956665</td>\n",
       "      <td>-0.043335</td>\n",
       "    </tr>\n",
       "    <tr>\n",
       "      <th>16</th>\n",
       "      <td>1</td>\n",
       "      <td>2</td>\n",
       "      <td>M</td>\n",
       "      <td>Q5</td>\n",
       "      <td>Q5</td>\n",
       "      <td>100.0</td>\n",
       "      <td>99.956665</td>\n",
       "      <td>-0.043335</td>\n",
       "    </tr>\n",
       "    <tr>\n",
       "      <th>17</th>\n",
       "      <td>1</td>\n",
       "      <td>2</td>\n",
       "      <td>F</td>\n",
       "      <td>Q5</td>\n",
       "      <td>Q5</td>\n",
       "      <td>100.0</td>\n",
       "      <td>99.956665</td>\n",
       "      <td>-0.043335</td>\n",
       "    </tr>\n",
       "    <tr>\n",
       "      <th>18</th>\n",
       "      <td>1</td>\n",
       "      <td>3</td>\n",
       "      <td>F</td>\n",
       "      <td>Q5</td>\n",
       "      <td>Q5</td>\n",
       "      <td>100.0</td>\n",
       "      <td>99.301230</td>\n",
       "      <td>-0.698770</td>\n",
       "    </tr>\n",
       "    <tr>\n",
       "      <th>19</th>\n",
       "      <td>1</td>\n",
       "      <td>3</td>\n",
       "      <td>M</td>\n",
       "      <td>Q5</td>\n",
       "      <td>Q5</td>\n",
       "      <td>100.0</td>\n",
       "      <td>99.301230</td>\n",
       "      <td>-0.698770</td>\n",
       "    </tr>\n",
       "  </tbody>\n",
       "</table>\n",
       "</div>"
      ],
      "text/plain": [
       "    u  v gender u_quantile v_quantile  u_score     v_score  score_gain\n",
       "0   1  1      F         Q5         Q5    100.0  100.000000    0.000000\n",
       "1   1  1      F         Q5         Q5    100.0  100.000000    0.000000\n",
       "2   1  1      F         Q5         Q5    100.0  100.000000    0.000000\n",
       "3   1  1      M         Q5         Q5    100.0  100.000000    0.000000\n",
       "4   1  1      M         Q5         Q5    100.0  100.000000    0.000000\n",
       "5   1  1      F         Q5         Q5    100.0  100.000000    0.000000\n",
       "6   1  1      F         Q5         Q5    100.0  100.000000    0.000000\n",
       "7   1  1      F         Q5         Q5    100.0  100.000000    0.000000\n",
       "8   1  1      M         Q5         Q5    100.0  100.000000    0.000000\n",
       "9   1  2      F         Q5         Q5    100.0   99.956665   -0.043335\n",
       "10  1  2      F         Q5         Q5    100.0   99.956665   -0.043335\n",
       "11  1  2      M         Q5         Q5    100.0   99.956665   -0.043335\n",
       "12  1  2      M         Q5         Q5    100.0   99.956665   -0.043335\n",
       "13  1  2      F         Q5         Q5    100.0   99.956665   -0.043335\n",
       "14  1  2      F         Q5         Q5    100.0   99.956665   -0.043335\n",
       "15  1  2      F         Q5         Q5    100.0   99.956665   -0.043335\n",
       "16  1  2      M         Q5         Q5    100.0   99.956665   -0.043335\n",
       "17  1  2      F         Q5         Q5    100.0   99.956665   -0.043335\n",
       "18  1  3      F         Q5         Q5    100.0   99.301230   -0.698770\n",
       "19  1  3      M         Q5         Q5    100.0   99.301230   -0.698770"
      ]
     },
     "execution_count": 24,
     "metadata": {},
     "output_type": "execute_result"
    }
   ],
   "source": [
    "edges['u_score'] = nodes.loc[edges.u.values]['score'].values\n",
    "edges['v_score'] = nodes.loc[edges.v.values]['score'].values\n",
    "edges['score_gain'] = edges['v_score'] - edges['u_score']\n",
    "edges.head(20)"
   ]
  },
  {
   "cell_type": "code",
   "execution_count": 25,
   "metadata": {},
   "outputs": [
    {
     "data": {
      "text/html": [
       "<div>\n",
       "<style scoped>\n",
       "    .dataframe tbody tr th:only-of-type {\n",
       "        vertical-align: middle;\n",
       "    }\n",
       "\n",
       "    .dataframe tbody tr th {\n",
       "        vertical-align: top;\n",
       "    }\n",
       "\n",
       "    .dataframe thead th {\n",
       "        text-align: right;\n",
       "    }\n",
       "</style>\n",
       "<table border=\"1\" class=\"dataframe\">\n",
       "  <thead>\n",
       "    <tr style=\"text-align: right;\">\n",
       "      <th></th>\n",
       "      <th>count</th>\n",
       "      <th>mean</th>\n",
       "      <th>std</th>\n",
       "      <th>min</th>\n",
       "      <th>25%</th>\n",
       "      <th>50%</th>\n",
       "      <th>75%</th>\n",
       "      <th>max</th>\n",
       "    </tr>\n",
       "    <tr>\n",
       "      <th>gender</th>\n",
       "      <th></th>\n",
       "      <th></th>\n",
       "      <th></th>\n",
       "      <th></th>\n",
       "      <th></th>\n",
       "      <th></th>\n",
       "      <th></th>\n",
       "      <th></th>\n",
       "    </tr>\n",
       "  </thead>\n",
       "  <tbody>\n",
       "    <tr>\n",
       "      <th>F</th>\n",
       "      <td>2009.0</td>\n",
       "      <td>-25.201988</td>\n",
       "      <td>25.571818</td>\n",
       "      <td>-94.18233</td>\n",
       "      <td>-42.673745</td>\n",
       "      <td>-19.570987</td>\n",
       "      <td>-3.818861</td>\n",
       "      <td>42.462488</td>\n",
       "    </tr>\n",
       "    <tr>\n",
       "      <th>M</th>\n",
       "      <td>2379.0</td>\n",
       "      <td>-23.255171</td>\n",
       "      <td>25.625527</td>\n",
       "      <td>-96.21364</td>\n",
       "      <td>-40.618060</td>\n",
       "      <td>-18.444288</td>\n",
       "      <td>-3.120091</td>\n",
       "      <td>66.031093</td>\n",
       "    </tr>\n",
       "  </tbody>\n",
       "</table>\n",
       "</div>"
      ],
      "text/plain": [
       "         count       mean        std       min        25%        50%  \\\n",
       "gender                                                                 \n",
       "F       2009.0 -25.201988  25.571818 -94.18233 -42.673745 -19.570987   \n",
       "M       2379.0 -23.255171  25.625527 -96.21364 -40.618060 -18.444288   \n",
       "\n",
       "             75%        max  \n",
       "gender                       \n",
       "F      -3.818861  42.462488  \n",
       "M      -3.120091  66.031093  "
      ]
     },
     "execution_count": 25,
     "metadata": {},
     "output_type": "execute_result"
    }
   ],
   "source": [
    "edges.groupby('gender').score_gain.describe()"
   ]
  },
  {
   "cell_type": "code",
   "execution_count": 26,
   "metadata": {},
   "outputs": [],
   "source": [
    "edges_male = edges[edges.gender == 'M']\n",
    "edges_female = edges[edges.gender == 'F']"
   ]
  },
  {
   "cell_type": "code",
   "execution_count": 27,
   "metadata": {},
   "outputs": [
    {
     "data": {
      "text/plain": [
       "BootstrapResult(confidence_interval=ConfidenceInterval(low=-24.295240943765204, high=-22.24208709685244), standard_error=0.525090369052245)"
      ]
     },
     "execution_count": 27,
     "metadata": {},
     "output_type": "execute_result"
    }
   ],
   "source": [
    "stats.bootstrap([edges_male.score_gain], np.mean)"
   ]
  },
  {
   "cell_type": "code",
   "execution_count": 28,
   "metadata": {},
   "outputs": [
    {
     "data": {
      "text/plain": [
       "BootstrapResult(confidence_interval=ConfidenceInterval(low=-26.3051268200566, high=-24.109006737340362), standard_error=0.5625313694810107)"
      ]
     },
     "execution_count": 28,
     "metadata": {},
     "output_type": "execute_result"
    }
   ],
   "source": [
    "stats.bootstrap([edges_female.score_gain], np.mean)"
   ]
  },
  {
   "cell_type": "code",
   "execution_count": 29,
   "metadata": {},
   "outputs": [
    {
     "data": {
      "text/plain": [
       "Ttest_indResult(statistic=2.5097073505441556, pvalue=0.01211886846683103)"
      ]
     },
     "execution_count": 29,
     "metadata": {},
     "output_type": "execute_result"
    }
   ],
   "source": [
    "stats.ttest_ind(edges_male.score_gain, edges_female.score_gain)"
   ]
  },
  {
   "cell_type": "markdown",
   "metadata": {},
   "source": [
    "We can see that the boostrapped confidence intervals are only slightly overlapping. Furtheremore, the t-test reveals that under the assumption that the two distributions have the same mean, the probabilities of obtaining data at least as extreme (means as different) as the ones obtaines is close to 0.01. Therefore, the difference is statistically significant."
   ]
  },
  {
   "cell_type": "markdown",
   "metadata": {},
   "source": [
    "2."
   ]
  },
  {
   "cell_type": "markdown",
   "metadata": {},
   "source": [
    "**True**. The results would seem to indicate that indeed women are disadvantaged in the faculty hiring process since their score_gain is lower, which means that they are hired in relatively worst (compared to the ones where they were trained) universities with respect to males. However, this hypothesis needs further investigation."
   ]
  },
  {
   "cell_type": "markdown",
   "metadata": {},
   "source": [
    "3."
   ]
  },
  {
   "cell_type": "markdown",
   "metadata": {},
   "source": [
    "For each quintile  𝑄  from Task 2.1, calculate the following: (a) the percentage of women among hiring decisions  (𝑢,𝑣)  with  𝑢∈𝑄  ; and b) the average score gain for hiring decisions  (𝑢,𝑣)  with  𝑢∈𝑄 ."
   ]
  },
  {
   "cell_type": "code",
   "execution_count": 30,
   "metadata": {},
   "outputs": [
    {
     "data": {
      "text/plain": [
       "u_quantile  gender\n",
       "Q1          M         0.890411\n",
       "            F         0.109589\n",
       "Q2          M         0.800000\n",
       "            F         0.200000\n",
       "Q3          M         0.700831\n",
       "            F         0.299169\n",
       "Q4          M         0.597781\n",
       "            F         0.402219\n",
       "Q5          F         0.511227\n",
       "            M         0.488773\n",
       "Name: gender, dtype: float64"
      ]
     },
     "execution_count": 30,
     "metadata": {},
     "output_type": "execute_result"
    }
   ],
   "source": [
    "gender_by_uquantile = edges.groupby('u_quantile').gender.value_counts(normalize=True)\n",
    "gender_by_uquantile"
   ]
  },
  {
   "cell_type": "code",
   "execution_count": 31,
   "metadata": {},
   "outputs": [
    {
     "data": {
      "text/plain": [
       "u_quantile\n",
       "Q1    10.958904\n",
       "Q2    20.000000\n",
       "Q3    29.916898\n",
       "Q4    40.221914\n",
       "Q5    51.122681\n",
       "Name: F, dtype: float64"
      ]
     },
     "execution_count": 31,
     "metadata": {},
     "output_type": "execute_result"
    }
   ],
   "source": [
    "\n",
    "female_percentages = gender_by_uquantile.unstack()['F']*100\n",
    "female_percentages"
   ]
  },
  {
   "cell_type": "code",
   "execution_count": 32,
   "metadata": {},
   "outputs": [
    {
     "data": {
      "text/plain": [
       "u_quantile\n",
       "Q1     2.215927\n",
       "Q2    -1.689948\n",
       "Q3   -14.244373\n",
       "Q4   -23.425257\n",
       "Q5   -27.274451\n",
       "Name: score_gain, dtype: float64"
      ]
     },
     "execution_count": 32,
     "metadata": {},
     "output_type": "execute_result"
    }
   ],
   "source": [
    "# Print average score gain by quantile\n",
    "edges.groupby('u_quantile').score_gain.mean()"
   ]
  },
  {
   "cell_type": "markdown",
   "metadata": {},
   "source": [
    "4."
   ]
  },
  {
   "cell_type": "markdown",
   "metadata": {},
   "source": [
    "Comparing the average by gender is insufficient because it does not take into account the gender distribution of students from source universities. In fact, the results of points 3. show that hiring decisions in high quantiles include a higher percentage of women with respect to low quantiles, and at the same time the score gain in high quantiles is lower than for low quantiles. Therefore, the result seen in point 2. could be entirely produced by this gender asymmetry by quantile in hiring decisions. It is thus not possible to conclude anything from the naive average comparison of point 2."
   ]
  },
  {
   "cell_type": "markdown",
   "metadata": {},
   "source": [
    "5."
   ]
  },
  {
   "cell_type": "code",
   "execution_count": 33,
   "metadata": {},
   "outputs": [],
   "source": [
    "mod = smf.ols(formula='score_gain ~ u + C(gender, Treatment(reference=\"M\"))', data=edges)\n",
    "res = mod.fit()"
   ]
  },
  {
   "cell_type": "code",
   "execution_count": 34,
   "metadata": {},
   "outputs": [
    {
     "name": "stdout",
     "output_type": "stream",
     "text": [
      "                            OLS Regression Results                            \n",
      "==============================================================================\n",
      "Dep. Variable:             score_gain   R-squared:                       0.052\n",
      "Model:                            OLS   Adj. R-squared:                  0.051\n",
      "Method:                 Least Squares   F-statistic:                     119.7\n",
      "Date:                Tue, 25 Jan 2022   Prob (F-statistic):           2.37e-51\n",
      "Time:                        11:13:04   Log-Likelihood:                -20340.\n",
      "No. Observations:                4388   AIC:                         4.069e+04\n",
      "Df Residuals:                    4385   BIC:                         4.071e+04\n",
      "Df Model:                           2                                         \n",
      "Covariance Type:            nonrobust                                         \n",
      "============================================================================================================\n",
      "                                               coef    std err          t      P>|t|      [0.025      0.975]\n",
      "------------------------------------------------------------------------------------------------------------\n",
      "Intercept                                  -29.6838      0.663    -44.792      0.000     -30.983     -28.385\n",
      "C(gender, Treatment(reference=\"M\"))[T.F]     0.2186      0.769      0.284      0.776      -1.289       1.727\n",
      "u                                            0.1469      0.010     15.258      0.000       0.128       0.166\n",
      "==============================================================================\n",
      "Omnibus:                      232.207   Durbin-Watson:                   0.323\n",
      "Prob(Omnibus):                  0.000   Jarque-Bera (JB):              189.067\n",
      "Skew:                          -0.428   Prob(JB):                     8.80e-42\n",
      "Kurtosis:                       2.451   Cond. No.                         133.\n",
      "==============================================================================\n",
      "\n",
      "Notes:\n",
      "[1] Standard Errors assume that the covariance matrix of the errors is correctly specified.\n"
     ]
    }
   ],
   "source": [
    "print(res.summary())"
   ]
  },
  {
   "cell_type": "markdown",
   "metadata": {},
   "source": [
    "6."
   ]
  },
  {
   "cell_type": "markdown",
   "metadata": {},
   "source": [
    "**False**. When considering both gender and source-university (hence, source quantile), overcoming with regression the correlation between them, it appears that the being female translates in a higher score gain, meaning that females are likely to be hired in universities slightly better, with respect to the ones where they were trained, than males."
   ]
  },
  {
   "cell_type": "markdown",
   "metadata": {},
   "source": [
    "## Part 2 — Tennis interviews\n",
    "\n",
    "For the second part of the exam, you will work with text data extracted from questions asked during post-match tennis interviews and from\n",
    "TV commentary done during the tennis match.\n",
    "\n",
    "\n",
    "Examples of interview questions:\n",
    "\n",
    "> That last set seemed like a faultless performance. Is that the way you saw it?\n",
    "\n",
    "> How disappointing is that loss for you?\n",
    "\n",
    "> As a spectator, would you rather watch a guy with big aces or a match with lots of rallies?\n",
    "\n",
    "Example of commentary text:\n",
    "\n",
    ">  Serena is desperate to shake herself into action. She lets out an almighty shriek when she goes 30-15 up, but Azarenka responds with a brilliant forehand. The level of Williams' scream goes up and up during the next point, and she lets out another roar when she belts a forehand cross court win the point. She wraps the game up next time round, and she looked something like back to her best there!\n",
    "\n",
    "\n",
    "## Files (in the `data` folder)\n",
    "\n",
    "- `questions.tsv.gz` a tab-separated compressed file containing interview questions\n",
    "and some metadata. We refer to this dataset as the \"questions dataset.\"\n",
    "Each row contains a question made to a specific player after a match.\n",
    "The file has the following columns:\n",
    "    - `questions` — the text of the question asked; **Note that you will never be asked to use this row; it is merely meant to help you understand the data better**.\n",
    "    - `gender` — the gender of the player;\n",
    "    - `ranking` — the ranking of the player at the time;\n",
    "    - `similarity` — this column will be explained later in the exam.\n",
    "\n",
    "- `commentary.tsv.gz` a tab-separated compressed file containing TV commentary done during\n",
    "the tennis match. We refer to this dataset as the \"commentary dataset.\" Each line contains\n",
    "a piece of commentary done in a tennis match.\n",
    "The file has the following columns:\n",
    "    - `commentary` — the text of the commentary; **Note that you will never be asked to use this row; it is merely meant to help you understand the data better**.\n",
    "    - `gender` — the gender of the players in the match;\n",
    "\n",
    "- `TFIDF.npz`, a file containing 2D numpy arrays saved in the `.npz` format that\n",
    "will be used in Task 4.\n",
    "\n",
    "Both datasets are **balanced regarding gender,** i.e., they have the same number of rows about men as about women.\n",
    "\n",
    "\n",
    "Commentary text, as well as interview questions, have been preprocessed to make your life easier, as follows:\n",
    "\n",
    "- We replaced all words starting with upper-case letters with the special string `'--ENT--'`. This was done to remove personal names (e.g., Alice, Bob), which could help predict whether the text is associated with a male or a female tennis player.\n",
    "- We removed the first word in each sentence. This was done because, for the first word of each sentence, it is difficult to know whether it is a personal name or simply a regular word.\n",
    "- We replaced all gendered pronouns in the text (he/him/his and she/her/hers) with the special string `'--PRON--'`. This, too, was done because these words would make it easy to predict whether the text is associated with a male or a female tennis player.\n",
    "- We removed punctuation and stop words (to reduce the dimensionality of the data).\n",
    "\n",
    "The above example commentary text thus appears as follows in the data provided to you:\n",
    "\n",
    "> desperate shake action lets almighty shriek --PRON-- goes 30 15 --ENT-- responds brilliant forehand level --ENT-- scream goes point --PRON-- lets roar --PRON-- belts forehand cross court win point wraps game time round --PRON-- looked like --PRON-- best\n",
    "\n",
    "We also provide some code for loading and displaying the dataset:"
   ]
  },
  {
   "cell_type": "code",
   "execution_count": 35,
   "metadata": {
    "pycharm": {
     "name": "#%%\n"
    }
   },
   "outputs": [],
   "source": [
    "#  Part 2 ! PROVIDED CODE !\n",
    "\n",
    "questions = pd.read_csv(\"./data/part-2/questions.tsv.gz\", sep=\"\\t\", compression=\"infer\")\n",
    "commentary = pd.read_csv(\"./data/part-2/commentary.tsv.gz\", sep=\"\\t\", compression=\"infer\")"
   ]
  },
  {
   "cell_type": "markdown",
   "metadata": {},
   "source": [
    "### Task 4  (20 points)\n",
    "\n",
    "Your goal now is to investigate whether there is gender bias in the questions being asked to female vs. male players, i.e., whether men vs. women are asked different questions on average. You start your analysis with a classification framing.\n",
    "\n",
    "\n",
    "To make your life easier, we already provided a TF-IDF matrix for each dataset (`commentary.tsv.gz` and `questions.tsv.gz`) and with code to load these matrices (which are numpy arrays).\n",
    "\n",
    "- Each row in each matrix $M$ corresponds to a row in the corresponding dataframe, i.e., each row corresponds to a different question or a different piece of TV commentary.\n",
    "- Each column in each matrix corresponds to a different word from the vocabulary.\n",
    "- Each position $(i,j)$ in the matrix contains the TF-IDF score for word $j$ from the vocabulary in question or commentary $i$. That is, each term $M[i,j]$ corresponds to the term frequency (TF) of word $j$ in text $i$, multiplied by the inverse document frequency (IDF) of word $j$:\n",
    "\n",
    "\n",
    "$$M[i,j] = \\text{TF}(i,j) * \\text{IDF}(j)$$\n",
    "\n",
    "\n",
    "1. **/Multiple Choice:/** Which of the following is the correct way to calculate the term frequency and the inverse document frequency? Justify your answer, explaining what each of the two components should capture.\n",
    "    - Option A:\n",
    "\n",
    "    $$\\text{TF}(i,j) = \\text{number of times the $j$-th word occurs in all documents} $$\n",
    "\n",
    "    $$\\text{IDF}(j) =  \\log \\frac{\\text{number of documents the $j$-th word occurs in}}{\\text{number of documents}}$$\n",
    "\n",
    "    - Option B:\n",
    "\n",
    "    $$ \\text{TF}(i,j) = \\text{number of times the $j$-th word occurs in the $i$-th document} $$\n",
    "\n",
    "    $$\\text{IDF}(j) =  \\log \\frac{\\text{number of documents the $j$-th word occurs in}}{\\text{number of documents}}$$\n",
    "\n",
    "    - Option C:\n",
    "\n",
    "    $$ \\text{TF}(i,j) = \\text{number of times the $j$-th word occurs in all documents} $$\n",
    "\n",
    "    $$\\text{IDF}(j) =  \\log \\frac{\\text{number of documents}}{\\text{number of documents the $j$-th word occurs in}}$$\n",
    "\n",
    "    - Option D:\n",
    "\n",
    "    $$ \\text{TF}(i,j) = \\text{number of times the $j$-th word occurs in the $i$-th document} $$\n",
    "\n",
    "    $$\\text{IDF}(j) =  \\log \\frac{\\text{number of documents}}{\\text{number of documents the $j$-th word occurs in}}$$\n",
    "\n",
    "\n",
    "\n",
    "2. Leveraging the matrices described above, train two logistic regression classifiers (one for interview questions, the other for TV commentary) that use the TF-IDF vectors as features to predict the gender of the athletes. You should split each dataset into training and test sets using sklearn (see [sklearn.model_selection.train_test_split](https://scikit-learn.org/stable/modules/generated/sklearn.model_selection.train_test_split.html)) using parameters `test_size=0.4` and `random_state=42`. You should use sklearn's logistic regression model (see [here](https://scikit-learn.org/stable/modules/generated/sklearn.linear_model.LogisticRegression.html#sklearn.linear_model.LogisticRegression)) using parameters `C=10` (which controls regularization) and `max_iter=2000`. For each dataset, train the model on the training set (with 60% of the data) and report the accuracy on the test set (with 40% of the data).\n",
    "\n",
    "3. **/True or false:/** Considering the following statement, answer **true** or **false** and justify your answer. **\"Based on the outcome of Task 4.2, the text from tennis commentary text is more gender-biased than post-match questions.\"**\n",
    "\n",
    "4. The parameter `C` above controls a regularization penalty. The lower `C`, the stronger the regularization penalty (caveat: sklearn’s convention is the reverse of the convention you saw in class, where a *higher* $\\lambda$ parameter meant a stronger regularization penalty ). For the questions dataset, re-run the classification task using the same setup as in Task 4.2, but now with `C=2000`. Report the accuracy.\n",
    "\n",
    "5. **/Discuss:/** Explain why increasing `C` changed the results.\n"
   ]
  },
  {
   "cell_type": "code",
   "execution_count": 36,
   "metadata": {
    "pycharm": {
     "name": "#%%\n"
    }
   },
   "outputs": [
    {
     "data": {
      "text/plain": [
       "array([[0.60373585, 0.        , 0.        , ..., 0.        , 0.        ,\n",
       "        0.        ],\n",
       "       [0.        , 0.        , 0.        , ..., 0.        , 0.        ,\n",
       "        0.        ],\n",
       "       [0.        , 0.        , 0.        , ..., 0.        , 0.        ,\n",
       "        0.19567434],\n",
       "       ...,\n",
       "       [0.        , 0.        , 0.        , ..., 0.        , 0.        ,\n",
       "        0.        ],\n",
       "       [0.        , 0.        , 0.13978562, ..., 0.        , 0.        ,\n",
       "        0.        ],\n",
       "       [0.59027928, 0.        , 0.        , ..., 0.        , 0.        ,\n",
       "        0.        ]])"
      ]
     },
     "execution_count": 36,
     "metadata": {},
     "output_type": "execute_result"
    }
   ],
   "source": [
    "# 4.2 ! PROVIDED CODE !\n",
    "tmp = np.load(\"./data/part-2/TFIDF.npz\")\n",
    "TFIDF_commentary = tmp['commentary']\n",
    "TFIDF_questions = tmp['questions']\n",
    "\n",
    "TFIDF_questions"
   ]
  },
  {
   "cell_type": "markdown",
   "metadata": {},
   "source": [
    "1."
   ]
  },
  {
   "cell_type": "markdown",
   "metadata": {
    "pycharm": {
     "name": "#%%\n"
    }
   },
   "source": [
    "**Option D**.\n",
    "In fact, the term frequency of a document represents the number of times that each word has appeared in that document, i.e. its bag-of-words representation. Therefore, the (i, j) entry needs to be referred to document i. The inverse document frequency is meant to rescale the TF counts in order for rare words, assumed to be more informative than common ones, to have more weight. Therefore, the log must have at the denominator the frequency of a word, so that low-frequency words will have higher IDF."
   ]
  },
  {
   "cell_type": "markdown",
   "metadata": {},
   "source": [
    "2."
   ]
  },
  {
   "cell_type": "code",
   "execution_count": 37,
   "metadata": {},
   "outputs": [],
   "source": [
    "# Encore the gender as 0-1 outcome (0 males, 1 females)\n",
    "y_commentary = (commentary.gender == 'F').astype(int).values\n",
    "y_questions = (questions.gender == 'F').astype(int).values"
   ]
  },
  {
   "cell_type": "code",
   "execution_count": 38,
   "metadata": {},
   "outputs": [],
   "source": [
    "# c for commentary, q for questions\n",
    "Xc_train, Xc_test, yc_train, yc_test = train_test_split(TFIDF_commentary, y_commentary, test_size=0.4, random_state=42)\n",
    "Xq_train, Xq_test, yq_train, yq_test = train_test_split(TFIDF_questions, y_questions, test_size=0.4, random_state=42)"
   ]
  },
  {
   "cell_type": "code",
   "execution_count": 39,
   "metadata": {},
   "outputs": [],
   "source": [
    "model_commentary = LogisticRegression(C=10, max_iter=2000)\n",
    "model_questions = LogisticRegression(C=10, max_iter=2000)"
   ]
  },
  {
   "cell_type": "code",
   "execution_count": 40,
   "metadata": {},
   "outputs": [],
   "source": [
    "# Train and predict\n",
    "model_commentary.fit(Xc_train, yc_train)\n",
    "yc_pred = model_commentary.predict(Xc_test)\n",
    "\n",
    "model_questions.fit(Xq_train, yq_train)\n",
    "yq_pred = model_questions.predict(Xq_test)"
   ]
  },
  {
   "cell_type": "code",
   "execution_count": 41,
   "metadata": {},
   "outputs": [
    {
     "data": {
      "text/plain": [
       "0.5133333333333333"
      ]
     },
     "execution_count": 41,
     "metadata": {},
     "output_type": "execute_result"
    }
   ],
   "source": [
    "accuracy_score(yc_test, yc_pred)"
   ]
  },
  {
   "cell_type": "code",
   "execution_count": 42,
   "metadata": {},
   "outputs": [
    {
     "data": {
      "text/plain": [
       "0.7108333333333333"
      ]
     },
     "execution_count": 42,
     "metadata": {},
     "output_type": "execute_result"
    }
   ],
   "source": [
    "accuracy_score(yq_test, yq_pred)"
   ]
  },
  {
   "cell_type": "markdown",
   "metadata": {},
   "source": [
    "3."
   ]
  },
  {
   "cell_type": "markdown",
   "metadata": {},
   "source": [
    "**False**. It's the opposite, from the outcome of 4.2. the text from post-match questions seems to be more gender-biased than the text from commentaries, since a Logistic Regression model with the same parameters has performanced much better in idenfying the gender of players when trained on post-match questions rather than match commentary. This however could also be due to differences in the original datasets, not necessarily equally representative, and thus should not be taken as a final conclusion."
   ]
  },
  {
   "cell_type": "markdown",
   "metadata": {},
   "source": [
    "4."
   ]
  },
  {
   "cell_type": "code",
   "execution_count": 43,
   "metadata": {},
   "outputs": [],
   "source": [
    "model2_questions = LogisticRegression(C=2000, max_iter=2000)"
   ]
  },
  {
   "cell_type": "code",
   "execution_count": 44,
   "metadata": {},
   "outputs": [],
   "source": [
    "model2_questions.fit(Xq_train, yq_train)\n",
    "yq_pred2 = model2_questions.predict(Xq_test)"
   ]
  },
  {
   "cell_type": "code",
   "execution_count": 45,
   "metadata": {},
   "outputs": [
    {
     "data": {
      "text/plain": [
       "0.6891666666666667"
      ]
     },
     "execution_count": 45,
     "metadata": {},
     "output_type": "execute_result"
    }
   ],
   "source": [
    "accuracy_score(yq_test, yq_pred2)"
   ]
  },
  {
   "cell_type": "markdown",
   "metadata": {},
   "source": [
    "5."
   ]
  },
  {
   "cell_type": "markdown",
   "metadata": {},
   "source": [
    "C is controlling the regularization strength, that is how much large weights are penalized during training. The higher the regularization strength (the lower the C), the lower will be the norm of the resulting weights (parameters) of the model. Changing C, therefore, is in general always changing the results since the loss function is different. In this particular case, the accuracy has decreased after augmenting C, meaning that the model would benefit from a stronger (with respect to C=2000) regularization (=lower C), to reduce overfit to the training set and improve generalization."
   ]
  },
  {
   "cell_type": "markdown",
   "metadata": {},
   "source": [
    "### Task 5 — (20 pts)\n",
    "\n",
    "You will now further inspect whether there is gender bias in the interview questions using an observational study framing. For this task, you will use the column `similarity` provided in the questions dataframe. This column captures how similar each question is to tennis-related text, i.e., a higher score indicates that the question is more about the topic of tennis. In contrast, a lower score means that the question may be personal or about other subjects.\n",
    "\n",
    "1. Using `statsmodels`, run a linear regression with `similarity` as the predictor and `gender` as the outcome. Report the summary of your model.\n",
    "\n",
    "2. **/True or false:/** According to the previous analysis, determine if the following statement is **true** or **false** and justify your answer. **\"Men are asked questions unrelated to tennis more often than women.\"**\n",
    "\n",
    "3. The ranking of players is a potential confounder here. We do not know whether the male and female players in the dataset have similar rankings. In that context, compute the average ranking for men and women. Determine if the difference is statistically significant. Additionally, create a scatter plot showing the relationship between ranking (on the y-axis) and similarity (in the x-axis) and compute Spearman's rank-correlation coefficient between `ranking` and `similarity`.\n",
    "\n",
    "4. **/True or false:/** Assume that no variable other than `gender` and `ranking` can have any influence on the `similarity` of each question. Based on the analysis of the previous question, is the following statement **true** or **false**? Justify your answer. **\"Ranking is not a worrisome confounder for the regression of Task 5.1.\"**"
   ]
  },
  {
   "cell_type": "markdown",
   "metadata": {},
   "source": [
    "1."
   ]
  },
  {
   "cell_type": "code",
   "execution_count": 46,
   "metadata": {},
   "outputs": [],
   "source": [
    "mod = smf.ols(formula='similarity ~ C(gender, Treatment(reference=\"M\"))', data=questions)\n",
    "res = mod.fit()"
   ]
  },
  {
   "cell_type": "code",
   "execution_count": 47,
   "metadata": {},
   "outputs": [
    {
     "name": "stdout",
     "output_type": "stream",
     "text": [
      "                            OLS Regression Results                            \n",
      "==============================================================================\n",
      "Dep. Variable:             similarity   R-squared:                       0.219\n",
      "Model:                            OLS   Adj. R-squared:                  0.219\n",
      "Method:                 Least Squares   F-statistic:                     841.1\n",
      "Date:                Tue, 25 Jan 2022   Prob (F-statistic):          3.16e-163\n",
      "Time:                        11:13:21   Log-Likelihood:                 77.527\n",
      "No. Observations:                3000   AIC:                            -151.1\n",
      "Df Residuals:                    2998   BIC:                            -139.0\n",
      "Df Model:                           1                                         \n",
      "Covariance Type:            nonrobust                                         \n",
      "============================================================================================================\n",
      "                                               coef    std err          t      P>|t|      [0.025      0.975]\n",
      "------------------------------------------------------------------------------------------------------------\n",
      "Intercept                                    0.6248      0.006    103.854      0.000       0.613       0.637\n",
      "C(gender, Treatment(reference=\"M\"))[T.F]    -0.2499      0.009    -29.002      0.000      -0.267      -0.233\n",
      "==============================================================================\n",
      "Omnibus:                      134.873   Durbin-Watson:                   1.920\n",
      "Prob(Omnibus):                  0.000   Jarque-Bera (JB):               59.331\n",
      "Skew:                          -0.095   Prob(JB):                     1.31e-13\n",
      "Kurtosis:                       2.338   Cond. No.                         2.59\n",
      "==============================================================================\n",
      "\n",
      "Notes:\n",
      "[1] Standard Errors assume that the covariance matrix of the errors is correctly specified.\n"
     ]
    }
   ],
   "source": [
    "print(res.summary())"
   ]
  },
  {
   "cell_type": "markdown",
   "metadata": {},
   "source": [
    "2."
   ]
  },
  {
   "cell_type": "markdown",
   "metadata": {},
   "source": [
    "**False**. It's the opposite, men seem to be aked on average questions more related to tennis than women, as can be seen from the fact that the coefficient of the gender predictor, assuming value 0 for males and 1 for females, is negative."
   ]
  },
  {
   "cell_type": "markdown",
   "metadata": {},
   "source": [
    "3."
   ]
  },
  {
   "cell_type": "code",
   "execution_count": 48,
   "metadata": {},
   "outputs": [
    {
     "data": {
      "text/html": [
       "<div>\n",
       "<style scoped>\n",
       "    .dataframe tbody tr th:only-of-type {\n",
       "        vertical-align: middle;\n",
       "    }\n",
       "\n",
       "    .dataframe tbody tr th {\n",
       "        vertical-align: top;\n",
       "    }\n",
       "\n",
       "    .dataframe thead th {\n",
       "        text-align: right;\n",
       "    }\n",
       "</style>\n",
       "<table border=\"1\" class=\"dataframe\">\n",
       "  <thead>\n",
       "    <tr style=\"text-align: right;\">\n",
       "      <th></th>\n",
       "      <th>count</th>\n",
       "      <th>mean</th>\n",
       "      <th>std</th>\n",
       "      <th>min</th>\n",
       "      <th>25%</th>\n",
       "      <th>50%</th>\n",
       "      <th>75%</th>\n",
       "      <th>max</th>\n",
       "    </tr>\n",
       "    <tr>\n",
       "      <th>gender</th>\n",
       "      <th></th>\n",
       "      <th></th>\n",
       "      <th></th>\n",
       "      <th></th>\n",
       "      <th></th>\n",
       "      <th></th>\n",
       "      <th></th>\n",
       "      <th></th>\n",
       "    </tr>\n",
       "  </thead>\n",
       "  <tbody>\n",
       "    <tr>\n",
       "      <th>F</th>\n",
       "      <td>1463.0</td>\n",
       "      <td>503.617908</td>\n",
       "      <td>289.348305</td>\n",
       "      <td>1.0</td>\n",
       "      <td>253.0</td>\n",
       "      <td>496.0</td>\n",
       "      <td>763.5</td>\n",
       "      <td>999.0</td>\n",
       "    </tr>\n",
       "    <tr>\n",
       "      <th>M</th>\n",
       "      <td>1537.0</td>\n",
       "      <td>495.202342</td>\n",
       "      <td>289.576069</td>\n",
       "      <td>1.0</td>\n",
       "      <td>246.0</td>\n",
       "      <td>490.0</td>\n",
       "      <td>742.0</td>\n",
       "      <td>999.0</td>\n",
       "    </tr>\n",
       "  </tbody>\n",
       "</table>\n",
       "</div>"
      ],
      "text/plain": [
       "         count        mean         std  min    25%    50%    75%    max\n",
       "gender                                                                 \n",
       "F       1463.0  503.617908  289.348305  1.0  253.0  496.0  763.5  999.0\n",
       "M       1537.0  495.202342  289.576069  1.0  246.0  490.0  742.0  999.0"
      ]
     },
     "execution_count": 48,
     "metadata": {},
     "output_type": "execute_result"
    }
   ],
   "source": [
    "# average ranking by gender\n",
    "questions.groupby('gender').ranking.describe()"
   ]
  },
  {
   "cell_type": "code",
   "execution_count": 49,
   "metadata": {},
   "outputs": [],
   "source": [
    "questions_male = questions[questions.gender == 'M']\n",
    "questions_female = questions[questions.gender == 'F']"
   ]
  },
  {
   "cell_type": "code",
   "execution_count": 50,
   "metadata": {},
   "outputs": [
    {
     "data": {
      "text/plain": [
       "BootstrapResult(confidence_interval=ConfidenceInterval(low=480.45682199275365, high=509.6567732834145), standard_error=7.422960514469244)"
      ]
     },
     "execution_count": 50,
     "metadata": {},
     "output_type": "execute_result"
    }
   ],
   "source": [
    "stats.bootstrap([questions_male.ranking], np.mean)"
   ]
  },
  {
   "cell_type": "code",
   "execution_count": 51,
   "metadata": {},
   "outputs": [
    {
     "data": {
      "text/plain": [
       "BootstrapResult(confidence_interval=ConfidenceInterval(low=489.16362115470037, high=518.5684290214813), standard_error=7.513473669905023)"
      ]
     },
     "execution_count": 51,
     "metadata": {},
     "output_type": "execute_result"
    }
   ],
   "source": [
    "stats.bootstrap([questions_female.ranking], np.mean)"
   ]
  },
  {
   "cell_type": "code",
   "execution_count": 52,
   "metadata": {},
   "outputs": [
    {
     "data": {
      "text/plain": [
       "Ttest_indResult(statistic=-0.7959498763790183, pvalue=0.42612418722112966)"
      ]
     },
     "execution_count": 52,
     "metadata": {},
     "output_type": "execute_result"
    }
   ],
   "source": [
    "stats.ttest_ind(questions_male.ranking, questions_female.ranking)"
   ]
  },
  {
   "cell_type": "markdown",
   "metadata": {},
   "source": [
    "We can see that the boostrapped confidence intervals are hugely overlapping. Furtheremore, the t-test reveals that under the assumption that the two distributions have the same mean, the probabilities of obtaining data at least as extreme (means as different) as the ones obtaines is close to 0.43. Therefore, the difference **is not** statistically significant."
   ]
  },
  {
   "cell_type": "code",
   "execution_count": 53,
   "metadata": {},
   "outputs": [
    {
     "data": {
      "image/png": "[encoded data removed]",
      "text/plain": [
       "<Figure size 432x288 with 1 Axes>"
      ]
     },
     "metadata": {
      "needs_background": "light"
     },
     "output_type": "display_data"
    }
   ],
   "source": [
    "sns.scatterplot(x='similarity', y='ranking', hue='gender', data=questions, s=10);"
   ]
  },
  {
   "cell_type": "code",
   "execution_count": 54,
   "metadata": {},
   "outputs": [
    {
     "data": {
      "text/plain": [
       "SpearmanrResult(correlation=-0.00793480965681015, pvalue=0.663973935968952)"
      ]
     },
     "execution_count": 54,
     "metadata": {},
     "output_type": "execute_result"
    }
   ],
   "source": [
    "stats.spearmanr(questions.ranking, questions.similarity)"
   ]
  },
  {
   "cell_type": "markdown",
   "metadata": {},
   "source": [
    "Under the null hypothesis of rankings and similarities being uncorrelated system, the probabilities of having data with a Spearman correlation at least as extreme as the one obtained is 0.66. Therefore, we cannot reject the null hypothesis and the two variable do not seem to be correlated according to Spearman rank-correlation coefficient."
   ]
  },
  {
   "cell_type": "markdown",
   "metadata": {},
   "source": [
    "4."
   ]
  },
  {
   "cell_type": "markdown",
   "metadata": {},
   "source": [
    "**True**. In fact, it appears that there is not a statistically significant difference in the rankings of male and female players in the dataset, meaning that the ranking covariate is balanced among treatment (=gender) and will thus not influence the results of our observational study. Moreover, the result covariate seems also to not be correlated with the similarity, i.e. the outcome. Therefore, in a causal diagram, the ranking covariate would not have arrows neither connecting it to the treatment nor to the outcome."
   ]
  }
 ],
 "metadata": {
  "kernelspec": {
   "display_name": "Python 3 (ipykernel)",
   "language": "python",
   "name": "python3"
  },
  "language_info": {
   "codemirror_mode": {
    "name": "ipython",
    "version": 3
   },
   "file_extension": ".py",
   "mimetype": "text/x-python",
   "name": "python",
   "nbconvert_exporter": "python",
   "pygments_lexer": "ipython3",
   "version": "3.8.12"
  }
 },
 "nbformat": 4,
 "nbformat_minor": 4
}
